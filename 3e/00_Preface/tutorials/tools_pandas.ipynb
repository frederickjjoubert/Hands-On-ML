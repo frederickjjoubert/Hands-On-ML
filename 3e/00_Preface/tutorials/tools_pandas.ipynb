{
  "cells": [
    {
      "cell_type": "markdown",
      "metadata": {
        "id": "BIsNyHeG1mxm"
      },
      "source": [
        "**Tools - pandas**\n",
        "\n",
        "*The `pandas` library provides high-performance, easy-to-use data structures and data analysis tools. The main data structure is the `DataFrame`, which you can think of as an in-memory 2D table (like a spreadsheet, with column names and row labels). Many features available in Excel are available programmatically, such as creating pivot tables, computing columns based on other columns, plotting graphs, etc. You can also group rows by column value, or join tables much like in SQL. Pandas is also great at handling time series.*\n",
        "\n",
        "Prerequisites:\n",
        "* NumPy – if you are not familiar with NumPy, we recommend that you go through the [NumPy tutorial](tools_numpy.ipynb) now."
      ]
    },
    {
      "cell_type": "markdown",
      "metadata": {
        "id": "OaXiYqr51mxo"
      },
      "source": [
        "<table align=\"left\">\n",
        "  <td>\n",
        "    <a href=\"https://colab.research.google.com/github/ageron/handson-ml3/blob/main/tools_pandas.ipynb\" target=\"_parent\"><img src=\"https://colab.research.google.com/assets/colab-badge.svg\" alt=\"Open In Colab\"/></a>\n",
        "  </td>\n",
        "  <td>\n",
        "    <a target=\"_blank\" href=\"https://kaggle.com/kernels/welcome?src=https://github.com/ageron/handson-ml3/blob/main/tools_pandas.ipynb\"><img src=\"https://kaggle.com/static/images/open-in-kaggle.svg\" /></a>\n",
        "  </td>\n",
        "</table>"
      ]
    },
    {
      "cell_type": "markdown",
      "metadata": {
        "id": "7YqP1rhz1mxp"
      },
      "source": [
        "# Setup"
      ]
    },
    {
      "cell_type": "markdown",
      "metadata": {
        "id": "rjWJd2pA1mxp"
      },
      "source": [
        "First, let's import `pandas`. People usually import it as `pd`:"
      ]
    },
    {
      "cell_type": "code",
      "execution_count": 34,
      "metadata": {
        "id": "USXxH2UO1mxp"
      },
      "outputs": [],
      "source": [
        "import pandas as pd"
      ]
    },
    {
      "cell_type": "markdown",
      "metadata": {
        "id": "2ywXB0pm1mxp"
      },
      "source": [
        "# `Series` objects\n",
        "The `pandas` library contains the following useful data structures:\n",
        "* `Series` objects, that we will discuss now. A `Series` object is 1D array, similar to a column in a spreadsheet (with a column name and row labels).\n",
        "* `DataFrame` objects. This is a 2D table, similar to a spreadsheet (with column names and row labels).\n",
        "* `Panel` objects. You can see a `Panel` as a dictionary of `DataFrame`s. These are less used, so we will not discuss them here."
      ]
    },
    {
      "cell_type": "markdown",
      "metadata": {
        "id": "oqF7fgx81mxp"
      },
      "source": [
        "## Creating a `Series`\n",
        "Let's start by creating our first `Series` object!"
      ]
    },
    {
      "cell_type": "code",
      "execution_count": 35,
      "metadata": {
        "id": "EnsGchvh1mxp",
        "outputId": "5bde8713-2e7d-45e0-9d9c-d84ade8d6237"
      },
      "outputs": [
        {
          "data": {
            "text/plain": [
              "0    2\n",
              "1   -1\n",
              "2    3\n",
              "3    5\n",
              "dtype: int64"
            ]
          },
          "execution_count": 35,
          "metadata": {},
          "output_type": "execute_result"
        }
      ],
      "source": [
        "s = pd.Series([2,-1,3,5])\n",
        "s"
      ]
    },
    {
      "cell_type": "markdown",
      "metadata": {
        "id": "Cg7X2Cb91mxq"
      },
      "source": [
        "## Similar to a 1D `ndarray`\n",
        "`Series` objects behave much like one-dimensional NumPy `ndarray`s, and you can often pass them as parameters to NumPy functions:"
      ]
    },
    {
      "cell_type": "code",
      "execution_count": 36,
      "metadata": {
        "id": "8FnVAIrR1mxq",
        "outputId": "6da1662c-b5cb-4b0e-f214-8a655c379b1e"
      },
      "outputs": [
        {
          "data": {
            "text/plain": [
              "0      7.389056\n",
              "1      0.367879\n",
              "2     20.085537\n",
              "3    148.413159\n",
              "dtype: float64"
            ]
          },
          "execution_count": 36,
          "metadata": {},
          "output_type": "execute_result"
        }
      ],
      "source": [
        "import numpy as np\n",
        "np.exp(s)"
      ]
    },
    {
      "cell_type": "markdown",
      "metadata": {
        "id": "OWM4iCHf1mxr"
      },
      "source": [
        "Arithmetic operations on `Series` are also possible, and they apply *elementwise*, just like for `ndarray`s:"
      ]
    },
    {
      "cell_type": "code",
      "execution_count": 37,
      "metadata": {
        "id": "Eru6XH_G1mxr",
        "outputId": "0e8e6d13-a403-4ee3-aaec-cb15bb5be50c"
      },
      "outputs": [
        {
          "data": {
            "text/plain": [
              "0    1002\n",
              "1    1999\n",
              "2    3003\n",
              "3    4005\n",
              "dtype: int64"
            ]
          },
          "execution_count": 37,
          "metadata": {},
          "output_type": "execute_result"
        }
      ],
      "source": [
        "s + [1000,2000,3000,4000]"
      ]
    },
    {
      "cell_type": "markdown",
      "metadata": {
        "id": "F3RoLs2f1mxr"
      },
      "source": [
        "Similar to NumPy, if you add a single number to a `Series`, that number is added to all items in the `Series`. This is called * broadcasting*:"
      ]
    },
    {
      "cell_type": "code",
      "execution_count": 38,
      "metadata": {
        "id": "yP7O_cge1mxr",
        "outputId": "7034f325-9e07-429d-d303-956a5759bbc7"
      },
      "outputs": [
        {
          "data": {
            "text/plain": [
              "0    1002\n",
              "1     999\n",
              "2    1003\n",
              "3    1005\n",
              "dtype: int64"
            ]
          },
          "execution_count": 38,
          "metadata": {},
          "output_type": "execute_result"
        }
      ],
      "source": [
        "s + 1000"
      ]
    },
    {
      "cell_type": "markdown",
      "metadata": {
        "id": "Fq2IdgAo1mxr"
      },
      "source": [
        "The same is true for all binary operations such as `*` or `/`, and even conditional operations:"
      ]
    },
    {
      "cell_type": "code",
      "execution_count": 39,
      "metadata": {
        "id": "lbUs1L5N1mxr",
        "outputId": "355c4d4c-8e6f-4508-e201-2d9b14908799"
      },
      "outputs": [
        {
          "data": {
            "text/plain": [
              "0    False\n",
              "1     True\n",
              "2    False\n",
              "3    False\n",
              "dtype: bool"
            ]
          },
          "execution_count": 39,
          "metadata": {},
          "output_type": "execute_result"
        }
      ],
      "source": [
        "s < 0"
      ]
    },
    {
      "cell_type": "markdown",
      "metadata": {
        "id": "JEMTjkxs1mxr"
      },
      "source": [
        "## Index labels\n",
        "Each item in a `Series` object has a unique identifier called the *index label*. By default, it is simply the rank of the item in the `Series` (starting from `0`) but you can also set the index labels manually:"
      ]
    },
    {
      "cell_type": "code",
      "execution_count": 40,
      "metadata": {
        "id": "fUmT1ddI1mxr",
        "outputId": "b9ff3f64-2434-477e-cba0-a56f204423e8"
      },
      "outputs": [
        {
          "data": {
            "text/plain": [
              "alice       68\n",
              "bob         83\n",
              "charles    112\n",
              "darwin      68\n",
              "dtype: int64"
            ]
          },
          "execution_count": 40,
          "metadata": {},
          "output_type": "execute_result"
        }
      ],
      "source": [
        "s2 = pd.Series([68, 83, 112, 68], index=[\"alice\", \"bob\", \"charles\", \"darwin\"])\n",
        "s2"
      ]
    },
    {
      "cell_type": "markdown",
      "metadata": {
        "id": "r-xlf0VE1mxs"
      },
      "source": [
        "You can then use the `Series` just like a `dict`:"
      ]
    },
    {
      "cell_type": "code",
      "execution_count": 41,
      "metadata": {
        "id": "EnVM9icg1mxs",
        "outputId": "b3f190a0-b1e4-4675-ad34-be23cc48d4f8"
      },
      "outputs": [
        {
          "data": {
            "text/plain": [
              "83"
            ]
          },
          "execution_count": 41,
          "metadata": {},
          "output_type": "execute_result"
        }
      ],
      "source": [
        "s2[\"bob\"]"
      ]
    },
    {
      "cell_type": "markdown",
      "metadata": {
        "id": "vefz_8HX1mxs"
      },
      "source": [
        "You can still access the items by integer location, like in a regular array:"
      ]
    },
    {
      "cell_type": "code",
      "execution_count": 42,
      "metadata": {
        "id": "WTL2mZXC1mxs",
        "outputId": "171eaaf5-83ca-479a-9768-32f8cf5a4388"
      },
      "outputs": [
        {
          "data": {
            "text/plain": [
              "83"
            ]
          },
          "execution_count": 42,
          "metadata": {},
          "output_type": "execute_result"
        }
      ],
      "source": [
        "s2[1]"
      ]
    },
    {
      "cell_type": "markdown",
      "metadata": {
        "id": "ztQ_BDuH1mxs"
      },
      "source": [
        "To make it clear when you are accessing by label or by integer location, it is recommended to always use the `loc` attribute when accessing by label, and the `iloc` attribute when accessing by integer location:"
      ]
    },
    {
      "cell_type": "code",
      "execution_count": 43,
      "metadata": {
        "id": "MyH5XUSS1mxs",
        "outputId": "0d1447bf-e232-4725-fda1-c83e3f3016d2"
      },
      "outputs": [
        {
          "data": {
            "text/plain": [
              "83"
            ]
          },
          "execution_count": 43,
          "metadata": {},
          "output_type": "execute_result"
        }
      ],
      "source": [
        "s2.loc[\"bob\"]"
      ]
    },
    {
      "cell_type": "code",
      "execution_count": 44,
      "metadata": {
        "id": "ng9K-nrl1mxs",
        "outputId": "94706682-9c0f-47d7-8526-f6f60761b693"
      },
      "outputs": [
        {
          "data": {
            "text/plain": [
              "83"
            ]
          },
          "execution_count": 44,
          "metadata": {},
          "output_type": "execute_result"
        }
      ],
      "source": [
        "s2.iloc[1]"
      ]
    },
    {
      "cell_type": "markdown",
      "metadata": {
        "id": "aEjF96d91mxs"
      },
      "source": [
        "Slicing a `Series` also slices the index labels:"
      ]
    },
    {
      "cell_type": "code",
      "execution_count": 45,
      "metadata": {
        "id": "4rBuMt6l1mxs",
        "outputId": "02a60ff6-7222-4d83-ef52-fe2ccf25e9f5"
      },
      "outputs": [
        {
          "data": {
            "text/plain": [
              "bob         83\n",
              "charles    112\n",
              "dtype: int64"
            ]
          },
          "execution_count": 45,
          "metadata": {},
          "output_type": "execute_result"
        }
      ],
      "source": [
        "s2.iloc[1:3]"
      ]
    },
    {
      "cell_type": "markdown",
      "metadata": {
        "id": "k63Hn-lk1mxt"
      },
      "source": [
        "This can lead to unexpected results when using the default numeric labels, so be careful:"
      ]
    },
    {
      "cell_type": "code",
      "execution_count": 46,
      "metadata": {
        "id": "_ReWHvJI1mxt",
        "outputId": "52a52305-e41e-431c-f9b5-bfedb62e90a4"
      },
      "outputs": [
        {
          "data": {
            "text/plain": [
              "0    1000\n",
              "1    1001\n",
              "2    1002\n",
              "3    1003\n",
              "dtype: int64"
            ]
          },
          "execution_count": 46,
          "metadata": {},
          "output_type": "execute_result"
        }
      ],
      "source": [
        "surprise = pd.Series([1000, 1001, 1002, 1003])\n",
        "surprise"
      ]
    },
    {
      "cell_type": "code",
      "execution_count": 47,
      "metadata": {
        "id": "rGYlBB7z1mxt",
        "outputId": "533fcf50-fc90-4fa2-8c5d-70eb9fca1727"
      },
      "outputs": [
        {
          "data": {
            "text/plain": [
              "2    1002\n",
              "3    1003\n",
              "dtype: int64"
            ]
          },
          "execution_count": 47,
          "metadata": {},
          "output_type": "execute_result"
        }
      ],
      "source": [
        "surprise_slice = surprise[2:]\n",
        "surprise_slice"
      ]
    },
    {
      "cell_type": "markdown",
      "metadata": {
        "id": "uv7BRbjy1mxt"
      },
      "source": [
        "Oh, look! The first element has index label `2`. The element with index label `0` is absent from the slice:"
      ]
    },
    {
      "cell_type": "code",
      "execution_count": 48,
      "metadata": {
        "id": "jWWqEv6k1mxt",
        "outputId": "fca30edc-55d3-4edf-e6cb-ab2a07f9bfe2"
      },
      "outputs": [
        {
          "name": "stdout",
          "output_type": "stream",
          "text": [
            "Key error: 0\n"
          ]
        }
      ],
      "source": [
        "try:\n",
        "    surprise_slice[0]\n",
        "except KeyError as e:\n",
        "    print(\"Key error:\", e)"
      ]
    },
    {
      "cell_type": "markdown",
      "metadata": {
        "id": "D9AAZ_j31mxt"
      },
      "source": [
        "But remember that you can access elements by integer location using the `iloc` attribute. This illustrates another reason why it's always better to use `loc` and `iloc` to access `Series` objects:"
      ]
    },
    {
      "cell_type": "code",
      "execution_count": 49,
      "metadata": {
        "id": "5wBCpnX41mxt",
        "outputId": "1e5e2d2d-16d9-41cc-f781-7e7d86c112a1"
      },
      "outputs": [
        {
          "data": {
            "text/plain": [
              "1002"
            ]
          },
          "execution_count": 49,
          "metadata": {},
          "output_type": "execute_result"
        }
      ],
      "source": [
        "surprise_slice.iloc[0]"
      ]
    },
    {
      "cell_type": "markdown",
      "metadata": {
        "id": "iiN9g2ll1mxt"
      },
      "source": [
        "## Init from `dict`\n",
        "You can create a `Series` object from a `dict`. The keys will be used as index labels:"
      ]
    },
    {
      "cell_type": "code",
      "execution_count": 50,
      "metadata": {
        "id": "jNlxZpu21mxt",
        "outputId": "1b928d3b-89be-49a7-a371-67a5c29b5156"
      },
      "outputs": [
        {
          "data": {
            "text/plain": [
              "alice     68\n",
              "bob       83\n",
              "colin     86\n",
              "darwin    68\n",
              "dtype: int64"
            ]
          },
          "execution_count": 50,
          "metadata": {},
          "output_type": "execute_result"
        }
      ],
      "source": [
        "weights = {\"alice\": 68, \"bob\": 83, \"colin\": 86, \"darwin\": 68}\n",
        "s3 = pd.Series(weights)\n",
        "s3"
      ]
    },
    {
      "cell_type": "markdown",
      "metadata": {
        "id": "0QUyQO511mxt"
      },
      "source": [
        "You can control which elements you want to include in the `Series` and in what order by explicitly specifying the desired `index`:"
      ]
    },
    {
      "cell_type": "code",
      "execution_count": 51,
      "metadata": {
        "id": "rwFDuriR1mxt",
        "outputId": "eee1bb2c-f768-4fa7-b8d5-9fd9f86a3f01"
      },
      "outputs": [
        {
          "data": {
            "text/plain": [
              "colin    86\n",
              "alice    68\n",
              "dtype: int64"
            ]
          },
          "execution_count": 51,
          "metadata": {},
          "output_type": "execute_result"
        }
      ],
      "source": [
        "s4 = pd.Series(weights, index = [\"colin\", \"alice\"])\n",
        "s4"
      ]
    },
    {
      "cell_type": "markdown",
      "metadata": {
        "id": "fJ0wdv5v1mxt"
      },
      "source": [
        "## Automatic alignment\n",
        "When an operation involves multiple `Series` objects, `pandas` automatically aligns items by matching index labels."
      ]
    },
    {
      "cell_type": "code",
      "execution_count": 52,
      "metadata": {
        "id": "qBq3a7HO1mxt",
        "outputId": "cccd1292-45d5-467d-e2a0-55477e52498b"
      },
      "outputs": [
        {
          "name": "stdout",
          "output_type": "stream",
          "text": [
            "Index(['alice', 'bob', 'charles', 'darwin'], dtype='object')\n",
            "Index(['alice', 'bob', 'colin', 'darwin'], dtype='object')\n"
          ]
        },
        {
          "data": {
            "text/plain": [
              "alice      136.0\n",
              "bob        166.0\n",
              "charles      NaN\n",
              "colin        NaN\n",
              "darwin     136.0\n",
              "dtype: float64"
            ]
          },
          "execution_count": 52,
          "metadata": {},
          "output_type": "execute_result"
        }
      ],
      "source": [
        "print(s2.keys())\n",
        "print(s3.keys())\n",
        "\n",
        "s2 + s3"
      ]
    },
    {
      "cell_type": "markdown",
      "metadata": {
        "id": "U_XaXmPx1mxu"
      },
      "source": [
        "The resulting `Series` contains the union of index labels from `s2` and `s3`. Since `\"colin\"` is missing from `s2` and `\"charles\"` is missing from `s3`, these items have a `NaN` result value (i.e. Not-a-Number means *missing*).\n",
        "\n",
        "Automatic alignment is very handy when working with data that may come from various sources with varying structure and missing items. But if you forget to set the right index labels, you can have surprising results:"
      ]
    },
    {
      "cell_type": "code",
      "execution_count": 53,
      "metadata": {
        "id": "urS0c1On1mxu",
        "outputId": "61386ed9-d92f-4df5-8dbd-7669a40ac0cf"
      },
      "outputs": [
        {
          "name": "stdout",
          "output_type": "stream",
          "text": [
            "s2 = [ 68  83 112  68]\n",
            "s5 = [1000 1000 1000 1000]\n"
          ]
        },
        {
          "data": {
            "text/plain": [
              "alice     NaN\n",
              "bob       NaN\n",
              "charles   NaN\n",
              "darwin    NaN\n",
              "0         NaN\n",
              "1         NaN\n",
              "2         NaN\n",
              "3         NaN\n",
              "dtype: float64"
            ]
          },
          "execution_count": 53,
          "metadata": {},
          "output_type": "execute_result"
        }
      ],
      "source": [
        "s5 = pd.Series([1000,1000,1000,1000])\n",
        "print(\"s2 =\", s2.values)\n",
        "print(\"s5 =\", s5.values)\n",
        "\n",
        "s2 + s5"
      ]
    },
    {
      "cell_type": "markdown",
      "metadata": {
        "id": "IZktddSA1mxu"
      },
      "source": [
        "Pandas could not align the `Series`, since their labels do not match at all, hence the full `NaN` result."
      ]
    },
    {
      "cell_type": "markdown",
      "metadata": {
        "id": "nujEvLlq1mxu"
      },
      "source": [
        "## Init with a scalar\n",
        "You can also initialize a `Series` object using a scalar and a list of index labels: all items will be set to the scalar."
      ]
    },
    {
      "cell_type": "code",
      "execution_count": 54,
      "metadata": {
        "id": "RWH0YQ6m1mxu",
        "outputId": "7062b645-7648-4bf4-8547-f366f140002f"
      },
      "outputs": [
        {
          "data": {
            "text/plain": [
              "life          42\n",
              "universe      42\n",
              "everything    42\n",
              "dtype: int64"
            ]
          },
          "execution_count": 54,
          "metadata": {},
          "output_type": "execute_result"
        }
      ],
      "source": [
        "meaning = pd.Series(42, [\"life\", \"universe\", \"everything\"])\n",
        "meaning"
      ]
    },
    {
      "cell_type": "markdown",
      "metadata": {
        "id": "OY2gtTpd1mxu"
      },
      "source": [
        "## `Series` name\n",
        "A `Series` can have a `name`:"
      ]
    },
    {
      "cell_type": "code",
      "execution_count": 55,
      "metadata": {
        "id": "6jFn2WX71mxu",
        "outputId": "acb8f8b6-fd75-4ab4-f7c7-2d95db95e55c"
      },
      "outputs": [
        {
          "data": {
            "text/plain": [
              "bob      83\n",
              "alice    68\n",
              "Name: weights, dtype: int64"
            ]
          },
          "execution_count": 55,
          "metadata": {},
          "output_type": "execute_result"
        }
      ],
      "source": [
        "s6 = pd.Series([83, 68], index=[\"bob\", \"alice\"], name=\"weights\")\n",
        "s6"
      ]
    },
    {
      "cell_type": "markdown",
      "metadata": {
        "id": "lIfykRnt1mxu"
      },
      "source": [
        "## Plotting a `Series`\n",
        "Pandas makes it easy to plot `Series` data using matplotlib (for more details on matplotlib, check out the [matplotlib tutorial](tools_matplotlib.ipynb)). Just import matplotlib and call the `plot()` method:"
      ]
    },
    {
      "cell_type": "code",
      "execution_count": 56,
      "metadata": {
        "id": "rLAguMlg1mxu",
        "outputId": "8e564057-d9f7-4696-b6f4-de5ad39834a2",
        "scrolled": true
      },
      "outputs": [
        {
          "data": {
            "image/png": "[encoded data removed]",
            "text/plain": [
              "<Figure size 640x480 with 1 Axes>"
            ]
          },
          "metadata": {},
          "output_type": "display_data"
        }
      ],
      "source": [
        "import matplotlib.pyplot as plt\n",
        "temperatures = [4.4,5.1,6.1,6.2,6.1,6.1,5.7,5.2,4.7,4.1,3.9,3.5]\n",
        "s7 = pd.Series(temperatures, name=\"Temperature\")\n",
        "s7.plot()\n",
        "plt.show()"
      ]
    },
    {
      "cell_type": "markdown",
      "metadata": {
        "id": "Sdqx5hxX1mxu"
      },
      "source": [
        "There are *many* options for plotting your data. It is not necessary to list them all here: if you need a particular type of plot (histograms, pie charts, etc.), just look for it in the excellent [Visualization](https://pandas.pydata.org/pandas-docs/stable/user_guide/visualization.html) section of pandas' documentation, and look at the example code."
      ]
    },
    {
      "cell_type": "markdown",
      "metadata": {
        "id": "RmuHFS9-1mxu"
      },
      "source": [
        "# Handling time\n",
        "Many datasets have timestamps, and pandas is awesome at manipulating such data:\n",
        "* it can represent periods (such as 2016Q3) and frequencies (such as \"monthly\"),\n",
        "* it can convert periods to actual timestamps, and *vice versa*,\n",
        "* it can resample data and aggregate values any way you like,\n",
        "* it can handle timezones.\n",
        "\n",
        "## Time range\n",
        "Let's start by creating a time series using `pd.date_range()`. It returns a `DatetimeIndex` containing one datetime per hour for 12 hours starting on October 29th 2016 at 5:30pm."
      ]
    },
    {
      "cell_type": "code",
      "execution_count": 57,
      "metadata": {
        "id": "eG5djxa41mxu",
        "outputId": "560983bf-c8d0-4116-c952-e5f8852ec794"
      },
      "outputs": [
        {
          "data": {
            "text/plain": [
              "DatetimeIndex(['2016-10-29 17:30:00', '2016-10-29 18:30:00',\n",
              "               '2016-10-29 19:30:00', '2016-10-29 20:30:00',\n",
              "               '2016-10-29 21:30:00', '2016-10-29 22:30:00',\n",
              "               '2016-10-29 23:30:00', '2016-10-30 00:30:00',\n",
              "               '2016-10-30 01:30:00', '2016-10-30 02:30:00',\n",
              "               '2016-10-30 03:30:00', '2016-10-30 04:30:00'],\n",
              "              dtype='datetime64[ns]', freq='H')"
            ]
          },
          "execution_count": 57,
          "metadata": {},
          "output_type": "execute_result"
        }
      ],
      "source": [
        "dates = pd.date_range('2016/10/29 5:30pm', periods=12, freq='H')\n",
        "dates"
      ]
    },
    {
      "cell_type": "markdown",
      "metadata": {
        "id": "p_UbAIC71mxu"
      },
      "source": [
        "This `DatetimeIndex` may be used as an index in a `Series`:"
      ]
    },
    {
      "cell_type": "code",
      "execution_count": 58,
      "metadata": {
        "id": "6L1OC9Ms1mxu",
        "outputId": "4db8d067-11d1-4e0a-acf5-b3b2c446fc5c"
      },
      "outputs": [
        {
          "data": {
            "text/plain": [
              "2016-10-29 17:30:00    4.4\n",
              "2016-10-29 18:30:00    5.1\n",
              "2016-10-29 19:30:00    6.1\n",
              "2016-10-29 20:30:00    6.2\n",
              "2016-10-29 21:30:00    6.1\n",
              "2016-10-29 22:30:00    6.1\n",
              "2016-10-29 23:30:00    5.7\n",
              "2016-10-30 00:30:00    5.2\n",
              "2016-10-30 01:30:00    4.7\n",
              "2016-10-30 02:30:00    4.1\n",
              "2016-10-30 03:30:00    3.9\n",
              "2016-10-30 04:30:00    3.5\n",
              "Freq: H, dtype: float64"
            ]
          },
          "execution_count": 58,
          "metadata": {},
          "output_type": "execute_result"
        }
      ],
      "source": [
        "temp_series = pd.Series(temperatures, dates)\n",
        "temp_series"
      ]
    },
    {
      "cell_type": "markdown",
      "metadata": {
        "id": "YEMGel0h1mxv"
      },
      "source": [
        "Let's plot this series:"
      ]
    },
    {
      "cell_type": "code",
      "execution_count": 59,
      "metadata": {
        "id": "sVq3g1zN1mxv",
        "outputId": "1895a66d-e261-480a-bd02-c51b26291f08"
      },
      "outputs": [
        {
          "data": {
            "image/png": "[encoded data removed]",
            "text/plain": [
              "<Figure size 640x480 with 1 Axes>"
            ]
          },
          "metadata": {},
          "output_type": "display_data"
        }
      ],
      "source": [
        "temp_series.plot(kind=\"bar\")\n",
        "\n",
        "plt.grid(True)\n",
        "plt.show()"
      ]
    },
    {
      "cell_type": "markdown",
      "metadata": {
        "id": "z8P4Iq5a1mxv"
      },
      "source": [
        "## Resampling\n",
        "Pandas lets us resample a time series very simply. Just call the `resample()` method and specify a new frequency:"
      ]
    },
    {
      "cell_type": "code",
      "execution_count": 60,
      "metadata": {
        "id": "PBt-rzfR1mxv",
        "outputId": "892fc8ca-031e-4c2c-9e6d-d3a021c0366b"
      },
      "outputs": [
        {
          "data": {
            "text/plain": [
              "<pandas.core.resample.DatetimeIndexResampler object at 0x146892c90>"
            ]
          },
          "execution_count": 60,
          "metadata": {},
          "output_type": "execute_result"
        }
      ],
      "source": [
        "temp_series_freq_2H = temp_series.resample(\"2H\")\n",
        "temp_series_freq_2H"
      ]
    },
    {
      "cell_type": "markdown",
      "metadata": {
        "id": "oWG9F2ar1mxv"
      },
      "source": [
        "The resampling operation is actually a deferred operation, which is why we did not get a `Series` object, but a `DatetimeIndexResampler` object instead. To actually perform the resampling operation, we can simply call the `mean()` method. Pandas will compute the mean of every pair of consecutive hours:"
      ]
    },
    {
      "cell_type": "code",
      "execution_count": 61,
      "metadata": {
        "id": "AhOyqXNf1mxv"
      },
      "outputs": [],
      "source": [
        "temp_series_freq_2H = temp_series_freq_2H.mean()"
      ]
    },
    {
      "cell_type": "markdown",
      "metadata": {
        "id": "JEdgooUl1mxv"
      },
      "source": [
        "Let's plot the result:"
      ]
    },
    {
      "cell_type": "code",
      "execution_count": 62,
      "metadata": {
        "id": "9D7nMuso1mxv",
        "outputId": "a6fa2494-a24f-4475-98a9-7b2dbe53f4dc"
      },
      "outputs": [
        {
          "data": {
            "image/png": "[encoded data removed]",
            "text/plain": [
              "<Figure size 640x480 with 1 Axes>"
            ]
          },
          "metadata": {},
          "output_type": "display_data"
        }
      ],
      "source": [
        "temp_series_freq_2H.plot(kind=\"bar\")\n",
        "plt.show()"
      ]
    },
    {
      "cell_type": "markdown",
      "metadata": {
        "id": "hhFQrk-T1mxv"
      },
      "source": [
        "Note how the values have automatically been aggregated into 2-hour periods. If we look at the 6-8pm period, for example, we had a value of `5.1` at 6:30pm, and `6.1` at 7:30pm. After resampling, we just have one value of `5.6`, which is the mean of `5.1` and `6.1`. Rather than computing the mean, we could have used any other aggregation function, for example we can decide to keep the minimum value of each period:"
      ]
    },
    {
      "cell_type": "code",
      "execution_count": 63,
      "metadata": {
        "id": "8xfOUTeF1mxv",
        "outputId": "5df24a7a-8b1a-44bd-aa6f-adeed9d3260b"
      },
      "outputs": [
        {
          "data": {
            "text/plain": [
              "2016-10-29 16:00:00    4.4\n",
              "2016-10-29 18:00:00    5.1\n",
              "2016-10-29 20:00:00    6.1\n",
              "2016-10-29 22:00:00    5.7\n",
              "2016-10-30 00:00:00    4.7\n",
              "2016-10-30 02:00:00    3.9\n",
              "2016-10-30 04:00:00    3.5\n",
              "Freq: 2H, dtype: float64"
            ]
          },
          "execution_count": 63,
          "metadata": {},
          "output_type": "execute_result"
        }
      ],
      "source": [
        "temp_series_freq_2H = temp_series.resample(\"2H\").min()\n",
        "temp_series_freq_2H"
      ]
    },
    {
      "cell_type": "markdown",
      "metadata": {
        "id": "-d1DIu1T1mxv"
      },
      "source": [
        "Or, equivalently, we could use the `apply()` method instead:"
      ]
    },
    {
      "cell_type": "code",
      "execution_count": 64,
      "metadata": {
        "id": "TPnDaa8t1mxv",
        "outputId": "bf81665f-aaae-4651-8d0b-5f8d2ba3ef6f"
      },
      "outputs": [
        {
          "data": {
            "text/plain": [
              "2016-10-29 16:00:00    4.4\n",
              "2016-10-29 18:00:00    5.1\n",
              "2016-10-29 20:00:00    6.1\n",
              "2016-10-29 22:00:00    5.7\n",
              "2016-10-30 00:00:00    4.7\n",
              "2016-10-30 02:00:00    3.9\n",
              "2016-10-30 04:00:00    3.5\n",
              "Freq: 2H, dtype: float64"
            ]
          },
          "execution_count": 64,
          "metadata": {},
          "output_type": "execute_result"
        }
      ],
      "source": [
        "temp_series_freq_2H = temp_series.resample(\"2H\").apply(np.min)\n",
        "temp_series_freq_2H"
      ]
    },
    {
      "cell_type": "markdown",
      "metadata": {
        "id": "1ViLFg7O1mxw"
      },
      "source": [
        "## Upsampling and interpolation\n",
        "It was an example of downsampling. We can also upsample (i.e. increase the frequency), but it will create holes in our data:"
      ]
    },
    {
      "cell_type": "code",
      "execution_count": 65,
      "metadata": {
        "id": "O4eiegUP1mxw",
        "outputId": "f65e3c14-2696-42a7-fb7b-d992b28e5ba2"
      },
      "outputs": [
        {
          "data": {
            "text/plain": [
              "2016-10-29 17:30:00    4.4\n",
              "2016-10-29 17:45:00    NaN\n",
              "2016-10-29 18:00:00    NaN\n",
              "2016-10-29 18:15:00    NaN\n",
              "2016-10-29 18:30:00    5.1\n",
              "2016-10-29 18:45:00    NaN\n",
              "2016-10-29 19:00:00    NaN\n",
              "2016-10-29 19:15:00    NaN\n",
              "2016-10-29 19:30:00    6.1\n",
              "2016-10-29 19:45:00    NaN\n",
              "Freq: 15T, dtype: float64"
            ]
          },
          "execution_count": 65,
          "metadata": {},
          "output_type": "execute_result"
        }
      ],
      "source": [
        "temp_series_freq_15min = temp_series.resample(\"15Min\").mean()\n",
        "temp_series_freq_15min.head(n=10) # `head` displays the top n values"
      ]
    },
    {
      "cell_type": "markdown",
      "metadata": {
        "id": "ZQ4zGYAV1mxw"
      },
      "source": [
        "One solution is to fill the gaps by interpolating. We just call the `interpolate()` method. The default is to use linear interpolation, but we can also select another method, such as cubic interpolation:"
      ]
    },
    {
      "cell_type": "code",
      "execution_count": 66,
      "metadata": {
        "id": "f_RZeodB1mxw",
        "outputId": "e309c6f7-adfe-49ed-d10c-e99e3178df2e",
        "scrolled": true
      },
      "outputs": [
        {
          "data": {
            "text/plain": [
              "2016-10-29 17:30:00    4.400000\n",
              "2016-10-29 17:45:00    4.452911\n",
              "2016-10-29 18:00:00    4.605113\n",
              "2016-10-29 18:15:00    4.829758\n",
              "2016-10-29 18:30:00    5.100000\n",
              "2016-10-29 18:45:00    5.388992\n",
              "2016-10-29 19:00:00    5.669887\n",
              "2016-10-29 19:15:00    5.915839\n",
              "2016-10-29 19:30:00    6.100000\n",
              "2016-10-29 19:45:00    6.203621\n",
              "Freq: 15T, dtype: float64"
            ]
          },
          "execution_count": 66,
          "metadata": {},
          "output_type": "execute_result"
        }
      ],
      "source": [
        "temp_series_freq_15min = temp_series.resample(\"15Min\").interpolate(method=\"cubic\")\n",
        "temp_series_freq_15min.head(n=10)"
      ]
    },
    {
      "cell_type": "code",
      "execution_count": 67,
      "metadata": {
        "id": "NR3OaO5k1mxw",
        "outputId": "a4b96714-ddc6-484e-e750-bb0d224e2a8a"
      },
      "outputs": [
        {
          "data": {
            "image/png": "[encoded data removed]",
            "text/plain": [
              "<Figure size 640x480 with 1 Axes>"
            ]
          },
          "metadata": {},
          "output_type": "display_data"
        }
      ],
      "source": [
        "temp_series.plot(label=\"Period: 1 hour\")\n",
        "temp_series_freq_15min.plot(label=\"Period: 15 minutes\")\n",
        "plt.legend()\n",
        "plt.show()"
      ]
    },
    {
      "cell_type": "markdown",
      "metadata": {
        "id": "xF-hp5fX1mxw"
      },
      "source": [
        "## Timezones\n",
        "By default, datetimes are *naive*: they are not aware of timezones, so 2016-10-30 02:30 might mean October 30th 2016 at 2:30am in Paris or in New York. We can make datetimes timezone *aware* by calling the `tz_localize()` method:"
      ]
    },
    {
      "cell_type": "code",
      "execution_count": 68,
      "metadata": {
        "id": "pHiPGgLp1mxw",
        "outputId": "b7209c53-124c-4522-8d2b-49392f73844c"
      },
      "outputs": [
        {
          "data": {
            "text/plain": [
              "2016-10-29 17:30:00-04:00    4.4\n",
              "2016-10-29 18:30:00-04:00    5.1\n",
              "2016-10-29 19:30:00-04:00    6.1\n",
              "2016-10-29 20:30:00-04:00    6.2\n",
              "2016-10-29 21:30:00-04:00    6.1\n",
              "2016-10-29 22:30:00-04:00    6.1\n",
              "2016-10-29 23:30:00-04:00    5.7\n",
              "2016-10-30 00:30:00-04:00    5.2\n",
              "2016-10-30 01:30:00-04:00    4.7\n",
              "2016-10-30 02:30:00-04:00    4.1\n",
              "2016-10-30 03:30:00-04:00    3.9\n",
              "2016-10-30 04:30:00-04:00    3.5\n",
              "dtype: float64"
            ]
          },
          "execution_count": 68,
          "metadata": {},
          "output_type": "execute_result"
        }
      ],
      "source": [
        "temp_series_ny = temp_series.tz_localize(\"America/New_York\")\n",
        "temp_series_ny"
      ]
    },
    {
      "cell_type": "markdown",
      "metadata": {
        "id": "6MeNIq2A1mxw"
      },
      "source": [
        "Note that `-04:00` is now appended to all the datetimes. It means that these datetimes refer to [UTC](https://en.wikipedia.org/wiki/Coordinated_Universal_Time) - 4 hours.\n",
        "\n",
        "We can convert these datetimes to Paris time like this:"
      ]
    },
    {
      "cell_type": "code",
      "execution_count": 69,
      "metadata": {
        "id": "V-edsSvl1mxw",
        "outputId": "cbc2fe98-b2d9-40de-c6ab-82f926ea51a0"
      },
      "outputs": [
        {
          "data": {
            "text/plain": [
              "2016-10-29 23:30:00+02:00    4.4\n",
              "2016-10-30 00:30:00+02:00    5.1\n",
              "2016-10-30 01:30:00+02:00    6.1\n",
              "2016-10-30 02:30:00+02:00    6.2\n",
              "2016-10-30 02:30:00+01:00    6.1\n",
              "2016-10-30 03:30:00+01:00    6.1\n",
              "2016-10-30 04:30:00+01:00    5.7\n",
              "2016-10-30 05:30:00+01:00    5.2\n",
              "2016-10-30 06:30:00+01:00    4.7\n",
              "2016-10-30 07:30:00+01:00    4.1\n",
              "2016-10-30 08:30:00+01:00    3.9\n",
              "2016-10-30 09:30:00+01:00    3.5\n",
              "dtype: float64"
            ]
          },
          "execution_count": 69,
          "metadata": {},
          "output_type": "execute_result"
        }
      ],
      "source": [
        "temp_series_paris = temp_series_ny.tz_convert(\"Europe/Paris\")\n",
        "temp_series_paris"
      ]
    },
    {
      "cell_type": "markdown",
      "metadata": {
        "id": "0rG7C7xt1mxw"
      },
      "source": [
        "You may have noticed that the UTC offset changes from `+02:00` to `+01:00`: this is because France switches to winter time at 3am that particular night (time goes back to 2am). Notice that 2:30am occurs twice! Let's go back to a naive representation (if you log some data hourly using local time, without storing the timezone, you might get something like this):"
      ]
    },
    {
      "cell_type": "code",
      "execution_count": 70,
      "metadata": {
        "id": "0aUsLE2A1mxw",
        "outputId": "3106e5de-4d10-4d9e-b3f6-5416e4e8ca9f"
      },
      "outputs": [
        {
          "data": {
            "text/plain": [
              "2016-10-29 23:30:00    4.4\n",
              "2016-10-30 00:30:00    5.1\n",
              "2016-10-30 01:30:00    6.1\n",
              "2016-10-30 02:30:00    6.2\n",
              "2016-10-30 02:30:00    6.1\n",
              "2016-10-30 03:30:00    6.1\n",
              "2016-10-30 04:30:00    5.7\n",
              "2016-10-30 05:30:00    5.2\n",
              "2016-10-30 06:30:00    4.7\n",
              "2016-10-30 07:30:00    4.1\n",
              "2016-10-30 08:30:00    3.9\n",
              "2016-10-30 09:30:00    3.5\n",
              "dtype: float64"
            ]
          },
          "execution_count": 70,
          "metadata": {},
          "output_type": "execute_result"
        }
      ],
      "source": [
        "temp_series_paris_naive = temp_series_paris.tz_localize(None)\n",
        "temp_series_paris_naive"
      ]
    },
    {
      "cell_type": "markdown",
      "metadata": {
        "id": "_Nv4OVht1mxw"
      },
      "source": [
        "Now `02:30` is really ambiguous. If we try to localize these naive datetimes to the Paris timezone, we get an error:"
      ]
    },
    {
      "cell_type": "code",
      "execution_count": 71,
      "metadata": {
        "id": "BG-deGT91mxw",
        "outputId": "d72e7f81-c558-4df8-dce8-9c502c20e44d"
      },
      "outputs": [
        {
          "name": "stdout",
          "output_type": "stream",
          "text": [
            "<class 'pytz.exceptions.AmbiguousTimeError'>\n",
            "Cannot infer dst time from 2016-10-30 02:30:00, try using the 'ambiguous' argument\n"
          ]
        }
      ],
      "source": [
        "try:\n",
        "    temp_series_paris_naive.tz_localize(\"Europe/Paris\")\n",
        "except Exception as e:\n",
        "    print(type(e))\n",
        "    print(e)"
      ]
    },
    {
      "cell_type": "markdown",
      "metadata": {
        "id": "ajKXejq11mxw"
      },
      "source": [
        "Fortunately, by using the `ambiguous` argument we can tell pandas to infer the right DST (Daylight Saving Time) based on the order of the ambiguous timestamps:"
      ]
    },
    {
      "cell_type": "code",
      "execution_count": 72,
      "metadata": {
        "id": "lQj59m_E1mxx",
        "outputId": "45504936-74fc-4ece-feda-354bd954b48f"
      },
      "outputs": [
        {
          "data": {
            "text/plain": [
              "2016-10-29 23:30:00+02:00    4.4\n",
              "2016-10-30 00:30:00+02:00    5.1\n",
              "2016-10-30 01:30:00+02:00    6.1\n",
              "2016-10-30 02:30:00+02:00    6.2\n",
              "2016-10-30 02:30:00+01:00    6.1\n",
              "2016-10-30 03:30:00+01:00    6.1\n",
              "2016-10-30 04:30:00+01:00    5.7\n",
              "2016-10-30 05:30:00+01:00    5.2\n",
              "2016-10-30 06:30:00+01:00    4.7\n",
              "2016-10-30 07:30:00+01:00    4.1\n",
              "2016-10-30 08:30:00+01:00    3.9\n",
              "2016-10-30 09:30:00+01:00    3.5\n",
              "dtype: float64"
            ]
          },
          "execution_count": 72,
          "metadata": {},
          "output_type": "execute_result"
        }
      ],
      "source": [
        "temp_series_paris_naive.tz_localize(\"Europe/Paris\", ambiguous=\"infer\")"
      ]
    },
    {
      "cell_type": "markdown",
      "metadata": {
        "id": "sZ8vtzlz1mxx"
      },
      "source": [
        "## Periods\n",
        "The `pd.period_range()` function returns a `PeriodIndex` instead of a `DatetimeIndex`. For example, let's get all quarters in 2016 and 2017:"
      ]
    },
    {
      "cell_type": "code",
      "execution_count": 73,
      "metadata": {
        "id": "TyCgf5a_1mxx",
        "outputId": "a07a09a9-5b9c-43c3-ea16-d217cabc57fa"
      },
      "outputs": [
        {
          "data": {
            "text/plain": [
              "PeriodIndex(['2016Q1', '2016Q2', '2016Q3', '2016Q4', '2017Q1', '2017Q2',\n",
              "             '2017Q3', '2017Q4'],\n",
              "            dtype='period[Q-DEC]')"
            ]
          },
          "execution_count": 73,
          "metadata": {},
          "output_type": "execute_result"
        }
      ],
      "source": [
        "quarters = pd.period_range('2016Q1', periods=8, freq='Q')\n",
        "quarters"
      ]
    },
    {
      "cell_type": "markdown",
      "metadata": {
        "id": "W5cVYbpt1mxx"
      },
      "source": [
        "Adding a number `N` to a `PeriodIndex` shifts the periods by `N` times the `PeriodIndex`'s frequency:"
      ]
    },
    {
      "cell_type": "code",
      "execution_count": 74,
      "metadata": {
        "id": "Q2YmjNnQ1mxx",
        "outputId": "bed4185e-36e9-479d-c1b7-b7830e99e498"
      },
      "outputs": [
        {
          "data": {
            "text/plain": [
              "PeriodIndex(['2016Q4', '2017Q1', '2017Q2', '2017Q3', '2017Q4', '2018Q1',\n",
              "             '2018Q2', '2018Q3'],\n",
              "            dtype='period[Q-DEC]')"
            ]
          },
          "execution_count": 74,
          "metadata": {},
          "output_type": "execute_result"
        }
      ],
      "source": [
        "quarters + 3"
      ]
    },
    {
      "cell_type": "markdown",
      "metadata": {
        "id": "HELDt6cO1mxx"
      },
      "source": [
        "The `asfreq()` method lets us change the frequency of the `PeriodIndex`. All periods are lengthened or shortened accordingly. For example, let's convert all the quarterly periods to monthly periods (zooming in):"
      ]
    },
    {
      "cell_type": "code",
      "execution_count": 75,
      "metadata": {
        "id": "Xc7NgwJq1mxx",
        "outputId": "85e549db-5310-45c7-8d2c-696c6cf172fe"
      },
      "outputs": [
        {
          "data": {
            "text/plain": [
              "PeriodIndex(['2016-03', '2016-06', '2016-09', '2016-12', '2017-03', '2017-06',\n",
              "             '2017-09', '2017-12'],\n",
              "            dtype='period[M]')"
            ]
          },
          "execution_count": 75,
          "metadata": {},
          "output_type": "execute_result"
        }
      ],
      "source": [
        "quarters.asfreq(\"M\")"
      ]
    },
    {
      "cell_type": "markdown",
      "metadata": {
        "id": "UmxLHslD1mxx"
      },
      "source": [
        "By default, the `asfreq` zooms on the end of each period. We can tell it to zoom on the start of each period instead:"
      ]
    },
    {
      "cell_type": "code",
      "execution_count": 76,
      "metadata": {
        "id": "n5H1yXoz1mxx",
        "outputId": "1973527d-70ae-4f04-dfc7-0b6b69d865d3"
      },
      "outputs": [
        {
          "data": {
            "text/plain": [
              "PeriodIndex(['2016-01', '2016-04', '2016-07', '2016-10', '2017-01', '2017-04',\n",
              "             '2017-07', '2017-10'],\n",
              "            dtype='period[M]')"
            ]
          },
          "execution_count": 76,
          "metadata": {},
          "output_type": "execute_result"
        }
      ],
      "source": [
        "quarters.asfreq(\"M\", how=\"start\")"
      ]
    },
    {
      "cell_type": "markdown",
      "metadata": {
        "id": "wSu33uzQ1mxx"
      },
      "source": [
        "And we can zoom out:"
      ]
    },
    {
      "cell_type": "code",
      "execution_count": 77,
      "metadata": {
        "id": "Dz_259Bh1mxx",
        "outputId": "e10c1605-4d3f-476e-b396-0db178c20f43"
      },
      "outputs": [
        {
          "data": {
            "text/plain": [
              "PeriodIndex(['2016', '2016', '2016', '2016', '2017', '2017', '2017', '2017'], dtype='period[A-DEC]')"
            ]
          },
          "execution_count": 77,
          "metadata": {},
          "output_type": "execute_result"
        }
      ],
      "source": [
        "quarters.asfreq(\"A\")"
      ]
    },
    {
      "cell_type": "markdown",
      "metadata": {
        "id": "g6FYooYt1mxx"
      },
      "source": [
        "Of course, we can create a `Series` with a `PeriodIndex`:"
      ]
    },
    {
      "cell_type": "code",
      "execution_count": 78,
      "metadata": {
        "id": "D13TnVvS1mxx",
        "outputId": "412fb9e6-4a95-479d-fc58-ab6cd1c21ea0"
      },
      "outputs": [
        {
          "data": {
            "text/plain": [
              "2016Q1    300\n",
              "2016Q2    320\n",
              "2016Q3    290\n",
              "2016Q4    390\n",
              "2017Q1    320\n",
              "2017Q2    360\n",
              "2017Q3    310\n",
              "2017Q4    410\n",
              "Freq: Q-DEC, dtype: int64"
            ]
          },
          "execution_count": 78,
          "metadata": {},
          "output_type": "execute_result"
        }
      ],
      "source": [
        "quarterly_revenue = pd.Series([300, 320, 290, 390, 320, 360, 310, 410], index=quarters)\n",
        "quarterly_revenue"
      ]
    },
    {
      "cell_type": "code",
      "execution_count": 79,
      "metadata": {
        "id": "1vYiVlwG1mxx",
        "outputId": "687fe0f1-4a10-48a7-f25e-51cc6d553f71"
      },
      "outputs": [
        {
          "data": {
            "image/png": "[encoded data removed]",
            "text/plain": [
              "<Figure size 640x480 with 1 Axes>"
            ]
          },
          "metadata": {},
          "output_type": "display_data"
        }
      ],
      "source": [
        "quarterly_revenue.plot(kind=\"line\")\n",
        "plt.show()"
      ]
    },
    {
      "cell_type": "markdown",
      "metadata": {
        "id": "bZfZJZ6K1mxy"
      },
      "source": [
        "We can convert periods to timestamps by calling `to_timestamp`. By default, it will give us the first day of each period, but by setting `how` and `freq`, we can get the last hour of each period:"
      ]
    },
    {
      "cell_type": "code",
      "execution_count": 80,
      "metadata": {
        "id": "hnZk_MG31mxy",
        "outputId": "c352f63d-1d67-4996-a434-926324d6c0a3"
      },
      "outputs": [
        {
          "data": {
            "text/plain": [
              "2016-03-31 23:59:59.999999999    300\n",
              "2016-06-30 23:59:59.999999999    320\n",
              "2016-09-30 23:59:59.999999999    290\n",
              "2016-12-31 23:59:59.999999999    390\n",
              "2017-03-31 23:59:59.999999999    320\n",
              "2017-06-30 23:59:59.999999999    360\n",
              "2017-09-30 23:59:59.999999999    310\n",
              "2017-12-31 23:59:59.999999999    410\n",
              "dtype: int64"
            ]
          },
          "execution_count": 80,
          "metadata": {},
          "output_type": "execute_result"
        }
      ],
      "source": [
        "last_hours = quarterly_revenue.to_timestamp(how=\"end\", freq=\"H\")\n",
        "last_hours"
      ]
    },
    {
      "cell_type": "markdown",
      "metadata": {
        "id": "9d5SkE351mxy"
      },
      "source": [
        "And back to periods by calling `to_period`:"
      ]
    },
    {
      "cell_type": "code",
      "execution_count": 81,
      "metadata": {
        "id": "tKRk8b4b1mxy",
        "outputId": "cb700d55-ddbb-4563-aa54-3a950511fec9"
      },
      "outputs": [
        {
          "data": {
            "text/plain": [
              "2016Q1    300\n",
              "2016Q2    320\n",
              "2016Q3    290\n",
              "2016Q4    390\n",
              "2017Q1    320\n",
              "2017Q2    360\n",
              "2017Q3    310\n",
              "2017Q4    410\n",
              "Freq: Q-DEC, dtype: int64"
            ]
          },
          "execution_count": 81,
          "metadata": {},
          "output_type": "execute_result"
        }
      ],
      "source": [
        "last_hours.to_period()"
      ]
    },
    {
      "cell_type": "markdown",
      "metadata": {
        "id": "lzMdHRXz1mxy"
      },
      "source": [
        "Pandas also provides many other time-related functions that we recommend you check out in the [documentation](https://pandas.pydata.org/pandas-docs/stable/user_guide/timeseries.html). To whet your appetite, here is one way to get the last business day of each month in 2016, at 9am:"
      ]
    },
    {
      "cell_type": "code",
      "execution_count": 82,
      "metadata": {
        "id": "kx8fGh3p1mxy",
        "outputId": "ccd88077-d04b-4fc0-eaf3-e8191e51eb78"
      },
      "outputs": [
        {
          "data": {
            "text/plain": [
              "PeriodIndex(['2016-01-29 09:00', '2016-02-29 09:00', '2016-03-31 09:00',\n",
              "             '2016-04-29 09:00', '2016-05-31 09:00', '2016-06-30 09:00',\n",
              "             '2016-07-29 09:00', '2016-08-31 09:00', '2016-09-30 09:00',\n",
              "             '2016-10-31 09:00', '2016-11-30 09:00', '2016-12-30 09:00'],\n",
              "            dtype='period[H]')"
            ]
          },
          "execution_count": 82,
          "metadata": {},
          "output_type": "execute_result"
        }
      ],
      "source": [
        "months_2016 = pd.period_range(\"2016\", periods=12, freq=\"M\")\n",
        "one_day_after_last_days = months_2016.asfreq(\"D\") + 1\n",
        "last_bdays = one_day_after_last_days.to_timestamp() - pd.tseries.offsets.BDay()\n",
        "last_bdays.to_period(\"H\") + 9"
      ]
    },
    {
      "cell_type": "markdown",
      "metadata": {
        "id": "-q5garId1mxy"
      },
      "source": [
        "# `DataFrame` objects\n",
        "A DataFrame object represents a spreadsheet, with cell values, column names and row index labels. You can define expressions to compute columns based on other columns, create pivot-tables, group rows, draw graphs, etc. You can see `DataFrame`s as dictionaries of `Series`.\n",
        "\n",
        "## Creating a `DataFrame`\n",
        "You can create a DataFrame by passing a dictionary of `Series` objects:"
      ]
    },
    {
      "cell_type": "code",
      "execution_count": 83,
      "metadata": {
        "id": "ilFY3Tw21mxy",
        "outputId": "42a350a3-4cdf-4423-b754-ee0b6c2c57e2"
      },
      "outputs": [
        {
          "data": {
            "text/html": [
              "<div>\n",
              "<style scoped>\n",
              "    .dataframe tbody tr th:only-of-type {\n",
              "        vertical-align: middle;\n",
              "    }\n",
              "\n",
              "    .dataframe tbody tr th {\n",
              "        vertical-align: top;\n",
              "    }\n",
              "\n",
              "    .dataframe thead th {\n",
              "        text-align: right;\n",
              "    }\n",
              "</style>\n",
              "<table border=\"1\" class=\"dataframe\">\n",
              "  <thead>\n",
              "    <tr style=\"text-align: right;\">\n",
              "      <th></th>\n",
              "      <th>weight</th>\n",
              "      <th>birthyear</th>\n",
              "      <th>children</th>\n",
              "      <th>hobby</th>\n",
              "    </tr>\n",
              "  </thead>\n",
              "  <tbody>\n",
              "    <tr>\n",
              "      <th>alice</th>\n",
              "      <td>68</td>\n",
              "      <td>1985</td>\n",
              "      <td>NaN</td>\n",
              "      <td>Biking</td>\n",
              "    </tr>\n",
              "    <tr>\n",
              "      <th>bob</th>\n",
              "      <td>83</td>\n",
              "      <td>1984</td>\n",
              "      <td>3.0</td>\n",
              "      <td>Dancing</td>\n",
              "    </tr>\n",
              "    <tr>\n",
              "      <th>charles</th>\n",
              "      <td>112</td>\n",
              "      <td>1992</td>\n",
              "      <td>0.0</td>\n",
              "      <td>NaN</td>\n",
              "    </tr>\n",
              "  </tbody>\n",
              "</table>\n",
              "</div>"
            ],
            "text/plain": [
              "         weight  birthyear  children    hobby\n",
              "alice        68       1985       NaN   Biking\n",
              "bob          83       1984       3.0  Dancing\n",
              "charles     112       1992       0.0      NaN"
            ]
          },
          "execution_count": 83,
          "metadata": {},
          "output_type": "execute_result"
        }
      ],
      "source": [
        "people_dict = {\n",
        "    \"weight\": pd.Series([68, 83, 112], index=[\"alice\", \"bob\", \"charles\"]),\n",
        "    \"birthyear\": pd.Series([1984, 1985, 1992], index=[\"bob\", \"alice\", \"charles\"], name=\"year\"),\n",
        "    \"children\": pd.Series([0, 3], index=[\"charles\", \"bob\"]),\n",
        "    \"hobby\": pd.Series([\"Biking\", \"Dancing\"], index=[\"alice\", \"bob\"]),\n",
        "}\n",
        "people = pd.DataFrame(people_dict)\n",
        "people"
      ]
    },
    {
      "cell_type": "markdown",
      "metadata": {
        "id": "SxYVYrit1mxy"
      },
      "source": [
        "A few things to note:\n",
        "* the `Series` were automatically aligned based on their index,\n",
        "* missing values are represented as `NaN`,\n",
        "* `Series` names are ignored (the name `\"year\"` was dropped),\n",
        "* `DataFrame`s are displayed nicely in Jupyter notebooks, woohoo!"
      ]
    },
    {
      "cell_type": "markdown",
      "metadata": {
        "id": "GjJXrwjO1mxy"
      },
      "source": [
        "You can access columns pretty much as you would expect. They are returned as `Series` objects:"
      ]
    },
    {
      "cell_type": "code",
      "execution_count": 84,
      "metadata": {
        "id": "oUaWdD_e1mxy",
        "outputId": "10ee79a7-1ffc-4538-8a7a-a478a6145b90"
      },
      "outputs": [
        {
          "data": {
            "text/plain": [
              "alice      1985\n",
              "bob        1984\n",
              "charles    1992\n",
              "Name: birthyear, dtype: int64"
            ]
          },
          "execution_count": 84,
          "metadata": {},
          "output_type": "execute_result"
        }
      ],
      "source": [
        "people[\"birthyear\"]"
      ]
    },
    {
      "cell_type": "markdown",
      "metadata": {
        "id": "HRE4unAh1mxy"
      },
      "source": [
        "You can also get multiple columns at once:"
      ]
    },
    {
      "cell_type": "code",
      "execution_count": 85,
      "metadata": {
        "id": "cs6OVQDW1mxy",
        "outputId": "d872e45b-9ad5-4538-9cfe-d38416173410"
      },
      "outputs": [
        {
          "data": {
            "text/html": [
              "<div>\n",
              "<style scoped>\n",
              "    .dataframe tbody tr th:only-of-type {\n",
              "        vertical-align: middle;\n",
              "    }\n",
              "\n",
              "    .dataframe tbody tr th {\n",
              "        vertical-align: top;\n",
              "    }\n",
              "\n",
              "    .dataframe thead th {\n",
              "        text-align: right;\n",
              "    }\n",
              "</style>\n",
              "<table border=\"1\" class=\"dataframe\">\n",
              "  <thead>\n",
              "    <tr style=\"text-align: right;\">\n",
              "      <th></th>\n",
              "      <th>birthyear</th>\n",
              "      <th>hobby</th>\n",
              "    </tr>\n",
              "  </thead>\n",
              "  <tbody>\n",
              "    <tr>\n",
              "      <th>alice</th>\n",
              "      <td>1985</td>\n",
              "      <td>Biking</td>\n",
              "    </tr>\n",
              "    <tr>\n",
              "      <th>bob</th>\n",
              "      <td>1984</td>\n",
              "      <td>Dancing</td>\n",
              "    </tr>\n",
              "    <tr>\n",
              "      <th>charles</th>\n",
              "      <td>1992</td>\n",
              "      <td>NaN</td>\n",
              "    </tr>\n",
              "  </tbody>\n",
              "</table>\n",
              "</div>"
            ],
            "text/plain": [
              "         birthyear    hobby\n",
              "alice         1985   Biking\n",
              "bob           1984  Dancing\n",
              "charles       1992      NaN"
            ]
          },
          "execution_count": 85,
          "metadata": {},
          "output_type": "execute_result"
        }
      ],
      "source": [
        "people[[\"birthyear\", \"hobby\"]]"
      ]
    },
    {
      "cell_type": "markdown",
      "metadata": {
        "id": "r4LMrDVv1mxy"
      },
      "source": [
        "If you pass a list of columns and/or index row labels to the `DataFrame` constructor, it will guarantee that these columns and/or rows will exist, in that order, and no other column/row will exist. For example:"
      ]
    },
    {
      "cell_type": "code",
      "execution_count": 86,
      "metadata": {
        "id": "1uDF-DGs1mxy",
        "outputId": "87c8945a-b3c6-460a-8611-8fa46f1d63a3"
      },
      "outputs": [
        {
          "data": {
            "text/html": [
              "<div>\n",
              "<style scoped>\n",
              "    .dataframe tbody tr th:only-of-type {\n",
              "        vertical-align: middle;\n",
              "    }\n",
              "\n",
              "    .dataframe tbody tr th {\n",
              "        vertical-align: top;\n",
              "    }\n",
              "\n",
              "    .dataframe thead th {\n",
              "        text-align: right;\n",
              "    }\n",
              "</style>\n",
              "<table border=\"1\" class=\"dataframe\">\n",
              "  <thead>\n",
              "    <tr style=\"text-align: right;\">\n",
              "      <th></th>\n",
              "      <th>birthyear</th>\n",
              "      <th>weight</th>\n",
              "      <th>height</th>\n",
              "    </tr>\n",
              "  </thead>\n",
              "  <tbody>\n",
              "    <tr>\n",
              "      <th>bob</th>\n",
              "      <td>1984.0</td>\n",
              "      <td>83.0</td>\n",
              "      <td>NaN</td>\n",
              "    </tr>\n",
              "    <tr>\n",
              "      <th>alice</th>\n",
              "      <td>1985.0</td>\n",
              "      <td>68.0</td>\n",
              "      <td>NaN</td>\n",
              "    </tr>\n",
              "    <tr>\n",
              "      <th>eugene</th>\n",
              "      <td>NaN</td>\n",
              "      <td>NaN</td>\n",
              "      <td>NaN</td>\n",
              "    </tr>\n",
              "  </tbody>\n",
              "</table>\n",
              "</div>"
            ],
            "text/plain": [
              "        birthyear  weight height\n",
              "bob        1984.0    83.0    NaN\n",
              "alice      1985.0    68.0    NaN\n",
              "eugene        NaN     NaN    NaN"
            ]
          },
          "execution_count": 86,
          "metadata": {},
          "output_type": "execute_result"
        }
      ],
      "source": [
        "d2 = pd.DataFrame(\n",
        "        people_dict,\n",
        "        columns=[\"birthyear\", \"weight\", \"height\"],\n",
        "        index=[\"bob\", \"alice\", \"eugene\"]\n",
        "     )\n",
        "d2"
      ]
    },
    {
      "cell_type": "markdown",
      "metadata": {
        "id": "JXGOklR51mxz"
      },
      "source": [
        "Another convenient way to create a `DataFrame` is to pass all the values to the constructor as an `ndarray`, or a list of lists, and specify the column names and row index labels separately:"
      ]
    },
    {
      "cell_type": "code",
      "execution_count": 87,
      "metadata": {
        "id": "_BRPXr6S1mxz",
        "outputId": "3e918177-ff89-40b3-a718-693324d22d0f"
      },
      "outputs": [
        {
          "data": {
            "text/html": [
              "<div>\n",
              "<style scoped>\n",
              "    .dataframe tbody tr th:only-of-type {\n",
              "        vertical-align: middle;\n",
              "    }\n",
              "\n",
              "    .dataframe tbody tr th {\n",
              "        vertical-align: top;\n",
              "    }\n",
              "\n",
              "    .dataframe thead th {\n",
              "        text-align: right;\n",
              "    }\n",
              "</style>\n",
              "<table border=\"1\" class=\"dataframe\">\n",
              "  <thead>\n",
              "    <tr style=\"text-align: right;\">\n",
              "      <th></th>\n",
              "      <th>birthyear</th>\n",
              "      <th>children</th>\n",
              "      <th>hobby</th>\n",
              "      <th>weight</th>\n",
              "    </tr>\n",
              "  </thead>\n",
              "  <tbody>\n",
              "    <tr>\n",
              "      <th>alice</th>\n",
              "      <td>1985</td>\n",
              "      <td>NaN</td>\n",
              "      <td>Biking</td>\n",
              "      <td>68</td>\n",
              "    </tr>\n",
              "    <tr>\n",
              "      <th>bob</th>\n",
              "      <td>1984</td>\n",
              "      <td>3.0</td>\n",
              "      <td>Dancing</td>\n",
              "      <td>83</td>\n",
              "    </tr>\n",
              "    <tr>\n",
              "      <th>charles</th>\n",
              "      <td>1992</td>\n",
              "      <td>0.0</td>\n",
              "      <td>NaN</td>\n",
              "      <td>112</td>\n",
              "    </tr>\n",
              "  </tbody>\n",
              "</table>\n",
              "</div>"
            ],
            "text/plain": [
              "         birthyear  children    hobby  weight\n",
              "alice         1985       NaN   Biking      68\n",
              "bob           1984       3.0  Dancing      83\n",
              "charles       1992       0.0      NaN     112"
            ]
          },
          "execution_count": 87,
          "metadata": {},
          "output_type": "execute_result"
        }
      ],
      "source": [
        "values = [\n",
        "            [1985, np.nan, \"Biking\",   68],\n",
        "            [1984, 3,      \"Dancing\",  83],\n",
        "            [1992, 0,      np.nan,    112]\n",
        "         ]\n",
        "d3 = pd.DataFrame(\n",
        "        values,\n",
        "        columns=[\"birthyear\", \"children\", \"hobby\", \"weight\"],\n",
        "        index=[\"alice\", \"bob\", \"charles\"]\n",
        "     )\n",
        "d3"
      ]
    },
    {
      "cell_type": "markdown",
      "metadata": {
        "id": "t36X3igv1mxz"
      },
      "source": [
        "To specify missing values, you can use either `np.nan` or NumPy's masked arrays:"
      ]
    },
    {
      "cell_type": "code",
      "execution_count": 88,
      "metadata": {
        "id": "ogJXEeXg1mxz",
        "outputId": "0cac9a99-f65f-4c47-fd59-b55a6e5f24fa"
      },
      "outputs": [
        {
          "data": {
            "text/html": [
              "<div>\n",
              "<style scoped>\n",
              "    .dataframe tbody tr th:only-of-type {\n",
              "        vertical-align: middle;\n",
              "    }\n",
              "\n",
              "    .dataframe tbody tr th {\n",
              "        vertical-align: top;\n",
              "    }\n",
              "\n",
              "    .dataframe thead th {\n",
              "        text-align: right;\n",
              "    }\n",
              "</style>\n",
              "<table border=\"1\" class=\"dataframe\">\n",
              "  <thead>\n",
              "    <tr style=\"text-align: right;\">\n",
              "      <th></th>\n",
              "      <th>birthyear</th>\n",
              "      <th>children</th>\n",
              "      <th>hobby</th>\n",
              "      <th>weight</th>\n",
              "    </tr>\n",
              "  </thead>\n",
              "  <tbody>\n",
              "    <tr>\n",
              "      <th>alice</th>\n",
              "      <td>1985</td>\n",
              "      <td>NaN</td>\n",
              "      <td>Biking</td>\n",
              "      <td>68</td>\n",
              "    </tr>\n",
              "    <tr>\n",
              "      <th>bob</th>\n",
              "      <td>1984</td>\n",
              "      <td>3</td>\n",
              "      <td>Dancing</td>\n",
              "      <td>83</td>\n",
              "    </tr>\n",
              "    <tr>\n",
              "      <th>charles</th>\n",
              "      <td>1992</td>\n",
              "      <td>0</td>\n",
              "      <td>NaN</td>\n",
              "      <td>112</td>\n",
              "    </tr>\n",
              "  </tbody>\n",
              "</table>\n",
              "</div>"
            ],
            "text/plain": [
              "        birthyear children    hobby weight\n",
              "alice        1985      NaN   Biking     68\n",
              "bob          1984        3  Dancing     83\n",
              "charles      1992        0      NaN    112"
            ]
          },
          "execution_count": 88,
          "metadata": {},
          "output_type": "execute_result"
        }
      ],
      "source": [
        "masked_array = np.ma.asarray(values, dtype=object)\n",
        "masked_array[(0, 2), (1, 2)] = np.ma.masked\n",
        "d3 = pd.DataFrame(\n",
        "        masked_array,\n",
        "        columns=[\"birthyear\", \"children\", \"hobby\", \"weight\"],\n",
        "        index=[\"alice\", \"bob\", \"charles\"]\n",
        "     )\n",
        "d3"
      ]
    },
    {
      "cell_type": "markdown",
      "metadata": {
        "id": "mJ3JXaQt1mxz"
      },
      "source": [
        "Instead of an `ndarray`, you can also pass a `DataFrame` object:"
      ]
    },
    {
      "cell_type": "code",
      "execution_count": 89,
      "metadata": {
        "id": "hxYi6bgK1mxz",
        "outputId": "c73e3ec7-670a-4172-87f1-ff5de36353cd"
      },
      "outputs": [
        {
          "data": {
            "text/html": [
              "<div>\n",
              "<style scoped>\n",
              "    .dataframe tbody tr th:only-of-type {\n",
              "        vertical-align: middle;\n",
              "    }\n",
              "\n",
              "    .dataframe tbody tr th {\n",
              "        vertical-align: top;\n",
              "    }\n",
              "\n",
              "    .dataframe thead th {\n",
              "        text-align: right;\n",
              "    }\n",
              "</style>\n",
              "<table border=\"1\" class=\"dataframe\">\n",
              "  <thead>\n",
              "    <tr style=\"text-align: right;\">\n",
              "      <th></th>\n",
              "      <th>hobby</th>\n",
              "      <th>children</th>\n",
              "    </tr>\n",
              "  </thead>\n",
              "  <tbody>\n",
              "    <tr>\n",
              "      <th>alice</th>\n",
              "      <td>Biking</td>\n",
              "      <td>NaN</td>\n",
              "    </tr>\n",
              "    <tr>\n",
              "      <th>bob</th>\n",
              "      <td>Dancing</td>\n",
              "      <td>3</td>\n",
              "    </tr>\n",
              "  </tbody>\n",
              "</table>\n",
              "</div>"
            ],
            "text/plain": [
              "         hobby children\n",
              "alice   Biking      NaN\n",
              "bob    Dancing        3"
            ]
          },
          "execution_count": 89,
          "metadata": {},
          "output_type": "execute_result"
        }
      ],
      "source": [
        "d4 = pd.DataFrame(\n",
        "         d3,\n",
        "         columns=[\"hobby\", \"children\"],\n",
        "         index=[\"alice\", \"bob\"]\n",
        "     )\n",
        "d4"
      ]
    },
    {
      "cell_type": "markdown",
      "metadata": {
        "id": "ZKEkBPcE1mxz"
      },
      "source": [
        "It is also possible to create a `DataFrame` with a dictionary (or list) of dictionaries (or lists):"
      ]
    },
    {
      "cell_type": "code",
      "execution_count": 90,
      "metadata": {
        "id": "3a3NXwjr1mxz",
        "outputId": "82a8a624-24ef-4d74-bbe6-863209ef216c"
      },
      "outputs": [
        {
          "data": {
            "text/html": [
              "<div>\n",
              "<style scoped>\n",
              "    .dataframe tbody tr th:only-of-type {\n",
              "        vertical-align: middle;\n",
              "    }\n",
              "\n",
              "    .dataframe tbody tr th {\n",
              "        vertical-align: top;\n",
              "    }\n",
              "\n",
              "    .dataframe thead th {\n",
              "        text-align: right;\n",
              "    }\n",
              "</style>\n",
              "<table border=\"1\" class=\"dataframe\">\n",
              "  <thead>\n",
              "    <tr style=\"text-align: right;\">\n",
              "      <th></th>\n",
              "      <th>birthyear</th>\n",
              "      <th>hobby</th>\n",
              "      <th>weight</th>\n",
              "      <th>children</th>\n",
              "    </tr>\n",
              "  </thead>\n",
              "  <tbody>\n",
              "    <tr>\n",
              "      <th>alice</th>\n",
              "      <td>1985</td>\n",
              "      <td>Biking</td>\n",
              "      <td>68</td>\n",
              "      <td>NaN</td>\n",
              "    </tr>\n",
              "    <tr>\n",
              "      <th>bob</th>\n",
              "      <td>1984</td>\n",
              "      <td>Dancing</td>\n",
              "      <td>83</td>\n",
              "      <td>3.0</td>\n",
              "    </tr>\n",
              "    <tr>\n",
              "      <th>charles</th>\n",
              "      <td>1992</td>\n",
              "      <td>NaN</td>\n",
              "      <td>112</td>\n",
              "      <td>0.0</td>\n",
              "    </tr>\n",
              "  </tbody>\n",
              "</table>\n",
              "</div>"
            ],
            "text/plain": [
              "         birthyear    hobby  weight  children\n",
              "alice         1985   Biking      68       NaN\n",
              "bob           1984  Dancing      83       3.0\n",
              "charles       1992      NaN     112       0.0"
            ]
          },
          "execution_count": 90,
          "metadata": {},
          "output_type": "execute_result"
        }
      ],
      "source": [
        "people = pd.DataFrame({\n",
        "    \"birthyear\": {\"alice\": 1985, \"bob\": 1984, \"charles\": 1992},\n",
        "    \"hobby\": {\"alice\": \"Biking\", \"bob\": \"Dancing\"},\n",
        "    \"weight\": {\"alice\": 68, \"bob\": 83, \"charles\": 112},\n",
        "    \"children\": {\"bob\": 3, \"charles\": 0}\n",
        "})\n",
        "people"
      ]
    },
    {
      "cell_type": "markdown",
      "metadata": {
        "id": "rbXzaEHk1mxz"
      },
      "source": [
        "## Multi-indexing\n",
        "If all columns are tuples of the same size, then they are understood as a multi-index. The same goes for row index labels. For example:"
      ]
    },
    {
      "cell_type": "code",
      "execution_count": 91,
      "metadata": {
        "id": "D6uffrEc1mxz",
        "outputId": "62653993-0ba8-415a-8048-3ed05152be0f"
      },
      "outputs": [
        {
          "data": {
            "text/html": [
              "<div>\n",
              "<style scoped>\n",
              "    .dataframe tbody tr th:only-of-type {\n",
              "        vertical-align: middle;\n",
              "    }\n",
              "\n",
              "    .dataframe tbody tr th {\n",
              "        vertical-align: top;\n",
              "    }\n",
              "\n",
              "    .dataframe thead tr th {\n",
              "        text-align: left;\n",
              "    }\n",
              "</style>\n",
              "<table border=\"1\" class=\"dataframe\">\n",
              "  <thead>\n",
              "    <tr>\n",
              "      <th></th>\n",
              "      <th></th>\n",
              "      <th colspan=\"2\" halign=\"left\">public</th>\n",
              "      <th colspan=\"2\" halign=\"left\">private</th>\n",
              "    </tr>\n",
              "    <tr>\n",
              "      <th></th>\n",
              "      <th></th>\n",
              "      <th>birthyear</th>\n",
              "      <th>hobby</th>\n",
              "      <th>weight</th>\n",
              "      <th>children</th>\n",
              "    </tr>\n",
              "  </thead>\n",
              "  <tbody>\n",
              "    <tr>\n",
              "      <th rowspan=\"2\" valign=\"top\">Paris</th>\n",
              "      <th>alice</th>\n",
              "      <td>1985</td>\n",
              "      <td>Biking</td>\n",
              "      <td>68</td>\n",
              "      <td>NaN</td>\n",
              "    </tr>\n",
              "    <tr>\n",
              "      <th>bob</th>\n",
              "      <td>1984</td>\n",
              "      <td>Dancing</td>\n",
              "      <td>83</td>\n",
              "      <td>3.0</td>\n",
              "    </tr>\n",
              "    <tr>\n",
              "      <th>London</th>\n",
              "      <th>charles</th>\n",
              "      <td>1992</td>\n",
              "      <td>NaN</td>\n",
              "      <td>112</td>\n",
              "      <td>0.0</td>\n",
              "    </tr>\n",
              "  </tbody>\n",
              "</table>\n",
              "</div>"
            ],
            "text/plain": [
              "                  public          private         \n",
              "               birthyear    hobby  weight children\n",
              "Paris  alice        1985   Biking      68      NaN\n",
              "       bob          1984  Dancing      83      3.0\n",
              "London charles      1992      NaN     112      0.0"
            ]
          },
          "execution_count": 91,
          "metadata": {},
          "output_type": "execute_result"
        }
      ],
      "source": [
        "d5 = pd.DataFrame(\n",
        "  {\n",
        "    (\"public\", \"birthyear\"):\n",
        "        {(\"Paris\",\"alice\"): 1985, (\"Paris\",\"bob\"): 1984, (\"London\",\"charles\"): 1992},\n",
        "    (\"public\", \"hobby\"):\n",
        "        {(\"Paris\",\"alice\"): \"Biking\", (\"Paris\",\"bob\"): \"Dancing\"},\n",
        "    (\"private\", \"weight\"):\n",
        "        {(\"Paris\",\"alice\"): 68, (\"Paris\",\"bob\"): 83, (\"London\",\"charles\"): 112},\n",
        "    (\"private\", \"children\"):\n",
        "        {(\"Paris\", \"alice\"): np.nan, (\"Paris\",\"bob\"): 3, (\"London\",\"charles\"): 0}\n",
        "  }\n",
        ")\n",
        "d5"
      ]
    },
    {
      "cell_type": "markdown",
      "metadata": {
        "id": "nF_X5o4r1mxz"
      },
      "source": [
        "You can now get a `DataFrame` containing all the `\"public\"` columns very simply:"
      ]
    },
    {
      "cell_type": "code",
      "execution_count": 92,
      "metadata": {
        "id": "BbZB5nX11mxz",
        "outputId": "31c1137b-041a-485c-fa95-97b6f8af1426"
      },
      "outputs": [
        {
          "data": {
            "text/html": [
              "<div>\n",
              "<style scoped>\n",
              "    .dataframe tbody tr th:only-of-type {\n",
              "        vertical-align: middle;\n",
              "    }\n",
              "\n",
              "    .dataframe tbody tr th {\n",
              "        vertical-align: top;\n",
              "    }\n",
              "\n",
              "    .dataframe thead th {\n",
              "        text-align: right;\n",
              "    }\n",
              "</style>\n",
              "<table border=\"1\" class=\"dataframe\">\n",
              "  <thead>\n",
              "    <tr style=\"text-align: right;\">\n",
              "      <th></th>\n",
              "      <th></th>\n",
              "      <th>birthyear</th>\n",
              "      <th>hobby</th>\n",
              "    </tr>\n",
              "  </thead>\n",
              "  <tbody>\n",
              "    <tr>\n",
              "      <th rowspan=\"2\" valign=\"top\">Paris</th>\n",
              "      <th>alice</th>\n",
              "      <td>1985</td>\n",
              "      <td>Biking</td>\n",
              "    </tr>\n",
              "    <tr>\n",
              "      <th>bob</th>\n",
              "      <td>1984</td>\n",
              "      <td>Dancing</td>\n",
              "    </tr>\n",
              "    <tr>\n",
              "      <th>London</th>\n",
              "      <th>charles</th>\n",
              "      <td>1992</td>\n",
              "      <td>NaN</td>\n",
              "    </tr>\n",
              "  </tbody>\n",
              "</table>\n",
              "</div>"
            ],
            "text/plain": [
              "                birthyear    hobby\n",
              "Paris  alice         1985   Biking\n",
              "       bob           1984  Dancing\n",
              "London charles       1992      NaN"
            ]
          },
          "execution_count": 92,
          "metadata": {},
          "output_type": "execute_result"
        }
      ],
      "source": [
        "d5[\"public\"]"
      ]
    },
    {
      "cell_type": "code",
      "execution_count": 93,
      "metadata": {
        "id": "TeTOZzsQ1mxz",
        "outputId": "8e8cf246-ac8a-46dc-911b-0186a7ed6794"
      },
      "outputs": [
        {
          "data": {
            "text/plain": [
              "Paris   alice       Biking\n",
              "        bob        Dancing\n",
              "London  charles        NaN\n",
              "Name: (public, hobby), dtype: object"
            ]
          },
          "execution_count": 93,
          "metadata": {},
          "output_type": "execute_result"
        }
      ],
      "source": [
        "d5[\"public\", \"hobby\"]  # Same result as d5[\"public\"][\"hobby\"]"
      ]
    },
    {
      "cell_type": "markdown",
      "metadata": {
        "id": "PaDBXtMn1mxz"
      },
      "source": [
        "## Dropping a level\n",
        "Let's look at `d5` again:"
      ]
    },
    {
      "cell_type": "code",
      "execution_count": 94,
      "metadata": {
        "id": "hIVWJ0pB1mx0",
        "outputId": "e1b89ad8-e838-4664-8318-6bf948833365"
      },
      "outputs": [
        {
          "data": {
            "text/html": [
              "<div>\n",
              "<style scoped>\n",
              "    .dataframe tbody tr th:only-of-type {\n",
              "        vertical-align: middle;\n",
              "    }\n",
              "\n",
              "    .dataframe tbody tr th {\n",
              "        vertical-align: top;\n",
              "    }\n",
              "\n",
              "    .dataframe thead tr th {\n",
              "        text-align: left;\n",
              "    }\n",
              "</style>\n",
              "<table border=\"1\" class=\"dataframe\">\n",
              "  <thead>\n",
              "    <tr>\n",
              "      <th></th>\n",
              "      <th></th>\n",
              "      <th colspan=\"2\" halign=\"left\">public</th>\n",
              "      <th colspan=\"2\" halign=\"left\">private</th>\n",
              "    </tr>\n",
              "    <tr>\n",
              "      <th></th>\n",
              "      <th></th>\n",
              "      <th>birthyear</th>\n",
              "      <th>hobby</th>\n",
              "      <th>weight</th>\n",
              "      <th>children</th>\n",
              "    </tr>\n",
              "  </thead>\n",
              "  <tbody>\n",
              "    <tr>\n",
              "      <th rowspan=\"2\" valign=\"top\">Paris</th>\n",
              "      <th>alice</th>\n",
              "      <td>1985</td>\n",
              "      <td>Biking</td>\n",
              "      <td>68</td>\n",
              "      <td>NaN</td>\n",
              "    </tr>\n",
              "    <tr>\n",
              "      <th>bob</th>\n",
              "      <td>1984</td>\n",
              "      <td>Dancing</td>\n",
              "      <td>83</td>\n",
              "      <td>3.0</td>\n",
              "    </tr>\n",
              "    <tr>\n",
              "      <th>London</th>\n",
              "      <th>charles</th>\n",
              "      <td>1992</td>\n",
              "      <td>NaN</td>\n",
              "      <td>112</td>\n",
              "      <td>0.0</td>\n",
              "    </tr>\n",
              "  </tbody>\n",
              "</table>\n",
              "</div>"
            ],
            "text/plain": [
              "                  public          private         \n",
              "               birthyear    hobby  weight children\n",
              "Paris  alice        1985   Biking      68      NaN\n",
              "       bob          1984  Dancing      83      3.0\n",
              "London charles      1992      NaN     112      0.0"
            ]
          },
          "execution_count": 94,
          "metadata": {},
          "output_type": "execute_result"
        }
      ],
      "source": [
        "d5"
      ]
    },
    {
      "cell_type": "markdown",
      "metadata": {
        "id": "DjizK3yk1mx0"
      },
      "source": [
        "There are two levels of columns, and two levels of indices. We can drop a column level by calling `droplevel()` (the same goes for indices):"
      ]
    },
    {
      "cell_type": "code",
      "execution_count": 95,
      "metadata": {
        "id": "XrPlPdxi1mx0",
        "outputId": "9b0b86ce-dd59-48a7-9666-2c4c4b4a3855"
      },
      "outputs": [
        {
          "data": {
            "text/html": [
              "<div>\n",
              "<style scoped>\n",
              "    .dataframe tbody tr th:only-of-type {\n",
              "        vertical-align: middle;\n",
              "    }\n",
              "\n",
              "    .dataframe tbody tr th {\n",
              "        vertical-align: top;\n",
              "    }\n",
              "\n",
              "    .dataframe thead th {\n",
              "        text-align: right;\n",
              "    }\n",
              "</style>\n",
              "<table border=\"1\" class=\"dataframe\">\n",
              "  <thead>\n",
              "    <tr style=\"text-align: right;\">\n",
              "      <th></th>\n",
              "      <th></th>\n",
              "      <th>birthyear</th>\n",
              "      <th>hobby</th>\n",
              "      <th>weight</th>\n",
              "      <th>children</th>\n",
              "    </tr>\n",
              "  </thead>\n",
              "  <tbody>\n",
              "    <tr>\n",
              "      <th rowspan=\"2\" valign=\"top\">Paris</th>\n",
              "      <th>alice</th>\n",
              "      <td>1985</td>\n",
              "      <td>Biking</td>\n",
              "      <td>68</td>\n",
              "      <td>NaN</td>\n",
              "    </tr>\n",
              "    <tr>\n",
              "      <th>bob</th>\n",
              "      <td>1984</td>\n",
              "      <td>Dancing</td>\n",
              "      <td>83</td>\n",
              "      <td>3.0</td>\n",
              "    </tr>\n",
              "    <tr>\n",
              "      <th>London</th>\n",
              "      <th>charles</th>\n",
              "      <td>1992</td>\n",
              "      <td>NaN</td>\n",
              "      <td>112</td>\n",
              "      <td>0.0</td>\n",
              "    </tr>\n",
              "  </tbody>\n",
              "</table>\n",
              "</div>"
            ],
            "text/plain": [
              "                birthyear    hobby  weight  children\n",
              "Paris  alice         1985   Biking      68       NaN\n",
              "       bob           1984  Dancing      83       3.0\n",
              "London charles       1992      NaN     112       0.0"
            ]
          },
          "execution_count": 95,
          "metadata": {},
          "output_type": "execute_result"
        }
      ],
      "source": [
        "d5.columns = d5.columns.droplevel(level = 0)\n",
        "d5"
      ]
    },
    {
      "cell_type": "markdown",
      "metadata": {
        "id": "qa8XWfcW1mx0"
      },
      "source": [
        "## Transposing\n",
        "You can swap columns and indices using the `T` attribute:"
      ]
    },
    {
      "cell_type": "code",
      "execution_count": 96,
      "metadata": {
        "id": "cgmmSb-j1mx0",
        "outputId": "18511ec9-57f2-4998-c3f3-0d3384565dfd"
      },
      "outputs": [
        {
          "data": {
            "text/html": [
              "<div>\n",
              "<style scoped>\n",
              "    .dataframe tbody tr th:only-of-type {\n",
              "        vertical-align: middle;\n",
              "    }\n",
              "\n",
              "    .dataframe tbody tr th {\n",
              "        vertical-align: top;\n",
              "    }\n",
              "\n",
              "    .dataframe thead tr th {\n",
              "        text-align: left;\n",
              "    }\n",
              "</style>\n",
              "<table border=\"1\" class=\"dataframe\">\n",
              "  <thead>\n",
              "    <tr>\n",
              "      <th></th>\n",
              "      <th colspan=\"2\" halign=\"left\">Paris</th>\n",
              "      <th>London</th>\n",
              "    </tr>\n",
              "    <tr>\n",
              "      <th></th>\n",
              "      <th>alice</th>\n",
              "      <th>bob</th>\n",
              "      <th>charles</th>\n",
              "    </tr>\n",
              "  </thead>\n",
              "  <tbody>\n",
              "    <tr>\n",
              "      <th>birthyear</th>\n",
              "      <td>1985</td>\n",
              "      <td>1984</td>\n",
              "      <td>1992</td>\n",
              "    </tr>\n",
              "    <tr>\n",
              "      <th>hobby</th>\n",
              "      <td>Biking</td>\n",
              "      <td>Dancing</td>\n",
              "      <td>NaN</td>\n",
              "    </tr>\n",
              "    <tr>\n",
              "      <th>weight</th>\n",
              "      <td>68</td>\n",
              "      <td>83</td>\n",
              "      <td>112</td>\n",
              "    </tr>\n",
              "    <tr>\n",
              "      <th>children</th>\n",
              "      <td>NaN</td>\n",
              "      <td>3.0</td>\n",
              "      <td>0.0</td>\n",
              "    </tr>\n",
              "  </tbody>\n",
              "</table>\n",
              "</div>"
            ],
            "text/plain": [
              "            Paris           London\n",
              "            alice      bob charles\n",
              "birthyear    1985     1984    1992\n",
              "hobby      Biking  Dancing     NaN\n",
              "weight         68       83     112\n",
              "children      NaN      3.0     0.0"
            ]
          },
          "execution_count": 96,
          "metadata": {},
          "output_type": "execute_result"
        }
      ],
      "source": [
        "d6 = d5.T\n",
        "d6"
      ]
    },
    {
      "cell_type": "markdown",
      "metadata": {
        "id": "ZLFDxa4h1mx0"
      },
      "source": [
        "## Stacking and unstacking levels\n",
        "Calling the `stack()` method will push the lowest column level after the lowest index:"
      ]
    },
    {
      "cell_type": "code",
      "execution_count": 97,
      "metadata": {
        "id": "7EPYJ9ia1mx0",
        "outputId": "cb6c5c81-72a6-4190-988d-42a3b92348d1"
      },
      "outputs": [
        {
          "data": {
            "text/html": [
              "<div>\n",
              "<style scoped>\n",
              "    .dataframe tbody tr th:only-of-type {\n",
              "        vertical-align: middle;\n",
              "    }\n",
              "\n",
              "    .dataframe tbody tr th {\n",
              "        vertical-align: top;\n",
              "    }\n",
              "\n",
              "    .dataframe thead th {\n",
              "        text-align: right;\n",
              "    }\n",
              "</style>\n",
              "<table border=\"1\" class=\"dataframe\">\n",
              "  <thead>\n",
              "    <tr style=\"text-align: right;\">\n",
              "      <th></th>\n",
              "      <th></th>\n",
              "      <th>London</th>\n",
              "      <th>Paris</th>\n",
              "    </tr>\n",
              "  </thead>\n",
              "  <tbody>\n",
              "    <tr>\n",
              "      <th rowspan=\"3\" valign=\"top\">birthyear</th>\n",
              "      <th>alice</th>\n",
              "      <td>NaN</td>\n",
              "      <td>1985</td>\n",
              "    </tr>\n",
              "    <tr>\n",
              "      <th>bob</th>\n",
              "      <td>NaN</td>\n",
              "      <td>1984</td>\n",
              "    </tr>\n",
              "    <tr>\n",
              "      <th>charles</th>\n",
              "      <td>1992</td>\n",
              "      <td>NaN</td>\n",
              "    </tr>\n",
              "    <tr>\n",
              "      <th rowspan=\"2\" valign=\"top\">hobby</th>\n",
              "      <th>alice</th>\n",
              "      <td>NaN</td>\n",
              "      <td>Biking</td>\n",
              "    </tr>\n",
              "    <tr>\n",
              "      <th>bob</th>\n",
              "      <td>NaN</td>\n",
              "      <td>Dancing</td>\n",
              "    </tr>\n",
              "    <tr>\n",
              "      <th rowspan=\"3\" valign=\"top\">weight</th>\n",
              "      <th>alice</th>\n",
              "      <td>NaN</td>\n",
              "      <td>68</td>\n",
              "    </tr>\n",
              "    <tr>\n",
              "      <th>bob</th>\n",
              "      <td>NaN</td>\n",
              "      <td>83</td>\n",
              "    </tr>\n",
              "    <tr>\n",
              "      <th>charles</th>\n",
              "      <td>112</td>\n",
              "      <td>NaN</td>\n",
              "    </tr>\n",
              "    <tr>\n",
              "      <th rowspan=\"2\" valign=\"top\">children</th>\n",
              "      <th>bob</th>\n",
              "      <td>NaN</td>\n",
              "      <td>3.0</td>\n",
              "    </tr>\n",
              "    <tr>\n",
              "      <th>charles</th>\n",
              "      <td>0.0</td>\n",
              "      <td>NaN</td>\n",
              "    </tr>\n",
              "  </tbody>\n",
              "</table>\n",
              "</div>"
            ],
            "text/plain": [
              "                  London    Paris\n",
              "birthyear alice      NaN     1985\n",
              "          bob        NaN     1984\n",
              "          charles   1992      NaN\n",
              "hobby     alice      NaN   Biking\n",
              "          bob        NaN  Dancing\n",
              "weight    alice      NaN       68\n",
              "          bob        NaN       83\n",
              "          charles    112      NaN\n",
              "children  bob        NaN      3.0\n",
              "          charles    0.0      NaN"
            ]
          },
          "execution_count": 97,
          "metadata": {},
          "output_type": "execute_result"
        }
      ],
      "source": [
        "d7 = d6.stack()\n",
        "d7"
      ]
    },
    {
      "cell_type": "markdown",
      "metadata": {
        "id": "FeaTlcJT1mx0"
      },
      "source": [
        "Note that many `NaN` values appeared. This makes sense because many new combinations did not exist before (e.g. there was no `bob` in `London`).\n",
        "\n",
        "Calling `unstack()` will do the reverse, once again creating many `NaN` values."
      ]
    },
    {
      "cell_type": "code",
      "execution_count": 98,
      "metadata": {
        "id": "5PXk5Hjl1mx0",
        "outputId": "a5c3eb6c-9dff-4b6e-c47f-1ecf5e3771a0"
      },
      "outputs": [
        {
          "data": {
            "text/html": [
              "<div>\n",
              "<style scoped>\n",
              "    .dataframe tbody tr th:only-of-type {\n",
              "        vertical-align: middle;\n",
              "    }\n",
              "\n",
              "    .dataframe tbody tr th {\n",
              "        vertical-align: top;\n",
              "    }\n",
              "\n",
              "    .dataframe thead tr th {\n",
              "        text-align: left;\n",
              "    }\n",
              "</style>\n",
              "<table border=\"1\" class=\"dataframe\">\n",
              "  <thead>\n",
              "    <tr>\n",
              "      <th></th>\n",
              "      <th colspan=\"3\" halign=\"left\">London</th>\n",
              "      <th colspan=\"3\" halign=\"left\">Paris</th>\n",
              "    </tr>\n",
              "    <tr>\n",
              "      <th></th>\n",
              "      <th>alice</th>\n",
              "      <th>bob</th>\n",
              "      <th>charles</th>\n",
              "      <th>alice</th>\n",
              "      <th>bob</th>\n",
              "      <th>charles</th>\n",
              "    </tr>\n",
              "  </thead>\n",
              "  <tbody>\n",
              "    <tr>\n",
              "      <th>birthyear</th>\n",
              "      <td>NaN</td>\n",
              "      <td>NaN</td>\n",
              "      <td>1992</td>\n",
              "      <td>1985</td>\n",
              "      <td>1984</td>\n",
              "      <td>NaN</td>\n",
              "    </tr>\n",
              "    <tr>\n",
              "      <th>children</th>\n",
              "      <td>NaN</td>\n",
              "      <td>NaN</td>\n",
              "      <td>0.0</td>\n",
              "      <td>NaN</td>\n",
              "      <td>3.0</td>\n",
              "      <td>NaN</td>\n",
              "    </tr>\n",
              "    <tr>\n",
              "      <th>hobby</th>\n",
              "      <td>NaN</td>\n",
              "      <td>NaN</td>\n",
              "      <td>NaN</td>\n",
              "      <td>Biking</td>\n",
              "      <td>Dancing</td>\n",
              "      <td>NaN</td>\n",
              "    </tr>\n",
              "    <tr>\n",
              "      <th>weight</th>\n",
              "      <td>NaN</td>\n",
              "      <td>NaN</td>\n",
              "      <td>112</td>\n",
              "      <td>68</td>\n",
              "      <td>83</td>\n",
              "      <td>NaN</td>\n",
              "    </tr>\n",
              "  </tbody>\n",
              "</table>\n",
              "</div>"
            ],
            "text/plain": [
              "          London                Paris                 \n",
              "           alice  bob charles   alice      bob charles\n",
              "birthyear    NaN  NaN    1992    1985     1984     NaN\n",
              "children     NaN  NaN     0.0     NaN      3.0     NaN\n",
              "hobby        NaN  NaN     NaN  Biking  Dancing     NaN\n",
              "weight       NaN  NaN     112      68       83     NaN"
            ]
          },
          "execution_count": 98,
          "metadata": {},
          "output_type": "execute_result"
        }
      ],
      "source": [
        "d8 = d7.unstack()\n",
        "d8"
      ]
    },
    {
      "cell_type": "markdown",
      "metadata": {
        "id": "0vF3UBSq1mx0"
      },
      "source": [
        "If we call `unstack` again, we end up with a `Series` object:"
      ]
    },
    {
      "cell_type": "code",
      "execution_count": 99,
      "metadata": {
        "id": "Ze88rp7U1mx0",
        "outputId": "ec6baceb-60e4-49ae-c03f-021e8a709ac3"
      },
      "outputs": [
        {
          "data": {
            "text/plain": [
              "London  alice    birthyear        NaN\n",
              "                 children         NaN\n",
              "                 hobby            NaN\n",
              "                 weight           NaN\n",
              "        bob      birthyear        NaN\n",
              "                 children         NaN\n",
              "                 hobby            NaN\n",
              "                 weight           NaN\n",
              "        charles  birthyear       1992\n",
              "                 children         0.0\n",
              "                 hobby            NaN\n",
              "                 weight           112\n",
              "Paris   alice    birthyear       1985\n",
              "                 children         NaN\n",
              "                 hobby         Biking\n",
              "                 weight            68\n",
              "        bob      birthyear       1984\n",
              "                 children         3.0\n",
              "                 hobby        Dancing\n",
              "                 weight            83\n",
              "        charles  birthyear        NaN\n",
              "                 children         NaN\n",
              "                 hobby            NaN\n",
              "                 weight           NaN\n",
              "dtype: object"
            ]
          },
          "execution_count": 99,
          "metadata": {},
          "output_type": "execute_result"
        }
      ],
      "source": [
        "d9 = d8.unstack()\n",
        "d9"
      ]
    },
    {
      "cell_type": "markdown",
      "metadata": {
        "id": "Fk1DFbC21mx0"
      },
      "source": [
        "The `stack()` and `unstack()` methods let you select the `level` to stack/unstack. You can even stack/unstack multiple levels at once:"
      ]
    },
    {
      "cell_type": "code",
      "execution_count": 100,
      "metadata": {
        "id": "_RXfP7Mw1mx0",
        "outputId": "883658f2-4d15-4bd8-b84a-1bf990118213",
        "scrolled": true
      },
      "outputs": [
        {
          "data": {
            "text/html": [
              "<div>\n",
              "<style scoped>\n",
              "    .dataframe tbody tr th:only-of-type {\n",
              "        vertical-align: middle;\n",
              "    }\n",
              "\n",
              "    .dataframe tbody tr th {\n",
              "        vertical-align: top;\n",
              "    }\n",
              "\n",
              "    .dataframe thead tr th {\n",
              "        text-align: left;\n",
              "    }\n",
              "</style>\n",
              "<table border=\"1\" class=\"dataframe\">\n",
              "  <thead>\n",
              "    <tr>\n",
              "      <th></th>\n",
              "      <th colspan=\"3\" halign=\"left\">London</th>\n",
              "      <th colspan=\"3\" halign=\"left\">Paris</th>\n",
              "    </tr>\n",
              "    <tr>\n",
              "      <th></th>\n",
              "      <th>alice</th>\n",
              "      <th>bob</th>\n",
              "      <th>charles</th>\n",
              "      <th>alice</th>\n",
              "      <th>bob</th>\n",
              "      <th>charles</th>\n",
              "    </tr>\n",
              "  </thead>\n",
              "  <tbody>\n",
              "    <tr>\n",
              "      <th>birthyear</th>\n",
              "      <td>NaN</td>\n",
              "      <td>NaN</td>\n",
              "      <td>1992</td>\n",
              "      <td>1985</td>\n",
              "      <td>1984</td>\n",
              "      <td>NaN</td>\n",
              "    </tr>\n",
              "    <tr>\n",
              "      <th>children</th>\n",
              "      <td>NaN</td>\n",
              "      <td>NaN</td>\n",
              "      <td>0.0</td>\n",
              "      <td>NaN</td>\n",
              "      <td>3.0</td>\n",
              "      <td>NaN</td>\n",
              "    </tr>\n",
              "    <tr>\n",
              "      <th>hobby</th>\n",
              "      <td>NaN</td>\n",
              "      <td>NaN</td>\n",
              "      <td>NaN</td>\n",
              "      <td>Biking</td>\n",
              "      <td>Dancing</td>\n",
              "      <td>NaN</td>\n",
              "    </tr>\n",
              "    <tr>\n",
              "      <th>weight</th>\n",
              "      <td>NaN</td>\n",
              "      <td>NaN</td>\n",
              "      <td>112</td>\n",
              "      <td>68</td>\n",
              "      <td>83</td>\n",
              "      <td>NaN</td>\n",
              "    </tr>\n",
              "  </tbody>\n",
              "</table>\n",
              "</div>"
            ],
            "text/plain": [
              "          London                Paris                 \n",
              "           alice  bob charles   alice      bob charles\n",
              "birthyear    NaN  NaN    1992    1985     1984     NaN\n",
              "children     NaN  NaN     0.0     NaN      3.0     NaN\n",
              "hobby        NaN  NaN     NaN  Biking  Dancing     NaN\n",
              "weight       NaN  NaN     112      68       83     NaN"
            ]
          },
          "execution_count": 100,
          "metadata": {},
          "output_type": "execute_result"
        }
      ],
      "source": [
        "d10 = d9.unstack(level = (0,1))\n",
        "d10"
      ]
    },
    {
      "cell_type": "markdown",
      "metadata": {
        "id": "Jl2DJ_aU1mx0"
      },
      "source": [
        "## Most methods return modified copies\n",
        "As you may have noticed, the `stack()` and `unstack()` methods do not modify the object they are called on. Instead, they work on a copy and return that copy. This is true of most methods in pandas."
      ]
    },
    {
      "cell_type": "markdown",
      "metadata": {
        "id": "59OccN4k1mx0"
      },
      "source": [
        "## Accessing rows\n",
        "Let's go back to the `people` `DataFrame`:"
      ]
    },
    {
      "cell_type": "code",
      "execution_count": 101,
      "metadata": {
        "id": "rVdlqltb1mx0",
        "outputId": "88ba741a-6234-4394-b839-80bf48f280ce"
      },
      "outputs": [
        {
          "data": {
            "text/html": [
              "<div>\n",
              "<style scoped>\n",
              "    .dataframe tbody tr th:only-of-type {\n",
              "        vertical-align: middle;\n",
              "    }\n",
              "\n",
              "    .dataframe tbody tr th {\n",
              "        vertical-align: top;\n",
              "    }\n",
              "\n",
              "    .dataframe thead th {\n",
              "        text-align: right;\n",
              "    }\n",
              "</style>\n",
              "<table border=\"1\" class=\"dataframe\">\n",
              "  <thead>\n",
              "    <tr style=\"text-align: right;\">\n",
              "      <th></th>\n",
              "      <th>birthyear</th>\n",
              "      <th>hobby</th>\n",
              "      <th>weight</th>\n",
              "      <th>children</th>\n",
              "    </tr>\n",
              "  </thead>\n",
              "  <tbody>\n",
              "    <tr>\n",
              "      <th>alice</th>\n",
              "      <td>1985</td>\n",
              "      <td>Biking</td>\n",
              "      <td>68</td>\n",
              "      <td>NaN</td>\n",
              "    </tr>\n",
              "    <tr>\n",
              "      <th>bob</th>\n",
              "      <td>1984</td>\n",
              "      <td>Dancing</td>\n",
              "      <td>83</td>\n",
              "      <td>3.0</td>\n",
              "    </tr>\n",
              "    <tr>\n",
              "      <th>charles</th>\n",
              "      <td>1992</td>\n",
              "      <td>NaN</td>\n",
              "      <td>112</td>\n",
              "      <td>0.0</td>\n",
              "    </tr>\n",
              "  </tbody>\n",
              "</table>\n",
              "</div>"
            ],
            "text/plain": [
              "         birthyear    hobby  weight  children\n",
              "alice         1985   Biking      68       NaN\n",
              "bob           1984  Dancing      83       3.0\n",
              "charles       1992      NaN     112       0.0"
            ]
          },
          "execution_count": 101,
          "metadata": {},
          "output_type": "execute_result"
        }
      ],
      "source": [
        "people"
      ]
    },
    {
      "cell_type": "markdown",
      "metadata": {
        "id": "pMrB28FY1mx1"
      },
      "source": [
        "The `loc` attribute lets you access rows instead of columns. The result is a `Series` object in which the `DataFrame`'s column names are mapped to row index labels:"
      ]
    },
    {
      "cell_type": "code",
      "execution_count": 102,
      "metadata": {
        "id": "L0uIqOUO1mx1",
        "outputId": "69435d60-7376-4532-f9d9-0b3a24959272"
      },
      "outputs": [
        {
          "data": {
            "text/plain": [
              "birthyear    1992\n",
              "hobby         NaN\n",
              "weight        112\n",
              "children      0.0\n",
              "Name: charles, dtype: object"
            ]
          },
          "execution_count": 102,
          "metadata": {},
          "output_type": "execute_result"
        }
      ],
      "source": [
        "people.loc[\"charles\"]"
      ]
    },
    {
      "cell_type": "markdown",
      "metadata": {
        "id": "0X9jmaZo1mx1"
      },
      "source": [
        "You can also access rows by integer location using the `iloc` attribute:"
      ]
    },
    {
      "cell_type": "code",
      "execution_count": 103,
      "metadata": {
        "id": "1N6LsKbw1mx1",
        "outputId": "b6e0da96-a7e0-48ac-d935-9aaefe50b2d7"
      },
      "outputs": [
        {
          "data": {
            "text/plain": [
              "birthyear    1992\n",
              "hobby         NaN\n",
              "weight        112\n",
              "children      0.0\n",
              "Name: charles, dtype: object"
            ]
          },
          "execution_count": 103,
          "metadata": {},
          "output_type": "execute_result"
        }
      ],
      "source": [
        "people.iloc[2]"
      ]
    },
    {
      "cell_type": "markdown",
      "metadata": {
        "id": "gLa4Tx6S1mx1"
      },
      "source": [
        "You can also get a slice of rows, and this returns a `DataFrame` object:"
      ]
    },
    {
      "cell_type": "code",
      "execution_count": 104,
      "metadata": {
        "id": "wJiqmeUK1mx1",
        "outputId": "9b13d6d9-aac3-40a3-8955-d39bc3666225"
      },
      "outputs": [
        {
          "data": {
            "text/html": [
              "<div>\n",
              "<style scoped>\n",
              "    .dataframe tbody tr th:only-of-type {\n",
              "        vertical-align: middle;\n",
              "    }\n",
              "\n",
              "    .dataframe tbody tr th {\n",
              "        vertical-align: top;\n",
              "    }\n",
              "\n",
              "    .dataframe thead th {\n",
              "        text-align: right;\n",
              "    }\n",
              "</style>\n",
              "<table border=\"1\" class=\"dataframe\">\n",
              "  <thead>\n",
              "    <tr style=\"text-align: right;\">\n",
              "      <th></th>\n",
              "      <th>birthyear</th>\n",
              "      <th>hobby</th>\n",
              "      <th>weight</th>\n",
              "      <th>children</th>\n",
              "    </tr>\n",
              "  </thead>\n",
              "  <tbody>\n",
              "    <tr>\n",
              "      <th>bob</th>\n",
              "      <td>1984</td>\n",
              "      <td>Dancing</td>\n",
              "      <td>83</td>\n",
              "      <td>3.0</td>\n",
              "    </tr>\n",
              "    <tr>\n",
              "      <th>charles</th>\n",
              "      <td>1992</td>\n",
              "      <td>NaN</td>\n",
              "      <td>112</td>\n",
              "      <td>0.0</td>\n",
              "    </tr>\n",
              "  </tbody>\n",
              "</table>\n",
              "</div>"
            ],
            "text/plain": [
              "         birthyear    hobby  weight  children\n",
              "bob           1984  Dancing      83       3.0\n",
              "charles       1992      NaN     112       0.0"
            ]
          },
          "execution_count": 104,
          "metadata": {},
          "output_type": "execute_result"
        }
      ],
      "source": [
        "people.iloc[1:3]"
      ]
    },
    {
      "cell_type": "markdown",
      "metadata": {
        "id": "ivXr4IPr1mx1"
      },
      "source": [
        "Finally, you can pass a boolean array to get the matching rows:"
      ]
    },
    {
      "cell_type": "code",
      "execution_count": 105,
      "metadata": {
        "id": "EYdp-qeo1mx1",
        "outputId": "9d069d55-d394-40c0-9978-5ecf34b293c5"
      },
      "outputs": [
        {
          "data": {
            "text/html": [
              "<div>\n",
              "<style scoped>\n",
              "    .dataframe tbody tr th:only-of-type {\n",
              "        vertical-align: middle;\n",
              "    }\n",
              "\n",
              "    .dataframe tbody tr th {\n",
              "        vertical-align: top;\n",
              "    }\n",
              "\n",
              "    .dataframe thead th {\n",
              "        text-align: right;\n",
              "    }\n",
              "</style>\n",
              "<table border=\"1\" class=\"dataframe\">\n",
              "  <thead>\n",
              "    <tr style=\"text-align: right;\">\n",
              "      <th></th>\n",
              "      <th>birthyear</th>\n",
              "      <th>hobby</th>\n",
              "      <th>weight</th>\n",
              "      <th>children</th>\n",
              "    </tr>\n",
              "  </thead>\n",
              "  <tbody>\n",
              "    <tr>\n",
              "      <th>alice</th>\n",
              "      <td>1985</td>\n",
              "      <td>Biking</td>\n",
              "      <td>68</td>\n",
              "      <td>NaN</td>\n",
              "    </tr>\n",
              "    <tr>\n",
              "      <th>charles</th>\n",
              "      <td>1992</td>\n",
              "      <td>NaN</td>\n",
              "      <td>112</td>\n",
              "      <td>0.0</td>\n",
              "    </tr>\n",
              "  </tbody>\n",
              "</table>\n",
              "</div>"
            ],
            "text/plain": [
              "         birthyear   hobby  weight  children\n",
              "alice         1985  Biking      68       NaN\n",
              "charles       1992     NaN     112       0.0"
            ]
          },
          "execution_count": 105,
          "metadata": {},
          "output_type": "execute_result"
        }
      ],
      "source": [
        "people[np.array([True, False, True])]"
      ]
    },
    {
      "cell_type": "markdown",
      "metadata": {
        "id": "7U1pyTKl1mx1"
      },
      "source": [
        "This is most useful when combined with boolean expressions:"
      ]
    },
    {
      "cell_type": "code",
      "execution_count": 106,
      "metadata": {
        "id": "p4QZC4e31mx1",
        "outputId": "6102ebb8-bf67-49d9-9bed-8eadeee913e1"
      },
      "outputs": [
        {
          "data": {
            "text/html": [
              "<div>\n",
              "<style scoped>\n",
              "    .dataframe tbody tr th:only-of-type {\n",
              "        vertical-align: middle;\n",
              "    }\n",
              "\n",
              "    .dataframe tbody tr th {\n",
              "        vertical-align: top;\n",
              "    }\n",
              "\n",
              "    .dataframe thead th {\n",
              "        text-align: right;\n",
              "    }\n",
              "</style>\n",
              "<table border=\"1\" class=\"dataframe\">\n",
              "  <thead>\n",
              "    <tr style=\"text-align: right;\">\n",
              "      <th></th>\n",
              "      <th>birthyear</th>\n",
              "      <th>hobby</th>\n",
              "      <th>weight</th>\n",
              "      <th>children</th>\n",
              "    </tr>\n",
              "  </thead>\n",
              "  <tbody>\n",
              "    <tr>\n",
              "      <th>alice</th>\n",
              "      <td>1985</td>\n",
              "      <td>Biking</td>\n",
              "      <td>68</td>\n",
              "      <td>NaN</td>\n",
              "    </tr>\n",
              "    <tr>\n",
              "      <th>bob</th>\n",
              "      <td>1984</td>\n",
              "      <td>Dancing</td>\n",
              "      <td>83</td>\n",
              "      <td>3.0</td>\n",
              "    </tr>\n",
              "  </tbody>\n",
              "</table>\n",
              "</div>"
            ],
            "text/plain": [
              "       birthyear    hobby  weight  children\n",
              "alice       1985   Biking      68       NaN\n",
              "bob         1984  Dancing      83       3.0"
            ]
          },
          "execution_count": 106,
          "metadata": {},
          "output_type": "execute_result"
        }
      ],
      "source": [
        "people[people[\"birthyear\"] < 1990]"
      ]
    },
    {
      "cell_type": "markdown",
      "metadata": {
        "id": "IFY7FXKr1mx1"
      },
      "source": [
        "## Adding and removing columns\n",
        "You can generally treat `DataFrame` objects like dictionaries of `Series`, so the following works fine:"
      ]
    },
    {
      "cell_type": "code",
      "execution_count": 107,
      "metadata": {
        "id": "X19YvnbS1mx1",
        "outputId": "2ab56ed9-2d4d-4cd7-cb68-abda0457374a"
      },
      "outputs": [
        {
          "data": {
            "text/html": [
              "<div>\n",
              "<style scoped>\n",
              "    .dataframe tbody tr th:only-of-type {\n",
              "        vertical-align: middle;\n",
              "    }\n",
              "\n",
              "    .dataframe tbody tr th {\n",
              "        vertical-align: top;\n",
              "    }\n",
              "\n",
              "    .dataframe thead th {\n",
              "        text-align: right;\n",
              "    }\n",
              "</style>\n",
              "<table border=\"1\" class=\"dataframe\">\n",
              "  <thead>\n",
              "    <tr style=\"text-align: right;\">\n",
              "      <th></th>\n",
              "      <th>birthyear</th>\n",
              "      <th>hobby</th>\n",
              "      <th>weight</th>\n",
              "      <th>children</th>\n",
              "    </tr>\n",
              "  </thead>\n",
              "  <tbody>\n",
              "    <tr>\n",
              "      <th>alice</th>\n",
              "      <td>1985</td>\n",
              "      <td>Biking</td>\n",
              "      <td>68</td>\n",
              "      <td>NaN</td>\n",
              "    </tr>\n",
              "    <tr>\n",
              "      <th>bob</th>\n",
              "      <td>1984</td>\n",
              "      <td>Dancing</td>\n",
              "      <td>83</td>\n",
              "      <td>3.0</td>\n",
              "    </tr>\n",
              "    <tr>\n",
              "      <th>charles</th>\n",
              "      <td>1992</td>\n",
              "      <td>NaN</td>\n",
              "      <td>112</td>\n",
              "      <td>0.0</td>\n",
              "    </tr>\n",
              "  </tbody>\n",
              "</table>\n",
              "</div>"
            ],
            "text/plain": [
              "         birthyear    hobby  weight  children\n",
              "alice         1985   Biking      68       NaN\n",
              "bob           1984  Dancing      83       3.0\n",
              "charles       1992      NaN     112       0.0"
            ]
          },
          "execution_count": 107,
          "metadata": {},
          "output_type": "execute_result"
        }
      ],
      "source": [
        "people"
      ]
    },
    {
      "cell_type": "code",
      "execution_count": 108,
      "metadata": {
        "id": "3S2uiElA1mx1",
        "outputId": "a65210ff-87ec-4038-ae4c-24fdcebaf8d5"
      },
      "outputs": [
        {
          "data": {
            "text/html": [
              "<div>\n",
              "<style scoped>\n",
              "    .dataframe tbody tr th:only-of-type {\n",
              "        vertical-align: middle;\n",
              "    }\n",
              "\n",
              "    .dataframe tbody tr th {\n",
              "        vertical-align: top;\n",
              "    }\n",
              "\n",
              "    .dataframe thead th {\n",
              "        text-align: right;\n",
              "    }\n",
              "</style>\n",
              "<table border=\"1\" class=\"dataframe\">\n",
              "  <thead>\n",
              "    <tr style=\"text-align: right;\">\n",
              "      <th></th>\n",
              "      <th>hobby</th>\n",
              "      <th>weight</th>\n",
              "      <th>age</th>\n",
              "      <th>over 30</th>\n",
              "    </tr>\n",
              "  </thead>\n",
              "  <tbody>\n",
              "    <tr>\n",
              "      <th>alice</th>\n",
              "      <td>Biking</td>\n",
              "      <td>68</td>\n",
              "      <td>33</td>\n",
              "      <td>True</td>\n",
              "    </tr>\n",
              "    <tr>\n",
              "      <th>bob</th>\n",
              "      <td>Dancing</td>\n",
              "      <td>83</td>\n",
              "      <td>34</td>\n",
              "      <td>True</td>\n",
              "    </tr>\n",
              "    <tr>\n",
              "      <th>charles</th>\n",
              "      <td>NaN</td>\n",
              "      <td>112</td>\n",
              "      <td>26</td>\n",
              "      <td>False</td>\n",
              "    </tr>\n",
              "  </tbody>\n",
              "</table>\n",
              "</div>"
            ],
            "text/plain": [
              "           hobby  weight  age  over 30\n",
              "alice     Biking      68   33     True\n",
              "bob      Dancing      83   34     True\n",
              "charles      NaN     112   26    False"
            ]
          },
          "execution_count": 108,
          "metadata": {},
          "output_type": "execute_result"
        }
      ],
      "source": [
        "people[\"age\"] = 2018 - people[\"birthyear\"]  # adds a new column \"age\"\n",
        "people[\"over 30\"] = people[\"age\"] > 30      # adds another column \"over 30\"\n",
        "birthyears = people.pop(\"birthyear\")\n",
        "del people[\"children\"]\n",
        "\n",
        "people"
      ]
    },
    {
      "cell_type": "code",
      "execution_count": 109,
      "metadata": {
        "id": "MNIrjwDu1mx1",
        "outputId": "fb737317-eae1-4e07-e65f-8aac7156dbea"
      },
      "outputs": [
        {
          "data": {
            "text/plain": [
              "alice      1985\n",
              "bob        1984\n",
              "charles    1992\n",
              "Name: birthyear, dtype: int64"
            ]
          },
          "execution_count": 109,
          "metadata": {},
          "output_type": "execute_result"
        }
      ],
      "source": [
        "birthyears"
      ]
    },
    {
      "cell_type": "markdown",
      "metadata": {
        "id": "hFdGbdp21mx1"
      },
      "source": [
        "When you add a new column, it must have the same number of rows. Missing rows are filled with NaN, and extra rows are ignored:"
      ]
    },
    {
      "cell_type": "code",
      "execution_count": 110,
      "metadata": {
        "id": "U9VtjaTi1mx1",
        "outputId": "e0a44269-6f3d-48f0-8cb3-dd50dd690ff7"
      },
      "outputs": [
        {
          "data": {
            "text/html": [
              "<div>\n",
              "<style scoped>\n",
              "    .dataframe tbody tr th:only-of-type {\n",
              "        vertical-align: middle;\n",
              "    }\n",
              "\n",
              "    .dataframe tbody tr th {\n",
              "        vertical-align: top;\n",
              "    }\n",
              "\n",
              "    .dataframe thead th {\n",
              "        text-align: right;\n",
              "    }\n",
              "</style>\n",
              "<table border=\"1\" class=\"dataframe\">\n",
              "  <thead>\n",
              "    <tr style=\"text-align: right;\">\n",
              "      <th></th>\n",
              "      <th>hobby</th>\n",
              "      <th>weight</th>\n",
              "      <th>age</th>\n",
              "      <th>over 30</th>\n",
              "      <th>pets</th>\n",
              "    </tr>\n",
              "  </thead>\n",
              "  <tbody>\n",
              "    <tr>\n",
              "      <th>alice</th>\n",
              "      <td>Biking</td>\n",
              "      <td>68</td>\n",
              "      <td>33</td>\n",
              "      <td>True</td>\n",
              "      <td>NaN</td>\n",
              "    </tr>\n",
              "    <tr>\n",
              "      <th>bob</th>\n",
              "      <td>Dancing</td>\n",
              "      <td>83</td>\n",
              "      <td>34</td>\n",
              "      <td>True</td>\n",
              "      <td>0.0</td>\n",
              "    </tr>\n",
              "    <tr>\n",
              "      <th>charles</th>\n",
              "      <td>NaN</td>\n",
              "      <td>112</td>\n",
              "      <td>26</td>\n",
              "      <td>False</td>\n",
              "      <td>5.0</td>\n",
              "    </tr>\n",
              "  </tbody>\n",
              "</table>\n",
              "</div>"
            ],
            "text/plain": [
              "           hobby  weight  age  over 30  pets\n",
              "alice     Biking      68   33     True   NaN\n",
              "bob      Dancing      83   34     True   0.0\n",
              "charles      NaN     112   26    False   5.0"
            ]
          },
          "execution_count": 110,
          "metadata": {},
          "output_type": "execute_result"
        }
      ],
      "source": [
        "people[\"pets\"] = pd.Series({\"bob\": 0, \"charles\": 5, \"eugene\": 1})  # alice is missing, eugene is ignored\n",
        "people"
      ]
    },
    {
      "cell_type": "markdown",
      "metadata": {
        "id": "iCTd2RCC1mx1"
      },
      "source": [
        "When adding a new column, it is added at the end (on the right) by default. You can also insert a column anywhere else using the `insert()` method:"
      ]
    },
    {
      "cell_type": "code",
      "execution_count": 111,
      "metadata": {
        "id": "uq0pWbsS1mx1",
        "outputId": "13f80785-a52d-4cb9-f002-3442e2bf7339"
      },
      "outputs": [
        {
          "data": {
            "text/html": [
              "<div>\n",
              "<style scoped>\n",
              "    .dataframe tbody tr th:only-of-type {\n",
              "        vertical-align: middle;\n",
              "    }\n",
              "\n",
              "    .dataframe tbody tr th {\n",
              "        vertical-align: top;\n",
              "    }\n",
              "\n",
              "    .dataframe thead th {\n",
              "        text-align: right;\n",
              "    }\n",
              "</style>\n",
              "<table border=\"1\" class=\"dataframe\">\n",
              "  <thead>\n",
              "    <tr style=\"text-align: right;\">\n",
              "      <th></th>\n",
              "      <th>hobby</th>\n",
              "      <th>height</th>\n",
              "      <th>weight</th>\n",
              "      <th>age</th>\n",
              "      <th>over 30</th>\n",
              "      <th>pets</th>\n",
              "    </tr>\n",
              "  </thead>\n",
              "  <tbody>\n",
              "    <tr>\n",
              "      <th>alice</th>\n",
              "      <td>Biking</td>\n",
              "      <td>172</td>\n",
              "      <td>68</td>\n",
              "      <td>33</td>\n",
              "      <td>True</td>\n",
              "      <td>NaN</td>\n",
              "    </tr>\n",
              "    <tr>\n",
              "      <th>bob</th>\n",
              "      <td>Dancing</td>\n",
              "      <td>181</td>\n",
              "      <td>83</td>\n",
              "      <td>34</td>\n",
              "      <td>True</td>\n",
              "      <td>0.0</td>\n",
              "    </tr>\n",
              "    <tr>\n",
              "      <th>charles</th>\n",
              "      <td>NaN</td>\n",
              "      <td>185</td>\n",
              "      <td>112</td>\n",
              "      <td>26</td>\n",
              "      <td>False</td>\n",
              "      <td>5.0</td>\n",
              "    </tr>\n",
              "  </tbody>\n",
              "</table>\n",
              "</div>"
            ],
            "text/plain": [
              "           hobby  height  weight  age  over 30  pets\n",
              "alice     Biking     172      68   33     True   NaN\n",
              "bob      Dancing     181      83   34     True   0.0\n",
              "charles      NaN     185     112   26    False   5.0"
            ]
          },
          "execution_count": 111,
          "metadata": {},
          "output_type": "execute_result"
        }
      ],
      "source": [
        "people.insert(1, \"height\", [172, 181, 185])\n",
        "people"
      ]
    },
    {
      "cell_type": "markdown",
      "metadata": {
        "id": "g-RgLrYw1mx2"
      },
      "source": [
        "## Assigning new columns\n",
        "You can also create new columns by calling the `assign()` method. Note that this returns a new `DataFrame` object, the original is not modified:"
      ]
    },
    {
      "cell_type": "code",
      "execution_count": 112,
      "metadata": {
        "id": "uNMQfa3l1mx2",
        "outputId": "b780db5a-c0bb-43c8-9c1b-eabff19c9994"
      },
      "outputs": [
        {
          "data": {
            "text/html": [
              "<div>\n",
              "<style scoped>\n",
              "    .dataframe tbody tr th:only-of-type {\n",
              "        vertical-align: middle;\n",
              "    }\n",
              "\n",
              "    .dataframe tbody tr th {\n",
              "        vertical-align: top;\n",
              "    }\n",
              "\n",
              "    .dataframe thead th {\n",
              "        text-align: right;\n",
              "    }\n",
              "</style>\n",
              "<table border=\"1\" class=\"dataframe\">\n",
              "  <thead>\n",
              "    <tr style=\"text-align: right;\">\n",
              "      <th></th>\n",
              "      <th>hobby</th>\n",
              "      <th>height</th>\n",
              "      <th>weight</th>\n",
              "      <th>age</th>\n",
              "      <th>over 30</th>\n",
              "      <th>pets</th>\n",
              "      <th>body_mass_index</th>\n",
              "      <th>has_pets</th>\n",
              "    </tr>\n",
              "  </thead>\n",
              "  <tbody>\n",
              "    <tr>\n",
              "      <th>alice</th>\n",
              "      <td>Biking</td>\n",
              "      <td>172</td>\n",
              "      <td>68</td>\n",
              "      <td>33</td>\n",
              "      <td>True</td>\n",
              "      <td>NaN</td>\n",
              "      <td>22.985398</td>\n",
              "      <td>False</td>\n",
              "    </tr>\n",
              "    <tr>\n",
              "      <th>bob</th>\n",
              "      <td>Dancing</td>\n",
              "      <td>181</td>\n",
              "      <td>83</td>\n",
              "      <td>34</td>\n",
              "      <td>True</td>\n",
              "      <td>0.0</td>\n",
              "      <td>25.335002</td>\n",
              "      <td>False</td>\n",
              "    </tr>\n",
              "    <tr>\n",
              "      <th>charles</th>\n",
              "      <td>NaN</td>\n",
              "      <td>185</td>\n",
              "      <td>112</td>\n",
              "      <td>26</td>\n",
              "      <td>False</td>\n",
              "      <td>5.0</td>\n",
              "      <td>32.724617</td>\n",
              "      <td>True</td>\n",
              "    </tr>\n",
              "  </tbody>\n",
              "</table>\n",
              "</div>"
            ],
            "text/plain": [
              "           hobby  height  weight  age  over 30  pets  body_mass_index  \\\n",
              "alice     Biking     172      68   33     True   NaN        22.985398   \n",
              "bob      Dancing     181      83   34     True   0.0        25.335002   \n",
              "charles      NaN     185     112   26    False   5.0        32.724617   \n",
              "\n",
              "         has_pets  \n",
              "alice       False  \n",
              "bob         False  \n",
              "charles      True  "
            ]
          },
          "execution_count": 112,
          "metadata": {},
          "output_type": "execute_result"
        }
      ],
      "source": [
        "people.assign(\n",
        "    body_mass_index = people[\"weight\"] / (people[\"height\"] / 100) ** 2,\n",
        "    has_pets = people[\"pets\"] > 0\n",
        ")"
      ]
    },
    {
      "cell_type": "markdown",
      "metadata": {
        "id": "hLSwYeXb1mx2"
      },
      "source": [
        "Note that you cannot access columns created within the same assignment:"
      ]
    },
    {
      "cell_type": "code",
      "execution_count": 113,
      "metadata": {
        "id": "yvd_sqSM1mx2",
        "outputId": "b17a1042-2a53-4056-e5ad-43f5b265df99"
      },
      "outputs": [
        {
          "name": "stdout",
          "output_type": "stream",
          "text": [
            "Key error: 'body_mass_index'\n"
          ]
        }
      ],
      "source": [
        "try:\n",
        "    people.assign(\n",
        "        body_mass_index = people[\"weight\"] / (people[\"height\"] / 100) ** 2,\n",
        "        overweight = people[\"body_mass_index\"] > 25\n",
        "    )\n",
        "except KeyError as e:\n",
        "    print(\"Key error:\", e)"
      ]
    },
    {
      "cell_type": "markdown",
      "metadata": {
        "id": "pRX4B6f-1mx2"
      },
      "source": [
        "The solution is to split this assignment in two consecutive assignments:"
      ]
    },
    {
      "cell_type": "code",
      "execution_count": 114,
      "metadata": {
        "id": "263_2Nad1mx2",
        "outputId": "328c94ec-f0bf-429d-f7b3-b593b1a45d2d"
      },
      "outputs": [
        {
          "data": {
            "text/html": [
              "<div>\n",
              "<style scoped>\n",
              "    .dataframe tbody tr th:only-of-type {\n",
              "        vertical-align: middle;\n",
              "    }\n",
              "\n",
              "    .dataframe tbody tr th {\n",
              "        vertical-align: top;\n",
              "    }\n",
              "\n",
              "    .dataframe thead th {\n",
              "        text-align: right;\n",
              "    }\n",
              "</style>\n",
              "<table border=\"1\" class=\"dataframe\">\n",
              "  <thead>\n",
              "    <tr style=\"text-align: right;\">\n",
              "      <th></th>\n",
              "      <th>hobby</th>\n",
              "      <th>height</th>\n",
              "      <th>weight</th>\n",
              "      <th>age</th>\n",
              "      <th>over 30</th>\n",
              "      <th>pets</th>\n",
              "      <th>body_mass_index</th>\n",
              "      <th>overweight</th>\n",
              "    </tr>\n",
              "  </thead>\n",
              "  <tbody>\n",
              "    <tr>\n",
              "      <th>alice</th>\n",
              "      <td>Biking</td>\n",
              "      <td>172</td>\n",
              "      <td>68</td>\n",
              "      <td>33</td>\n",
              "      <td>True</td>\n",
              "      <td>NaN</td>\n",
              "      <td>22.985398</td>\n",
              "      <td>False</td>\n",
              "    </tr>\n",
              "    <tr>\n",
              "      <th>bob</th>\n",
              "      <td>Dancing</td>\n",
              "      <td>181</td>\n",
              "      <td>83</td>\n",
              "      <td>34</td>\n",
              "      <td>True</td>\n",
              "      <td>0.0</td>\n",
              "      <td>25.335002</td>\n",
              "      <td>True</td>\n",
              "    </tr>\n",
              "    <tr>\n",
              "      <th>charles</th>\n",
              "      <td>NaN</td>\n",
              "      <td>185</td>\n",
              "      <td>112</td>\n",
              "      <td>26</td>\n",
              "      <td>False</td>\n",
              "      <td>5.0</td>\n",
              "      <td>32.724617</td>\n",
              "      <td>True</td>\n",
              "    </tr>\n",
              "  </tbody>\n",
              "</table>\n",
              "</div>"
            ],
            "text/plain": [
              "           hobby  height  weight  age  over 30  pets  body_mass_index  \\\n",
              "alice     Biking     172      68   33     True   NaN        22.985398   \n",
              "bob      Dancing     181      83   34     True   0.0        25.335002   \n",
              "charles      NaN     185     112   26    False   5.0        32.724617   \n",
              "\n",
              "         overweight  \n",
              "alice         False  \n",
              "bob            True  \n",
              "charles        True  "
            ]
          },
          "execution_count": 114,
          "metadata": {},
          "output_type": "execute_result"
        }
      ],
      "source": [
        "d6 = people.assign(body_mass_index = people[\"weight\"] / (people[\"height\"] / 100) ** 2)\n",
        "d6.assign(overweight = d6[\"body_mass_index\"] > 25)"
      ]
    },
    {
      "cell_type": "markdown",
      "metadata": {
        "id": "LNKOn9PW1mx2"
      },
      "source": [
        "Having to create a temporary variable `d6` is not very convenient. You may want to just chain the assignment calls, but it does not work because the `people` object is not actually modified by the first assignment:"
      ]
    },
    {
      "cell_type": "code",
      "execution_count": 115,
      "metadata": {
        "id": "bmmE92NU1mx2",
        "outputId": "5a4e29ed-334b-4509-f9e1-a83567e42735"
      },
      "outputs": [
        {
          "name": "stdout",
          "output_type": "stream",
          "text": [
            "Key error: 'body_mass_index'\n"
          ]
        }
      ],
      "source": [
        "try:\n",
        "    (people\n",
        "         .assign(body_mass_index = people[\"weight\"] / (people[\"height\"] / 100) ** 2)\n",
        "         .assign(overweight = people[\"body_mass_index\"] > 25)\n",
        "    )\n",
        "except KeyError as e:\n",
        "    print(\"Key error:\", e)"
      ]
    },
    {
      "cell_type": "markdown",
      "metadata": {
        "id": "C2t5nZZ51mx2"
      },
      "source": [
        "But fear not, there is a simple solution. You can pass a function to the `assign()` method (typically a `lambda` function), and this function will be called with the `DataFrame` as a parameter:"
      ]
    },
    {
      "cell_type": "code",
      "execution_count": 116,
      "metadata": {
        "id": "MyS6DyMc1mx2",
        "outputId": "bb3cfc34-1afc-4f78-c543-fe72c89061c8"
      },
      "outputs": [
        {
          "data": {
            "text/html": [
              "<div>\n",
              "<style scoped>\n",
              "    .dataframe tbody tr th:only-of-type {\n",
              "        vertical-align: middle;\n",
              "    }\n",
              "\n",
              "    .dataframe tbody tr th {\n",
              "        vertical-align: top;\n",
              "    }\n",
              "\n",
              "    .dataframe thead th {\n",
              "        text-align: right;\n",
              "    }\n",
              "</style>\n",
              "<table border=\"1\" class=\"dataframe\">\n",
              "  <thead>\n",
              "    <tr style=\"text-align: right;\">\n",
              "      <th></th>\n",
              "      <th>hobby</th>\n",
              "      <th>height</th>\n",
              "      <th>weight</th>\n",
              "      <th>age</th>\n",
              "      <th>over 30</th>\n",
              "      <th>pets</th>\n",
              "      <th>body_mass_index</th>\n",
              "      <th>overweight</th>\n",
              "    </tr>\n",
              "  </thead>\n",
              "  <tbody>\n",
              "    <tr>\n",
              "      <th>alice</th>\n",
              "      <td>Biking</td>\n",
              "      <td>172</td>\n",
              "      <td>68</td>\n",
              "      <td>33</td>\n",
              "      <td>True</td>\n",
              "      <td>NaN</td>\n",
              "      <td>22.985398</td>\n",
              "      <td>False</td>\n",
              "    </tr>\n",
              "    <tr>\n",
              "      <th>bob</th>\n",
              "      <td>Dancing</td>\n",
              "      <td>181</td>\n",
              "      <td>83</td>\n",
              "      <td>34</td>\n",
              "      <td>True</td>\n",
              "      <td>0.0</td>\n",
              "      <td>25.335002</td>\n",
              "      <td>True</td>\n",
              "    </tr>\n",
              "    <tr>\n",
              "      <th>charles</th>\n",
              "      <td>NaN</td>\n",
              "      <td>185</td>\n",
              "      <td>112</td>\n",
              "      <td>26</td>\n",
              "      <td>False</td>\n",
              "      <td>5.0</td>\n",
              "      <td>32.724617</td>\n",
              "      <td>True</td>\n",
              "    </tr>\n",
              "  </tbody>\n",
              "</table>\n",
              "</div>"
            ],
            "text/plain": [
              "           hobby  height  weight  age  over 30  pets  body_mass_index  \\\n",
              "alice     Biking     172      68   33     True   NaN        22.985398   \n",
              "bob      Dancing     181      83   34     True   0.0        25.335002   \n",
              "charles      NaN     185     112   26    False   5.0        32.724617   \n",
              "\n",
              "         overweight  \n",
              "alice         False  \n",
              "bob            True  \n",
              "charles        True  "
            ]
          },
          "execution_count": 116,
          "metadata": {},
          "output_type": "execute_result"
        }
      ],
      "source": [
        "(people\n",
        "     .assign(body_mass_index = lambda df: df[\"weight\"] / (df[\"height\"] / 100) ** 2)\n",
        "     .assign(overweight = lambda df: df[\"body_mass_index\"] > 25)\n",
        ")"
      ]
    },
    {
      "cell_type": "markdown",
      "metadata": {
        "id": "Dbm-kRHj1mx2"
      },
      "source": [
        "Problem solved!"
      ]
    },
    {
      "cell_type": "markdown",
      "metadata": {
        "id": "Fd7T5FON1mx2"
      },
      "source": [
        "## Evaluating an expression\n",
        "A great feature supported by pandas is expression evaluation. It relies on the `numexpr` library which must be installed."
      ]
    },
    {
      "cell_type": "code",
      "execution_count": 117,
      "metadata": {
        "id": "4ZFM4X9P1mx2",
        "outputId": "2c3eb97b-a3c7-4520-c741-776a4c8edaa5"
      },
      "outputs": [
        {
          "data": {
            "text/plain": [
              "alice      False\n",
              "bob         True\n",
              "charles     True\n",
              "dtype: bool"
            ]
          },
          "execution_count": 117,
          "metadata": {},
          "output_type": "execute_result"
        }
      ],
      "source": [
        "people.eval(\"weight / (height/100) ** 2 > 25\")"
      ]
    },
    {
      "cell_type": "markdown",
      "metadata": {
        "id": "yW-3gUSk1mx2"
      },
      "source": [
        "Assignment expressions are also supported. Let's set `inplace=True` to directly modify the `DataFrame` rather than getting a modified copy:"
      ]
    },
    {
      "cell_type": "code",
      "execution_count": 118,
      "metadata": {
        "id": "4z6XgWXk1mx2",
        "outputId": "1855df24-44f8-414e-a536-52e2a37cdcc3"
      },
      "outputs": [
        {
          "data": {
            "text/html": [
              "<div>\n",
              "<style scoped>\n",
              "    .dataframe tbody tr th:only-of-type {\n",
              "        vertical-align: middle;\n",
              "    }\n",
              "\n",
              "    .dataframe tbody tr th {\n",
              "        vertical-align: top;\n",
              "    }\n",
              "\n",
              "    .dataframe thead th {\n",
              "        text-align: right;\n",
              "    }\n",
              "</style>\n",
              "<table border=\"1\" class=\"dataframe\">\n",
              "  <thead>\n",
              "    <tr style=\"text-align: right;\">\n",
              "      <th></th>\n",
              "      <th>hobby</th>\n",
              "      <th>height</th>\n",
              "      <th>weight</th>\n",
              "      <th>age</th>\n",
              "      <th>over 30</th>\n",
              "      <th>pets</th>\n",
              "      <th>body_mass_index</th>\n",
              "    </tr>\n",
              "  </thead>\n",
              "  <tbody>\n",
              "    <tr>\n",
              "      <th>alice</th>\n",
              "      <td>Biking</td>\n",
              "      <td>172</td>\n",
              "      <td>68</td>\n",
              "      <td>33</td>\n",
              "      <td>True</td>\n",
              "      <td>NaN</td>\n",
              "      <td>22.985398</td>\n",
              "    </tr>\n",
              "    <tr>\n",
              "      <th>bob</th>\n",
              "      <td>Dancing</td>\n",
              "      <td>181</td>\n",
              "      <td>83</td>\n",
              "      <td>34</td>\n",
              "      <td>True</td>\n",
              "      <td>0.0</td>\n",
              "      <td>25.335002</td>\n",
              "    </tr>\n",
              "    <tr>\n",
              "      <th>charles</th>\n",
              "      <td>NaN</td>\n",
              "      <td>185</td>\n",
              "      <td>112</td>\n",
              "      <td>26</td>\n",
              "      <td>False</td>\n",
              "      <td>5.0</td>\n",
              "      <td>32.724617</td>\n",
              "    </tr>\n",
              "  </tbody>\n",
              "</table>\n",
              "</div>"
            ],
            "text/plain": [
              "           hobby  height  weight  age  over 30  pets  body_mass_index\n",
              "alice     Biking     172      68   33     True   NaN        22.985398\n",
              "bob      Dancing     181      83   34     True   0.0        25.335002\n",
              "charles      NaN     185     112   26    False   5.0        32.724617"
            ]
          },
          "execution_count": 118,
          "metadata": {},
          "output_type": "execute_result"
        }
      ],
      "source": [
        "people.eval(\"body_mass_index = weight / (height/100) ** 2\", inplace=True)\n",
        "people"
      ]
    },
    {
      "cell_type": "markdown",
      "metadata": {
        "id": "UF-xqqki1mx2"
      },
      "source": [
        "You can use a local or global variable in an expression by prefixing it with `'@'`:"
      ]
    },
    {
      "cell_type": "code",
      "execution_count": 119,
      "metadata": {
        "id": "Z-7SJ8mz1mx2",
        "outputId": "1fb2dad5-bb31-4018-ad70-8d889f436296"
      },
      "outputs": [
        {
          "data": {
            "text/html": [
              "<div>\n",
              "<style scoped>\n",
              "    .dataframe tbody tr th:only-of-type {\n",
              "        vertical-align: middle;\n",
              "    }\n",
              "\n",
              "    .dataframe tbody tr th {\n",
              "        vertical-align: top;\n",
              "    }\n",
              "\n",
              "    .dataframe thead th {\n",
              "        text-align: right;\n",
              "    }\n",
              "</style>\n",
              "<table border=\"1\" class=\"dataframe\">\n",
              "  <thead>\n",
              "    <tr style=\"text-align: right;\">\n",
              "      <th></th>\n",
              "      <th>hobby</th>\n",
              "      <th>height</th>\n",
              "      <th>weight</th>\n",
              "      <th>age</th>\n",
              "      <th>over 30</th>\n",
              "      <th>pets</th>\n",
              "      <th>body_mass_index</th>\n",
              "      <th>overweight</th>\n",
              "    </tr>\n",
              "  </thead>\n",
              "  <tbody>\n",
              "    <tr>\n",
              "      <th>alice</th>\n",
              "      <td>Biking</td>\n",
              "      <td>172</td>\n",
              "      <td>68</td>\n",
              "      <td>33</td>\n",
              "      <td>True</td>\n",
              "      <td>NaN</td>\n",
              "      <td>22.985398</td>\n",
              "      <td>False</td>\n",
              "    </tr>\n",
              "    <tr>\n",
              "      <th>bob</th>\n",
              "      <td>Dancing</td>\n",
              "      <td>181</td>\n",
              "      <td>83</td>\n",
              "      <td>34</td>\n",
              "      <td>True</td>\n",
              "      <td>0.0</td>\n",
              "      <td>25.335002</td>\n",
              "      <td>False</td>\n",
              "    </tr>\n",
              "    <tr>\n",
              "      <th>charles</th>\n",
              "      <td>NaN</td>\n",
              "      <td>185</td>\n",
              "      <td>112</td>\n",
              "      <td>26</td>\n",
              "      <td>False</td>\n",
              "      <td>5.0</td>\n",
              "      <td>32.724617</td>\n",
              "      <td>True</td>\n",
              "    </tr>\n",
              "  </tbody>\n",
              "</table>\n",
              "</div>"
            ],
            "text/plain": [
              "           hobby  height  weight  age  over 30  pets  body_mass_index  \\\n",
              "alice     Biking     172      68   33     True   NaN        22.985398   \n",
              "bob      Dancing     181      83   34     True   0.0        25.335002   \n",
              "charles      NaN     185     112   26    False   5.0        32.724617   \n",
              "\n",
              "         overweight  \n",
              "alice         False  \n",
              "bob           False  \n",
              "charles        True  "
            ]
          },
          "execution_count": 119,
          "metadata": {},
          "output_type": "execute_result"
        }
      ],
      "source": [
        "overweight_threshold = 30\n",
        "people.eval(\"overweight = body_mass_index > @overweight_threshold\", inplace=True)\n",
        "people"
      ]
    },
    {
      "cell_type": "markdown",
      "metadata": {
        "id": "rI17ARAP1mx2"
      },
      "source": [
        "## Querying a `DataFrame`\n",
        "The `query()` method lets you filter a `DataFrame` based on a query expression:"
      ]
    },
    {
      "cell_type": "code",
      "execution_count": 120,
      "metadata": {
        "id": "GqHsXW5m1mx3",
        "outputId": "2b79701d-0c36-42ad-e32b-1a03a7698bf6"
      },
      "outputs": [
        {
          "data": {
            "text/html": [
              "<div>\n",
              "<style scoped>\n",
              "    .dataframe tbody tr th:only-of-type {\n",
              "        vertical-align: middle;\n",
              "    }\n",
              "\n",
              "    .dataframe tbody tr th {\n",
              "        vertical-align: top;\n",
              "    }\n",
              "\n",
              "    .dataframe thead th {\n",
              "        text-align: right;\n",
              "    }\n",
              "</style>\n",
              "<table border=\"1\" class=\"dataframe\">\n",
              "  <thead>\n",
              "    <tr style=\"text-align: right;\">\n",
              "      <th></th>\n",
              "      <th>hobby</th>\n",
              "      <th>height</th>\n",
              "      <th>weight</th>\n",
              "      <th>age</th>\n",
              "      <th>over 30</th>\n",
              "      <th>pets</th>\n",
              "      <th>body_mass_index</th>\n",
              "      <th>overweight</th>\n",
              "    </tr>\n",
              "  </thead>\n",
              "  <tbody>\n",
              "    <tr>\n",
              "      <th>bob</th>\n",
              "      <td>Dancing</td>\n",
              "      <td>181</td>\n",
              "      <td>83</td>\n",
              "      <td>34</td>\n",
              "      <td>True</td>\n",
              "      <td>0.0</td>\n",
              "      <td>25.335002</td>\n",
              "      <td>False</td>\n",
              "    </tr>\n",
              "  </tbody>\n",
              "</table>\n",
              "</div>"
            ],
            "text/plain": [
              "       hobby  height  weight  age  over 30  pets  body_mass_index  overweight\n",
              "bob  Dancing     181      83   34     True   0.0        25.335002       False"
            ]
          },
          "execution_count": 120,
          "metadata": {},
          "output_type": "execute_result"
        }
      ],
      "source": [
        "people.query(\"age > 30 and pets == 0\")"
      ]
    },
    {
      "cell_type": "markdown",
      "metadata": {
        "id": "18TjlifJ1mx3"
      },
      "source": [
        "## Sorting a `DataFrame`\n",
        "You can sort a `DataFrame` by calling its `sort_index` method. By default, it sorts the rows by their index label, in ascending order, but let's reverse the order:"
      ]
    },
    {
      "cell_type": "code",
      "execution_count": 121,
      "metadata": {
        "id": "-F_-eXmf1mx3",
        "outputId": "621c15d6-e5e9-416d-fe50-60d5db8a4065"
      },
      "outputs": [
        {
          "data": {
            "text/html": [
              "<div>\n",
              "<style scoped>\n",
              "    .dataframe tbody tr th:only-of-type {\n",
              "        vertical-align: middle;\n",
              "    }\n",
              "\n",
              "    .dataframe tbody tr th {\n",
              "        vertical-align: top;\n",
              "    }\n",
              "\n",
              "    .dataframe thead th {\n",
              "        text-align: right;\n",
              "    }\n",
              "</style>\n",
              "<table border=\"1\" class=\"dataframe\">\n",
              "  <thead>\n",
              "    <tr style=\"text-align: right;\">\n",
              "      <th></th>\n",
              "      <th>hobby</th>\n",
              "      <th>height</th>\n",
              "      <th>weight</th>\n",
              "      <th>age</th>\n",
              "      <th>over 30</th>\n",
              "      <th>pets</th>\n",
              "      <th>body_mass_index</th>\n",
              "      <th>overweight</th>\n",
              "    </tr>\n",
              "  </thead>\n",
              "  <tbody>\n",
              "    <tr>\n",
              "      <th>charles</th>\n",
              "      <td>NaN</td>\n",
              "      <td>185</td>\n",
              "      <td>112</td>\n",
              "      <td>26</td>\n",
              "      <td>False</td>\n",
              "      <td>5.0</td>\n",
              "      <td>32.724617</td>\n",
              "      <td>True</td>\n",
              "    </tr>\n",
              "    <tr>\n",
              "      <th>bob</th>\n",
              "      <td>Dancing</td>\n",
              "      <td>181</td>\n",
              "      <td>83</td>\n",
              "      <td>34</td>\n",
              "      <td>True</td>\n",
              "      <td>0.0</td>\n",
              "      <td>25.335002</td>\n",
              "      <td>False</td>\n",
              "    </tr>\n",
              "    <tr>\n",
              "      <th>alice</th>\n",
              "      <td>Biking</td>\n",
              "      <td>172</td>\n",
              "      <td>68</td>\n",
              "      <td>33</td>\n",
              "      <td>True</td>\n",
              "      <td>NaN</td>\n",
              "      <td>22.985398</td>\n",
              "      <td>False</td>\n",
              "    </tr>\n",
              "  </tbody>\n",
              "</table>\n",
              "</div>"
            ],
            "text/plain": [
              "           hobby  height  weight  age  over 30  pets  body_mass_index  \\\n",
              "charles      NaN     185     112   26    False   5.0        32.724617   \n",
              "bob      Dancing     181      83   34     True   0.0        25.335002   \n",
              "alice     Biking     172      68   33     True   NaN        22.985398   \n",
              "\n",
              "         overweight  \n",
              "charles        True  \n",
              "bob           False  \n",
              "alice         False  "
            ]
          },
          "execution_count": 121,
          "metadata": {},
          "output_type": "execute_result"
        }
      ],
      "source": [
        "people.sort_index(ascending=False)"
      ]
    },
    {
      "cell_type": "markdown",
      "metadata": {
        "id": "frmNbz5Q1mx3"
      },
      "source": [
        "Note that `sort_index` returned a sorted *copy* of the `DataFrame`. To modify `people` directly, we can set the `inplace` argument to `True`. Also, we can sort the columns instead of the rows by setting `axis=1`:"
      ]
    },
    {
      "cell_type": "code",
      "execution_count": 122,
      "metadata": {
        "id": "AkqRVNM_1mx3",
        "outputId": "466d2483-9cde-4953-ec39-cc6d4df55d0f"
      },
      "outputs": [
        {
          "data": {
            "text/html": [
              "<div>\n",
              "<style scoped>\n",
              "    .dataframe tbody tr th:only-of-type {\n",
              "        vertical-align: middle;\n",
              "    }\n",
              "\n",
              "    .dataframe tbody tr th {\n",
              "        vertical-align: top;\n",
              "    }\n",
              "\n",
              "    .dataframe thead th {\n",
              "        text-align: right;\n",
              "    }\n",
              "</style>\n",
              "<table border=\"1\" class=\"dataframe\">\n",
              "  <thead>\n",
              "    <tr style=\"text-align: right;\">\n",
              "      <th></th>\n",
              "      <th>age</th>\n",
              "      <th>body_mass_index</th>\n",
              "      <th>height</th>\n",
              "      <th>hobby</th>\n",
              "      <th>over 30</th>\n",
              "      <th>overweight</th>\n",
              "      <th>pets</th>\n",
              "      <th>weight</th>\n",
              "    </tr>\n",
              "  </thead>\n",
              "  <tbody>\n",
              "    <tr>\n",
              "      <th>alice</th>\n",
              "      <td>33</td>\n",
              "      <td>22.985398</td>\n",
              "      <td>172</td>\n",
              "      <td>Biking</td>\n",
              "      <td>True</td>\n",
              "      <td>False</td>\n",
              "      <td>NaN</td>\n",
              "      <td>68</td>\n",
              "    </tr>\n",
              "    <tr>\n",
              "      <th>bob</th>\n",
              "      <td>34</td>\n",
              "      <td>25.335002</td>\n",
              "      <td>181</td>\n",
              "      <td>Dancing</td>\n",
              "      <td>True</td>\n",
              "      <td>False</td>\n",
              "      <td>0.0</td>\n",
              "      <td>83</td>\n",
              "    </tr>\n",
              "    <tr>\n",
              "      <th>charles</th>\n",
              "      <td>26</td>\n",
              "      <td>32.724617</td>\n",
              "      <td>185</td>\n",
              "      <td>NaN</td>\n",
              "      <td>False</td>\n",
              "      <td>True</td>\n",
              "      <td>5.0</td>\n",
              "      <td>112</td>\n",
              "    </tr>\n",
              "  </tbody>\n",
              "</table>\n",
              "</div>"
            ],
            "text/plain": [
              "         age  body_mass_index  height    hobby  over 30  overweight  pets  \\\n",
              "alice     33        22.985398     172   Biking     True       False   NaN   \n",
              "bob       34        25.335002     181  Dancing     True       False   0.0   \n",
              "charles   26        32.724617     185      NaN    False        True   5.0   \n",
              "\n",
              "         weight  \n",
              "alice        68  \n",
              "bob          83  \n",
              "charles     112  "
            ]
          },
          "execution_count": 122,
          "metadata": {},
          "output_type": "execute_result"
        }
      ],
      "source": [
        "people.sort_index(axis=1, inplace=True)\n",
        "people"
      ]
    },
    {
      "cell_type": "markdown",
      "metadata": {
        "id": "TGcvM_-e1mx3"
      },
      "source": [
        "To sort the `DataFrame` by the values instead of the labels, we can use `sort_values` and specify the column to sort by:"
      ]
    },
    {
      "cell_type": "code",
      "execution_count": 123,
      "metadata": {
        "id": "oSaMHrEW1mx3",
        "outputId": "521e782e-d4e0-49ef-f022-6c5f29f7050d"
      },
      "outputs": [
        {
          "data": {
            "text/html": [
              "<div>\n",
              "<style scoped>\n",
              "    .dataframe tbody tr th:only-of-type {\n",
              "        vertical-align: middle;\n",
              "    }\n",
              "\n",
              "    .dataframe tbody tr th {\n",
              "        vertical-align: top;\n",
              "    }\n",
              "\n",
              "    .dataframe thead th {\n",
              "        text-align: right;\n",
              "    }\n",
              "</style>\n",
              "<table border=\"1\" class=\"dataframe\">\n",
              "  <thead>\n",
              "    <tr style=\"text-align: right;\">\n",
              "      <th></th>\n",
              "      <th>age</th>\n",
              "      <th>body_mass_index</th>\n",
              "      <th>height</th>\n",
              "      <th>hobby</th>\n",
              "      <th>over 30</th>\n",
              "      <th>overweight</th>\n",
              "      <th>pets</th>\n",
              "      <th>weight</th>\n",
              "    </tr>\n",
              "  </thead>\n",
              "  <tbody>\n",
              "    <tr>\n",
              "      <th>charles</th>\n",
              "      <td>26</td>\n",
              "      <td>32.724617</td>\n",
              "      <td>185</td>\n",
              "      <td>NaN</td>\n",
              "      <td>False</td>\n",
              "      <td>True</td>\n",
              "      <td>5.0</td>\n",
              "      <td>112</td>\n",
              "    </tr>\n",
              "    <tr>\n",
              "      <th>alice</th>\n",
              "      <td>33</td>\n",
              "      <td>22.985398</td>\n",
              "      <td>172</td>\n",
              "      <td>Biking</td>\n",
              "      <td>True</td>\n",
              "      <td>False</td>\n",
              "      <td>NaN</td>\n",
              "      <td>68</td>\n",
              "    </tr>\n",
              "    <tr>\n",
              "      <th>bob</th>\n",
              "      <td>34</td>\n",
              "      <td>25.335002</td>\n",
              "      <td>181</td>\n",
              "      <td>Dancing</td>\n",
              "      <td>True</td>\n",
              "      <td>False</td>\n",
              "      <td>0.0</td>\n",
              "      <td>83</td>\n",
              "    </tr>\n",
              "  </tbody>\n",
              "</table>\n",
              "</div>"
            ],
            "text/plain": [
              "         age  body_mass_index  height    hobby  over 30  overweight  pets  \\\n",
              "charles   26        32.724617     185      NaN    False        True   5.0   \n",
              "alice     33        22.985398     172   Biking     True       False   NaN   \n",
              "bob       34        25.335002     181  Dancing     True       False   0.0   \n",
              "\n",
              "         weight  \n",
              "charles     112  \n",
              "alice        68  \n",
              "bob          83  "
            ]
          },
          "execution_count": 123,
          "metadata": {},
          "output_type": "execute_result"
        }
      ],
      "source": [
        "people.sort_values(by=\"age\", inplace=True)\n",
        "people"
      ]
    },
    {
      "cell_type": "markdown",
      "metadata": {
        "id": "2wkXhkzQ1mx3"
      },
      "source": [
        "## Plotting a `DataFrame`\n",
        "Just like for `Series`, pandas makes it easy to draw nice graphs based on a `DataFrame`.\n",
        "\n",
        "For example, it is trivial to create a line plot from a `DataFrame`'s data by calling its `plot` method:"
      ]
    },
    {
      "cell_type": "code",
      "execution_count": 124,
      "metadata": {
        "id": "3lo-NGmn1mx3",
        "outputId": "27cb03f6-51b9-43b9-de0b-8c11f2cfb7a2"
      },
      "outputs": [
        {
          "data": {
            "image/png": "[encoded data removed]",
            "text/plain": [
              "<Figure size 640x480 with 1 Axes>"
            ]
          },
          "metadata": {},
          "output_type": "display_data"
        }
      ],
      "source": [
        "people.sort_values(by=\"body_mass_index\", inplace=True)\n",
        "people.plot(kind=\"line\", x=\"body_mass_index\", y=[\"height\", \"weight\"])\n",
        "plt.show()"
      ]
    },
    {
      "cell_type": "markdown",
      "metadata": {
        "id": "KV2u6Ayw1mx3"
      },
      "source": [
        "You can pass extra arguments supported by matplotlib's functions. For example, we can create scatterplot and pass it a list of sizes using the `s` argument of matplotlib's `scatter()` function:"
      ]
    },
    {
      "cell_type": "code",
      "execution_count": 125,
      "metadata": {
        "id": "Clg9YHhd1mx3",
        "outputId": "fb1b3701-aa02-4230-963c-905eb909308d",
        "scrolled": true
      },
      "outputs": [
        {
          "data": {
            "image/png": "[encoded data removed]",
            "text/plain": [
              "<Figure size 640x480 with 1 Axes>"
            ]
          },
          "metadata": {},
          "output_type": "display_data"
        }
      ],
      "source": [
        "people.plot(kind=\"scatter\", x=\"height\", y=\"weight\", s=[40, 120, 200])\n",
        "plt.show()"
      ]
    },
    {
      "cell_type": "markdown",
      "metadata": {
        "id": "Y06btJRn1mx3"
      },
      "source": [
        "Again, there are way too many options to list here: the best option is to scroll through the [Visualization](https://pandas.pydata.org/pandas-docs/stable/user_guide/visualization.html) page in pandas' documentation, find the plot you are interested in and look at the example code."
      ]
    },
    {
      "cell_type": "markdown",
      "metadata": {
        "id": "rFo_I0LZ1mx3"
      },
      "source": [
        "## Operations on `DataFrame`s\n",
        "Although `DataFrame`s do not try to mimic NumPy arrays, there are a few similarities. Let's create a `DataFrame` to demonstrate this:"
      ]
    },
    {
      "cell_type": "code",
      "execution_count": 126,
      "metadata": {
        "id": "D2663o3o1mx3",
        "outputId": "6bdf3bfa-60c2-46d4-edc7-d556f4e8742a"
      },
      "outputs": [
        {
          "data": {
            "text/html": [
              "<div>\n",
              "<style scoped>\n",
              "    .dataframe tbody tr th:only-of-type {\n",
              "        vertical-align: middle;\n",
              "    }\n",
              "\n",
              "    .dataframe tbody tr th {\n",
              "        vertical-align: top;\n",
              "    }\n",
              "\n",
              "    .dataframe thead th {\n",
              "        text-align: right;\n",
              "    }\n",
              "</style>\n",
              "<table border=\"1\" class=\"dataframe\">\n",
              "  <thead>\n",
              "    <tr style=\"text-align: right;\">\n",
              "      <th></th>\n",
              "      <th>sep</th>\n",
              "      <th>oct</th>\n",
              "      <th>nov</th>\n",
              "    </tr>\n",
              "  </thead>\n",
              "  <tbody>\n",
              "    <tr>\n",
              "      <th>alice</th>\n",
              "      <td>8</td>\n",
              "      <td>8</td>\n",
              "      <td>9</td>\n",
              "    </tr>\n",
              "    <tr>\n",
              "      <th>bob</th>\n",
              "      <td>10</td>\n",
              "      <td>9</td>\n",
              "      <td>9</td>\n",
              "    </tr>\n",
              "    <tr>\n",
              "      <th>charles</th>\n",
              "      <td>4</td>\n",
              "      <td>8</td>\n",
              "      <td>2</td>\n",
              "    </tr>\n",
              "    <tr>\n",
              "      <th>darwin</th>\n",
              "      <td>9</td>\n",
              "      <td>10</td>\n",
              "      <td>10</td>\n",
              "    </tr>\n",
              "  </tbody>\n",
              "</table>\n",
              "</div>"
            ],
            "text/plain": [
              "         sep  oct  nov\n",
              "alice      8    8    9\n",
              "bob       10    9    9\n",
              "charles    4    8    2\n",
              "darwin     9   10   10"
            ]
          },
          "execution_count": 126,
          "metadata": {},
          "output_type": "execute_result"
        }
      ],
      "source": [
        "grades_array = np.array([[8, 8, 9], [10, 9, 9], [4, 8, 2], [9, 10, 10]])\n",
        "grades = pd.DataFrame(grades_array, columns=[\"sep\", \"oct\", \"nov\"], index=[\"alice\", \"bob\", \"charles\", \"darwin\"])\n",
        "grades"
      ]
    },
    {
      "cell_type": "markdown",
      "metadata": {
        "id": "PVCCdf3u1mx3"
      },
      "source": [
        "You can apply NumPy mathematical functions on a `DataFrame`: the function is applied to all values:"
      ]
    },
    {
      "cell_type": "code",
      "execution_count": 127,
      "metadata": {
        "id": "84kAueK21mx3",
        "outputId": "da5156d1-9749-4de8-e2bb-206e602bd04f"
      },
      "outputs": [
        {
          "data": {
            "text/html": [
              "<div>\n",
              "<style scoped>\n",
              "    .dataframe tbody tr th:only-of-type {\n",
              "        vertical-align: middle;\n",
              "    }\n",
              "\n",
              "    .dataframe tbody tr th {\n",
              "        vertical-align: top;\n",
              "    }\n",
              "\n",
              "    .dataframe thead th {\n",
              "        text-align: right;\n",
              "    }\n",
              "</style>\n",
              "<table border=\"1\" class=\"dataframe\">\n",
              "  <thead>\n",
              "    <tr style=\"text-align: right;\">\n",
              "      <th></th>\n",
              "      <th>sep</th>\n",
              "      <th>oct</th>\n",
              "      <th>nov</th>\n",
              "    </tr>\n",
              "  </thead>\n",
              "  <tbody>\n",
              "    <tr>\n",
              "      <th>alice</th>\n",
              "      <td>2.828427</td>\n",
              "      <td>2.828427</td>\n",
              "      <td>3.000000</td>\n",
              "    </tr>\n",
              "    <tr>\n",
              "      <th>bob</th>\n",
              "      <td>3.162278</td>\n",
              "      <td>3.000000</td>\n",
              "      <td>3.000000</td>\n",
              "    </tr>\n",
              "    <tr>\n",
              "      <th>charles</th>\n",
              "      <td>2.000000</td>\n",
              "      <td>2.828427</td>\n",
              "      <td>1.414214</td>\n",
              "    </tr>\n",
              "    <tr>\n",
              "      <th>darwin</th>\n",
              "      <td>3.000000</td>\n",
              "      <td>3.162278</td>\n",
              "      <td>3.162278</td>\n",
              "    </tr>\n",
              "  </tbody>\n",
              "</table>\n",
              "</div>"
            ],
            "text/plain": [
              "              sep       oct       nov\n",
              "alice    2.828427  2.828427  3.000000\n",
              "bob      3.162278  3.000000  3.000000\n",
              "charles  2.000000  2.828427  1.414214\n",
              "darwin   3.000000  3.162278  3.162278"
            ]
          },
          "execution_count": 127,
          "metadata": {},
          "output_type": "execute_result"
        }
      ],
      "source": [
        "np.sqrt(grades)"
      ]
    },
    {
      "cell_type": "markdown",
      "metadata": {
        "id": "SsI1bRPb1mx3"
      },
      "source": [
        "Similarly, adding a single value to a `DataFrame` will add that value to all elements in the `DataFrame`. This is called *broadcasting*:"
      ]
    },
    {
      "cell_type": "code",
      "execution_count": 128,
      "metadata": {
        "id": "o6c7XSR71mx3",
        "outputId": "cecd5c7a-6cf8-4994-bb62-ac811bf95c4f"
      },
      "outputs": [
        {
          "data": {
            "text/html": [
              "<div>\n",
              "<style scoped>\n",
              "    .dataframe tbody tr th:only-of-type {\n",
              "        vertical-align: middle;\n",
              "    }\n",
              "\n",
              "    .dataframe tbody tr th {\n",
              "        vertical-align: top;\n",
              "    }\n",
              "\n",
              "    .dataframe thead th {\n",
              "        text-align: right;\n",
              "    }\n",
              "</style>\n",
              "<table border=\"1\" class=\"dataframe\">\n",
              "  <thead>\n",
              "    <tr style=\"text-align: right;\">\n",
              "      <th></th>\n",
              "      <th>sep</th>\n",
              "      <th>oct</th>\n",
              "      <th>nov</th>\n",
              "    </tr>\n",
              "  </thead>\n",
              "  <tbody>\n",
              "    <tr>\n",
              "      <th>alice</th>\n",
              "      <td>9</td>\n",
              "      <td>9</td>\n",
              "      <td>10</td>\n",
              "    </tr>\n",
              "    <tr>\n",
              "      <th>bob</th>\n",
              "      <td>11</td>\n",
              "      <td>10</td>\n",
              "      <td>10</td>\n",
              "    </tr>\n",
              "    <tr>\n",
              "      <th>charles</th>\n",
              "      <td>5</td>\n",
              "      <td>9</td>\n",
              "      <td>3</td>\n",
              "    </tr>\n",
              "    <tr>\n",
              "      <th>darwin</th>\n",
              "      <td>10</td>\n",
              "      <td>11</td>\n",
              "      <td>11</td>\n",
              "    </tr>\n",
              "  </tbody>\n",
              "</table>\n",
              "</div>"
            ],
            "text/plain": [
              "         sep  oct  nov\n",
              "alice      9    9   10\n",
              "bob       11   10   10\n",
              "charles    5    9    3\n",
              "darwin    10   11   11"
            ]
          },
          "execution_count": 128,
          "metadata": {},
          "output_type": "execute_result"
        }
      ],
      "source": [
        "grades + 1"
      ]
    },
    {
      "cell_type": "markdown",
      "metadata": {
        "id": "nvPr5mad1mx4"
      },
      "source": [
        "Of course, the same is true for all other binary operations, including arithmetic (`*`,`/`,`**`...) and conditional (`>`, `==`...) operations:"
      ]
    },
    {
      "cell_type": "code",
      "execution_count": 129,
      "metadata": {
        "id": "AUbm4emS1mx4",
        "outputId": "f9b48124-5baf-48fc-dbbd-9cc543824e0c"
      },
      "outputs": [
        {
          "data": {
            "text/html": [
              "<div>\n",
              "<style scoped>\n",
              "    .dataframe tbody tr th:only-of-type {\n",
              "        vertical-align: middle;\n",
              "    }\n",
              "\n",
              "    .dataframe tbody tr th {\n",
              "        vertical-align: top;\n",
              "    }\n",
              "\n",
              "    .dataframe thead th {\n",
              "        text-align: right;\n",
              "    }\n",
              "</style>\n",
              "<table border=\"1\" class=\"dataframe\">\n",
              "  <thead>\n",
              "    <tr style=\"text-align: right;\">\n",
              "      <th></th>\n",
              "      <th>sep</th>\n",
              "      <th>oct</th>\n",
              "      <th>nov</th>\n",
              "    </tr>\n",
              "  </thead>\n",
              "  <tbody>\n",
              "    <tr>\n",
              "      <th>alice</th>\n",
              "      <td>True</td>\n",
              "      <td>True</td>\n",
              "      <td>True</td>\n",
              "    </tr>\n",
              "    <tr>\n",
              "      <th>bob</th>\n",
              "      <td>True</td>\n",
              "      <td>True</td>\n",
              "      <td>True</td>\n",
              "    </tr>\n",
              "    <tr>\n",
              "      <th>charles</th>\n",
              "      <td>False</td>\n",
              "      <td>True</td>\n",
              "      <td>False</td>\n",
              "    </tr>\n",
              "    <tr>\n",
              "      <th>darwin</th>\n",
              "      <td>True</td>\n",
              "      <td>True</td>\n",
              "      <td>True</td>\n",
              "    </tr>\n",
              "  </tbody>\n",
              "</table>\n",
              "</div>"
            ],
            "text/plain": [
              "           sep   oct    nov\n",
              "alice     True  True   True\n",
              "bob       True  True   True\n",
              "charles  False  True  False\n",
              "darwin    True  True   True"
            ]
          },
          "execution_count": 129,
          "metadata": {},
          "output_type": "execute_result"
        }
      ],
      "source": [
        "grades >= 5"
      ]
    },
    {
      "cell_type": "markdown",
      "metadata": {
        "id": "QXMGYxsj1mx4"
      },
      "source": [
        "Aggregation operations, such as computing the `max`, the `sum` or the `mean` of a `DataFrame`, apply to each column, and you get back a `Series` object:"
      ]
    },
    {
      "cell_type": "code",
      "execution_count": 130,
      "metadata": {
        "id": "MxlZ-mok1mx4",
        "outputId": "05ac115d-3714-48df-ea76-8526c6c4116b"
      },
      "outputs": [
        {
          "data": {
            "text/plain": [
              "sep    7.75\n",
              "oct    8.75\n",
              "nov    7.50\n",
              "dtype: float64"
            ]
          },
          "execution_count": 130,
          "metadata": {},
          "output_type": "execute_result"
        }
      ],
      "source": [
        "grades.mean()"
      ]
    },
    {
      "cell_type": "markdown",
      "metadata": {
        "id": "nkj2MP4z1mx4"
      },
      "source": [
        "The `all` method is also an aggregation operation: it checks whether all values are `True` or not. Let's see during which months all students got a grade greater than `5`:"
      ]
    },
    {
      "cell_type": "code",
      "execution_count": 131,
      "metadata": {
        "id": "aZSutVlG1mx4",
        "outputId": "7059738a-4198-40dd-a530-34c5b6ee5577"
      },
      "outputs": [
        {
          "data": {
            "text/plain": [
              "sep    False\n",
              "oct     True\n",
              "nov    False\n",
              "dtype: bool"
            ]
          },
          "execution_count": 131,
          "metadata": {},
          "output_type": "execute_result"
        }
      ],
      "source": [
        "(grades > 5).all()"
      ]
    },
    {
      "cell_type": "markdown",
      "metadata": {
        "id": "EVBFKxp51mx4"
      },
      "source": [
        "Most of these functions take an optional `axis` parameter which lets you specify along which axis of the `DataFrame` you want the operation executed. The default is `axis=0`, meaning that the operation is executed vertically (on each column). You can set `axis=1` to execute the operation horizontally (on each row). For example, let's find out which students had all grades greater than `5`:"
      ]
    },
    {
      "cell_type": "code",
      "execution_count": 132,
      "metadata": {
        "id": "hBgCf_771mx4",
        "outputId": "ebe251de-e3a6-4a68-ba4a-e361ed4f64b0"
      },
      "outputs": [
        {
          "data": {
            "text/plain": [
              "alice       True\n",
              "bob         True\n",
              "charles    False\n",
              "darwin      True\n",
              "dtype: bool"
            ]
          },
          "execution_count": 132,
          "metadata": {},
          "output_type": "execute_result"
        }
      ],
      "source": [
        "(grades > 5).all(axis=1)"
      ]
    },
    {
      "cell_type": "markdown",
      "metadata": {
        "id": "CUb2iuZ01mx4"
      },
      "source": [
        "The `any` method returns `True` if any value is True. Let's see who got at least one grade 10:"
      ]
    },
    {
      "cell_type": "code",
      "execution_count": 133,
      "metadata": {
        "id": "1ADjFKX71mx4",
        "outputId": "5d68ec4d-cfbd-4723-d033-c1658f6f4d09"
      },
      "outputs": [
        {
          "data": {
            "text/plain": [
              "alice      False\n",
              "bob         True\n",
              "charles    False\n",
              "darwin      True\n",
              "dtype: bool"
            ]
          },
          "execution_count": 133,
          "metadata": {},
          "output_type": "execute_result"
        }
      ],
      "source": [
        "(grades == 10).any(axis=1)"
      ]
    },
    {
      "cell_type": "markdown",
      "metadata": {
        "id": "X3Hiezgt1mx4"
      },
      "source": [
        "If you add a `Series` object to a `DataFrame` (or execute any other binary operation), pandas attempts to broadcast the operation to all *rows* in the `DataFrame`. This only works if the `Series` has the same size as the `DataFrame`s rows. For example, let's subtract the `mean` of the `DataFrame` (a `Series` object) from the `DataFrame`:"
      ]
    },
    {
      "cell_type": "code",
      "execution_count": 134,
      "metadata": {
        "id": "Cj_AnXT11mx4",
        "outputId": "242ce30f-cd63-48de-d6b0-ab645102fe7e"
      },
      "outputs": [
        {
          "data": {
            "text/html": [
              "<div>\n",
              "<style scoped>\n",
              "    .dataframe tbody tr th:only-of-type {\n",
              "        vertical-align: middle;\n",
              "    }\n",
              "\n",
              "    .dataframe tbody tr th {\n",
              "        vertical-align: top;\n",
              "    }\n",
              "\n",
              "    .dataframe thead th {\n",
              "        text-align: right;\n",
              "    }\n",
              "</style>\n",
              "<table border=\"1\" class=\"dataframe\">\n",
              "  <thead>\n",
              "    <tr style=\"text-align: right;\">\n",
              "      <th></th>\n",
              "      <th>sep</th>\n",
              "      <th>oct</th>\n",
              "      <th>nov</th>\n",
              "    </tr>\n",
              "  </thead>\n",
              "  <tbody>\n",
              "    <tr>\n",
              "      <th>alice</th>\n",
              "      <td>0.25</td>\n",
              "      <td>-0.75</td>\n",
              "      <td>1.5</td>\n",
              "    </tr>\n",
              "    <tr>\n",
              "      <th>bob</th>\n",
              "      <td>2.25</td>\n",
              "      <td>0.25</td>\n",
              "      <td>1.5</td>\n",
              "    </tr>\n",
              "    <tr>\n",
              "      <th>charles</th>\n",
              "      <td>-3.75</td>\n",
              "      <td>-0.75</td>\n",
              "      <td>-5.5</td>\n",
              "    </tr>\n",
              "    <tr>\n",
              "      <th>darwin</th>\n",
              "      <td>1.25</td>\n",
              "      <td>1.25</td>\n",
              "      <td>2.5</td>\n",
              "    </tr>\n",
              "  </tbody>\n",
              "</table>\n",
              "</div>"
            ],
            "text/plain": [
              "          sep   oct  nov\n",
              "alice    0.25 -0.75  1.5\n",
              "bob      2.25  0.25  1.5\n",
              "charles -3.75 -0.75 -5.5\n",
              "darwin   1.25  1.25  2.5"
            ]
          },
          "execution_count": 134,
          "metadata": {},
          "output_type": "execute_result"
        }
      ],
      "source": [
        "grades - grades.mean()  # equivalent to: grades - [7.75, 8.75, 7.50]"
      ]
    },
    {
      "cell_type": "markdown",
      "metadata": {
        "id": "BAg_aa5b1mx4"
      },
      "source": [
        "We subtracted `7.75` from all September grades, `8.75` from October grades and `7.50` from November grades. It is equivalent to subtracting this `DataFrame`:"
      ]
    },
    {
      "cell_type": "code",
      "execution_count": 135,
      "metadata": {
        "id": "AHrfv6Jq1mx4",
        "outputId": "47753b78-2edd-426c-99a3-c5973adad3b4"
      },
      "outputs": [
        {
          "data": {
            "text/html": [
              "<div>\n",
              "<style scoped>\n",
              "    .dataframe tbody tr th:only-of-type {\n",
              "        vertical-align: middle;\n",
              "    }\n",
              "\n",
              "    .dataframe tbody tr th {\n",
              "        vertical-align: top;\n",
              "    }\n",
              "\n",
              "    .dataframe thead th {\n",
              "        text-align: right;\n",
              "    }\n",
              "</style>\n",
              "<table border=\"1\" class=\"dataframe\">\n",
              "  <thead>\n",
              "    <tr style=\"text-align: right;\">\n",
              "      <th></th>\n",
              "      <th>sep</th>\n",
              "      <th>oct</th>\n",
              "      <th>nov</th>\n",
              "    </tr>\n",
              "  </thead>\n",
              "  <tbody>\n",
              "    <tr>\n",
              "      <th>alice</th>\n",
              "      <td>7.75</td>\n",
              "      <td>8.75</td>\n",
              "      <td>7.5</td>\n",
              "    </tr>\n",
              "    <tr>\n",
              "      <th>bob</th>\n",
              "      <td>7.75</td>\n",
              "      <td>8.75</td>\n",
              "      <td>7.5</td>\n",
              "    </tr>\n",
              "    <tr>\n",
              "      <th>charles</th>\n",
              "      <td>7.75</td>\n",
              "      <td>8.75</td>\n",
              "      <td>7.5</td>\n",
              "    </tr>\n",
              "    <tr>\n",
              "      <th>darwin</th>\n",
              "      <td>7.75</td>\n",
              "      <td>8.75</td>\n",
              "      <td>7.5</td>\n",
              "    </tr>\n",
              "  </tbody>\n",
              "</table>\n",
              "</div>"
            ],
            "text/plain": [
              "          sep   oct  nov\n",
              "alice    7.75  8.75  7.5\n",
              "bob      7.75  8.75  7.5\n",
              "charles  7.75  8.75  7.5\n",
              "darwin   7.75  8.75  7.5"
            ]
          },
          "execution_count": 135,
          "metadata": {},
          "output_type": "execute_result"
        }
      ],
      "source": [
        "pd.DataFrame([[7.75, 8.75, 7.50]]*4, index=grades.index, columns=grades.columns)"
      ]
    },
    {
      "cell_type": "markdown",
      "metadata": {
        "id": "B1z53f1f1mx4"
      },
      "source": [
        "If you want to subtract the global mean from every grade, here is one way to do it:"
      ]
    },
    {
      "cell_type": "code",
      "execution_count": 136,
      "metadata": {
        "id": "wVmnJWfX1mx4",
        "outputId": "fa1b897f-168b-44c4-9ff9-50b7d9297973",
        "scrolled": true
      },
      "outputs": [
        {
          "data": {
            "text/html": [
              "<div>\n",
              "<style scoped>\n",
              "    .dataframe tbody tr th:only-of-type {\n",
              "        vertical-align: middle;\n",
              "    }\n",
              "\n",
              "    .dataframe tbody tr th {\n",
              "        vertical-align: top;\n",
              "    }\n",
              "\n",
              "    .dataframe thead th {\n",
              "        text-align: right;\n",
              "    }\n",
              "</style>\n",
              "<table border=\"1\" class=\"dataframe\">\n",
              "  <thead>\n",
              "    <tr style=\"text-align: right;\">\n",
              "      <th></th>\n",
              "      <th>sep</th>\n",
              "      <th>oct</th>\n",
              "      <th>nov</th>\n",
              "    </tr>\n",
              "  </thead>\n",
              "  <tbody>\n",
              "    <tr>\n",
              "      <th>alice</th>\n",
              "      <td>0.0</td>\n",
              "      <td>0.0</td>\n",
              "      <td>1.0</td>\n",
              "    </tr>\n",
              "    <tr>\n",
              "      <th>bob</th>\n",
              "      <td>2.0</td>\n",
              "      <td>1.0</td>\n",
              "      <td>1.0</td>\n",
              "    </tr>\n",
              "    <tr>\n",
              "      <th>charles</th>\n",
              "      <td>-4.0</td>\n",
              "      <td>0.0</td>\n",
              "      <td>-6.0</td>\n",
              "    </tr>\n",
              "    <tr>\n",
              "      <th>darwin</th>\n",
              "      <td>1.0</td>\n",
              "      <td>2.0</td>\n",
              "      <td>2.0</td>\n",
              "    </tr>\n",
              "  </tbody>\n",
              "</table>\n",
              "</div>"
            ],
            "text/plain": [
              "         sep  oct  nov\n",
              "alice    0.0  0.0  1.0\n",
              "bob      2.0  1.0  1.0\n",
              "charles -4.0  0.0 -6.0\n",
              "darwin   1.0  2.0  2.0"
            ]
          },
          "execution_count": 136,
          "metadata": {},
          "output_type": "execute_result"
        }
      ],
      "source": [
        "grades - grades.values.mean() # subtracts the global mean (8.00) from all grades"
      ]
    },
    {
      "cell_type": "markdown",
      "metadata": {
        "id": "k0_51g2r1mx5"
      },
      "source": [
        "## Automatic alignment\n",
        "Similar to `Series`, when operating on multiple `DataFrame`s, pandas automatically aligns them by row index label, but also by column names. Let's create a `DataFrame` with bonus points for each person from October to December:"
      ]
    },
    {
      "cell_type": "code",
      "execution_count": 137,
      "metadata": {
        "id": "qGS1BDHp1mx5",
        "outputId": "4cc42878-e2e6-4e20-89a2-0353efc9e756"
      },
      "outputs": [
        {
          "data": {
            "text/html": [
              "<div>\n",
              "<style scoped>\n",
              "    .dataframe tbody tr th:only-of-type {\n",
              "        vertical-align: middle;\n",
              "    }\n",
              "\n",
              "    .dataframe tbody tr th {\n",
              "        vertical-align: top;\n",
              "    }\n",
              "\n",
              "    .dataframe thead th {\n",
              "        text-align: right;\n",
              "    }\n",
              "</style>\n",
              "<table border=\"1\" class=\"dataframe\">\n",
              "  <thead>\n",
              "    <tr style=\"text-align: right;\">\n",
              "      <th></th>\n",
              "      <th>oct</th>\n",
              "      <th>nov</th>\n",
              "      <th>dec</th>\n",
              "    </tr>\n",
              "  </thead>\n",
              "  <tbody>\n",
              "    <tr>\n",
              "      <th>bob</th>\n",
              "      <td>0.0</td>\n",
              "      <td>NaN</td>\n",
              "      <td>2.0</td>\n",
              "    </tr>\n",
              "    <tr>\n",
              "      <th>colin</th>\n",
              "      <td>NaN</td>\n",
              "      <td>1.0</td>\n",
              "      <td>0.0</td>\n",
              "    </tr>\n",
              "    <tr>\n",
              "      <th>darwin</th>\n",
              "      <td>0.0</td>\n",
              "      <td>1.0</td>\n",
              "      <td>0.0</td>\n",
              "    </tr>\n",
              "    <tr>\n",
              "      <th>charles</th>\n",
              "      <td>3.0</td>\n",
              "      <td>3.0</td>\n",
              "      <td>0.0</td>\n",
              "    </tr>\n",
              "  </tbody>\n",
              "</table>\n",
              "</div>"
            ],
            "text/plain": [
              "         oct  nov  dec\n",
              "bob      0.0  NaN  2.0\n",
              "colin    NaN  1.0  0.0\n",
              "darwin   0.0  1.0  0.0\n",
              "charles  3.0  3.0  0.0"
            ]
          },
          "execution_count": 137,
          "metadata": {},
          "output_type": "execute_result"
        }
      ],
      "source": [
        "bonus_array = np.array([[0, np.nan, 2], [np.nan, 1, 0], [0, 1, 0], [3, 3, 0]])\n",
        "bonus_points = pd.DataFrame(bonus_array, columns=[\"oct\", \"nov\", \"dec\"], index=[\"bob\", \"colin\", \"darwin\", \"charles\"])\n",
        "bonus_points"
      ]
    },
    {
      "cell_type": "code",
      "execution_count": 138,
      "metadata": {
        "id": "M7DLCwa71mx5",
        "outputId": "f6c1e1a9-25b6-42ae-dbc5-6f76585a8bd0",
        "scrolled": true
      },
      "outputs": [
        {
          "data": {
            "text/html": [
              "<div>\n",
              "<style scoped>\n",
              "    .dataframe tbody tr th:only-of-type {\n",
              "        vertical-align: middle;\n",
              "    }\n",
              "\n",
              "    .dataframe tbody tr th {\n",
              "        vertical-align: top;\n",
              "    }\n",
              "\n",
              "    .dataframe thead th {\n",
              "        text-align: right;\n",
              "    }\n",
              "</style>\n",
              "<table border=\"1\" class=\"dataframe\">\n",
              "  <thead>\n",
              "    <tr style=\"text-align: right;\">\n",
              "      <th></th>\n",
              "      <th>dec</th>\n",
              "      <th>nov</th>\n",
              "      <th>oct</th>\n",
              "      <th>sep</th>\n",
              "    </tr>\n",
              "  </thead>\n",
              "  <tbody>\n",
              "    <tr>\n",
              "      <th>alice</th>\n",
              "      <td>NaN</td>\n",
              "      <td>NaN</td>\n",
              "      <td>NaN</td>\n",
              "      <td>NaN</td>\n",
              "    </tr>\n",
              "    <tr>\n",
              "      <th>bob</th>\n",
              "      <td>NaN</td>\n",
              "      <td>NaN</td>\n",
              "      <td>9.0</td>\n",
              "      <td>NaN</td>\n",
              "    </tr>\n",
              "    <tr>\n",
              "      <th>charles</th>\n",
              "      <td>NaN</td>\n",
              "      <td>5.0</td>\n",
              "      <td>11.0</td>\n",
              "      <td>NaN</td>\n",
              "    </tr>\n",
              "    <tr>\n",
              "      <th>colin</th>\n",
              "      <td>NaN</td>\n",
              "      <td>NaN</td>\n",
              "      <td>NaN</td>\n",
              "      <td>NaN</td>\n",
              "    </tr>\n",
              "    <tr>\n",
              "      <th>darwin</th>\n",
              "      <td>NaN</td>\n",
              "      <td>11.0</td>\n",
              "      <td>10.0</td>\n",
              "      <td>NaN</td>\n",
              "    </tr>\n",
              "  </tbody>\n",
              "</table>\n",
              "</div>"
            ],
            "text/plain": [
              "         dec   nov   oct  sep\n",
              "alice    NaN   NaN   NaN  NaN\n",
              "bob      NaN   NaN   9.0  NaN\n",
              "charles  NaN   5.0  11.0  NaN\n",
              "colin    NaN   NaN   NaN  NaN\n",
              "darwin   NaN  11.0  10.0  NaN"
            ]
          },
          "execution_count": 138,
          "metadata": {},
          "output_type": "execute_result"
        }
      ],
      "source": [
        "grades + bonus_points"
      ]
    },
    {
      "cell_type": "markdown",
      "metadata": {
        "id": "VVFy2qM21mx5"
      },
      "source": [
        "Looks like the addition worked in some cases but way too many elements are now empty. That's because when aligning the `DataFrame`s, some columns and rows were only present on one side, and thus they were considered missing on the other side (`NaN`). Then adding `NaN` to a number results in `NaN`, hence the result.\n",
        "\n",
        "## Handling missing data\n",
        "Dealing with missing data is a frequent task when working with real life data. Pandas offers a few tools to handle missing data.\n",
        "\n",
        "Let's try to fix the problem above. For example, we can decide that missing data should result in a zero, instead of `NaN`. We can replace all `NaN` values by any value using the `fillna()` method:"
      ]
    },
    {
      "cell_type": "code",
      "execution_count": 139,
      "metadata": {
        "id": "2TgTp2e61mx5",
        "outputId": "77480955-5026-46b5-8745-f95f376f9d3a",
        "scrolled": true
      },
      "outputs": [
        {
          "data": {
            "text/html": [
              "<div>\n",
              "<style scoped>\n",
              "    .dataframe tbody tr th:only-of-type {\n",
              "        vertical-align: middle;\n",
              "    }\n",
              "\n",
              "    .dataframe tbody tr th {\n",
              "        vertical-align: top;\n",
              "    }\n",
              "\n",
              "    .dataframe thead th {\n",
              "        text-align: right;\n",
              "    }\n",
              "</style>\n",
              "<table border=\"1\" class=\"dataframe\">\n",
              "  <thead>\n",
              "    <tr style=\"text-align: right;\">\n",
              "      <th></th>\n",
              "      <th>dec</th>\n",
              "      <th>nov</th>\n",
              "      <th>oct</th>\n",
              "      <th>sep</th>\n",
              "    </tr>\n",
              "  </thead>\n",
              "  <tbody>\n",
              "    <tr>\n",
              "      <th>alice</th>\n",
              "      <td>0.0</td>\n",
              "      <td>0.0</td>\n",
              "      <td>0.0</td>\n",
              "      <td>0.0</td>\n",
              "    </tr>\n",
              "    <tr>\n",
              "      <th>bob</th>\n",
              "      <td>0.0</td>\n",
              "      <td>0.0</td>\n",
              "      <td>9.0</td>\n",
              "      <td>0.0</td>\n",
              "    </tr>\n",
              "    <tr>\n",
              "      <th>charles</th>\n",
              "      <td>0.0</td>\n",
              "      <td>5.0</td>\n",
              "      <td>11.0</td>\n",
              "      <td>0.0</td>\n",
              "    </tr>\n",
              "    <tr>\n",
              "      <th>colin</th>\n",
              "      <td>0.0</td>\n",
              "      <td>0.0</td>\n",
              "      <td>0.0</td>\n",
              "      <td>0.0</td>\n",
              "    </tr>\n",
              "    <tr>\n",
              "      <th>darwin</th>\n",
              "      <td>0.0</td>\n",
              "      <td>11.0</td>\n",
              "      <td>10.0</td>\n",
              "      <td>0.0</td>\n",
              "    </tr>\n",
              "  </tbody>\n",
              "</table>\n",
              "</div>"
            ],
            "text/plain": [
              "         dec   nov   oct  sep\n",
              "alice    0.0   0.0   0.0  0.0\n",
              "bob      0.0   0.0   9.0  0.0\n",
              "charles  0.0   5.0  11.0  0.0\n",
              "colin    0.0   0.0   0.0  0.0\n",
              "darwin   0.0  11.0  10.0  0.0"
            ]
          },
          "execution_count": 139,
          "metadata": {},
          "output_type": "execute_result"
        }
      ],
      "source": [
        "(grades + bonus_points).fillna(0)"
      ]
    },
    {
      "cell_type": "markdown",
      "metadata": {
        "id": "9ov2RA_71mx5"
      },
      "source": [
        "It's a bit unfair that we're setting grades to zero in September, though. Perhaps we should decide that missing grades are missing grades, but missing bonus points should be replaced by zeros:"
      ]
    },
    {
      "cell_type": "code",
      "execution_count": 140,
      "metadata": {
        "id": "R6gtA4Ww1mx5",
        "outputId": "c981adce-250e-459b-bba5-a1dab09be379"
      },
      "outputs": [
        {
          "data": {
            "text/html": [
              "<div>\n",
              "<style scoped>\n",
              "    .dataframe tbody tr th:only-of-type {\n",
              "        vertical-align: middle;\n",
              "    }\n",
              "\n",
              "    .dataframe tbody tr th {\n",
              "        vertical-align: top;\n",
              "    }\n",
              "\n",
              "    .dataframe thead th {\n",
              "        text-align: right;\n",
              "    }\n",
              "</style>\n",
              "<table border=\"1\" class=\"dataframe\">\n",
              "  <thead>\n",
              "    <tr style=\"text-align: right;\">\n",
              "      <th></th>\n",
              "      <th>dec</th>\n",
              "      <th>nov</th>\n",
              "      <th>oct</th>\n",
              "      <th>sep</th>\n",
              "    </tr>\n",
              "  </thead>\n",
              "  <tbody>\n",
              "    <tr>\n",
              "      <th>alice</th>\n",
              "      <td>NaN</td>\n",
              "      <td>9.0</td>\n",
              "      <td>8.0</td>\n",
              "      <td>8.0</td>\n",
              "    </tr>\n",
              "    <tr>\n",
              "      <th>bob</th>\n",
              "      <td>NaN</td>\n",
              "      <td>9.0</td>\n",
              "      <td>9.0</td>\n",
              "      <td>10.0</td>\n",
              "    </tr>\n",
              "    <tr>\n",
              "      <th>charles</th>\n",
              "      <td>NaN</td>\n",
              "      <td>5.0</td>\n",
              "      <td>11.0</td>\n",
              "      <td>4.0</td>\n",
              "    </tr>\n",
              "    <tr>\n",
              "      <th>colin</th>\n",
              "      <td>NaN</td>\n",
              "      <td>NaN</td>\n",
              "      <td>NaN</td>\n",
              "      <td>NaN</td>\n",
              "    </tr>\n",
              "    <tr>\n",
              "      <th>darwin</th>\n",
              "      <td>NaN</td>\n",
              "      <td>11.0</td>\n",
              "      <td>10.0</td>\n",
              "      <td>9.0</td>\n",
              "    </tr>\n",
              "  </tbody>\n",
              "</table>\n",
              "</div>"
            ],
            "text/plain": [
              "         dec   nov   oct   sep\n",
              "alice    NaN   9.0   8.0   8.0\n",
              "bob      NaN   9.0   9.0  10.0\n",
              "charles  NaN   5.0  11.0   4.0\n",
              "colin    NaN   NaN   NaN   NaN\n",
              "darwin   NaN  11.0  10.0   9.0"
            ]
          },
          "execution_count": 140,
          "metadata": {},
          "output_type": "execute_result"
        }
      ],
      "source": [
        "fixed_bonus_points = bonus_points.fillna(0)\n",
        "fixed_bonus_points.insert(0, \"sep\", 0)\n",
        "fixed_bonus_points.loc[\"alice\"] = 0\n",
        "grades + fixed_bonus_points"
      ]
    },
    {
      "cell_type": "markdown",
      "metadata": {
        "id": "kXAbEu8j1mx5"
      },
      "source": [
        "That's much better: although we made up some data, we have not been too unfair.\n",
        "\n",
        "Another way to handle missing data is to interpolate. Let's look at the `bonus_points` `DataFrame` again:"
      ]
    },
    {
      "cell_type": "code",
      "execution_count": 141,
      "metadata": {
        "id": "kPy2AFBM1mx5",
        "outputId": "715d32af-dcd7-4dad-b197-12931c10ae67"
      },
      "outputs": [
        {
          "data": {
            "text/html": [
              "<div>\n",
              "<style scoped>\n",
              "    .dataframe tbody tr th:only-of-type {\n",
              "        vertical-align: middle;\n",
              "    }\n",
              "\n",
              "    .dataframe tbody tr th {\n",
              "        vertical-align: top;\n",
              "    }\n",
              "\n",
              "    .dataframe thead th {\n",
              "        text-align: right;\n",
              "    }\n",
              "</style>\n",
              "<table border=\"1\" class=\"dataframe\">\n",
              "  <thead>\n",
              "    <tr style=\"text-align: right;\">\n",
              "      <th></th>\n",
              "      <th>oct</th>\n",
              "      <th>nov</th>\n",
              "      <th>dec</th>\n",
              "    </tr>\n",
              "  </thead>\n",
              "  <tbody>\n",
              "    <tr>\n",
              "      <th>bob</th>\n",
              "      <td>0.0</td>\n",
              "      <td>NaN</td>\n",
              "      <td>2.0</td>\n",
              "    </tr>\n",
              "    <tr>\n",
              "      <th>colin</th>\n",
              "      <td>NaN</td>\n",
              "      <td>1.0</td>\n",
              "      <td>0.0</td>\n",
              "    </tr>\n",
              "    <tr>\n",
              "      <th>darwin</th>\n",
              "      <td>0.0</td>\n",
              "      <td>1.0</td>\n",
              "      <td>0.0</td>\n",
              "    </tr>\n",
              "    <tr>\n",
              "      <th>charles</th>\n",
              "      <td>3.0</td>\n",
              "      <td>3.0</td>\n",
              "      <td>0.0</td>\n",
              "    </tr>\n",
              "  </tbody>\n",
              "</table>\n",
              "</div>"
            ],
            "text/plain": [
              "         oct  nov  dec\n",
              "bob      0.0  NaN  2.0\n",
              "colin    NaN  1.0  0.0\n",
              "darwin   0.0  1.0  0.0\n",
              "charles  3.0  3.0  0.0"
            ]
          },
          "execution_count": 141,
          "metadata": {},
          "output_type": "execute_result"
        }
      ],
      "source": [
        "bonus_points"
      ]
    },
    {
      "cell_type": "markdown",
      "metadata": {
        "id": "PwtgouTE1mx5"
      },
      "source": [
        "Now let's call the `interpolate` method. By default, it interpolates vertically (`axis=0`), so let's tell it to interpolate horizontally (`axis=1`)."
      ]
    },
    {
      "cell_type": "code",
      "execution_count": 142,
      "metadata": {
        "id": "BXemcNFz1mx5",
        "outputId": "7c3d5151-b26a-4ba7-db13-aae35706e031"
      },
      "outputs": [
        {
          "data": {
            "text/html": [
              "<div>\n",
              "<style scoped>\n",
              "    .dataframe tbody tr th:only-of-type {\n",
              "        vertical-align: middle;\n",
              "    }\n",
              "\n",
              "    .dataframe tbody tr th {\n",
              "        vertical-align: top;\n",
              "    }\n",
              "\n",
              "    .dataframe thead th {\n",
              "        text-align: right;\n",
              "    }\n",
              "</style>\n",
              "<table border=\"1\" class=\"dataframe\">\n",
              "  <thead>\n",
              "    <tr style=\"text-align: right;\">\n",
              "      <th></th>\n",
              "      <th>oct</th>\n",
              "      <th>nov</th>\n",
              "      <th>dec</th>\n",
              "    </tr>\n",
              "  </thead>\n",
              "  <tbody>\n",
              "    <tr>\n",
              "      <th>bob</th>\n",
              "      <td>0.0</td>\n",
              "      <td>1.0</td>\n",
              "      <td>2.0</td>\n",
              "    </tr>\n",
              "    <tr>\n",
              "      <th>colin</th>\n",
              "      <td>NaN</td>\n",
              "      <td>1.0</td>\n",
              "      <td>0.0</td>\n",
              "    </tr>\n",
              "    <tr>\n",
              "      <th>darwin</th>\n",
              "      <td>0.0</td>\n",
              "      <td>1.0</td>\n",
              "      <td>0.0</td>\n",
              "    </tr>\n",
              "    <tr>\n",
              "      <th>charles</th>\n",
              "      <td>3.0</td>\n",
              "      <td>3.0</td>\n",
              "      <td>0.0</td>\n",
              "    </tr>\n",
              "  </tbody>\n",
              "</table>\n",
              "</div>"
            ],
            "text/plain": [
              "         oct  nov  dec\n",
              "bob      0.0  1.0  2.0\n",
              "colin    NaN  1.0  0.0\n",
              "darwin   0.0  1.0  0.0\n",
              "charles  3.0  3.0  0.0"
            ]
          },
          "execution_count": 142,
          "metadata": {},
          "output_type": "execute_result"
        }
      ],
      "source": [
        "bonus_points.interpolate(axis=1)"
      ]
    },
    {
      "cell_type": "markdown",
      "metadata": {
        "id": "8aOgRdt-1mx5"
      },
      "source": [
        "Bob had 0 bonus points in October, and 2 in December. When we interpolate for November, we get the mean: 1 bonus point. Colin had 1 bonus point in November, but we do not know how many bonus points he had in September, so we cannot interpolate, this is why there is still a missing value in October after interpolation. To fix this, we can set the September bonus points to 0 before interpolation."
      ]
    },
    {
      "cell_type": "code",
      "execution_count": 143,
      "metadata": {
        "id": "m_xCXFXn1mx5",
        "outputId": "b9929882-0d36-4a13-dee2-790837b12548"
      },
      "outputs": [
        {
          "data": {
            "text/html": [
              "<div>\n",
              "<style scoped>\n",
              "    .dataframe tbody tr th:only-of-type {\n",
              "        vertical-align: middle;\n",
              "    }\n",
              "\n",
              "    .dataframe tbody tr th {\n",
              "        vertical-align: top;\n",
              "    }\n",
              "\n",
              "    .dataframe thead th {\n",
              "        text-align: right;\n",
              "    }\n",
              "</style>\n",
              "<table border=\"1\" class=\"dataframe\">\n",
              "  <thead>\n",
              "    <tr style=\"text-align: right;\">\n",
              "      <th></th>\n",
              "      <th>sep</th>\n",
              "      <th>oct</th>\n",
              "      <th>nov</th>\n",
              "      <th>dec</th>\n",
              "    </tr>\n",
              "  </thead>\n",
              "  <tbody>\n",
              "    <tr>\n",
              "      <th>bob</th>\n",
              "      <td>0.0</td>\n",
              "      <td>0.0</td>\n",
              "      <td>1.0</td>\n",
              "      <td>2.0</td>\n",
              "    </tr>\n",
              "    <tr>\n",
              "      <th>colin</th>\n",
              "      <td>0.0</td>\n",
              "      <td>0.5</td>\n",
              "      <td>1.0</td>\n",
              "      <td>0.0</td>\n",
              "    </tr>\n",
              "    <tr>\n",
              "      <th>darwin</th>\n",
              "      <td>0.0</td>\n",
              "      <td>0.0</td>\n",
              "      <td>1.0</td>\n",
              "      <td>0.0</td>\n",
              "    </tr>\n",
              "    <tr>\n",
              "      <th>charles</th>\n",
              "      <td>0.0</td>\n",
              "      <td>3.0</td>\n",
              "      <td>3.0</td>\n",
              "      <td>0.0</td>\n",
              "    </tr>\n",
              "    <tr>\n",
              "      <th>alice</th>\n",
              "      <td>0.0</td>\n",
              "      <td>0.0</td>\n",
              "      <td>0.0</td>\n",
              "      <td>0.0</td>\n",
              "    </tr>\n",
              "  </tbody>\n",
              "</table>\n",
              "</div>"
            ],
            "text/plain": [
              "         sep  oct  nov  dec\n",
              "bob      0.0  0.0  1.0  2.0\n",
              "colin    0.0  0.5  1.0  0.0\n",
              "darwin   0.0  0.0  1.0  0.0\n",
              "charles  0.0  3.0  3.0  0.0\n",
              "alice    0.0  0.0  0.0  0.0"
            ]
          },
          "execution_count": 143,
          "metadata": {},
          "output_type": "execute_result"
        }
      ],
      "source": [
        "better_bonus_points = bonus_points.copy()\n",
        "better_bonus_points.insert(0, \"sep\", 0)\n",
        "better_bonus_points.loc[\"alice\"] = 0\n",
        "better_bonus_points = better_bonus_points.interpolate(axis=1)\n",
        "better_bonus_points"
      ]
    },
    {
      "cell_type": "markdown",
      "metadata": {
        "id": "w3uQx-4s1mx5"
      },
      "source": [
        "Great, now we have reasonable bonus points everywhere. Let's find out the final grades:"
      ]
    },
    {
      "cell_type": "code",
      "execution_count": 144,
      "metadata": {
        "id": "O_pwI0NN1mx5",
        "outputId": "972d9614-819b-4e46-d87b-7c186d676c70"
      },
      "outputs": [
        {
          "data": {
            "text/html": [
              "<div>\n",
              "<style scoped>\n",
              "    .dataframe tbody tr th:only-of-type {\n",
              "        vertical-align: middle;\n",
              "    }\n",
              "\n",
              "    .dataframe tbody tr th {\n",
              "        vertical-align: top;\n",
              "    }\n",
              "\n",
              "    .dataframe thead th {\n",
              "        text-align: right;\n",
              "    }\n",
              "</style>\n",
              "<table border=\"1\" class=\"dataframe\">\n",
              "  <thead>\n",
              "    <tr style=\"text-align: right;\">\n",
              "      <th></th>\n",
              "      <th>dec</th>\n",
              "      <th>nov</th>\n",
              "      <th>oct</th>\n",
              "      <th>sep</th>\n",
              "    </tr>\n",
              "  </thead>\n",
              "  <tbody>\n",
              "    <tr>\n",
              "      <th>alice</th>\n",
              "      <td>NaN</td>\n",
              "      <td>9.0</td>\n",
              "      <td>8.0</td>\n",
              "      <td>8.0</td>\n",
              "    </tr>\n",
              "    <tr>\n",
              "      <th>bob</th>\n",
              "      <td>NaN</td>\n",
              "      <td>10.0</td>\n",
              "      <td>9.0</td>\n",
              "      <td>10.0</td>\n",
              "    </tr>\n",
              "    <tr>\n",
              "      <th>charles</th>\n",
              "      <td>NaN</td>\n",
              "      <td>5.0</td>\n",
              "      <td>11.0</td>\n",
              "      <td>4.0</td>\n",
              "    </tr>\n",
              "    <tr>\n",
              "      <th>colin</th>\n",
              "      <td>NaN</td>\n",
              "      <td>NaN</td>\n",
              "      <td>NaN</td>\n",
              "      <td>NaN</td>\n",
              "    </tr>\n",
              "    <tr>\n",
              "      <th>darwin</th>\n",
              "      <td>NaN</td>\n",
              "      <td>11.0</td>\n",
              "      <td>10.0</td>\n",
              "      <td>9.0</td>\n",
              "    </tr>\n",
              "  </tbody>\n",
              "</table>\n",
              "</div>"
            ],
            "text/plain": [
              "         dec   nov   oct   sep\n",
              "alice    NaN   9.0   8.0   8.0\n",
              "bob      NaN  10.0   9.0  10.0\n",
              "charles  NaN   5.0  11.0   4.0\n",
              "colin    NaN   NaN   NaN   NaN\n",
              "darwin   NaN  11.0  10.0   9.0"
            ]
          },
          "execution_count": 144,
          "metadata": {},
          "output_type": "execute_result"
        }
      ],
      "source": [
        "grades + better_bonus_points"
      ]
    },
    {
      "cell_type": "markdown",
      "metadata": {
        "id": "6YycoUmE1mx5"
      },
      "source": [
        "It is slightly annoying that the September column ends up on the right. This is because the `DataFrame`s we are adding do not have the exact same columns (the `grades` `DataFrame` is missing the `\"dec\"` column), so to make things predictable, pandas orders the final columns alphabetically. To fix this, we can simply add the missing column before adding:"
      ]
    },
    {
      "cell_type": "code",
      "execution_count": 145,
      "metadata": {
        "id": "atXWJ7Rb1mx5",
        "outputId": "37c8dcf1-9110-4899-fb40-efbf92cd3cea",
        "scrolled": true
      },
      "outputs": [
        {
          "data": {
            "text/html": [
              "<div>\n",
              "<style scoped>\n",
              "    .dataframe tbody tr th:only-of-type {\n",
              "        vertical-align: middle;\n",
              "    }\n",
              "\n",
              "    .dataframe tbody tr th {\n",
              "        vertical-align: top;\n",
              "    }\n",
              "\n",
              "    .dataframe thead th {\n",
              "        text-align: right;\n",
              "    }\n",
              "</style>\n",
              "<table border=\"1\" class=\"dataframe\">\n",
              "  <thead>\n",
              "    <tr style=\"text-align: right;\">\n",
              "      <th></th>\n",
              "      <th>sep</th>\n",
              "      <th>oct</th>\n",
              "      <th>nov</th>\n",
              "      <th>dec</th>\n",
              "    </tr>\n",
              "  </thead>\n",
              "  <tbody>\n",
              "    <tr>\n",
              "      <th>alice</th>\n",
              "      <td>8.0</td>\n",
              "      <td>8.0</td>\n",
              "      <td>9.0</td>\n",
              "      <td>NaN</td>\n",
              "    </tr>\n",
              "    <tr>\n",
              "      <th>bob</th>\n",
              "      <td>10.0</td>\n",
              "      <td>9.0</td>\n",
              "      <td>10.0</td>\n",
              "      <td>NaN</td>\n",
              "    </tr>\n",
              "    <tr>\n",
              "      <th>charles</th>\n",
              "      <td>4.0</td>\n",
              "      <td>11.0</td>\n",
              "      <td>5.0</td>\n",
              "      <td>NaN</td>\n",
              "    </tr>\n",
              "    <tr>\n",
              "      <th>colin</th>\n",
              "      <td>NaN</td>\n",
              "      <td>NaN</td>\n",
              "      <td>NaN</td>\n",
              "      <td>NaN</td>\n",
              "    </tr>\n",
              "    <tr>\n",
              "      <th>darwin</th>\n",
              "      <td>9.0</td>\n",
              "      <td>10.0</td>\n",
              "      <td>11.0</td>\n",
              "      <td>NaN</td>\n",
              "    </tr>\n",
              "  </tbody>\n",
              "</table>\n",
              "</div>"
            ],
            "text/plain": [
              "          sep   oct   nov  dec\n",
              "alice     8.0   8.0   9.0  NaN\n",
              "bob      10.0   9.0  10.0  NaN\n",
              "charles   4.0  11.0   5.0  NaN\n",
              "colin     NaN   NaN   NaN  NaN\n",
              "darwin    9.0  10.0  11.0  NaN"
            ]
          },
          "execution_count": 145,
          "metadata": {},
          "output_type": "execute_result"
        }
      ],
      "source": [
        "grades[\"dec\"] = np.nan\n",
        "final_grades = grades + better_bonus_points\n",
        "final_grades"
      ]
    },
    {
      "cell_type": "markdown",
      "metadata": {
        "id": "QFR7rdjv1mx5"
      },
      "source": [
        "There's not much we can do about December and Colin: it's bad enough that we are making up bonus points, but we can't reasonably make up grades (well, I guess some teachers probably do). So let's call the `dropna()` method to get rid of rows that are full of `NaN`s:"
      ]
    },
    {
      "cell_type": "code",
      "execution_count": 146,
      "metadata": {
        "id": "8uTP2SdZ1mx5",
        "outputId": "d3f5906a-a14c-416c-ba20-69ea4a4d80d1"
      },
      "outputs": [
        {
          "data": {
            "text/html": [
              "<div>\n",
              "<style scoped>\n",
              "    .dataframe tbody tr th:only-of-type {\n",
              "        vertical-align: middle;\n",
              "    }\n",
              "\n",
              "    .dataframe tbody tr th {\n",
              "        vertical-align: top;\n",
              "    }\n",
              "\n",
              "    .dataframe thead th {\n",
              "        text-align: right;\n",
              "    }\n",
              "</style>\n",
              "<table border=\"1\" class=\"dataframe\">\n",
              "  <thead>\n",
              "    <tr style=\"text-align: right;\">\n",
              "      <th></th>\n",
              "      <th>sep</th>\n",
              "      <th>oct</th>\n",
              "      <th>nov</th>\n",
              "      <th>dec</th>\n",
              "    </tr>\n",
              "  </thead>\n",
              "  <tbody>\n",
              "    <tr>\n",
              "      <th>alice</th>\n",
              "      <td>8.0</td>\n",
              "      <td>8.0</td>\n",
              "      <td>9.0</td>\n",
              "      <td>NaN</td>\n",
              "    </tr>\n",
              "    <tr>\n",
              "      <th>bob</th>\n",
              "      <td>10.0</td>\n",
              "      <td>9.0</td>\n",
              "      <td>10.0</td>\n",
              "      <td>NaN</td>\n",
              "    </tr>\n",
              "    <tr>\n",
              "      <th>charles</th>\n",
              "      <td>4.0</td>\n",
              "      <td>11.0</td>\n",
              "      <td>5.0</td>\n",
              "      <td>NaN</td>\n",
              "    </tr>\n",
              "    <tr>\n",
              "      <th>darwin</th>\n",
              "      <td>9.0</td>\n",
              "      <td>10.0</td>\n",
              "      <td>11.0</td>\n",
              "      <td>NaN</td>\n",
              "    </tr>\n",
              "  </tbody>\n",
              "</table>\n",
              "</div>"
            ],
            "text/plain": [
              "          sep   oct   nov  dec\n",
              "alice     8.0   8.0   9.0  NaN\n",
              "bob      10.0   9.0  10.0  NaN\n",
              "charles   4.0  11.0   5.0  NaN\n",
              "darwin    9.0  10.0  11.0  NaN"
            ]
          },
          "execution_count": 146,
          "metadata": {},
          "output_type": "execute_result"
        }
      ],
      "source": [
        "final_grades_clean = final_grades.dropna(how=\"all\")\n",
        "final_grades_clean"
      ]
    },
    {
      "cell_type": "markdown",
      "metadata": {
        "id": "4rte2V2d1mx6"
      },
      "source": [
        "Now let's remove columns that are full of `NaN`s by setting the `axis` argument to `1`:"
      ]
    },
    {
      "cell_type": "code",
      "execution_count": 147,
      "metadata": {
        "id": "OWv8PGXm1mx6",
        "outputId": "cd3b6bf3-d387-4827-b4da-b3444d59feea"
      },
      "outputs": [
        {
          "data": {
            "text/html": [
              "<div>\n",
              "<style scoped>\n",
              "    .dataframe tbody tr th:only-of-type {\n",
              "        vertical-align: middle;\n",
              "    }\n",
              "\n",
              "    .dataframe tbody tr th {\n",
              "        vertical-align: top;\n",
              "    }\n",
              "\n",
              "    .dataframe thead th {\n",
              "        text-align: right;\n",
              "    }\n",
              "</style>\n",
              "<table border=\"1\" class=\"dataframe\">\n",
              "  <thead>\n",
              "    <tr style=\"text-align: right;\">\n",
              "      <th></th>\n",
              "      <th>sep</th>\n",
              "      <th>oct</th>\n",
              "      <th>nov</th>\n",
              "    </tr>\n",
              "  </thead>\n",
              "  <tbody>\n",
              "    <tr>\n",
              "      <th>alice</th>\n",
              "      <td>8.0</td>\n",
              "      <td>8.0</td>\n",
              "      <td>9.0</td>\n",
              "    </tr>\n",
              "    <tr>\n",
              "      <th>bob</th>\n",
              "      <td>10.0</td>\n",
              "      <td>9.0</td>\n",
              "      <td>10.0</td>\n",
              "    </tr>\n",
              "    <tr>\n",
              "      <th>charles</th>\n",
              "      <td>4.0</td>\n",
              "      <td>11.0</td>\n",
              "      <td>5.0</td>\n",
              "    </tr>\n",
              "    <tr>\n",
              "      <th>darwin</th>\n",
              "      <td>9.0</td>\n",
              "      <td>10.0</td>\n",
              "      <td>11.0</td>\n",
              "    </tr>\n",
              "  </tbody>\n",
              "</table>\n",
              "</div>"
            ],
            "text/plain": [
              "          sep   oct   nov\n",
              "alice     8.0   8.0   9.0\n",
              "bob      10.0   9.0  10.0\n",
              "charles   4.0  11.0   5.0\n",
              "darwin    9.0  10.0  11.0"
            ]
          },
          "execution_count": 147,
          "metadata": {},
          "output_type": "execute_result"
        }
      ],
      "source": [
        "final_grades_clean = final_grades_clean.dropna(axis=1, how=\"all\")\n",
        "final_grades_clean"
      ]
    },
    {
      "cell_type": "markdown",
      "metadata": {
        "id": "EsZa7DhR1mx6"
      },
      "source": [
        "## Aggregating with `groupby`\n",
        "Similar to the SQL language, pandas allows grouping your data into groups to run calculations over each group.\n",
        "\n",
        "First, let's add some extra data about each person so we can group them, and let's go back to the `final_grades` `DataFrame` so we can see how `NaN` values are handled:"
      ]
    },
    {
      "cell_type": "code",
      "execution_count": 148,
      "metadata": {
        "id": "FMOOOdpR1mx6",
        "outputId": "ed39e32c-12a4-4f3b-fbb3-8db6c9f84d42",
        "scrolled": true
      },
      "outputs": [
        {
          "data": {
            "text/html": [
              "<div>\n",
              "<style scoped>\n",
              "    .dataframe tbody tr th:only-of-type {\n",
              "        vertical-align: middle;\n",
              "    }\n",
              "\n",
              "    .dataframe tbody tr th {\n",
              "        vertical-align: top;\n",
              "    }\n",
              "\n",
              "    .dataframe thead th {\n",
              "        text-align: right;\n",
              "    }\n",
              "</style>\n",
              "<table border=\"1\" class=\"dataframe\">\n",
              "  <thead>\n",
              "    <tr style=\"text-align: right;\">\n",
              "      <th></th>\n",
              "      <th>sep</th>\n",
              "      <th>oct</th>\n",
              "      <th>nov</th>\n",
              "      <th>dec</th>\n",
              "      <th>hobby</th>\n",
              "    </tr>\n",
              "  </thead>\n",
              "  <tbody>\n",
              "    <tr>\n",
              "      <th>alice</th>\n",
              "      <td>8.0</td>\n",
              "      <td>8.0</td>\n",
              "      <td>9.0</td>\n",
              "      <td>NaN</td>\n",
              "      <td>Biking</td>\n",
              "    </tr>\n",
              "    <tr>\n",
              "      <th>bob</th>\n",
              "      <td>10.0</td>\n",
              "      <td>9.0</td>\n",
              "      <td>10.0</td>\n",
              "      <td>NaN</td>\n",
              "      <td>Dancing</td>\n",
              "    </tr>\n",
              "    <tr>\n",
              "      <th>charles</th>\n",
              "      <td>4.0</td>\n",
              "      <td>11.0</td>\n",
              "      <td>5.0</td>\n",
              "      <td>NaN</td>\n",
              "      <td>NaN</td>\n",
              "    </tr>\n",
              "    <tr>\n",
              "      <th>colin</th>\n",
              "      <td>NaN</td>\n",
              "      <td>NaN</td>\n",
              "      <td>NaN</td>\n",
              "      <td>NaN</td>\n",
              "      <td>Dancing</td>\n",
              "    </tr>\n",
              "    <tr>\n",
              "      <th>darwin</th>\n",
              "      <td>9.0</td>\n",
              "      <td>10.0</td>\n",
              "      <td>11.0</td>\n",
              "      <td>NaN</td>\n",
              "      <td>Biking</td>\n",
              "    </tr>\n",
              "  </tbody>\n",
              "</table>\n",
              "</div>"
            ],
            "text/plain": [
              "          sep   oct   nov  dec    hobby\n",
              "alice     8.0   8.0   9.0  NaN   Biking\n",
              "bob      10.0   9.0  10.0  NaN  Dancing\n",
              "charles   4.0  11.0   5.0  NaN      NaN\n",
              "colin     NaN   NaN   NaN  NaN  Dancing\n",
              "darwin    9.0  10.0  11.0  NaN   Biking"
            ]
          },
          "execution_count": 148,
          "metadata": {},
          "output_type": "execute_result"
        }
      ],
      "source": [
        "final_grades[\"hobby\"] = [\"Biking\", \"Dancing\", np.nan, \"Dancing\", \"Biking\"]\n",
        "final_grades"
      ]
    },
    {
      "cell_type": "markdown",
      "metadata": {
        "id": "kapWQTkK1mx6"
      },
      "source": [
        "Now let's group data in this `DataFrame` by hobby:"
      ]
    },
    {
      "cell_type": "code",
      "execution_count": 149,
      "metadata": {
        "id": "UP1LHDHY1mx6",
        "outputId": "72cdd03c-2d4f-4841-97f5-484bdcbc3746"
      },
      "outputs": [
        {
          "data": {
            "text/plain": [
              "<pandas.core.groupby.generic.DataFrameGroupBy object at 0x176b8bc90>"
            ]
          },
          "execution_count": 149,
          "metadata": {},
          "output_type": "execute_result"
        }
      ],
      "source": [
        "grouped_grades = final_grades.groupby(\"hobby\")\n",
        "grouped_grades"
      ]
    },
    {
      "cell_type": "markdown",
      "metadata": {
        "id": "ZI4BQC_l1mx6"
      },
      "source": [
        "We are ready to compute the average grade per hobby:"
      ]
    },
    {
      "cell_type": "code",
      "execution_count": 150,
      "metadata": {
        "id": "1ubGdmog1mx6",
        "outputId": "9091c6f4-94b1-4419-abec-e8bd91030461"
      },
      "outputs": [
        {
          "data": {
            "text/html": [
              "<div>\n",
              "<style scoped>\n",
              "    .dataframe tbody tr th:only-of-type {\n",
              "        vertical-align: middle;\n",
              "    }\n",
              "\n",
              "    .dataframe tbody tr th {\n",
              "        vertical-align: top;\n",
              "    }\n",
              "\n",
              "    .dataframe thead th {\n",
              "        text-align: right;\n",
              "    }\n",
              "</style>\n",
              "<table border=\"1\" class=\"dataframe\">\n",
              "  <thead>\n",
              "    <tr style=\"text-align: right;\">\n",
              "      <th></th>\n",
              "      <th>sep</th>\n",
              "      <th>oct</th>\n",
              "      <th>nov</th>\n",
              "      <th>dec</th>\n",
              "    </tr>\n",
              "    <tr>\n",
              "      <th>hobby</th>\n",
              "      <th></th>\n",
              "      <th></th>\n",
              "      <th></th>\n",
              "      <th></th>\n",
              "    </tr>\n",
              "  </thead>\n",
              "  <tbody>\n",
              "    <tr>\n",
              "      <th>Biking</th>\n",
              "      <td>8.5</td>\n",
              "      <td>9.0</td>\n",
              "      <td>10.0</td>\n",
              "      <td>NaN</td>\n",
              "    </tr>\n",
              "    <tr>\n",
              "      <th>Dancing</th>\n",
              "      <td>10.0</td>\n",
              "      <td>9.0</td>\n",
              "      <td>10.0</td>\n",
              "      <td>NaN</td>\n",
              "    </tr>\n",
              "  </tbody>\n",
              "</table>\n",
              "</div>"
            ],
            "text/plain": [
              "          sep  oct   nov  dec\n",
              "hobby                        \n",
              "Biking    8.5  9.0  10.0  NaN\n",
              "Dancing  10.0  9.0  10.0  NaN"
            ]
          },
          "execution_count": 150,
          "metadata": {},
          "output_type": "execute_result"
        }
      ],
      "source": [
        "grouped_grades.mean()"
      ]
    },
    {
      "cell_type": "markdown",
      "metadata": {
        "id": "GjSoGY2N1mx6"
      },
      "source": [
        "That was easy! Note that the `NaN` values have simply been skipped when computing the means."
      ]
    },
    {
      "cell_type": "markdown",
      "metadata": {
        "id": "JaJEWPfr1mx6"
      },
      "source": [
        "## Pivot tables\n",
        "Pandas supports spreadsheet-like [pivot tables](https://en.wikipedia.org/wiki/Pivot_table) that allow quick data summarization. To illustrate this, let's create a simple `DataFrame`:"
      ]
    },
    {
      "cell_type": "code",
      "execution_count": 151,
      "metadata": {
        "id": "J7hUtz7j1mx6",
        "outputId": "2caec533-51e2-460d-ca3f-5f7b4fe8aa9e"
      },
      "outputs": [
        {
          "data": {
            "text/html": [
              "<div>\n",
              "<style scoped>\n",
              "    .dataframe tbody tr th:only-of-type {\n",
              "        vertical-align: middle;\n",
              "    }\n",
              "\n",
              "    .dataframe tbody tr th {\n",
              "        vertical-align: top;\n",
              "    }\n",
              "\n",
              "    .dataframe thead th {\n",
              "        text-align: right;\n",
              "    }\n",
              "</style>\n",
              "<table border=\"1\" class=\"dataframe\">\n",
              "  <thead>\n",
              "    <tr style=\"text-align: right;\">\n",
              "      <th></th>\n",
              "      <th>oct</th>\n",
              "      <th>nov</th>\n",
              "      <th>dec</th>\n",
              "    </tr>\n",
              "  </thead>\n",
              "  <tbody>\n",
              "    <tr>\n",
              "      <th>bob</th>\n",
              "      <td>0.0</td>\n",
              "      <td>NaN</td>\n",
              "      <td>2.0</td>\n",
              "    </tr>\n",
              "    <tr>\n",
              "      <th>colin</th>\n",
              "      <td>NaN</td>\n",
              "      <td>1.0</td>\n",
              "      <td>0.0</td>\n",
              "    </tr>\n",
              "    <tr>\n",
              "      <th>darwin</th>\n",
              "      <td>0.0</td>\n",
              "      <td>1.0</td>\n",
              "      <td>0.0</td>\n",
              "    </tr>\n",
              "    <tr>\n",
              "      <th>charles</th>\n",
              "      <td>3.0</td>\n",
              "      <td>3.0</td>\n",
              "      <td>0.0</td>\n",
              "    </tr>\n",
              "  </tbody>\n",
              "</table>\n",
              "</div>"
            ],
            "text/plain": [
              "         oct  nov  dec\n",
              "bob      0.0  NaN  2.0\n",
              "colin    NaN  1.0  0.0\n",
              "darwin   0.0  1.0  0.0\n",
              "charles  3.0  3.0  0.0"
            ]
          },
          "execution_count": 151,
          "metadata": {},
          "output_type": "execute_result"
        }
      ],
      "source": [
        "bonus_points"
      ]
    },
    {
      "cell_type": "code",
      "execution_count": 152,
      "metadata": {
        "id": "FSIV7ohA1mx6",
        "outputId": "8fef001d-566a-4113-a144-dd56a54d2d93"
      },
      "outputs": [
        {
          "data": {
            "text/html": [
              "<div>\n",
              "<style scoped>\n",
              "    .dataframe tbody tr th:only-of-type {\n",
              "        vertical-align: middle;\n",
              "    }\n",
              "\n",
              "    .dataframe tbody tr th {\n",
              "        vertical-align: top;\n",
              "    }\n",
              "\n",
              "    .dataframe thead th {\n",
              "        text-align: right;\n",
              "    }\n",
              "</style>\n",
              "<table border=\"1\" class=\"dataframe\">\n",
              "  <thead>\n",
              "    <tr style=\"text-align: right;\">\n",
              "      <th></th>\n",
              "      <th>name</th>\n",
              "      <th>month</th>\n",
              "      <th>grade</th>\n",
              "      <th>bonus</th>\n",
              "    </tr>\n",
              "  </thead>\n",
              "  <tbody>\n",
              "    <tr>\n",
              "      <th>0</th>\n",
              "      <td>alice</td>\n",
              "      <td>sep</td>\n",
              "      <td>8.0</td>\n",
              "      <td>NaN</td>\n",
              "    </tr>\n",
              "    <tr>\n",
              "      <th>1</th>\n",
              "      <td>alice</td>\n",
              "      <td>oct</td>\n",
              "      <td>8.0</td>\n",
              "      <td>NaN</td>\n",
              "    </tr>\n",
              "    <tr>\n",
              "      <th>2</th>\n",
              "      <td>alice</td>\n",
              "      <td>nov</td>\n",
              "      <td>9.0</td>\n",
              "      <td>NaN</td>\n",
              "    </tr>\n",
              "    <tr>\n",
              "      <th>3</th>\n",
              "      <td>bob</td>\n",
              "      <td>sep</td>\n",
              "      <td>10.0</td>\n",
              "      <td>0.0</td>\n",
              "    </tr>\n",
              "    <tr>\n",
              "      <th>4</th>\n",
              "      <td>bob</td>\n",
              "      <td>oct</td>\n",
              "      <td>9.0</td>\n",
              "      <td>NaN</td>\n",
              "    </tr>\n",
              "    <tr>\n",
              "      <th>5</th>\n",
              "      <td>bob</td>\n",
              "      <td>nov</td>\n",
              "      <td>10.0</td>\n",
              "      <td>2.0</td>\n",
              "    </tr>\n",
              "    <tr>\n",
              "      <th>6</th>\n",
              "      <td>charles</td>\n",
              "      <td>sep</td>\n",
              "      <td>4.0</td>\n",
              "      <td>3.0</td>\n",
              "    </tr>\n",
              "    <tr>\n",
              "      <th>7</th>\n",
              "      <td>charles</td>\n",
              "      <td>oct</td>\n",
              "      <td>11.0</td>\n",
              "      <td>3.0</td>\n",
              "    </tr>\n",
              "    <tr>\n",
              "      <th>8</th>\n",
              "      <td>charles</td>\n",
              "      <td>nov</td>\n",
              "      <td>5.0</td>\n",
              "      <td>0.0</td>\n",
              "    </tr>\n",
              "    <tr>\n",
              "      <th>9</th>\n",
              "      <td>darwin</td>\n",
              "      <td>sep</td>\n",
              "      <td>9.0</td>\n",
              "      <td>0.0</td>\n",
              "    </tr>\n",
              "    <tr>\n",
              "      <th>10</th>\n",
              "      <td>darwin</td>\n",
              "      <td>oct</td>\n",
              "      <td>10.0</td>\n",
              "      <td>1.0</td>\n",
              "    </tr>\n",
              "    <tr>\n",
              "      <th>11</th>\n",
              "      <td>darwin</td>\n",
              "      <td>nov</td>\n",
              "      <td>11.0</td>\n",
              "      <td>0.0</td>\n",
              "    </tr>\n",
              "  </tbody>\n",
              "</table>\n",
              "</div>"
            ],
            "text/plain": [
              "       name month  grade  bonus\n",
              "0     alice   sep    8.0    NaN\n",
              "1     alice   oct    8.0    NaN\n",
              "2     alice   nov    9.0    NaN\n",
              "3       bob   sep   10.0    0.0\n",
              "4       bob   oct    9.0    NaN\n",
              "5       bob   nov   10.0    2.0\n",
              "6   charles   sep    4.0    3.0\n",
              "7   charles   oct   11.0    3.0\n",
              "8   charles   nov    5.0    0.0\n",
              "9    darwin   sep    9.0    0.0\n",
              "10   darwin   oct   10.0    1.0\n",
              "11   darwin   nov   11.0    0.0"
            ]
          },
          "execution_count": 152,
          "metadata": {},
          "output_type": "execute_result"
        }
      ],
      "source": [
        "more_grades = final_grades_clean.stack().reset_index()\n",
        "more_grades.columns = [\"name\", \"month\", \"grade\"]\n",
        "more_grades[\"bonus\"] = [np.nan, np.nan, np.nan, 0, np.nan, 2, 3, 3, 0, 0, 1, 0]\n",
        "more_grades"
      ]
    },
    {
      "cell_type": "markdown",
      "metadata": {
        "id": "q3TAawvj1mx6"
      },
      "source": [
        "Now we can call the `pd.pivot_table()` function for this `DataFrame`, asking to group by the `name` column. By default, `pivot_table()` computes the mean of each numeric column:"
      ]
    },
    {
      "cell_type": "code",
      "execution_count": 153,
      "metadata": {
        "id": "5Kzm_X451mx6",
        "outputId": "12285cd9-97c4-4e7e-ab96-87ad1a7b7ffb"
      },
      "outputs": [
        {
          "ename": "TypeError",
          "evalue": "Could not convert sepoctnov to numeric",
          "output_type": "error",
          "traceback": [
            "\u001b[0;31m---------------------------------------------------------------------------\u001b[0m",
            "\u001b[0;31mNotImplementedError\u001b[0m                       Traceback (most recent call last)",
            "File \u001b[0;32m~/Developer/python/Hands-On-ML/.venv/lib/python3.11/site-packages/pandas/core/groupby/groupby.py:1490\u001b[0m, in \u001b[0;36mGroupBy._cython_agg_general.<locals>.array_func\u001b[0;34m(values)\u001b[0m\n\u001b[1;32m   1489\u001b[0m \u001b[39mtry\u001b[39;00m:\n\u001b[0;32m-> 1490\u001b[0m     result \u001b[39m=\u001b[39m \u001b[39mself\u001b[39;49m\u001b[39m.\u001b[39;49mgrouper\u001b[39m.\u001b[39;49m_cython_operation(\n\u001b[1;32m   1491\u001b[0m         \u001b[39m\"\u001b[39;49m\u001b[39maggregate\u001b[39;49m\u001b[39m\"\u001b[39;49m,\n\u001b[1;32m   1492\u001b[0m         values,\n\u001b[1;32m   1493\u001b[0m         how,\n\u001b[1;32m   1494\u001b[0m         axis\u001b[39m=\u001b[39;49mdata\u001b[39m.\u001b[39;49mndim \u001b[39m-\u001b[39;49m \u001b[39m1\u001b[39;49m,\n\u001b[1;32m   1495\u001b[0m         min_count\u001b[39m=\u001b[39;49mmin_count,\n\u001b[1;32m   1496\u001b[0m         \u001b[39m*\u001b[39;49m\u001b[39m*\u001b[39;49mkwargs,\n\u001b[1;32m   1497\u001b[0m     )\n\u001b[1;32m   1498\u001b[0m \u001b[39mexcept\u001b[39;00m \u001b[39mNotImplementedError\u001b[39;00m:\n\u001b[1;32m   1499\u001b[0m     \u001b[39m# generally if we have numeric_only=False\u001b[39;00m\n\u001b[1;32m   1500\u001b[0m     \u001b[39m# and non-applicable functions\u001b[39;00m\n\u001b[1;32m   1501\u001b[0m     \u001b[39m# try to python agg\u001b[39;00m\n\u001b[1;32m   1502\u001b[0m     \u001b[39m# TODO: shouldn't min_count matter?\u001b[39;00m\n",
            "File \u001b[0;32m~/Developer/python/Hands-On-ML/.venv/lib/python3.11/site-packages/pandas/core/groupby/ops.py:959\u001b[0m, in \u001b[0;36mBaseGrouper._cython_operation\u001b[0;34m(self, kind, values, how, axis, min_count, **kwargs)\u001b[0m\n\u001b[1;32m    958\u001b[0m ngroups \u001b[39m=\u001b[39m \u001b[39mself\u001b[39m\u001b[39m.\u001b[39mngroups\n\u001b[0;32m--> 959\u001b[0m \u001b[39mreturn\u001b[39;00m cy_op\u001b[39m.\u001b[39;49mcython_operation(\n\u001b[1;32m    960\u001b[0m     values\u001b[39m=\u001b[39;49mvalues,\n\u001b[1;32m    961\u001b[0m     axis\u001b[39m=\u001b[39;49maxis,\n\u001b[1;32m    962\u001b[0m     min_count\u001b[39m=\u001b[39;49mmin_count,\n\u001b[1;32m    963\u001b[0m     comp_ids\u001b[39m=\u001b[39;49mids,\n\u001b[1;32m    964\u001b[0m     ngroups\u001b[39m=\u001b[39;49mngroups,\n\u001b[1;32m    965\u001b[0m     \u001b[39m*\u001b[39;49m\u001b[39m*\u001b[39;49mkwargs,\n\u001b[1;32m    966\u001b[0m )\n",
            "File \u001b[0;32m~/Developer/python/Hands-On-ML/.venv/lib/python3.11/site-packages/pandas/core/groupby/ops.py:657\u001b[0m, in \u001b[0;36mWrappedCythonOp.cython_operation\u001b[0;34m(self, values, axis, min_count, comp_ids, ngroups, **kwargs)\u001b[0m\n\u001b[1;32m    649\u001b[0m     \u001b[39mreturn\u001b[39;00m \u001b[39mself\u001b[39m\u001b[39m.\u001b[39m_ea_wrap_cython_operation(\n\u001b[1;32m    650\u001b[0m         values,\n\u001b[1;32m    651\u001b[0m         min_count\u001b[39m=\u001b[39mmin_count,\n\u001b[0;32m   (...)\u001b[0m\n\u001b[1;32m    654\u001b[0m         \u001b[39m*\u001b[39m\u001b[39m*\u001b[39mkwargs,\n\u001b[1;32m    655\u001b[0m     )\n\u001b[0;32m--> 657\u001b[0m \u001b[39mreturn\u001b[39;00m \u001b[39mself\u001b[39;49m\u001b[39m.\u001b[39;49m_cython_op_ndim_compat(\n\u001b[1;32m    658\u001b[0m     values,\n\u001b[1;32m    659\u001b[0m     min_count\u001b[39m=\u001b[39;49mmin_count,\n\u001b[1;32m    660\u001b[0m     ngroups\u001b[39m=\u001b[39;49mngroups,\n\u001b[1;32m    661\u001b[0m     comp_ids\u001b[39m=\u001b[39;49mcomp_ids,\n\u001b[1;32m    662\u001b[0m     mask\u001b[39m=\u001b[39;49m\u001b[39mNone\u001b[39;49;00m,\n\u001b[1;32m    663\u001b[0m     \u001b[39m*\u001b[39;49m\u001b[39m*\u001b[39;49mkwargs,\n\u001b[1;32m    664\u001b[0m )\n",
            "File \u001b[0;32m~/Developer/python/Hands-On-ML/.venv/lib/python3.11/site-packages/pandas/core/groupby/ops.py:497\u001b[0m, in \u001b[0;36mWrappedCythonOp._cython_op_ndim_compat\u001b[0;34m(self, values, min_count, ngroups, comp_ids, mask, result_mask, **kwargs)\u001b[0m\n\u001b[1;32m    495\u001b[0m     \u001b[39mreturn\u001b[39;00m res\u001b[39m.\u001b[39mT\n\u001b[0;32m--> 497\u001b[0m \u001b[39mreturn\u001b[39;00m \u001b[39mself\u001b[39;49m\u001b[39m.\u001b[39;49m_call_cython_op(\n\u001b[1;32m    498\u001b[0m     values,\n\u001b[1;32m    499\u001b[0m     min_count\u001b[39m=\u001b[39;49mmin_count,\n\u001b[1;32m    500\u001b[0m     ngroups\u001b[39m=\u001b[39;49mngroups,\n\u001b[1;32m    501\u001b[0m     comp_ids\u001b[39m=\u001b[39;49mcomp_ids,\n\u001b[1;32m    502\u001b[0m     mask\u001b[39m=\u001b[39;49mmask,\n\u001b[1;32m    503\u001b[0m     result_mask\u001b[39m=\u001b[39;49mresult_mask,\n\u001b[1;32m    504\u001b[0m     \u001b[39m*\u001b[39;49m\u001b[39m*\u001b[39;49mkwargs,\n\u001b[1;32m    505\u001b[0m )\n",
            "File \u001b[0;32m~/Developer/python/Hands-On-ML/.venv/lib/python3.11/site-packages/pandas/core/groupby/ops.py:541\u001b[0m, in \u001b[0;36mWrappedCythonOp._call_cython_op\u001b[0;34m(self, values, min_count, ngroups, comp_ids, mask, result_mask, **kwargs)\u001b[0m\n\u001b[1;32m    540\u001b[0m out_shape \u001b[39m=\u001b[39m \u001b[39mself\u001b[39m\u001b[39m.\u001b[39m_get_output_shape(ngroups, values)\n\u001b[0;32m--> 541\u001b[0m func \u001b[39m=\u001b[39m \u001b[39mself\u001b[39;49m\u001b[39m.\u001b[39;49m_get_cython_function(\u001b[39mself\u001b[39;49m\u001b[39m.\u001b[39;49mkind, \u001b[39mself\u001b[39;49m\u001b[39m.\u001b[39;49mhow, values\u001b[39m.\u001b[39;49mdtype, is_numeric)\n\u001b[1;32m    542\u001b[0m values \u001b[39m=\u001b[39m \u001b[39mself\u001b[39m\u001b[39m.\u001b[39m_get_cython_vals(values)\n",
            "File \u001b[0;32m~/Developer/python/Hands-On-ML/.venv/lib/python3.11/site-packages/pandas/core/groupby/ops.py:173\u001b[0m, in \u001b[0;36mWrappedCythonOp._get_cython_function\u001b[0;34m(cls, kind, how, dtype, is_numeric)\u001b[0m\n\u001b[1;32m    171\u001b[0m \u001b[39mif\u001b[39;00m \u001b[39m\"\u001b[39m\u001b[39mobject\u001b[39m\u001b[39m\"\u001b[39m \u001b[39mnot\u001b[39;00m \u001b[39min\u001b[39;00m f\u001b[39m.\u001b[39m__signatures__:\n\u001b[1;32m    172\u001b[0m     \u001b[39m# raise NotImplementedError here rather than TypeError later\u001b[39;00m\n\u001b[0;32m--> 173\u001b[0m     \u001b[39mraise\u001b[39;00m \u001b[39mNotImplementedError\u001b[39;00m(\n\u001b[1;32m    174\u001b[0m         \u001b[39mf\u001b[39m\u001b[39m\"\u001b[39m\u001b[39mfunction is not implemented for this dtype: \u001b[39m\u001b[39m\"\u001b[39m\n\u001b[1;32m    175\u001b[0m         \u001b[39mf\u001b[39m\u001b[39m\"\u001b[39m\u001b[39m[how->\u001b[39m\u001b[39m{\u001b[39;00mhow\u001b[39m}\u001b[39;00m\u001b[39m,dtype->\u001b[39m\u001b[39m{\u001b[39;00mdtype_str\u001b[39m}\u001b[39;00m\u001b[39m]\u001b[39m\u001b[39m\"\u001b[39m\n\u001b[1;32m    176\u001b[0m     )\n\u001b[1;32m    177\u001b[0m \u001b[39mreturn\u001b[39;00m f\n",
            "\u001b[0;31mNotImplementedError\u001b[0m: function is not implemented for this dtype: [how->mean,dtype->object]",
            "\nDuring handling of the above exception, another exception occurred:\n",
            "\u001b[0;31mValueError\u001b[0m                                Traceback (most recent call last)",
            "File \u001b[0;32m~/Developer/python/Hands-On-ML/.venv/lib/python3.11/site-packages/pandas/core/nanops.py:1692\u001b[0m, in \u001b[0;36m_ensure_numeric\u001b[0;34m(x)\u001b[0m\n\u001b[1;32m   1691\u001b[0m \u001b[39mtry\u001b[39;00m:\n\u001b[0;32m-> 1692\u001b[0m     x \u001b[39m=\u001b[39m \u001b[39mfloat\u001b[39;49m(x)\n\u001b[1;32m   1693\u001b[0m \u001b[39mexcept\u001b[39;00m (\u001b[39mTypeError\u001b[39;00m, \u001b[39mValueError\u001b[39;00m):\n\u001b[1;32m   1694\u001b[0m     \u001b[39m# e.g. \"1+1j\" or \"foo\"\u001b[39;00m\n",
            "\u001b[0;31mValueError\u001b[0m: could not convert string to float: 'sepoctnov'",
            "\nDuring handling of the above exception, another exception occurred:\n",
            "\u001b[0;31mValueError\u001b[0m                                Traceback (most recent call last)",
            "File \u001b[0;32m~/Developer/python/Hands-On-ML/.venv/lib/python3.11/site-packages/pandas/core/nanops.py:1696\u001b[0m, in \u001b[0;36m_ensure_numeric\u001b[0;34m(x)\u001b[0m\n\u001b[1;32m   1695\u001b[0m \u001b[39mtry\u001b[39;00m:\n\u001b[0;32m-> 1696\u001b[0m     x \u001b[39m=\u001b[39m \u001b[39mcomplex\u001b[39;49m(x)\n\u001b[1;32m   1697\u001b[0m \u001b[39mexcept\u001b[39;00m \u001b[39mValueError\u001b[39;00m \u001b[39mas\u001b[39;00m err:\n\u001b[1;32m   1698\u001b[0m     \u001b[39m# e.g. \"foo\"\u001b[39;00m\n",
            "\u001b[0;31mValueError\u001b[0m: complex() arg is a malformed string",
            "\nThe above exception was the direct cause of the following exception:\n",
            "\u001b[0;31mTypeError\u001b[0m                                 Traceback (most recent call last)",
            "Cell \u001b[0;32mIn[153], line 1\u001b[0m\n\u001b[0;32m----> 1\u001b[0m pd\u001b[39m.\u001b[39;49mpivot_table(more_grades, index\u001b[39m=\u001b[39;49m\u001b[39m\"\u001b[39;49m\u001b[39mname\u001b[39;49m\u001b[39m\"\u001b[39;49m)\n",
            "File \u001b[0;32m~/Developer/python/Hands-On-ML/.venv/lib/python3.11/site-packages/pandas/core/reshape/pivot.py:97\u001b[0m, in \u001b[0;36mpivot_table\u001b[0;34m(data, values, index, columns, aggfunc, fill_value, margins, dropna, margins_name, observed, sort)\u001b[0m\n\u001b[1;32m     94\u001b[0m     table \u001b[39m=\u001b[39m concat(pieces, keys\u001b[39m=\u001b[39mkeys, axis\u001b[39m=\u001b[39m\u001b[39m1\u001b[39m)\n\u001b[1;32m     95\u001b[0m     \u001b[39mreturn\u001b[39;00m table\u001b[39m.\u001b[39m__finalize__(data, method\u001b[39m=\u001b[39m\u001b[39m\"\u001b[39m\u001b[39mpivot_table\u001b[39m\u001b[39m\"\u001b[39m)\n\u001b[0;32m---> 97\u001b[0m table \u001b[39m=\u001b[39m __internal_pivot_table(\n\u001b[1;32m     98\u001b[0m     data,\n\u001b[1;32m     99\u001b[0m     values,\n\u001b[1;32m    100\u001b[0m     index,\n\u001b[1;32m    101\u001b[0m     columns,\n\u001b[1;32m    102\u001b[0m     aggfunc,\n\u001b[1;32m    103\u001b[0m     fill_value,\n\u001b[1;32m    104\u001b[0m     margins,\n\u001b[1;32m    105\u001b[0m     dropna,\n\u001b[1;32m    106\u001b[0m     margins_name,\n\u001b[1;32m    107\u001b[0m     observed,\n\u001b[1;32m    108\u001b[0m     sort,\n\u001b[1;32m    109\u001b[0m )\n\u001b[1;32m    110\u001b[0m \u001b[39mreturn\u001b[39;00m table\u001b[39m.\u001b[39m__finalize__(data, method\u001b[39m=\u001b[39m\u001b[39m\"\u001b[39m\u001b[39mpivot_table\u001b[39m\u001b[39m\"\u001b[39m)\n",
            "File \u001b[0;32m~/Developer/python/Hands-On-ML/.venv/lib/python3.11/site-packages/pandas/core/reshape/pivot.py:167\u001b[0m, in \u001b[0;36m__internal_pivot_table\u001b[0;34m(data, values, index, columns, aggfunc, fill_value, margins, dropna, margins_name, observed, sort)\u001b[0m\n\u001b[1;32m    164\u001b[0m     values \u001b[39m=\u001b[39m \u001b[39mlist\u001b[39m(values)\n\u001b[1;32m    166\u001b[0m grouped \u001b[39m=\u001b[39m data\u001b[39m.\u001b[39mgroupby(keys, observed\u001b[39m=\u001b[39mobserved, sort\u001b[39m=\u001b[39msort)\n\u001b[0;32m--> 167\u001b[0m agged \u001b[39m=\u001b[39m grouped\u001b[39m.\u001b[39;49magg(aggfunc)\n\u001b[1;32m    169\u001b[0m \u001b[39mif\u001b[39;00m dropna \u001b[39mand\u001b[39;00m \u001b[39misinstance\u001b[39m(agged, ABCDataFrame) \u001b[39mand\u001b[39;00m \u001b[39mlen\u001b[39m(agged\u001b[39m.\u001b[39mcolumns):\n\u001b[1;32m    170\u001b[0m     agged \u001b[39m=\u001b[39m agged\u001b[39m.\u001b[39mdropna(how\u001b[39m=\u001b[39m\u001b[39m\"\u001b[39m\u001b[39mall\u001b[39m\u001b[39m\"\u001b[39m)\n",
            "File \u001b[0;32m~/Developer/python/Hands-On-ML/.venv/lib/python3.11/site-packages/pandas/core/groupby/generic.py:1269\u001b[0m, in \u001b[0;36mDataFrameGroupBy.aggregate\u001b[0;34m(self, func, engine, engine_kwargs, *args, **kwargs)\u001b[0m\n\u001b[1;32m   1266\u001b[0m func \u001b[39m=\u001b[39m maybe_mangle_lambdas(func)\n\u001b[1;32m   1268\u001b[0m op \u001b[39m=\u001b[39m GroupByApply(\u001b[39mself\u001b[39m, func, args, kwargs)\n\u001b[0;32m-> 1269\u001b[0m result \u001b[39m=\u001b[39m op\u001b[39m.\u001b[39;49magg()\n\u001b[1;32m   1270\u001b[0m \u001b[39mif\u001b[39;00m \u001b[39mnot\u001b[39;00m is_dict_like(func) \u001b[39mand\u001b[39;00m result \u001b[39mis\u001b[39;00m \u001b[39mnot\u001b[39;00m \u001b[39mNone\u001b[39;00m:\n\u001b[1;32m   1271\u001b[0m     \u001b[39mreturn\u001b[39;00m result\n",
            "File \u001b[0;32m~/Developer/python/Hands-On-ML/.venv/lib/python3.11/site-packages/pandas/core/apply.py:160\u001b[0m, in \u001b[0;36mApply.agg\u001b[0;34m(self)\u001b[0m\n\u001b[1;32m    157\u001b[0m kwargs \u001b[39m=\u001b[39m \u001b[39mself\u001b[39m\u001b[39m.\u001b[39mkwargs\n\u001b[1;32m    159\u001b[0m \u001b[39mif\u001b[39;00m \u001b[39misinstance\u001b[39m(arg, \u001b[39mstr\u001b[39m):\n\u001b[0;32m--> 160\u001b[0m     \u001b[39mreturn\u001b[39;00m \u001b[39mself\u001b[39;49m\u001b[39m.\u001b[39;49mapply_str()\n\u001b[1;32m    162\u001b[0m \u001b[39mif\u001b[39;00m is_dict_like(arg):\n\u001b[1;32m    163\u001b[0m     \u001b[39mreturn\u001b[39;00m \u001b[39mself\u001b[39m\u001b[39m.\u001b[39magg_dict_like()\n",
            "File \u001b[0;32m~/Developer/python/Hands-On-ML/.venv/lib/python3.11/site-packages/pandas/core/apply.py:496\u001b[0m, in \u001b[0;36mApply.apply_str\u001b[0;34m(self)\u001b[0m\n\u001b[1;32m    494\u001b[0m     \u001b[39mif\u001b[39;00m \u001b[39m\"\u001b[39m\u001b[39maxis\u001b[39m\u001b[39m\"\u001b[39m \u001b[39min\u001b[39;00m arg_names:\n\u001b[1;32m    495\u001b[0m         \u001b[39mself\u001b[39m\u001b[39m.\u001b[39mkwargs[\u001b[39m\"\u001b[39m\u001b[39maxis\u001b[39m\u001b[39m\"\u001b[39m] \u001b[39m=\u001b[39m \u001b[39mself\u001b[39m\u001b[39m.\u001b[39maxis\n\u001b[0;32m--> 496\u001b[0m \u001b[39mreturn\u001b[39;00m \u001b[39mself\u001b[39;49m\u001b[39m.\u001b[39;49m_try_aggregate_string_function(obj, f, \u001b[39m*\u001b[39;49m\u001b[39mself\u001b[39;49m\u001b[39m.\u001b[39;49margs, \u001b[39m*\u001b[39;49m\u001b[39m*\u001b[39;49m\u001b[39mself\u001b[39;49m\u001b[39m.\u001b[39;49mkwargs)\n",
            "File \u001b[0;32m~/Developer/python/Hands-On-ML/.venv/lib/python3.11/site-packages/pandas/core/apply.py:565\u001b[0m, in \u001b[0;36mApply._try_aggregate_string_function\u001b[0;34m(self, obj, arg, *args, **kwargs)\u001b[0m\n\u001b[1;32m    563\u001b[0m \u001b[39mif\u001b[39;00m f \u001b[39mis\u001b[39;00m \u001b[39mnot\u001b[39;00m \u001b[39mNone\u001b[39;00m:\n\u001b[1;32m    564\u001b[0m     \u001b[39mif\u001b[39;00m \u001b[39mcallable\u001b[39m(f):\n\u001b[0;32m--> 565\u001b[0m         \u001b[39mreturn\u001b[39;00m f(\u001b[39m*\u001b[39;49margs, \u001b[39m*\u001b[39;49m\u001b[39m*\u001b[39;49mkwargs)\n\u001b[1;32m    567\u001b[0m     \u001b[39m# people may try to aggregate on a non-callable attribute\u001b[39;00m\n\u001b[1;32m    568\u001b[0m     \u001b[39m# but don't let them think they can pass args to it\u001b[39;00m\n\u001b[1;32m    569\u001b[0m     \u001b[39massert\u001b[39;00m \u001b[39mlen\u001b[39m(args) \u001b[39m==\u001b[39m \u001b[39m0\u001b[39m\n",
            "File \u001b[0;32m~/Developer/python/Hands-On-ML/.venv/lib/python3.11/site-packages/pandas/core/groupby/groupby.py:1855\u001b[0m, in \u001b[0;36mGroupBy.mean\u001b[0;34m(self, numeric_only, engine, engine_kwargs)\u001b[0m\n\u001b[1;32m   1853\u001b[0m     \u001b[39mreturn\u001b[39;00m \u001b[39mself\u001b[39m\u001b[39m.\u001b[39m_numba_agg_general(sliding_mean, engine_kwargs)\n\u001b[1;32m   1854\u001b[0m \u001b[39melse\u001b[39;00m:\n\u001b[0;32m-> 1855\u001b[0m     result \u001b[39m=\u001b[39m \u001b[39mself\u001b[39;49m\u001b[39m.\u001b[39;49m_cython_agg_general(\n\u001b[1;32m   1856\u001b[0m         \u001b[39m\"\u001b[39;49m\u001b[39mmean\u001b[39;49m\u001b[39m\"\u001b[39;49m,\n\u001b[1;32m   1857\u001b[0m         alt\u001b[39m=\u001b[39;49m\u001b[39mlambda\u001b[39;49;00m x: Series(x)\u001b[39m.\u001b[39;49mmean(numeric_only\u001b[39m=\u001b[39;49mnumeric_only),\n\u001b[1;32m   1858\u001b[0m         numeric_only\u001b[39m=\u001b[39;49mnumeric_only,\n\u001b[1;32m   1859\u001b[0m     )\n\u001b[1;32m   1860\u001b[0m     \u001b[39mreturn\u001b[39;00m result\u001b[39m.\u001b[39m__finalize__(\u001b[39mself\u001b[39m\u001b[39m.\u001b[39mobj, method\u001b[39m=\u001b[39m\u001b[39m\"\u001b[39m\u001b[39mgroupby\u001b[39m\u001b[39m\"\u001b[39m)\n",
            "File \u001b[0;32m~/Developer/python/Hands-On-ML/.venv/lib/python3.11/site-packages/pandas/core/groupby/groupby.py:1507\u001b[0m, in \u001b[0;36mGroupBy._cython_agg_general\u001b[0;34m(self, how, alt, numeric_only, min_count, **kwargs)\u001b[0m\n\u001b[1;32m   1503\u001b[0m         result \u001b[39m=\u001b[39m \u001b[39mself\u001b[39m\u001b[39m.\u001b[39m_agg_py_fallback(values, ndim\u001b[39m=\u001b[39mdata\u001b[39m.\u001b[39mndim, alt\u001b[39m=\u001b[39malt)\n\u001b[1;32m   1505\u001b[0m     \u001b[39mreturn\u001b[39;00m result\n\u001b[0;32m-> 1507\u001b[0m new_mgr \u001b[39m=\u001b[39m data\u001b[39m.\u001b[39;49mgrouped_reduce(array_func)\n\u001b[1;32m   1508\u001b[0m res \u001b[39m=\u001b[39m \u001b[39mself\u001b[39m\u001b[39m.\u001b[39m_wrap_agged_manager(new_mgr)\n\u001b[1;32m   1509\u001b[0m out \u001b[39m=\u001b[39m \u001b[39mself\u001b[39m\u001b[39m.\u001b[39m_wrap_aggregated_output(res)\n",
            "File \u001b[0;32m~/Developer/python/Hands-On-ML/.venv/lib/python3.11/site-packages/pandas/core/internals/managers.py:1503\u001b[0m, in \u001b[0;36mBlockManager.grouped_reduce\u001b[0;34m(self, func)\u001b[0m\n\u001b[1;32m   1499\u001b[0m \u001b[39mif\u001b[39;00m blk\u001b[39m.\u001b[39mis_object:\n\u001b[1;32m   1500\u001b[0m     \u001b[39m# split on object-dtype blocks bc some columns may raise\u001b[39;00m\n\u001b[1;32m   1501\u001b[0m     \u001b[39m#  while others do not.\u001b[39;00m\n\u001b[1;32m   1502\u001b[0m     \u001b[39mfor\u001b[39;00m sb \u001b[39min\u001b[39;00m blk\u001b[39m.\u001b[39m_split():\n\u001b[0;32m-> 1503\u001b[0m         applied \u001b[39m=\u001b[39m sb\u001b[39m.\u001b[39;49mapply(func)\n\u001b[1;32m   1504\u001b[0m         result_blocks \u001b[39m=\u001b[39m extend_blocks(applied, result_blocks)\n\u001b[1;32m   1505\u001b[0m \u001b[39melse\u001b[39;00m:\n",
            "File \u001b[0;32m~/Developer/python/Hands-On-ML/.venv/lib/python3.11/site-packages/pandas/core/internals/blocks.py:329\u001b[0m, in \u001b[0;36mBlock.apply\u001b[0;34m(self, func, **kwargs)\u001b[0m\n\u001b[1;32m    323\u001b[0m \u001b[39m@final\u001b[39m\n\u001b[1;32m    324\u001b[0m \u001b[39mdef\u001b[39;00m \u001b[39mapply\u001b[39m(\u001b[39mself\u001b[39m, func, \u001b[39m*\u001b[39m\u001b[39m*\u001b[39mkwargs) \u001b[39m-\u001b[39m\u001b[39m>\u001b[39m \u001b[39mlist\u001b[39m[Block]:\n\u001b[1;32m    325\u001b[0m \u001b[39m    \u001b[39m\u001b[39m\"\"\"\u001b[39;00m\n\u001b[1;32m    326\u001b[0m \u001b[39m    apply the function to my values; return a block if we are not\u001b[39;00m\n\u001b[1;32m    327\u001b[0m \u001b[39m    one\u001b[39;00m\n\u001b[1;32m    328\u001b[0m \u001b[39m    \"\"\"\u001b[39;00m\n\u001b[0;32m--> 329\u001b[0m     result \u001b[39m=\u001b[39m func(\u001b[39mself\u001b[39;49m\u001b[39m.\u001b[39;49mvalues, \u001b[39m*\u001b[39;49m\u001b[39m*\u001b[39;49mkwargs)\n\u001b[1;32m    331\u001b[0m     \u001b[39mreturn\u001b[39;00m \u001b[39mself\u001b[39m\u001b[39m.\u001b[39m_split_op_result(result)\n",
            "File \u001b[0;32m~/Developer/python/Hands-On-ML/.venv/lib/python3.11/site-packages/pandas/core/groupby/groupby.py:1503\u001b[0m, in \u001b[0;36mGroupBy._cython_agg_general.<locals>.array_func\u001b[0;34m(values)\u001b[0m\n\u001b[1;32m   1490\u001b[0m     result \u001b[39m=\u001b[39m \u001b[39mself\u001b[39m\u001b[39m.\u001b[39mgrouper\u001b[39m.\u001b[39m_cython_operation(\n\u001b[1;32m   1491\u001b[0m         \u001b[39m\"\u001b[39m\u001b[39maggregate\u001b[39m\u001b[39m\"\u001b[39m,\n\u001b[1;32m   1492\u001b[0m         values,\n\u001b[0;32m   (...)\u001b[0m\n\u001b[1;32m   1496\u001b[0m         \u001b[39m*\u001b[39m\u001b[39m*\u001b[39mkwargs,\n\u001b[1;32m   1497\u001b[0m     )\n\u001b[1;32m   1498\u001b[0m \u001b[39mexcept\u001b[39;00m \u001b[39mNotImplementedError\u001b[39;00m:\n\u001b[1;32m   1499\u001b[0m     \u001b[39m# generally if we have numeric_only=False\u001b[39;00m\n\u001b[1;32m   1500\u001b[0m     \u001b[39m# and non-applicable functions\u001b[39;00m\n\u001b[1;32m   1501\u001b[0m     \u001b[39m# try to python agg\u001b[39;00m\n\u001b[1;32m   1502\u001b[0m     \u001b[39m# TODO: shouldn't min_count matter?\u001b[39;00m\n\u001b[0;32m-> 1503\u001b[0m     result \u001b[39m=\u001b[39m \u001b[39mself\u001b[39;49m\u001b[39m.\u001b[39;49m_agg_py_fallback(values, ndim\u001b[39m=\u001b[39;49mdata\u001b[39m.\u001b[39;49mndim, alt\u001b[39m=\u001b[39;49malt)\n\u001b[1;32m   1505\u001b[0m \u001b[39mreturn\u001b[39;00m result\n",
            "File \u001b[0;32m~/Developer/python/Hands-On-ML/.venv/lib/python3.11/site-packages/pandas/core/groupby/groupby.py:1457\u001b[0m, in \u001b[0;36mGroupBy._agg_py_fallback\u001b[0;34m(self, values, ndim, alt)\u001b[0m\n\u001b[1;32m   1452\u001b[0m     ser \u001b[39m=\u001b[39m df\u001b[39m.\u001b[39miloc[:, \u001b[39m0\u001b[39m]\n\u001b[1;32m   1454\u001b[0m \u001b[39m# We do not get here with UDFs, so we know that our dtype\u001b[39;00m\n\u001b[1;32m   1455\u001b[0m \u001b[39m#  should always be preserved by the implemented aggregations\u001b[39;00m\n\u001b[1;32m   1456\u001b[0m \u001b[39m# TODO: Is this exactly right; see WrappedCythonOp get_result_dtype?\u001b[39;00m\n\u001b[0;32m-> 1457\u001b[0m res_values \u001b[39m=\u001b[39m \u001b[39mself\u001b[39;49m\u001b[39m.\u001b[39;49mgrouper\u001b[39m.\u001b[39;49magg_series(ser, alt, preserve_dtype\u001b[39m=\u001b[39;49m\u001b[39mTrue\u001b[39;49;00m)\n\u001b[1;32m   1459\u001b[0m \u001b[39mif\u001b[39;00m \u001b[39misinstance\u001b[39m(values, Categorical):\n\u001b[1;32m   1460\u001b[0m     \u001b[39m# Because we only get here with known dtype-preserving\u001b[39;00m\n\u001b[1;32m   1461\u001b[0m     \u001b[39m#  reductions, we cast back to Categorical.\u001b[39;00m\n\u001b[1;32m   1462\u001b[0m     \u001b[39m# TODO: if we ever get \"rank\" working, exclude it here.\u001b[39;00m\n\u001b[1;32m   1463\u001b[0m     res_values \u001b[39m=\u001b[39m \u001b[39mtype\u001b[39m(values)\u001b[39m.\u001b[39m_from_sequence(res_values, dtype\u001b[39m=\u001b[39mvalues\u001b[39m.\u001b[39mdtype)\n",
            "File \u001b[0;32m~/Developer/python/Hands-On-ML/.venv/lib/python3.11/site-packages/pandas/core/groupby/ops.py:994\u001b[0m, in \u001b[0;36mBaseGrouper.agg_series\u001b[0;34m(self, obj, func, preserve_dtype)\u001b[0m\n\u001b[1;32m    987\u001b[0m \u001b[39mif\u001b[39;00m \u001b[39mlen\u001b[39m(obj) \u001b[39m>\u001b[39m \u001b[39m0\u001b[39m \u001b[39mand\u001b[39;00m \u001b[39mnot\u001b[39;00m \u001b[39misinstance\u001b[39m(obj\u001b[39m.\u001b[39m_values, np\u001b[39m.\u001b[39mndarray):\n\u001b[1;32m    988\u001b[0m     \u001b[39m# we can preserve a little bit more aggressively with EA dtype\u001b[39;00m\n\u001b[1;32m    989\u001b[0m     \u001b[39m#  because maybe_cast_pointwise_result will do a try/except\u001b[39;00m\n\u001b[1;32m    990\u001b[0m     \u001b[39m#  with _from_sequence.  NB we are assuming here that _from_sequence\u001b[39;00m\n\u001b[1;32m    991\u001b[0m     \u001b[39m#  is sufficiently strict that it casts appropriately.\u001b[39;00m\n\u001b[1;32m    992\u001b[0m     preserve_dtype \u001b[39m=\u001b[39m \u001b[39mTrue\u001b[39;00m\n\u001b[0;32m--> 994\u001b[0m result \u001b[39m=\u001b[39m \u001b[39mself\u001b[39;49m\u001b[39m.\u001b[39;49m_aggregate_series_pure_python(obj, func)\n\u001b[1;32m    996\u001b[0m npvalues \u001b[39m=\u001b[39m lib\u001b[39m.\u001b[39mmaybe_convert_objects(result, try_float\u001b[39m=\u001b[39m\u001b[39mFalse\u001b[39;00m)\n\u001b[1;32m    997\u001b[0m \u001b[39mif\u001b[39;00m preserve_dtype:\n",
            "File \u001b[0;32m~/Developer/python/Hands-On-ML/.venv/lib/python3.11/site-packages/pandas/core/groupby/ops.py:1015\u001b[0m, in \u001b[0;36mBaseGrouper._aggregate_series_pure_python\u001b[0;34m(self, obj, func)\u001b[0m\n\u001b[1;32m   1012\u001b[0m splitter \u001b[39m=\u001b[39m \u001b[39mself\u001b[39m\u001b[39m.\u001b[39m_get_splitter(obj, axis\u001b[39m=\u001b[39m\u001b[39m0\u001b[39m)\n\u001b[1;32m   1014\u001b[0m \u001b[39mfor\u001b[39;00m i, group \u001b[39min\u001b[39;00m \u001b[39menumerate\u001b[39m(splitter):\n\u001b[0;32m-> 1015\u001b[0m     res \u001b[39m=\u001b[39m func(group)\n\u001b[1;32m   1016\u001b[0m     res \u001b[39m=\u001b[39m libreduction\u001b[39m.\u001b[39mextract_result(res)\n\u001b[1;32m   1018\u001b[0m     \u001b[39mif\u001b[39;00m \u001b[39mnot\u001b[39;00m initialized:\n\u001b[1;32m   1019\u001b[0m         \u001b[39m# We only do this validation on the first iteration\u001b[39;00m\n",
            "File \u001b[0;32m~/Developer/python/Hands-On-ML/.venv/lib/python3.11/site-packages/pandas/core/groupby/groupby.py:1857\u001b[0m, in \u001b[0;36mGroupBy.mean.<locals>.<lambda>\u001b[0;34m(x)\u001b[0m\n\u001b[1;32m   1853\u001b[0m     \u001b[39mreturn\u001b[39;00m \u001b[39mself\u001b[39m\u001b[39m.\u001b[39m_numba_agg_general(sliding_mean, engine_kwargs)\n\u001b[1;32m   1854\u001b[0m \u001b[39melse\u001b[39;00m:\n\u001b[1;32m   1855\u001b[0m     result \u001b[39m=\u001b[39m \u001b[39mself\u001b[39m\u001b[39m.\u001b[39m_cython_agg_general(\n\u001b[1;32m   1856\u001b[0m         \u001b[39m\"\u001b[39m\u001b[39mmean\u001b[39m\u001b[39m\"\u001b[39m,\n\u001b[0;32m-> 1857\u001b[0m         alt\u001b[39m=\u001b[39m\u001b[39mlambda\u001b[39;00m x: Series(x)\u001b[39m.\u001b[39;49mmean(numeric_only\u001b[39m=\u001b[39;49mnumeric_only),\n\u001b[1;32m   1858\u001b[0m         numeric_only\u001b[39m=\u001b[39mnumeric_only,\n\u001b[1;32m   1859\u001b[0m     )\n\u001b[1;32m   1860\u001b[0m     \u001b[39mreturn\u001b[39;00m result\u001b[39m.\u001b[39m__finalize__(\u001b[39mself\u001b[39m\u001b[39m.\u001b[39mobj, method\u001b[39m=\u001b[39m\u001b[39m\"\u001b[39m\u001b[39mgroupby\u001b[39m\u001b[39m\"\u001b[39m)\n",
            "File \u001b[0;32m~/Developer/python/Hands-On-ML/.venv/lib/python3.11/site-packages/pandas/core/generic.py:11556\u001b[0m, in \u001b[0;36mNDFrame._add_numeric_operations.<locals>.mean\u001b[0;34m(self, axis, skipna, numeric_only, **kwargs)\u001b[0m\n\u001b[1;32m  11539\u001b[0m \u001b[39m@doc\u001b[39m(\n\u001b[1;32m  11540\u001b[0m     _num_doc,\n\u001b[1;32m  11541\u001b[0m     desc\u001b[39m=\u001b[39m\u001b[39m\"\u001b[39m\u001b[39mReturn the mean of the values over the requested axis.\u001b[39m\u001b[39m\"\u001b[39m,\n\u001b[0;32m   (...)\u001b[0m\n\u001b[1;32m  11554\u001b[0m     \u001b[39m*\u001b[39m\u001b[39m*\u001b[39mkwargs,\n\u001b[1;32m  11555\u001b[0m ):\n\u001b[0;32m> 11556\u001b[0m     \u001b[39mreturn\u001b[39;00m NDFrame\u001b[39m.\u001b[39;49mmean(\u001b[39mself\u001b[39;49m, axis, skipna, numeric_only, \u001b[39m*\u001b[39;49m\u001b[39m*\u001b[39;49mkwargs)\n",
            "File \u001b[0;32m~/Developer/python/Hands-On-ML/.venv/lib/python3.11/site-packages/pandas/core/generic.py:11201\u001b[0m, in \u001b[0;36mNDFrame.mean\u001b[0;34m(self, axis, skipna, numeric_only, **kwargs)\u001b[0m\n\u001b[1;32m  11194\u001b[0m \u001b[39mdef\u001b[39;00m \u001b[39mmean\u001b[39m(\n\u001b[1;32m  11195\u001b[0m     \u001b[39mself\u001b[39m,\n\u001b[1;32m  11196\u001b[0m     axis: Axis \u001b[39m|\u001b[39m \u001b[39mNone\u001b[39;00m \u001b[39m=\u001b[39m \u001b[39m0\u001b[39m,\n\u001b[0;32m   (...)\u001b[0m\n\u001b[1;32m  11199\u001b[0m     \u001b[39m*\u001b[39m\u001b[39m*\u001b[39mkwargs,\n\u001b[1;32m  11200\u001b[0m ) \u001b[39m-\u001b[39m\u001b[39m>\u001b[39m Series \u001b[39m|\u001b[39m \u001b[39mfloat\u001b[39m:\n\u001b[0;32m> 11201\u001b[0m     \u001b[39mreturn\u001b[39;00m \u001b[39mself\u001b[39;49m\u001b[39m.\u001b[39;49m_stat_function(\n\u001b[1;32m  11202\u001b[0m         \u001b[39m\"\u001b[39;49m\u001b[39mmean\u001b[39;49m\u001b[39m\"\u001b[39;49m, nanops\u001b[39m.\u001b[39;49mnanmean, axis, skipna, numeric_only, \u001b[39m*\u001b[39;49m\u001b[39m*\u001b[39;49mkwargs\n\u001b[1;32m  11203\u001b[0m     )\n",
            "File \u001b[0;32m~/Developer/python/Hands-On-ML/.venv/lib/python3.11/site-packages/pandas/core/generic.py:11158\u001b[0m, in \u001b[0;36mNDFrame._stat_function\u001b[0;34m(self, name, func, axis, skipna, numeric_only, **kwargs)\u001b[0m\n\u001b[1;32m  11154\u001b[0m     nv\u001b[39m.\u001b[39mvalidate_stat_func((), kwargs, fname\u001b[39m=\u001b[39mname)\n\u001b[1;32m  11156\u001b[0m validate_bool_kwarg(skipna, \u001b[39m\"\u001b[39m\u001b[39mskipna\u001b[39m\u001b[39m\"\u001b[39m, none_allowed\u001b[39m=\u001b[39m\u001b[39mFalse\u001b[39;00m)\n\u001b[0;32m> 11158\u001b[0m \u001b[39mreturn\u001b[39;00m \u001b[39mself\u001b[39;49m\u001b[39m.\u001b[39;49m_reduce(\n\u001b[1;32m  11159\u001b[0m     func, name\u001b[39m=\u001b[39;49mname, axis\u001b[39m=\u001b[39;49maxis, skipna\u001b[39m=\u001b[39;49mskipna, numeric_only\u001b[39m=\u001b[39;49mnumeric_only\n\u001b[1;32m  11160\u001b[0m )\n",
            "File \u001b[0;32m~/Developer/python/Hands-On-ML/.venv/lib/python3.11/site-packages/pandas/core/series.py:4670\u001b[0m, in \u001b[0;36mSeries._reduce\u001b[0;34m(self, op, name, axis, skipna, numeric_only, filter_type, **kwds)\u001b[0m\n\u001b[1;32m   4665\u001b[0m     \u001b[39mraise\u001b[39;00m \u001b[39mTypeError\u001b[39;00m(\n\u001b[1;32m   4666\u001b[0m         \u001b[39mf\u001b[39m\u001b[39m\"\u001b[39m\u001b[39mSeries.\u001b[39m\u001b[39m{\u001b[39;00mname\u001b[39m}\u001b[39;00m\u001b[39m does not allow \u001b[39m\u001b[39m{\u001b[39;00mkwd_name\u001b[39m}\u001b[39;00m\u001b[39m=\u001b[39m\u001b[39m{\u001b[39;00mnumeric_only\u001b[39m}\u001b[39;00m\u001b[39m \u001b[39m\u001b[39m\"\u001b[39m\n\u001b[1;32m   4667\u001b[0m         \u001b[39m\"\u001b[39m\u001b[39mwith non-numeric dtypes.\u001b[39m\u001b[39m\"\u001b[39m\n\u001b[1;32m   4668\u001b[0m     )\n\u001b[1;32m   4669\u001b[0m \u001b[39mwith\u001b[39;00m np\u001b[39m.\u001b[39merrstate(\u001b[39mall\u001b[39m\u001b[39m=\u001b[39m\u001b[39m\"\u001b[39m\u001b[39mignore\u001b[39m\u001b[39m\"\u001b[39m):\n\u001b[0;32m-> 4670\u001b[0m     \u001b[39mreturn\u001b[39;00m op(delegate, skipna\u001b[39m=\u001b[39;49mskipna, \u001b[39m*\u001b[39;49m\u001b[39m*\u001b[39;49mkwds)\n",
            "File \u001b[0;32m~/Developer/python/Hands-On-ML/.venv/lib/python3.11/site-packages/pandas/core/nanops.py:96\u001b[0m, in \u001b[0;36mdisallow.__call__.<locals>._f\u001b[0;34m(*args, **kwargs)\u001b[0m\n\u001b[1;32m     94\u001b[0m \u001b[39mtry\u001b[39;00m:\n\u001b[1;32m     95\u001b[0m     \u001b[39mwith\u001b[39;00m np\u001b[39m.\u001b[39merrstate(invalid\u001b[39m=\u001b[39m\u001b[39m\"\u001b[39m\u001b[39mignore\u001b[39m\u001b[39m\"\u001b[39m):\n\u001b[0;32m---> 96\u001b[0m         \u001b[39mreturn\u001b[39;00m f(\u001b[39m*\u001b[39;49margs, \u001b[39m*\u001b[39;49m\u001b[39m*\u001b[39;49mkwargs)\n\u001b[1;32m     97\u001b[0m \u001b[39mexcept\u001b[39;00m \u001b[39mValueError\u001b[39;00m \u001b[39mas\u001b[39;00m e:\n\u001b[1;32m     98\u001b[0m     \u001b[39m# we want to transform an object array\u001b[39;00m\n\u001b[1;32m     99\u001b[0m     \u001b[39m# ValueError message to the more typical TypeError\u001b[39;00m\n\u001b[1;32m    100\u001b[0m     \u001b[39m# e.g. this is normally a disallowed function on\u001b[39;00m\n\u001b[1;32m    101\u001b[0m     \u001b[39m# object arrays that contain strings\u001b[39;00m\n\u001b[1;32m    102\u001b[0m     \u001b[39mif\u001b[39;00m is_object_dtype(args[\u001b[39m0\u001b[39m]):\n",
            "File \u001b[0;32m~/Developer/python/Hands-On-ML/.venv/lib/python3.11/site-packages/pandas/core/nanops.py:158\u001b[0m, in \u001b[0;36mbottleneck_switch.__call__.<locals>.f\u001b[0;34m(values, axis, skipna, **kwds)\u001b[0m\n\u001b[1;32m    156\u001b[0m         result \u001b[39m=\u001b[39m alt(values, axis\u001b[39m=\u001b[39maxis, skipna\u001b[39m=\u001b[39mskipna, \u001b[39m*\u001b[39m\u001b[39m*\u001b[39mkwds)\n\u001b[1;32m    157\u001b[0m \u001b[39melse\u001b[39;00m:\n\u001b[0;32m--> 158\u001b[0m     result \u001b[39m=\u001b[39m alt(values, axis\u001b[39m=\u001b[39;49maxis, skipna\u001b[39m=\u001b[39;49mskipna, \u001b[39m*\u001b[39;49m\u001b[39m*\u001b[39;49mkwds)\n\u001b[1;32m    160\u001b[0m \u001b[39mreturn\u001b[39;00m result\n",
            "File \u001b[0;32m~/Developer/python/Hands-On-ML/.venv/lib/python3.11/site-packages/pandas/core/nanops.py:421\u001b[0m, in \u001b[0;36m_datetimelike_compat.<locals>.new_func\u001b[0;34m(values, axis, skipna, mask, **kwargs)\u001b[0m\n\u001b[1;32m    418\u001b[0m \u001b[39mif\u001b[39;00m datetimelike \u001b[39mand\u001b[39;00m mask \u001b[39mis\u001b[39;00m \u001b[39mNone\u001b[39;00m:\n\u001b[1;32m    419\u001b[0m     mask \u001b[39m=\u001b[39m isna(values)\n\u001b[0;32m--> 421\u001b[0m result \u001b[39m=\u001b[39m func(values, axis\u001b[39m=\u001b[39;49maxis, skipna\u001b[39m=\u001b[39;49mskipna, mask\u001b[39m=\u001b[39;49mmask, \u001b[39m*\u001b[39;49m\u001b[39m*\u001b[39;49mkwargs)\n\u001b[1;32m    423\u001b[0m \u001b[39mif\u001b[39;00m datetimelike:\n\u001b[1;32m    424\u001b[0m     result \u001b[39m=\u001b[39m _wrap_results(result, orig_values\u001b[39m.\u001b[39mdtype, fill_value\u001b[39m=\u001b[39miNaT)\n",
            "File \u001b[0;32m~/Developer/python/Hands-On-ML/.venv/lib/python3.11/site-packages/pandas/core/nanops.py:727\u001b[0m, in \u001b[0;36mnanmean\u001b[0;34m(values, axis, skipna, mask)\u001b[0m\n\u001b[1;32m    724\u001b[0m     dtype_count \u001b[39m=\u001b[39m dtype\n\u001b[1;32m    726\u001b[0m count \u001b[39m=\u001b[39m _get_counts(values\u001b[39m.\u001b[39mshape, mask, axis, dtype\u001b[39m=\u001b[39mdtype_count)\n\u001b[0;32m--> 727\u001b[0m the_sum \u001b[39m=\u001b[39m _ensure_numeric(values\u001b[39m.\u001b[39;49msum(axis, dtype\u001b[39m=\u001b[39;49mdtype_sum))\n\u001b[1;32m    729\u001b[0m \u001b[39mif\u001b[39;00m axis \u001b[39mis\u001b[39;00m \u001b[39mnot\u001b[39;00m \u001b[39mNone\u001b[39;00m \u001b[39mand\u001b[39;00m \u001b[39mgetattr\u001b[39m(the_sum, \u001b[39m\"\u001b[39m\u001b[39mndim\u001b[39m\u001b[39m\"\u001b[39m, \u001b[39mFalse\u001b[39;00m):\n\u001b[1;32m    730\u001b[0m     count \u001b[39m=\u001b[39m cast(np\u001b[39m.\u001b[39mndarray, count)\n",
            "File \u001b[0;32m~/Developer/python/Hands-On-ML/.venv/lib/python3.11/site-packages/pandas/core/nanops.py:1699\u001b[0m, in \u001b[0;36m_ensure_numeric\u001b[0;34m(x)\u001b[0m\n\u001b[1;32m   1696\u001b[0m             x \u001b[39m=\u001b[39m \u001b[39mcomplex\u001b[39m(x)\n\u001b[1;32m   1697\u001b[0m         \u001b[39mexcept\u001b[39;00m \u001b[39mValueError\u001b[39;00m \u001b[39mas\u001b[39;00m err:\n\u001b[1;32m   1698\u001b[0m             \u001b[39m# e.g. \"foo\"\u001b[39;00m\n\u001b[0;32m-> 1699\u001b[0m             \u001b[39mraise\u001b[39;00m \u001b[39mTypeError\u001b[39;00m(\u001b[39mf\u001b[39m\u001b[39m\"\u001b[39m\u001b[39mCould not convert \u001b[39m\u001b[39m{\u001b[39;00mx\u001b[39m}\u001b[39;00m\u001b[39m to numeric\u001b[39m\u001b[39m\"\u001b[39m) \u001b[39mfrom\u001b[39;00m \u001b[39merr\u001b[39;00m\n\u001b[1;32m   1700\u001b[0m \u001b[39mreturn\u001b[39;00m x\n",
            "\u001b[0;31mTypeError\u001b[0m: Could not convert sepoctnov to numeric"
          ]
        }
      ],
      "source": [
        "pd.pivot_table(more_grades, index=\"name\")"
      ]
    },
    {
      "cell_type": "markdown",
      "metadata": {
        "id": "6xarMsSY1mx6"
      },
      "source": [
        "We can change the aggregation function by setting the `aggfunc` argument, and we can also specify the list of columns whose values will be aggregated:"
      ]
    },
    {
      "cell_type": "code",
      "execution_count": null,
      "metadata": {
        "id": "e0rS3-461mx6",
        "outputId": "735522af-b7de-4b7d-ace4-72c30da85576"
      },
      "outputs": [
        {
          "data": {
            "text/html": [
              "<div>\n",
              "<style>\n",
              "    .dataframe thead tr:only-child th {\n",
              "        text-align: right;\n",
              "    }\n",
              "\n",
              "    .dataframe thead th {\n",
              "        text-align: left;\n",
              "    }\n",
              "\n",
              "    .dataframe tbody tr th {\n",
              "        vertical-align: top;\n",
              "    }\n",
              "</style>\n",
              "<table border=\"1\" class=\"dataframe\">\n",
              "  <thead>\n",
              "    <tr style=\"text-align: right;\">\n",
              "      <th></th>\n",
              "      <th>bonus</th>\n",
              "      <th>grade</th>\n",
              "    </tr>\n",
              "    <tr>\n",
              "      <th>name</th>\n",
              "      <th></th>\n",
              "      <th></th>\n",
              "    </tr>\n",
              "  </thead>\n",
              "  <tbody>\n",
              "    <tr>\n",
              "      <th>alice</th>\n",
              "      <td>NaN</td>\n",
              "      <td>9.0</td>\n",
              "    </tr>\n",
              "    <tr>\n",
              "      <th>bob</th>\n",
              "      <td>2.0</td>\n",
              "      <td>10.0</td>\n",
              "    </tr>\n",
              "    <tr>\n",
              "      <th>charles</th>\n",
              "      <td>3.0</td>\n",
              "      <td>11.0</td>\n",
              "    </tr>\n",
              "    <tr>\n",
              "      <th>darwin</th>\n",
              "      <td>1.0</td>\n",
              "      <td>11.0</td>\n",
              "    </tr>\n",
              "  </tbody>\n",
              "</table>\n",
              "</div>"
            ],
            "text/plain": [
              "         bonus  grade\n",
              "name                 \n",
              "alice      NaN    9.0\n",
              "bob        2.0   10.0\n",
              "charles    3.0   11.0\n",
              "darwin     1.0   11.0"
            ]
          },
          "execution_count": 121,
          "metadata": {},
          "output_type": "execute_result"
        }
      ],
      "source": [
        "pd.pivot_table(more_grades, index=\"name\", values=[\"grade\", \"bonus\"], aggfunc=np.max)"
      ]
    },
    {
      "cell_type": "markdown",
      "metadata": {
        "id": "9x0zNQbv1mx6"
      },
      "source": [
        "We can also specify the `columns` to aggregate over horizontally, and request the grand totals for each row and column by setting `margins=True`:"
      ]
    },
    {
      "cell_type": "code",
      "execution_count": null,
      "metadata": {
        "id": "Sc_96jKO1mx6",
        "outputId": "a6c49a18-3035-4130-f831-bbb888964746"
      },
      "outputs": [
        {
          "data": {
            "text/html": [
              "<div>\n",
              "<style>\n",
              "    .dataframe thead tr:only-child th {\n",
              "        text-align: right;\n",
              "    }\n",
              "\n",
              "    .dataframe thead th {\n",
              "        text-align: left;\n",
              "    }\n",
              "\n",
              "    .dataframe tbody tr th {\n",
              "        vertical-align: top;\n",
              "    }\n",
              "</style>\n",
              "<table border=\"1\" class=\"dataframe\">\n",
              "  <thead>\n",
              "    <tr style=\"text-align: right;\">\n",
              "      <th>month</th>\n",
              "      <th>nov</th>\n",
              "      <th>oct</th>\n",
              "      <th>sep</th>\n",
              "      <th>All</th>\n",
              "    </tr>\n",
              "    <tr>\n",
              "      <th>name</th>\n",
              "      <th></th>\n",
              "      <th></th>\n",
              "      <th></th>\n",
              "      <th></th>\n",
              "    </tr>\n",
              "  </thead>\n",
              "  <tbody>\n",
              "    <tr>\n",
              "      <th>alice</th>\n",
              "      <td>9.00</td>\n",
              "      <td>8.0</td>\n",
              "      <td>8.00</td>\n",
              "      <td>8.333333</td>\n",
              "    </tr>\n",
              "    <tr>\n",
              "      <th>bob</th>\n",
              "      <td>10.00</td>\n",
              "      <td>9.0</td>\n",
              "      <td>10.00</td>\n",
              "      <td>9.666667</td>\n",
              "    </tr>\n",
              "    <tr>\n",
              "      <th>charles</th>\n",
              "      <td>5.00</td>\n",
              "      <td>11.0</td>\n",
              "      <td>4.00</td>\n",
              "      <td>6.666667</td>\n",
              "    </tr>\n",
              "    <tr>\n",
              "      <th>darwin</th>\n",
              "      <td>11.00</td>\n",
              "      <td>10.0</td>\n",
              "      <td>9.00</td>\n",
              "      <td>10.000000</td>\n",
              "    </tr>\n",
              "    <tr>\n",
              "      <th>All</th>\n",
              "      <td>8.75</td>\n",
              "      <td>9.5</td>\n",
              "      <td>7.75</td>\n",
              "      <td>8.666667</td>\n",
              "    </tr>\n",
              "  </tbody>\n",
              "</table>\n",
              "</div>"
            ],
            "text/plain": [
              "month      nov   oct    sep        All\n",
              "name                                  \n",
              "alice     9.00   8.0   8.00   8.333333\n",
              "bob      10.00   9.0  10.00   9.666667\n",
              "charles   5.00  11.0   4.00   6.666667\n",
              "darwin   11.00  10.0   9.00  10.000000\n",
              "All       8.75   9.5   7.75   8.666667"
            ]
          },
          "execution_count": 122,
          "metadata": {},
          "output_type": "execute_result"
        }
      ],
      "source": [
        "pd.pivot_table(more_grades, index=\"name\", values=\"grade\", columns=\"month\", margins=True)"
      ]
    },
    {
      "cell_type": "markdown",
      "metadata": {
        "id": "RwMirGd81mx6"
      },
      "source": [
        "Finally, we can specify multiple index or column names, and pandas will create multi-level indices:"
      ]
    },
    {
      "cell_type": "code",
      "execution_count": null,
      "metadata": {
        "id": "Y2X-1vhd1mx6",
        "outputId": "5a3bab33-80d7-429a-d9e3-c877aabefddf"
      },
      "outputs": [
        {
          "data": {
            "text/html": [
              "<div>\n",
              "<style>\n",
              "    .dataframe thead tr:only-child th {\n",
              "        text-align: right;\n",
              "    }\n",
              "\n",
              "    .dataframe thead th {\n",
              "        text-align: left;\n",
              "    }\n",
              "\n",
              "    .dataframe tbody tr th {\n",
              "        vertical-align: top;\n",
              "    }\n",
              "</style>\n",
              "<table border=\"1\" class=\"dataframe\">\n",
              "  <thead>\n",
              "    <tr style=\"text-align: right;\">\n",
              "      <th></th>\n",
              "      <th></th>\n",
              "      <th>bonus</th>\n",
              "      <th>grade</th>\n",
              "    </tr>\n",
              "    <tr>\n",
              "      <th>name</th>\n",
              "      <th>month</th>\n",
              "      <th></th>\n",
              "      <th></th>\n",
              "    </tr>\n",
              "  </thead>\n",
              "  <tbody>\n",
              "    <tr>\n",
              "      <th rowspan=\"3\" valign=\"top\">alice</th>\n",
              "      <th>nov</th>\n",
              "      <td>NaN</td>\n",
              "      <td>9.00</td>\n",
              "    </tr>\n",
              "    <tr>\n",
              "      <th>oct</th>\n",
              "      <td>NaN</td>\n",
              "      <td>8.00</td>\n",
              "    </tr>\n",
              "    <tr>\n",
              "      <th>sep</th>\n",
              "      <td>NaN</td>\n",
              "      <td>8.00</td>\n",
              "    </tr>\n",
              "    <tr>\n",
              "      <th rowspan=\"3\" valign=\"top\">bob</th>\n",
              "      <th>nov</th>\n",
              "      <td>2.000</td>\n",
              "      <td>10.00</td>\n",
              "    </tr>\n",
              "    <tr>\n",
              "      <th>oct</th>\n",
              "      <td>NaN</td>\n",
              "      <td>9.00</td>\n",
              "    </tr>\n",
              "    <tr>\n",
              "      <th>sep</th>\n",
              "      <td>0.000</td>\n",
              "      <td>10.00</td>\n",
              "    </tr>\n",
              "    <tr>\n",
              "      <th rowspan=\"3\" valign=\"top\">charles</th>\n",
              "      <th>nov</th>\n",
              "      <td>0.000</td>\n",
              "      <td>5.00</td>\n",
              "    </tr>\n",
              "    <tr>\n",
              "      <th>oct</th>\n",
              "      <td>3.000</td>\n",
              "      <td>11.00</td>\n",
              "    </tr>\n",
              "    <tr>\n",
              "      <th>sep</th>\n",
              "      <td>3.000</td>\n",
              "      <td>4.00</td>\n",
              "    </tr>\n",
              "    <tr>\n",
              "      <th rowspan=\"3\" valign=\"top\">darwin</th>\n",
              "      <th>nov</th>\n",
              "      <td>0.000</td>\n",
              "      <td>11.00</td>\n",
              "    </tr>\n",
              "    <tr>\n",
              "      <th>oct</th>\n",
              "      <td>1.000</td>\n",
              "      <td>10.00</td>\n",
              "    </tr>\n",
              "    <tr>\n",
              "      <th>sep</th>\n",
              "      <td>0.000</td>\n",
              "      <td>9.00</td>\n",
              "    </tr>\n",
              "    <tr>\n",
              "      <th>All</th>\n",
              "      <th></th>\n",
              "      <td>1.125</td>\n",
              "      <td>8.75</td>\n",
              "    </tr>\n",
              "  </tbody>\n",
              "</table>\n",
              "</div>"
            ],
            "text/plain": [
              "               bonus  grade\n",
              "name    month              \n",
              "alice   nov      NaN   9.00\n",
              "        oct      NaN   8.00\n",
              "        sep      NaN   8.00\n",
              "bob     nov    2.000  10.00\n",
              "        oct      NaN   9.00\n",
              "        sep    0.000  10.00\n",
              "charles nov    0.000   5.00\n",
              "        oct    3.000  11.00\n",
              "        sep    3.000   4.00\n",
              "darwin  nov    0.000  11.00\n",
              "        oct    1.000  10.00\n",
              "        sep    0.000   9.00\n",
              "All            1.125   8.75"
            ]
          },
          "execution_count": 123,
          "metadata": {},
          "output_type": "execute_result"
        }
      ],
      "source": [
        "pd.pivot_table(more_grades, index=(\"name\", \"month\"), margins=True)"
      ]
    },
    {
      "cell_type": "markdown",
      "metadata": {
        "id": "noylf8Ux1mx7"
      },
      "source": [
        "## Overview functions\n",
        "When dealing with large `DataFrames`, it is useful to get a quick overview of its content. Pandas offers a few functions for this. First, let's create a large `DataFrame` with a mix of numeric values, missing values and text values. Notice how Jupyter displays only the corners of the `DataFrame`:"
      ]
    },
    {
      "cell_type": "code",
      "execution_count": null,
      "metadata": {
        "id": "aWso21TC1mx7",
        "outputId": "d99b421c-ca6b-4162-fa2d-172479fad878"
      },
      "outputs": [
        {
          "data": {
            "text/html": [
              "<div>\n",
              "<style>\n",
              "    .dataframe thead tr:only-child th {\n",
              "        text-align: right;\n",
              "    }\n",
              "\n",
              "    .dataframe thead th {\n",
              "        text-align: left;\n",
              "    }\n",
              "\n",
              "    .dataframe tbody tr th {\n",
              "        vertical-align: top;\n",
              "    }\n",
              "</style>\n",
              "<table border=\"1\" class=\"dataframe\">\n",
              "  <thead>\n",
              "    <tr style=\"text-align: right;\">\n",
              "      <th></th>\n",
              "      <th>A</th>\n",
              "      <th>B</th>\n",
              "      <th>C</th>\n",
              "      <th>some_text</th>\n",
              "      <th>D</th>\n",
              "      <th>E</th>\n",
              "      <th>F</th>\n",
              "      <th>G</th>\n",
              "      <th>H</th>\n",
              "      <th>I</th>\n",
              "      <th>...</th>\n",
              "      <th>Q</th>\n",
              "      <th>R</th>\n",
              "      <th>S</th>\n",
              "      <th>T</th>\n",
              "      <th>U</th>\n",
              "      <th>V</th>\n",
              "      <th>W</th>\n",
              "      <th>X</th>\n",
              "      <th>Y</th>\n",
              "      <th>Z</th>\n",
              "    </tr>\n",
              "  </thead>\n",
              "  <tbody>\n",
              "    <tr>\n",
              "      <th>0</th>\n",
              "      <td>NaN</td>\n",
              "      <td>11.0</td>\n",
              "      <td>44.0</td>\n",
              "      <td>Blabla</td>\n",
              "      <td>99.0</td>\n",
              "      <td>NaN</td>\n",
              "      <td>88.0</td>\n",
              "      <td>22.0</td>\n",
              "      <td>165.0</td>\n",
              "      <td>143.0</td>\n",
              "      <td>...</td>\n",
              "      <td>11.0</td>\n",
              "      <td>NaN</td>\n",
              "      <td>11.0</td>\n",
              "      <td>44.0</td>\n",
              "      <td>99.0</td>\n",
              "      <td>NaN</td>\n",
              "      <td>88.0</td>\n",
              "      <td>22.0</td>\n",
              "      <td>165.0</td>\n",
              "      <td>143.0</td>\n",
              "    </tr>\n",
              "    <tr>\n",
              "      <th>1</th>\n",
              "      <td>11.0</td>\n",
              "      <td>22.0</td>\n",
              "      <td>55.0</td>\n",
              "      <td>Blabla</td>\n",
              "      <td>110.0</td>\n",
              "      <td>NaN</td>\n",
              "      <td>99.0</td>\n",
              "      <td>33.0</td>\n",
              "      <td>NaN</td>\n",
              "      <td>154.0</td>\n",
              "      <td>...</td>\n",
              "      <td>22.0</td>\n",
              "      <td>11.0</td>\n",
              "      <td>22.0</td>\n",
              "      <td>55.0</td>\n",
              "      <td>110.0</td>\n",
              "      <td>NaN</td>\n",
              "      <td>99.0</td>\n",
              "      <td>33.0</td>\n",
              "      <td>NaN</td>\n",
              "      <td>154.0</td>\n",
              "    </tr>\n",
              "    <tr>\n",
              "      <th>2</th>\n",
              "      <td>22.0</td>\n",
              "      <td>33.0</td>\n",
              "      <td>66.0</td>\n",
              "      <td>Blabla</td>\n",
              "      <td>121.0</td>\n",
              "      <td>11.0</td>\n",
              "      <td>110.0</td>\n",
              "      <td>44.0</td>\n",
              "      <td>NaN</td>\n",
              "      <td>165.0</td>\n",
              "      <td>...</td>\n",
              "      <td>33.0</td>\n",
              "      <td>22.0</td>\n",
              "      <td>33.0</td>\n",
              "      <td>66.0</td>\n",
              "      <td>121.0</td>\n",
              "      <td>11.0</td>\n",
              "      <td>110.0</td>\n",
              "      <td>44.0</td>\n",
              "      <td>NaN</td>\n",
              "      <td>165.0</td>\n",
              "    </tr>\n",
              "    <tr>\n",
              "      <th>3</th>\n",
              "      <td>33.0</td>\n",
              "      <td>44.0</td>\n",
              "      <td>77.0</td>\n",
              "      <td>Blabla</td>\n",
              "      <td>132.0</td>\n",
              "      <td>22.0</td>\n",
              "      <td>121.0</td>\n",
              "      <td>55.0</td>\n",
              "      <td>11.0</td>\n",
              "      <td>NaN</td>\n",
              "      <td>...</td>\n",
              "      <td>44.0</td>\n",
              "      <td>33.0</td>\n",
              "      <td>44.0</td>\n",
              "      <td>77.0</td>\n",
              "      <td>132.0</td>\n",
              "      <td>22.0</td>\n",
              "      <td>121.0</td>\n",
              "      <td>55.0</td>\n",
              "      <td>11.0</td>\n",
              "      <td>NaN</td>\n",
              "    </tr>\n",
              "    <tr>\n",
              "      <th>4</th>\n",
              "      <td>44.0</td>\n",
              "      <td>55.0</td>\n",
              "      <td>88.0</td>\n",
              "      <td>Blabla</td>\n",
              "      <td>143.0</td>\n",
              "      <td>33.0</td>\n",
              "      <td>132.0</td>\n",
              "      <td>66.0</td>\n",
              "      <td>22.0</td>\n",
              "      <td>NaN</td>\n",
              "      <td>...</td>\n",
              "      <td>55.0</td>\n",
              "      <td>44.0</td>\n",
              "      <td>55.0</td>\n",
              "      <td>88.0</td>\n",
              "      <td>143.0</td>\n",
              "      <td>33.0</td>\n",
              "      <td>132.0</td>\n",
              "      <td>66.0</td>\n",
              "      <td>22.0</td>\n",
              "      <td>NaN</td>\n",
              "    </tr>\n",
              "    <tr>\n",
              "      <th>5</th>\n",
              "      <td>55.0</td>\n",
              "      <td>66.0</td>\n",
              "      <td>99.0</td>\n",
              "      <td>Blabla</td>\n",
              "      <td>154.0</td>\n",
              "      <td>44.0</td>\n",
              "      <td>143.0</td>\n",
              "      <td>77.0</td>\n",
              "      <td>33.0</td>\n",
              "      <td>11.0</td>\n",
              "      <td>...</td>\n",
              "      <td>66.0</td>\n",
              "      <td>55.0</td>\n",
              "      <td>66.0</td>\n",
              "      <td>99.0</td>\n",
              "      <td>154.0</td>\n",
              "      <td>44.0</td>\n",
              "      <td>143.0</td>\n",
              "      <td>77.0</td>\n",
              "      <td>33.0</td>\n",
              "      <td>11.0</td>\n",
              "    </tr>\n",
              "    <tr>\n",
              "      <th>6</th>\n",
              "      <td>66.0</td>\n",
              "      <td>77.0</td>\n",
              "      <td>110.0</td>\n",
              "      <td>Blabla</td>\n",
              "      <td>165.0</td>\n",
              "      <td>55.0</td>\n",
              "      <td>154.0</td>\n",
              "      <td>88.0</td>\n",
              "      <td>44.0</td>\n",
              "      <td>22.0</td>\n",
              "      <td>...</td>\n",
              "      <td>77.0</td>\n",
              "      <td>66.0</td>\n",
              "      <td>77.0</td>\n",
              "      <td>110.0</td>\n",
              "      <td>165.0</td>\n",
              "      <td>55.0</td>\n",
              "      <td>154.0</td>\n",
              "      <td>88.0</td>\n",
              "      <td>44.0</td>\n",
              "      <td>22.0</td>\n",
              "    </tr>\n",
              "    <tr>\n",
              "      <th>7</th>\n",
              "      <td>77.0</td>\n",
              "      <td>88.0</td>\n",
              "      <td>121.0</td>\n",
              "      <td>Blabla</td>\n",
              "      <td>NaN</td>\n",
              "      <td>66.0</td>\n",
              "      <td>165.0</td>\n",
              "      <td>99.0</td>\n",
              "      <td>55.0</td>\n",
              "      <td>33.0</td>\n",
              "      <td>...</td>\n",
              "      <td>88.0</td>\n",
              "      <td>77.0</td>\n",
              "      <td>88.0</td>\n",
              "      <td>121.0</td>\n",
              "      <td>NaN</td>\n",
              "      <td>66.0</td>\n",
              "      <td>165.0</td>\n",
              "      <td>99.0</td>\n",
              "      <td>55.0</td>\n",
              "      <td>33.0</td>\n",
              "    </tr>\n",
              "    <tr>\n",
              "      <th>8</th>\n",
              "      <td>88.0</td>\n",
              "      <td>99.0</td>\n",
              "      <td>132.0</td>\n",
              "      <td>Blabla</td>\n",
              "      <td>NaN</td>\n",
              "      <td>77.0</td>\n",
              "      <td>NaN</td>\n",
              "      <td>110.0</td>\n",
              "      <td>66.0</td>\n",
              "      <td>44.0</td>\n",
              "      <td>...</td>\n",
              "      <td>99.0</td>\n",
              "      <td>88.0</td>\n",
              "      <td>99.0</td>\n",
              "      <td>132.0</td>\n",
              "      <td>NaN</td>\n",
              "      <td>77.0</td>\n",
              "      <td>NaN</td>\n",
              "      <td>110.0</td>\n",
              "      <td>66.0</td>\n",
              "      <td>44.0</td>\n",
              "    </tr>\n",
              "    <tr>\n",
              "      <th>9</th>\n",
              "      <td>99.0</td>\n",
              "      <td>110.0</td>\n",
              "      <td>143.0</td>\n",
              "      <td>Blabla</td>\n",
              "      <td>11.0</td>\n",
              "      <td>88.0</td>\n",
              "      <td>NaN</td>\n",
              "      <td>121.0</td>\n",
              "      <td>77.0</td>\n",
              "      <td>55.0</td>\n",
              "      <td>...</td>\n",
              "      <td>110.0</td>\n",
              "      <td>99.0</td>\n",
              "      <td>110.0</td>\n",
              "      <td>143.0</td>\n",
              "      <td>11.0</td>\n",
              "      <td>88.0</td>\n",
              "      <td>NaN</td>\n",
              "      <td>121.0</td>\n",
              "      <td>77.0</td>\n",
              "      <td>55.0</td>\n",
              "    </tr>\n",
              "    <tr>\n",
              "      <th>10</th>\n",
              "      <td>110.0</td>\n",
              "      <td>121.0</td>\n",
              "      <td>154.0</td>\n",
              "      <td>Blabla</td>\n",
              "      <td>22.0</td>\n",
              "      <td>99.0</td>\n",
              "      <td>11.0</td>\n",
              "      <td>132.0</td>\n",
              "      <td>88.0</td>\n",
              "      <td>66.0</td>\n",
              "      <td>...</td>\n",
              "      <td>121.0</td>\n",
              "      <td>110.0</td>\n",
              "      <td>121.0</td>\n",
              "      <td>154.0</td>\n",
              "      <td>22.0</td>\n",
              "      <td>99.0</td>\n",
              "      <td>11.0</td>\n",
              "      <td>132.0</td>\n",
              "      <td>88.0</td>\n",
              "      <td>66.0</td>\n",
              "    </tr>\n",
              "    <tr>\n",
              "      <th>11</th>\n",
              "      <td>121.0</td>\n",
              "      <td>132.0</td>\n",
              "      <td>165.0</td>\n",
              "      <td>Blabla</td>\n",
              "      <td>33.0</td>\n",
              "      <td>110.0</td>\n",
              "      <td>22.0</td>\n",
              "      <td>143.0</td>\n",
              "      <td>99.0</td>\n",
              "      <td>77.0</td>\n",
              "      <td>...</td>\n",
              "      <td>132.0</td>\n",
              "      <td>121.0</td>\n",
              "      <td>132.0</td>\n",
              "      <td>165.0</td>\n",
              "      <td>33.0</td>\n",
              "      <td>110.0</td>\n",
              "      <td>22.0</td>\n",
              "      <td>143.0</td>\n",
              "      <td>99.0</td>\n",
              "      <td>77.0</td>\n",
              "    </tr>\n",
              "    <tr>\n",
              "      <th>12</th>\n",
              "      <td>132.0</td>\n",
              "      <td>143.0</td>\n",
              "      <td>NaN</td>\n",
              "      <td>Blabla</td>\n",
              "      <td>44.0</td>\n",
              "      <td>121.0</td>\n",
              "      <td>33.0</td>\n",
              "      <td>154.0</td>\n",
              "      <td>110.0</td>\n",
              "      <td>88.0</td>\n",
              "      <td>...</td>\n",
              "      <td>143.0</td>\n",
              "      <td>132.0</td>\n",
              "      <td>143.0</td>\n",
              "      <td>NaN</td>\n",
              "      <td>44.0</td>\n",
              "      <td>121.0</td>\n",
              "      <td>33.0</td>\n",
              "      <td>154.0</td>\n",
              "      <td>110.0</td>\n",
              "      <td>88.0</td>\n",
              "    </tr>\n",
              "    <tr>\n",
              "      <th>13</th>\n",
              "      <td>143.0</td>\n",
              "      <td>154.0</td>\n",
              "      <td>NaN</td>\n",
              "      <td>Blabla</td>\n",
              "      <td>55.0</td>\n",
              "      <td>132.0</td>\n",
              "      <td>44.0</td>\n",
              "      <td>165.0</td>\n",
              "      <td>121.0</td>\n",
              "      <td>99.0</td>\n",
              "      <td>...</td>\n",
              "      <td>154.0</td>\n",
              "      <td>143.0</td>\n",
              "      <td>154.0</td>\n",
              "      <td>NaN</td>\n",
              "      <td>55.0</td>\n",
              "      <td>132.0</td>\n",
              "      <td>44.0</td>\n",
              "      <td>165.0</td>\n",
              "      <td>121.0</td>\n",
              "      <td>99.0</td>\n",
              "    </tr>\n",
              "    <tr>\n",
              "      <th>14</th>\n",
              "      <td>154.0</td>\n",
              "      <td>165.0</td>\n",
              "      <td>11.0</td>\n",
              "      <td>Blabla</td>\n",
              "      <td>66.0</td>\n",
              "      <td>143.0</td>\n",
              "      <td>55.0</td>\n",
              "      <td>NaN</td>\n",
              "      <td>132.0</td>\n",
              "      <td>110.0</td>\n",
              "      <td>...</td>\n",
              "      <td>165.0</td>\n",
              "      <td>154.0</td>\n",
              "      <td>165.0</td>\n",
              "      <td>11.0</td>\n",
              "      <td>66.0</td>\n",
              "      <td>143.0</td>\n",
              "      <td>55.0</td>\n",
              "      <td>NaN</td>\n",
              "      <td>132.0</td>\n",
              "      <td>110.0</td>\n",
              "    </tr>\n",
              "    <tr>\n",
              "      <th>15</th>\n",
              "      <td>165.0</td>\n",
              "      <td>NaN</td>\n",
              "      <td>22.0</td>\n",
              "      <td>Blabla</td>\n",
              "      <td>77.0</td>\n",
              "      <td>154.0</td>\n",
              "      <td>66.0</td>\n",
              "      <td>NaN</td>\n",
              "      <td>143.0</td>\n",
              "      <td>121.0</td>\n",
              "      <td>...</td>\n",
              "      <td>NaN</td>\n",
              "      <td>165.0</td>\n",
              "      <td>NaN</td>\n",
              "      <td>22.0</td>\n",
              "      <td>77.0</td>\n",
              "      <td>154.0</td>\n",
              "      <td>66.0</td>\n",
              "      <td>NaN</td>\n",
              "      <td>143.0</td>\n",
              "      <td>121.0</td>\n",
              "    </tr>\n",
              "    <tr>\n",
              "      <th>16</th>\n",
              "      <td>NaN</td>\n",
              "      <td>NaN</td>\n",
              "      <td>33.0</td>\n",
              "      <td>Blabla</td>\n",
              "      <td>88.0</td>\n",
              "      <td>165.0</td>\n",
              "      <td>77.0</td>\n",
              "      <td>11.0</td>\n",
              "      <td>154.0</td>\n",
              "      <td>132.0</td>\n",
              "      <td>...</td>\n",
              "      <td>NaN</td>\n",
              "      <td>NaN</td>\n",
              "      <td>NaN</td>\n",
              "      <td>33.0</td>\n",
              "      <td>88.0</td>\n",
              "      <td>165.0</td>\n",
              "      <td>77.0</td>\n",
              "      <td>11.0</td>\n",
              "      <td>154.0</td>\n",
              "      <td>132.0</td>\n",
              "    </tr>\n",
              "    <tr>\n",
              "      <th>17</th>\n",
              "      <td>NaN</td>\n",
              "      <td>11.0</td>\n",
              "      <td>44.0</td>\n",
              "      <td>Blabla</td>\n",
              "      <td>99.0</td>\n",
              "      <td>NaN</td>\n",
              "      <td>88.0</td>\n",
              "      <td>22.0</td>\n",
              "      <td>165.0</td>\n",
              "      <td>143.0</td>\n",
              "      <td>...</td>\n",
              "      <td>11.0</td>\n",
              "      <td>NaN</td>\n",
              "      <td>11.0</td>\n",
              "      <td>44.0</td>\n",
              "      <td>99.0</td>\n",
              "      <td>NaN</td>\n",
              "      <td>88.0</td>\n",
              "      <td>22.0</td>\n",
              "      <td>165.0</td>\n",
              "      <td>143.0</td>\n",
              "    </tr>\n",
              "    <tr>\n",
              "      <th>18</th>\n",
              "      <td>11.0</td>\n",
              "      <td>22.0</td>\n",
              "      <td>55.0</td>\n",
              "      <td>Blabla</td>\n",
              "      <td>110.0</td>\n",
              "      <td>NaN</td>\n",
              "      <td>99.0</td>\n",
              "      <td>33.0</td>\n",
              "      <td>NaN</td>\n",
              "      <td>154.0</td>\n",
              "      <td>...</td>\n",
              "      <td>22.0</td>\n",
              "      <td>11.0</td>\n",
              "      <td>22.0</td>\n",
              "      <td>55.0</td>\n",
              "      <td>110.0</td>\n",
              "      <td>NaN</td>\n",
              "      <td>99.0</td>\n",
              "      <td>33.0</td>\n",
              "      <td>NaN</td>\n",
              "      <td>154.0</td>\n",
              "    </tr>\n",
              "    <tr>\n",
              "      <th>19</th>\n",
              "      <td>22.0</td>\n",
              "      <td>33.0</td>\n",
              "      <td>66.0</td>\n",
              "      <td>Blabla</td>\n",
              "      <td>121.0</td>\n",
              "      <td>11.0</td>\n",
              "      <td>110.0</td>\n",
              "      <td>44.0</td>\n",
              "      <td>NaN</td>\n",
              "      <td>165.0</td>\n",
              "      <td>...</td>\n",
              "      <td>33.0</td>\n",
              "      <td>22.0</td>\n",
              "      <td>33.0</td>\n",
              "      <td>66.0</td>\n",
              "      <td>121.0</td>\n",
              "      <td>11.0</td>\n",
              "      <td>110.0</td>\n",
              "      <td>44.0</td>\n",
              "      <td>NaN</td>\n",
              "      <td>165.0</td>\n",
              "    </tr>\n",
              "    <tr>\n",
              "      <th>20</th>\n",
              "      <td>33.0</td>\n",
              "      <td>44.0</td>\n",
              "      <td>77.0</td>\n",
              "      <td>Blabla</td>\n",
              "      <td>132.0</td>\n",
              "      <td>22.0</td>\n",
              "      <td>121.0</td>\n",
              "      <td>55.0</td>\n",
              "      <td>11.0</td>\n",
              "      <td>NaN</td>\n",
              "      <td>...</td>\n",
              "      <td>44.0</td>\n",
              "      <td>33.0</td>\n",
              "      <td>44.0</td>\n",
              "      <td>77.0</td>\n",
              "      <td>132.0</td>\n",
              "      <td>22.0</td>\n",
              "      <td>121.0</td>\n",
              "      <td>55.0</td>\n",
              "      <td>11.0</td>\n",
              "      <td>NaN</td>\n",
              "    </tr>\n",
              "    <tr>\n",
              "      <th>21</th>\n",
              "      <td>44.0</td>\n",
              "      <td>55.0</td>\n",
              "      <td>88.0</td>\n",
              "      <td>Blabla</td>\n",
              "      <td>143.0</td>\n",
              "      <td>33.0</td>\n",
              "      <td>132.0</td>\n",
              "      <td>66.0</td>\n",
              "      <td>22.0</td>\n",
              "      <td>NaN</td>\n",
              "      <td>...</td>\n",
              "      <td>55.0</td>\n",
              "      <td>44.0</td>\n",
              "      <td>55.0</td>\n",
              "      <td>88.0</td>\n",
              "      <td>143.0</td>\n",
              "      <td>33.0</td>\n",
              "      <td>132.0</td>\n",
              "      <td>66.0</td>\n",
              "      <td>22.0</td>\n",
              "      <td>NaN</td>\n",
              "    </tr>\n",
              "    <tr>\n",
              "      <th>22</th>\n",
              "      <td>55.0</td>\n",
              "      <td>66.0</td>\n",
              "      <td>99.0</td>\n",
              "      <td>Blabla</td>\n",
              "      <td>154.0</td>\n",
              "      <td>44.0</td>\n",
              "      <td>143.0</td>\n",
              "      <td>77.0</td>\n",
              "      <td>33.0</td>\n",
              "      <td>11.0</td>\n",
              "      <td>...</td>\n",
              "      <td>66.0</td>\n",
              "      <td>55.0</td>\n",
              "      <td>66.0</td>\n",
              "      <td>99.0</td>\n",
              "      <td>154.0</td>\n",
              "      <td>44.0</td>\n",
              "      <td>143.0</td>\n",
              "      <td>77.0</td>\n",
              "      <td>33.0</td>\n",
              "      <td>11.0</td>\n",
              "    </tr>\n",
              "    <tr>\n",
              "      <th>23</th>\n",
              "      <td>66.0</td>\n",
              "      <td>77.0</td>\n",
              "      <td>110.0</td>\n",
              "      <td>Blabla</td>\n",
              "      <td>165.0</td>\n",
              "      <td>55.0</td>\n",
              "      <td>154.0</td>\n",
              "      <td>88.0</td>\n",
              "      <td>44.0</td>\n",
              "      <td>22.0</td>\n",
              "      <td>...</td>\n",
              "      <td>77.0</td>\n",
              "      <td>66.0</td>\n",
              "      <td>77.0</td>\n",
              "      <td>110.0</td>\n",
              "      <td>165.0</td>\n",
              "      <td>55.0</td>\n",
              "      <td>154.0</td>\n",
              "      <td>88.0</td>\n",
              "      <td>44.0</td>\n",
              "      <td>22.0</td>\n",
              "    </tr>\n",
              "    <tr>\n",
              "      <th>24</th>\n",
              "      <td>77.0</td>\n",
              "      <td>88.0</td>\n",
              "      <td>121.0</td>\n",
              "      <td>Blabla</td>\n",
              "      <td>NaN</td>\n",
              "      <td>66.0</td>\n",
              "      <td>165.0</td>\n",
              "      <td>99.0</td>\n",
              "      <td>55.0</td>\n",
              "      <td>33.0</td>\n",
              "      <td>...</td>\n",
              "      <td>88.0</td>\n",
              "      <td>77.0</td>\n",
              "      <td>88.0</td>\n",
              "      <td>121.0</td>\n",
              "      <td>NaN</td>\n",
              "      <td>66.0</td>\n",
              "      <td>165.0</td>\n",
              "      <td>99.0</td>\n",
              "      <td>55.0</td>\n",
              "      <td>33.0</td>\n",
              "    </tr>\n",
              "    <tr>\n",
              "      <th>25</th>\n",
              "      <td>88.0</td>\n",
              "      <td>99.0</td>\n",
              "      <td>132.0</td>\n",
              "      <td>Blabla</td>\n",
              "      <td>NaN</td>\n",
              "      <td>77.0</td>\n",
              "      <td>NaN</td>\n",
              "      <td>110.0</td>\n",
              "      <td>66.0</td>\n",
              "      <td>44.0</td>\n",
              "      <td>...</td>\n",
              "      <td>99.0</td>\n",
              "      <td>88.0</td>\n",
              "      <td>99.0</td>\n",
              "      <td>132.0</td>\n",
              "      <td>NaN</td>\n",
              "      <td>77.0</td>\n",
              "      <td>NaN</td>\n",
              "      <td>110.0</td>\n",
              "      <td>66.0</td>\n",
              "      <td>44.0</td>\n",
              "    </tr>\n",
              "    <tr>\n",
              "      <th>26</th>\n",
              "      <td>99.0</td>\n",
              "      <td>110.0</td>\n",
              "      <td>143.0</td>\n",
              "      <td>Blabla</td>\n",
              "      <td>11.0</td>\n",
              "      <td>88.0</td>\n",
              "      <td>NaN</td>\n",
              "      <td>121.0</td>\n",
              "      <td>77.0</td>\n",
              "      <td>55.0</td>\n",
              "      <td>...</td>\n",
              "      <td>110.0</td>\n",
              "      <td>99.0</td>\n",
              "      <td>110.0</td>\n",
              "      <td>143.0</td>\n",
              "      <td>11.0</td>\n",
              "      <td>88.0</td>\n",
              "      <td>NaN</td>\n",
              "      <td>121.0</td>\n",
              "      <td>77.0</td>\n",
              "      <td>55.0</td>\n",
              "    </tr>\n",
              "    <tr>\n",
              "      <th>27</th>\n",
              "      <td>110.0</td>\n",
              "      <td>121.0</td>\n",
              "      <td>154.0</td>\n",
              "      <td>Blabla</td>\n",
              "      <td>22.0</td>\n",
              "      <td>99.0</td>\n",
              "      <td>11.0</td>\n",
              "      <td>132.0</td>\n",
              "      <td>88.0</td>\n",
              "      <td>66.0</td>\n",
              "      <td>...</td>\n",
              "      <td>121.0</td>\n",
              "      <td>110.0</td>\n",
              "      <td>121.0</td>\n",
              "      <td>154.0</td>\n",
              "      <td>22.0</td>\n",
              "      <td>99.0</td>\n",
              "      <td>11.0</td>\n",
              "      <td>132.0</td>\n",
              "      <td>88.0</td>\n",
              "      <td>66.0</td>\n",
              "    </tr>\n",
              "    <tr>\n",
              "      <th>28</th>\n",
              "      <td>121.0</td>\n",
              "      <td>132.0</td>\n",
              "      <td>165.0</td>\n",
              "      <td>Blabla</td>\n",
              "      <td>33.0</td>\n",
              "      <td>110.0</td>\n",
              "      <td>22.0</td>\n",
              "      <td>143.0</td>\n",
              "      <td>99.0</td>\n",
              "      <td>77.0</td>\n",
              "      <td>...</td>\n",
              "      <td>132.0</td>\n",
              "      <td>121.0</td>\n",
              "      <td>132.0</td>\n",
              "      <td>165.0</td>\n",
              "      <td>33.0</td>\n",
              "      <td>110.0</td>\n",
              "      <td>22.0</td>\n",
              "      <td>143.0</td>\n",
              "      <td>99.0</td>\n",
              "      <td>77.0</td>\n",
              "    </tr>\n",
              "    <tr>\n",
              "      <th>29</th>\n",
              "      <td>132.0</td>\n",
              "      <td>143.0</td>\n",
              "      <td>NaN</td>\n",
              "      <td>Blabla</td>\n",
              "      <td>44.0</td>\n",
              "      <td>121.0</td>\n",
              "      <td>33.0</td>\n",
              "      <td>154.0</td>\n",
              "      <td>110.0</td>\n",
              "      <td>88.0</td>\n",
              "      <td>...</td>\n",
              "      <td>143.0</td>\n",
              "      <td>132.0</td>\n",
              "      <td>143.0</td>\n",
              "      <td>NaN</td>\n",
              "      <td>44.0</td>\n",
              "      <td>121.0</td>\n",
              "      <td>33.0</td>\n",
              "      <td>154.0</td>\n",
              "      <td>110.0</td>\n",
              "      <td>88.0</td>\n",
              "    </tr>\n",
              "    <tr>\n",
              "      <th>...</th>\n",
              "      <td>...</td>\n",
              "      <td>...</td>\n",
              "      <td>...</td>\n",
              "      <td>...</td>\n",
              "      <td>...</td>\n",
              "      <td>...</td>\n",
              "      <td>...</td>\n",
              "      <td>...</td>\n",
              "      <td>...</td>\n",
              "      <td>...</td>\n",
              "      <td>...</td>\n",
              "      <td>...</td>\n",
              "      <td>...</td>\n",
              "      <td>...</td>\n",
              "      <td>...</td>\n",
              "      <td>...</td>\n",
              "      <td>...</td>\n",
              "      <td>...</td>\n",
              "      <td>...</td>\n",
              "      <td>...</td>\n",
              "      <td>...</td>\n",
              "    </tr>\n",
              "    <tr>\n",
              "      <th>9970</th>\n",
              "      <td>88.0</td>\n",
              "      <td>99.0</td>\n",
              "      <td>132.0</td>\n",
              "      <td>Blabla</td>\n",
              "      <td>NaN</td>\n",
              "      <td>77.0</td>\n",
              "      <td>NaN</td>\n",
              "      <td>110.0</td>\n",
              "      <td>66.0</td>\n",
              "      <td>44.0</td>\n",
              "      <td>...</td>\n",
              "      <td>99.0</td>\n",
              "      <td>88.0</td>\n",
              "      <td>99.0</td>\n",
              "      <td>132.0</td>\n",
              "      <td>NaN</td>\n",
              "      <td>77.0</td>\n",
              "      <td>NaN</td>\n",
              "      <td>110.0</td>\n",
              "      <td>66.0</td>\n",
              "      <td>44.0</td>\n",
              "    </tr>\n",
              "    <tr>\n",
              "      <th>9971</th>\n",
              "      <td>99.0</td>\n",
              "      <td>110.0</td>\n",
              "      <td>143.0</td>\n",
              "      <td>Blabla</td>\n",
              "      <td>11.0</td>\n",
              "      <td>88.0</td>\n",
              "      <td>NaN</td>\n",
              "      <td>121.0</td>\n",
              "      <td>77.0</td>\n",
              "      <td>55.0</td>\n",
              "      <td>...</td>\n",
              "      <td>110.0</td>\n",
              "      <td>99.0</td>\n",
              "      <td>110.0</td>\n",
              "      <td>143.0</td>\n",
              "      <td>11.0</td>\n",
              "      <td>88.0</td>\n",
              "      <td>NaN</td>\n",
              "      <td>121.0</td>\n",
              "      <td>77.0</td>\n",
              "      <td>55.0</td>\n",
              "    </tr>\n",
              "    <tr>\n",
              "      <th>9972</th>\n",
              "      <td>110.0</td>\n",
              "      <td>121.0</td>\n",
              "      <td>154.0</td>\n",
              "      <td>Blabla</td>\n",
              "      <td>22.0</td>\n",
              "      <td>99.0</td>\n",
              "      <td>11.0</td>\n",
              "      <td>132.0</td>\n",
              "      <td>88.0</td>\n",
              "      <td>66.0</td>\n",
              "      <td>...</td>\n",
              "      <td>121.0</td>\n",
              "      <td>110.0</td>\n",
              "      <td>121.0</td>\n",
              "      <td>154.0</td>\n",
              "      <td>22.0</td>\n",
              "      <td>99.0</td>\n",
              "      <td>11.0</td>\n",
              "      <td>132.0</td>\n",
              "      <td>88.0</td>\n",
              "      <td>66.0</td>\n",
              "    </tr>\n",
              "    <tr>\n",
              "      <th>9973</th>\n",
              "      <td>121.0</td>\n",
              "      <td>132.0</td>\n",
              "      <td>165.0</td>\n",
              "      <td>Blabla</td>\n",
              "      <td>33.0</td>\n",
              "      <td>110.0</td>\n",
              "      <td>22.0</td>\n",
              "      <td>143.0</td>\n",
              "      <td>99.0</td>\n",
              "      <td>77.0</td>\n",
              "      <td>...</td>\n",
              "      <td>132.0</td>\n",
              "      <td>121.0</td>\n",
              "      <td>132.0</td>\n",
              "      <td>165.0</td>\n",
              "      <td>33.0</td>\n",
              "      <td>110.0</td>\n",
              "      <td>22.0</td>\n",
              "      <td>143.0</td>\n",
              "      <td>99.0</td>\n",
              "      <td>77.0</td>\n",
              "    </tr>\n",
              "    <tr>\n",
              "      <th>9974</th>\n",
              "      <td>132.0</td>\n",
              "      <td>143.0</td>\n",
              "      <td>NaN</td>\n",
              "      <td>Blabla</td>\n",
              "      <td>44.0</td>\n",
              "      <td>121.0</td>\n",
              "      <td>33.0</td>\n",
              "      <td>154.0</td>\n",
              "      <td>110.0</td>\n",
              "      <td>88.0</td>\n",
              "      <td>...</td>\n",
              "      <td>143.0</td>\n",
              "      <td>132.0</td>\n",
              "      <td>143.0</td>\n",
              "      <td>NaN</td>\n",
              "      <td>44.0</td>\n",
              "      <td>121.0</td>\n",
              "      <td>33.0</td>\n",
              "      <td>154.0</td>\n",
              "      <td>110.0</td>\n",
              "      <td>88.0</td>\n",
              "    </tr>\n",
              "    <tr>\n",
              "      <th>9975</th>\n",
              "      <td>143.0</td>\n",
              "      <td>154.0</td>\n",
              "      <td>NaN</td>\n",
              "      <td>Blabla</td>\n",
              "      <td>55.0</td>\n",
              "      <td>132.0</td>\n",
              "      <td>44.0</td>\n",
              "      <td>165.0</td>\n",
              "      <td>121.0</td>\n",
              "      <td>99.0</td>\n",
              "      <td>...</td>\n",
              "      <td>154.0</td>\n",
              "      <td>143.0</td>\n",
              "      <td>154.0</td>\n",
              "      <td>NaN</td>\n",
              "      <td>55.0</td>\n",
              "      <td>132.0</td>\n",
              "      <td>44.0</td>\n",
              "      <td>165.0</td>\n",
              "      <td>121.0</td>\n",
              "      <td>99.0</td>\n",
              "    </tr>\n",
              "    <tr>\n",
              "      <th>9976</th>\n",
              "      <td>154.0</td>\n",
              "      <td>165.0</td>\n",
              "      <td>11.0</td>\n",
              "      <td>Blabla</td>\n",
              "      <td>66.0</td>\n",
              "      <td>143.0</td>\n",
              "      <td>55.0</td>\n",
              "      <td>NaN</td>\n",
              "      <td>132.0</td>\n",
              "      <td>110.0</td>\n",
              "      <td>...</td>\n",
              "      <td>165.0</td>\n",
              "      <td>154.0</td>\n",
              "      <td>165.0</td>\n",
              "      <td>11.0</td>\n",
              "      <td>66.0</td>\n",
              "      <td>143.0</td>\n",
              "      <td>55.0</td>\n",
              "      <td>NaN</td>\n",
              "      <td>132.0</td>\n",
              "      <td>110.0</td>\n",
              "    </tr>\n",
              "    <tr>\n",
              "      <th>9977</th>\n",
              "      <td>165.0</td>\n",
              "      <td>NaN</td>\n",
              "      <td>22.0</td>\n",
              "      <td>Blabla</td>\n",
              "      <td>77.0</td>\n",
              "      <td>154.0</td>\n",
              "      <td>66.0</td>\n",
              "      <td>NaN</td>\n",
              "      <td>143.0</td>\n",
              "      <td>121.0</td>\n",
              "      <td>...</td>\n",
              "      <td>NaN</td>\n",
              "      <td>165.0</td>\n",
              "      <td>NaN</td>\n",
              "      <td>22.0</td>\n",
              "      <td>77.0</td>\n",
              "      <td>154.0</td>\n",
              "      <td>66.0</td>\n",
              "      <td>NaN</td>\n",
              "      <td>143.0</td>\n",
              "      <td>121.0</td>\n",
              "    </tr>\n",
              "    <tr>\n",
              "      <th>9978</th>\n",
              "      <td>NaN</td>\n",
              "      <td>NaN</td>\n",
              "      <td>33.0</td>\n",
              "      <td>Blabla</td>\n",
              "      <td>88.0</td>\n",
              "      <td>165.0</td>\n",
              "      <td>77.0</td>\n",
              "      <td>11.0</td>\n",
              "      <td>154.0</td>\n",
              "      <td>132.0</td>\n",
              "      <td>...</td>\n",
              "      <td>NaN</td>\n",
              "      <td>NaN</td>\n",
              "      <td>NaN</td>\n",
              "      <td>33.0</td>\n",
              "      <td>88.0</td>\n",
              "      <td>165.0</td>\n",
              "      <td>77.0</td>\n",
              "      <td>11.0</td>\n",
              "      <td>154.0</td>\n",
              "      <td>132.0</td>\n",
              "    </tr>\n",
              "    <tr>\n",
              "      <th>9979</th>\n",
              "      <td>NaN</td>\n",
              "      <td>11.0</td>\n",
              "      <td>44.0</td>\n",
              "      <td>Blabla</td>\n",
              "      <td>99.0</td>\n",
              "      <td>NaN</td>\n",
              "      <td>88.0</td>\n",
              "      <td>22.0</td>\n",
              "      <td>165.0</td>\n",
              "      <td>143.0</td>\n",
              "      <td>...</td>\n",
              "      <td>11.0</td>\n",
              "      <td>NaN</td>\n",
              "      <td>11.0</td>\n",
              "      <td>44.0</td>\n",
              "      <td>99.0</td>\n",
              "      <td>NaN</td>\n",
              "      <td>88.0</td>\n",
              "      <td>22.0</td>\n",
              "      <td>165.0</td>\n",
              "      <td>143.0</td>\n",
              "    </tr>\n",
              "    <tr>\n",
              "      <th>9980</th>\n",
              "      <td>11.0</td>\n",
              "      <td>22.0</td>\n",
              "      <td>55.0</td>\n",
              "      <td>Blabla</td>\n",
              "      <td>110.0</td>\n",
              "      <td>NaN</td>\n",
              "      <td>99.0</td>\n",
              "      <td>33.0</td>\n",
              "      <td>NaN</td>\n",
              "      <td>154.0</td>\n",
              "      <td>...</td>\n",
              "      <td>22.0</td>\n",
              "      <td>11.0</td>\n",
              "      <td>22.0</td>\n",
              "      <td>55.0</td>\n",
              "      <td>110.0</td>\n",
              "      <td>NaN</td>\n",
              "      <td>99.0</td>\n",
              "      <td>33.0</td>\n",
              "      <td>NaN</td>\n",
              "      <td>154.0</td>\n",
              "    </tr>\n",
              "    <tr>\n",
              "      <th>9981</th>\n",
              "      <td>22.0</td>\n",
              "      <td>33.0</td>\n",
              "      <td>66.0</td>\n",
              "      <td>Blabla</td>\n",
              "      <td>121.0</td>\n",
              "      <td>11.0</td>\n",
              "      <td>110.0</td>\n",
              "      <td>44.0</td>\n",
              "      <td>NaN</td>\n",
              "      <td>165.0</td>\n",
              "      <td>...</td>\n",
              "      <td>33.0</td>\n",
              "      <td>22.0</td>\n",
              "      <td>33.0</td>\n",
              "      <td>66.0</td>\n",
              "      <td>121.0</td>\n",
              "      <td>11.0</td>\n",
              "      <td>110.0</td>\n",
              "      <td>44.0</td>\n",
              "      <td>NaN</td>\n",
              "      <td>165.0</td>\n",
              "    </tr>\n",
              "    <tr>\n",
              "      <th>9982</th>\n",
              "      <td>33.0</td>\n",
              "      <td>44.0</td>\n",
              "      <td>77.0</td>\n",
              "      <td>Blabla</td>\n",
              "      <td>132.0</td>\n",
              "      <td>22.0</td>\n",
              "      <td>121.0</td>\n",
              "      <td>55.0</td>\n",
              "      <td>11.0</td>\n",
              "      <td>NaN</td>\n",
              "      <td>...</td>\n",
              "      <td>44.0</td>\n",
              "      <td>33.0</td>\n",
              "      <td>44.0</td>\n",
              "      <td>77.0</td>\n",
              "      <td>132.0</td>\n",
              "      <td>22.0</td>\n",
              "      <td>121.0</td>\n",
              "      <td>55.0</td>\n",
              "      <td>11.0</td>\n",
              "      <td>NaN</td>\n",
              "    </tr>\n",
              "    <tr>\n",
              "      <th>9983</th>\n",
              "      <td>44.0</td>\n",
              "      <td>55.0</td>\n",
              "      <td>88.0</td>\n",
              "      <td>Blabla</td>\n",
              "      <td>143.0</td>\n",
              "      <td>33.0</td>\n",
              "      <td>132.0</td>\n",
              "      <td>66.0</td>\n",
              "      <td>22.0</td>\n",
              "      <td>NaN</td>\n",
              "      <td>...</td>\n",
              "      <td>55.0</td>\n",
              "      <td>44.0</td>\n",
              "      <td>55.0</td>\n",
              "      <td>88.0</td>\n",
              "      <td>143.0</td>\n",
              "      <td>33.0</td>\n",
              "      <td>132.0</td>\n",
              "      <td>66.0</td>\n",
              "      <td>22.0</td>\n",
              "      <td>NaN</td>\n",
              "    </tr>\n",
              "    <tr>\n",
              "      <th>9984</th>\n",
              "      <td>55.0</td>\n",
              "      <td>66.0</td>\n",
              "      <td>99.0</td>\n",
              "      <td>Blabla</td>\n",
              "      <td>154.0</td>\n",
              "      <td>44.0</td>\n",
              "      <td>143.0</td>\n",
              "      <td>77.0</td>\n",
              "      <td>33.0</td>\n",
              "      <td>11.0</td>\n",
              "      <td>...</td>\n",
              "      <td>66.0</td>\n",
              "      <td>55.0</td>\n",
              "      <td>66.0</td>\n",
              "      <td>99.0</td>\n",
              "      <td>154.0</td>\n",
              "      <td>44.0</td>\n",
              "      <td>143.0</td>\n",
              "      <td>77.0</td>\n",
              "      <td>33.0</td>\n",
              "      <td>11.0</td>\n",
              "    </tr>\n",
              "    <tr>\n",
              "      <th>9985</th>\n",
              "      <td>66.0</td>\n",
              "      <td>77.0</td>\n",
              "      <td>110.0</td>\n",
              "      <td>Blabla</td>\n",
              "      <td>165.0</td>\n",
              "      <td>55.0</td>\n",
              "      <td>154.0</td>\n",
              "      <td>88.0</td>\n",
              "      <td>44.0</td>\n",
              "      <td>22.0</td>\n",
              "      <td>...</td>\n",
              "      <td>77.0</td>\n",
              "      <td>66.0</td>\n",
              "      <td>77.0</td>\n",
              "      <td>110.0</td>\n",
              "      <td>165.0</td>\n",
              "      <td>55.0</td>\n",
              "      <td>154.0</td>\n",
              "      <td>88.0</td>\n",
              "      <td>44.0</td>\n",
              "      <td>22.0</td>\n",
              "    </tr>\n",
              "    <tr>\n",
              "      <th>9986</th>\n",
              "      <td>77.0</td>\n",
              "      <td>88.0</td>\n",
              "      <td>121.0</td>\n",
              "      <td>Blabla</td>\n",
              "      <td>NaN</td>\n",
              "      <td>66.0</td>\n",
              "      <td>165.0</td>\n",
              "      <td>99.0</td>\n",
              "      <td>55.0</td>\n",
              "      <td>33.0</td>\n",
              "      <td>...</td>\n",
              "      <td>88.0</td>\n",
              "      <td>77.0</td>\n",
              "      <td>88.0</td>\n",
              "      <td>121.0</td>\n",
              "      <td>NaN</td>\n",
              "      <td>66.0</td>\n",
              "      <td>165.0</td>\n",
              "      <td>99.0</td>\n",
              "      <td>55.0</td>\n",
              "      <td>33.0</td>\n",
              "    </tr>\n",
              "    <tr>\n",
              "      <th>9987</th>\n",
              "      <td>88.0</td>\n",
              "      <td>99.0</td>\n",
              "      <td>132.0</td>\n",
              "      <td>Blabla</td>\n",
              "      <td>NaN</td>\n",
              "      <td>77.0</td>\n",
              "      <td>NaN</td>\n",
              "      <td>110.0</td>\n",
              "      <td>66.0</td>\n",
              "      <td>44.0</td>\n",
              "      <td>...</td>\n",
              "      <td>99.0</td>\n",
              "      <td>88.0</td>\n",
              "      <td>99.0</td>\n",
              "      <td>132.0</td>\n",
              "      <td>NaN</td>\n",
              "      <td>77.0</td>\n",
              "      <td>NaN</td>\n",
              "      <td>110.0</td>\n",
              "      <td>66.0</td>\n",
              "      <td>44.0</td>\n",
              "    </tr>\n",
              "    <tr>\n",
              "      <th>9988</th>\n",
              "      <td>99.0</td>\n",
              "      <td>110.0</td>\n",
              "      <td>143.0</td>\n",
              "      <td>Blabla</td>\n",
              "      <td>11.0</td>\n",
              "      <td>88.0</td>\n",
              "      <td>NaN</td>\n",
              "      <td>121.0</td>\n",
              "      <td>77.0</td>\n",
              "      <td>55.0</td>\n",
              "      <td>...</td>\n",
              "      <td>110.0</td>\n",
              "      <td>99.0</td>\n",
              "      <td>110.0</td>\n",
              "      <td>143.0</td>\n",
              "      <td>11.0</td>\n",
              "      <td>88.0</td>\n",
              "      <td>NaN</td>\n",
              "      <td>121.0</td>\n",
              "      <td>77.0</td>\n",
              "      <td>55.0</td>\n",
              "    </tr>\n",
              "    <tr>\n",
              "      <th>9989</th>\n",
              "      <td>110.0</td>\n",
              "      <td>121.0</td>\n",
              "      <td>154.0</td>\n",
              "      <td>Blabla</td>\n",
              "      <td>22.0</td>\n",
              "      <td>99.0</td>\n",
              "      <td>11.0</td>\n",
              "      <td>132.0</td>\n",
              "      <td>88.0</td>\n",
              "      <td>66.0</td>\n",
              "      <td>...</td>\n",
              "      <td>121.0</td>\n",
              "      <td>110.0</td>\n",
              "      <td>121.0</td>\n",
              "      <td>154.0</td>\n",
              "      <td>22.0</td>\n",
              "      <td>99.0</td>\n",
              "      <td>11.0</td>\n",
              "      <td>132.0</td>\n",
              "      <td>88.0</td>\n",
              "      <td>66.0</td>\n",
              "    </tr>\n",
              "    <tr>\n",
              "      <th>9990</th>\n",
              "      <td>121.0</td>\n",
              "      <td>132.0</td>\n",
              "      <td>165.0</td>\n",
              "      <td>Blabla</td>\n",
              "      <td>33.0</td>\n",
              "      <td>110.0</td>\n",
              "      <td>22.0</td>\n",
              "      <td>143.0</td>\n",
              "      <td>99.0</td>\n",
              "      <td>77.0</td>\n",
              "      <td>...</td>\n",
              "      <td>132.0</td>\n",
              "      <td>121.0</td>\n",
              "      <td>132.0</td>\n",
              "      <td>165.0</td>\n",
              "      <td>33.0</td>\n",
              "      <td>110.0</td>\n",
              "      <td>22.0</td>\n",
              "      <td>143.0</td>\n",
              "      <td>99.0</td>\n",
              "      <td>77.0</td>\n",
              "    </tr>\n",
              "    <tr>\n",
              "      <th>9991</th>\n",
              "      <td>132.0</td>\n",
              "      <td>143.0</td>\n",
              "      <td>NaN</td>\n",
              "      <td>Blabla</td>\n",
              "      <td>44.0</td>\n",
              "      <td>121.0</td>\n",
              "      <td>33.0</td>\n",
              "      <td>154.0</td>\n",
              "      <td>110.0</td>\n",
              "      <td>88.0</td>\n",
              "      <td>...</td>\n",
              "      <td>143.0</td>\n",
              "      <td>132.0</td>\n",
              "      <td>143.0</td>\n",
              "      <td>NaN</td>\n",
              "      <td>44.0</td>\n",
              "      <td>121.0</td>\n",
              "      <td>33.0</td>\n",
              "      <td>154.0</td>\n",
              "      <td>110.0</td>\n",
              "      <td>88.0</td>\n",
              "    </tr>\n",
              "    <tr>\n",
              "      <th>9992</th>\n",
              "      <td>143.0</td>\n",
              "      <td>154.0</td>\n",
              "      <td>NaN</td>\n",
              "      <td>Blabla</td>\n",
              "      <td>55.0</td>\n",
              "      <td>132.0</td>\n",
              "      <td>44.0</td>\n",
              "      <td>165.0</td>\n",
              "      <td>121.0</td>\n",
              "      <td>99.0</td>\n",
              "      <td>...</td>\n",
              "      <td>154.0</td>\n",
              "      <td>143.0</td>\n",
              "      <td>154.0</td>\n",
              "      <td>NaN</td>\n",
              "      <td>55.0</td>\n",
              "      <td>132.0</td>\n",
              "      <td>44.0</td>\n",
              "      <td>165.0</td>\n",
              "      <td>121.0</td>\n",
              "      <td>99.0</td>\n",
              "    </tr>\n",
              "    <tr>\n",
              "      <th>9993</th>\n",
              "      <td>154.0</td>\n",
              "      <td>165.0</td>\n",
              "      <td>11.0</td>\n",
              "      <td>Blabla</td>\n",
              "      <td>66.0</td>\n",
              "      <td>143.0</td>\n",
              "      <td>55.0</td>\n",
              "      <td>NaN</td>\n",
              "      <td>132.0</td>\n",
              "      <td>110.0</td>\n",
              "      <td>...</td>\n",
              "      <td>165.0</td>\n",
              "      <td>154.0</td>\n",
              "      <td>165.0</td>\n",
              "      <td>11.0</td>\n",
              "      <td>66.0</td>\n",
              "      <td>143.0</td>\n",
              "      <td>55.0</td>\n",
              "      <td>NaN</td>\n",
              "      <td>132.0</td>\n",
              "      <td>110.0</td>\n",
              "    </tr>\n",
              "    <tr>\n",
              "      <th>9994</th>\n",
              "      <td>165.0</td>\n",
              "      <td>NaN</td>\n",
              "      <td>22.0</td>\n",
              "      <td>Blabla</td>\n",
              "      <td>77.0</td>\n",
              "      <td>154.0</td>\n",
              "      <td>66.0</td>\n",
              "      <td>NaN</td>\n",
              "      <td>143.0</td>\n",
              "      <td>121.0</td>\n",
              "      <td>...</td>\n",
              "      <td>NaN</td>\n",
              "      <td>165.0</td>\n",
              "      <td>NaN</td>\n",
              "      <td>22.0</td>\n",
              "      <td>77.0</td>\n",
              "      <td>154.0</td>\n",
              "      <td>66.0</td>\n",
              "      <td>NaN</td>\n",
              "      <td>143.0</td>\n",
              "      <td>121.0</td>\n",
              "    </tr>\n",
              "    <tr>\n",
              "      <th>9995</th>\n",
              "      <td>NaN</td>\n",
              "      <td>NaN</td>\n",
              "      <td>33.0</td>\n",
              "      <td>Blabla</td>\n",
              "      <td>88.0</td>\n",
              "      <td>165.0</td>\n",
              "      <td>77.0</td>\n",
              "      <td>11.0</td>\n",
              "      <td>154.0</td>\n",
              "      <td>132.0</td>\n",
              "      <td>...</td>\n",
              "      <td>NaN</td>\n",
              "      <td>NaN</td>\n",
              "      <td>NaN</td>\n",
              "      <td>33.0</td>\n",
              "      <td>88.0</td>\n",
              "      <td>165.0</td>\n",
              "      <td>77.0</td>\n",
              "      <td>11.0</td>\n",
              "      <td>154.0</td>\n",
              "      <td>132.0</td>\n",
              "    </tr>\n",
              "    <tr>\n",
              "      <th>9996</th>\n",
              "      <td>NaN</td>\n",
              "      <td>11.0</td>\n",
              "      <td>44.0</td>\n",
              "      <td>Blabla</td>\n",
              "      <td>99.0</td>\n",
              "      <td>NaN</td>\n",
              "      <td>88.0</td>\n",
              "      <td>22.0</td>\n",
              "      <td>165.0</td>\n",
              "      <td>143.0</td>\n",
              "      <td>...</td>\n",
              "      <td>11.0</td>\n",
              "      <td>NaN</td>\n",
              "      <td>11.0</td>\n",
              "      <td>44.0</td>\n",
              "      <td>99.0</td>\n",
              "      <td>NaN</td>\n",
              "      <td>88.0</td>\n",
              "      <td>22.0</td>\n",
              "      <td>165.0</td>\n",
              "      <td>143.0</td>\n",
              "    </tr>\n",
              "    <tr>\n",
              "      <th>9997</th>\n",
              "      <td>11.0</td>\n",
              "      <td>22.0</td>\n",
              "      <td>55.0</td>\n",
              "      <td>Blabla</td>\n",
              "      <td>110.0</td>\n",
              "      <td>NaN</td>\n",
              "      <td>99.0</td>\n",
              "      <td>33.0</td>\n",
              "      <td>NaN</td>\n",
              "      <td>154.0</td>\n",
              "      <td>...</td>\n",
              "      <td>22.0</td>\n",
              "      <td>11.0</td>\n",
              "      <td>22.0</td>\n",
              "      <td>55.0</td>\n",
              "      <td>110.0</td>\n",
              "      <td>NaN</td>\n",
              "      <td>99.0</td>\n",
              "      <td>33.0</td>\n",
              "      <td>NaN</td>\n",
              "      <td>154.0</td>\n",
              "    </tr>\n",
              "    <tr>\n",
              "      <th>9998</th>\n",
              "      <td>22.0</td>\n",
              "      <td>33.0</td>\n",
              "      <td>66.0</td>\n",
              "      <td>Blabla</td>\n",
              "      <td>121.0</td>\n",
              "      <td>11.0</td>\n",
              "      <td>110.0</td>\n",
              "      <td>44.0</td>\n",
              "      <td>NaN</td>\n",
              "      <td>165.0</td>\n",
              "      <td>...</td>\n",
              "      <td>33.0</td>\n",
              "      <td>22.0</td>\n",
              "      <td>33.0</td>\n",
              "      <td>66.0</td>\n",
              "      <td>121.0</td>\n",
              "      <td>11.0</td>\n",
              "      <td>110.0</td>\n",
              "      <td>44.0</td>\n",
              "      <td>NaN</td>\n",
              "      <td>165.0</td>\n",
              "    </tr>\n",
              "    <tr>\n",
              "      <th>9999</th>\n",
              "      <td>33.0</td>\n",
              "      <td>44.0</td>\n",
              "      <td>77.0</td>\n",
              "      <td>Blabla</td>\n",
              "      <td>132.0</td>\n",
              "      <td>22.0</td>\n",
              "      <td>121.0</td>\n",
              "      <td>55.0</td>\n",
              "      <td>11.0</td>\n",
              "      <td>NaN</td>\n",
              "      <td>...</td>\n",
              "      <td>44.0</td>\n",
              "      <td>33.0</td>\n",
              "      <td>44.0</td>\n",
              "      <td>77.0</td>\n",
              "      <td>132.0</td>\n",
              "      <td>22.0</td>\n",
              "      <td>121.0</td>\n",
              "      <td>55.0</td>\n",
              "      <td>11.0</td>\n",
              "      <td>NaN</td>\n",
              "    </tr>\n",
              "  </tbody>\n",
              "</table>\n",
              "<p>10000 rows × 27 columns</p>\n",
              "</div>"
            ],
            "text/plain": [
              "          A      B      C some_text      D      E      F      G      H      I  \\\n",
              "0       NaN   11.0   44.0    Blabla   99.0    NaN   88.0   22.0  165.0  143.0   \n",
              "1      11.0   22.0   55.0    Blabla  110.0    NaN   99.0   33.0    NaN  154.0   \n",
              "2      22.0   33.0   66.0    Blabla  121.0   11.0  110.0   44.0    NaN  165.0   \n",
              "3      33.0   44.0   77.0    Blabla  132.0   22.0  121.0   55.0   11.0    NaN   \n",
              "4      44.0   55.0   88.0    Blabla  143.0   33.0  132.0   66.0   22.0    NaN   \n",
              "5      55.0   66.0   99.0    Blabla  154.0   44.0  143.0   77.0   33.0   11.0   \n",
              "6      66.0   77.0  110.0    Blabla  165.0   55.0  154.0   88.0   44.0   22.0   \n",
              "7      77.0   88.0  121.0    Blabla    NaN   66.0  165.0   99.0   55.0   33.0   \n",
              "8      88.0   99.0  132.0    Blabla    NaN   77.0    NaN  110.0   66.0   44.0   \n",
              "9      99.0  110.0  143.0    Blabla   11.0   88.0    NaN  121.0   77.0   55.0   \n",
              "10    110.0  121.0  154.0    Blabla   22.0   99.0   11.0  132.0   88.0   66.0   \n",
              "11    121.0  132.0  165.0    Blabla   33.0  110.0   22.0  143.0   99.0   77.0   \n",
              "12    132.0  143.0    NaN    Blabla   44.0  121.0   33.0  154.0  110.0   88.0   \n",
              "13    143.0  154.0    NaN    Blabla   55.0  132.0   44.0  165.0  121.0   99.0   \n",
              "14    154.0  165.0   11.0    Blabla   66.0  143.0   55.0    NaN  132.0  110.0   \n",
              "15    165.0    NaN   22.0    Blabla   77.0  154.0   66.0    NaN  143.0  121.0   \n",
              "16      NaN    NaN   33.0    Blabla   88.0  165.0   77.0   11.0  154.0  132.0   \n",
              "17      NaN   11.0   44.0    Blabla   99.0    NaN   88.0   22.0  165.0  143.0   \n",
              "18     11.0   22.0   55.0    Blabla  110.0    NaN   99.0   33.0    NaN  154.0   \n",
              "19     22.0   33.0   66.0    Blabla  121.0   11.0  110.0   44.0    NaN  165.0   \n",
              "20     33.0   44.0   77.0    Blabla  132.0   22.0  121.0   55.0   11.0    NaN   \n",
              "21     44.0   55.0   88.0    Blabla  143.0   33.0  132.0   66.0   22.0    NaN   \n",
              "22     55.0   66.0   99.0    Blabla  154.0   44.0  143.0   77.0   33.0   11.0   \n",
              "23     66.0   77.0  110.0    Blabla  165.0   55.0  154.0   88.0   44.0   22.0   \n",
              "24     77.0   88.0  121.0    Blabla    NaN   66.0  165.0   99.0   55.0   33.0   \n",
              "25     88.0   99.0  132.0    Blabla    NaN   77.0    NaN  110.0   66.0   44.0   \n",
              "26     99.0  110.0  143.0    Blabla   11.0   88.0    NaN  121.0   77.0   55.0   \n",
              "27    110.0  121.0  154.0    Blabla   22.0   99.0   11.0  132.0   88.0   66.0   \n",
              "28    121.0  132.0  165.0    Blabla   33.0  110.0   22.0  143.0   99.0   77.0   \n",
              "29    132.0  143.0    NaN    Blabla   44.0  121.0   33.0  154.0  110.0   88.0   \n",
              "...     ...    ...    ...       ...    ...    ...    ...    ...    ...    ...   \n",
              "9970   88.0   99.0  132.0    Blabla    NaN   77.0    NaN  110.0   66.0   44.0   \n",
              "9971   99.0  110.0  143.0    Blabla   11.0   88.0    NaN  121.0   77.0   55.0   \n",
              "9972  110.0  121.0  154.0    Blabla   22.0   99.0   11.0  132.0   88.0   66.0   \n",
              "9973  121.0  132.0  165.0    Blabla   33.0  110.0   22.0  143.0   99.0   77.0   \n",
              "9974  132.0  143.0    NaN    Blabla   44.0  121.0   33.0  154.0  110.0   88.0   \n",
              "9975  143.0  154.0    NaN    Blabla   55.0  132.0   44.0  165.0  121.0   99.0   \n",
              "9976  154.0  165.0   11.0    Blabla   66.0  143.0   55.0    NaN  132.0  110.0   \n",
              "9977  165.0    NaN   22.0    Blabla   77.0  154.0   66.0    NaN  143.0  121.0   \n",
              "9978    NaN    NaN   33.0    Blabla   88.0  165.0   77.0   11.0  154.0  132.0   \n",
              "9979    NaN   11.0   44.0    Blabla   99.0    NaN   88.0   22.0  165.0  143.0   \n",
              "9980   11.0   22.0   55.0    Blabla  110.0    NaN   99.0   33.0    NaN  154.0   \n",
              "9981   22.0   33.0   66.0    Blabla  121.0   11.0  110.0   44.0    NaN  165.0   \n",
              "9982   33.0   44.0   77.0    Blabla  132.0   22.0  121.0   55.0   11.0    NaN   \n",
              "9983   44.0   55.0   88.0    Blabla  143.0   33.0  132.0   66.0   22.0    NaN   \n",
              "9984   55.0   66.0   99.0    Blabla  154.0   44.0  143.0   77.0   33.0   11.0   \n",
              "9985   66.0   77.0  110.0    Blabla  165.0   55.0  154.0   88.0   44.0   22.0   \n",
              "9986   77.0   88.0  121.0    Blabla    NaN   66.0  165.0   99.0   55.0   33.0   \n",
              "9987   88.0   99.0  132.0    Blabla    NaN   77.0    NaN  110.0   66.0   44.0   \n",
              "9988   99.0  110.0  143.0    Blabla   11.0   88.0    NaN  121.0   77.0   55.0   \n",
              "9989  110.0  121.0  154.0    Blabla   22.0   99.0   11.0  132.0   88.0   66.0   \n",
              "9990  121.0  132.0  165.0    Blabla   33.0  110.0   22.0  143.0   99.0   77.0   \n",
              "9991  132.0  143.0    NaN    Blabla   44.0  121.0   33.0  154.0  110.0   88.0   \n",
              "9992  143.0  154.0    NaN    Blabla   55.0  132.0   44.0  165.0  121.0   99.0   \n",
              "9993  154.0  165.0   11.0    Blabla   66.0  143.0   55.0    NaN  132.0  110.0   \n",
              "9994  165.0    NaN   22.0    Blabla   77.0  154.0   66.0    NaN  143.0  121.0   \n",
              "9995    NaN    NaN   33.0    Blabla   88.0  165.0   77.0   11.0  154.0  132.0   \n",
              "9996    NaN   11.0   44.0    Blabla   99.0    NaN   88.0   22.0  165.0  143.0   \n",
              "9997   11.0   22.0   55.0    Blabla  110.0    NaN   99.0   33.0    NaN  154.0   \n",
              "9998   22.0   33.0   66.0    Blabla  121.0   11.0  110.0   44.0    NaN  165.0   \n",
              "9999   33.0   44.0   77.0    Blabla  132.0   22.0  121.0   55.0   11.0    NaN   \n",
              "\n",
              "      ...        Q      R      S      T      U      V      W      X      Y  \\\n",
              "0     ...     11.0    NaN   11.0   44.0   99.0    NaN   88.0   22.0  165.0   \n",
              "1     ...     22.0   11.0   22.0   55.0  110.0    NaN   99.0   33.0    NaN   \n",
              "2     ...     33.0   22.0   33.0   66.0  121.0   11.0  110.0   44.0    NaN   \n",
              "3     ...     44.0   33.0   44.0   77.0  132.0   22.0  121.0   55.0   11.0   \n",
              "4     ...     55.0   44.0   55.0   88.0  143.0   33.0  132.0   66.0   22.0   \n",
              "5     ...     66.0   55.0   66.0   99.0  154.0   44.0  143.0   77.0   33.0   \n",
              "6     ...     77.0   66.0   77.0  110.0  165.0   55.0  154.0   88.0   44.0   \n",
              "7     ...     88.0   77.0   88.0  121.0    NaN   66.0  165.0   99.0   55.0   \n",
              "8     ...     99.0   88.0   99.0  132.0    NaN   77.0    NaN  110.0   66.0   \n",
              "9     ...    110.0   99.0  110.0  143.0   11.0   88.0    NaN  121.0   77.0   \n",
              "10    ...    121.0  110.0  121.0  154.0   22.0   99.0   11.0  132.0   88.0   \n",
              "11    ...    132.0  121.0  132.0  165.0   33.0  110.0   22.0  143.0   99.0   \n",
              "12    ...    143.0  132.0  143.0    NaN   44.0  121.0   33.0  154.0  110.0   \n",
              "13    ...    154.0  143.0  154.0    NaN   55.0  132.0   44.0  165.0  121.0   \n",
              "14    ...    165.0  154.0  165.0   11.0   66.0  143.0   55.0    NaN  132.0   \n",
              "15    ...      NaN  165.0    NaN   22.0   77.0  154.0   66.0    NaN  143.0   \n",
              "16    ...      NaN    NaN    NaN   33.0   88.0  165.0   77.0   11.0  154.0   \n",
              "17    ...     11.0    NaN   11.0   44.0   99.0    NaN   88.0   22.0  165.0   \n",
              "18    ...     22.0   11.0   22.0   55.0  110.0    NaN   99.0   33.0    NaN   \n",
              "19    ...     33.0   22.0   33.0   66.0  121.0   11.0  110.0   44.0    NaN   \n",
              "20    ...     44.0   33.0   44.0   77.0  132.0   22.0  121.0   55.0   11.0   \n",
              "21    ...     55.0   44.0   55.0   88.0  143.0   33.0  132.0   66.0   22.0   \n",
              "22    ...     66.0   55.0   66.0   99.0  154.0   44.0  143.0   77.0   33.0   \n",
              "23    ...     77.0   66.0   77.0  110.0  165.0   55.0  154.0   88.0   44.0   \n",
              "24    ...     88.0   77.0   88.0  121.0    NaN   66.0  165.0   99.0   55.0   \n",
              "25    ...     99.0   88.0   99.0  132.0    NaN   77.0    NaN  110.0   66.0   \n",
              "26    ...    110.0   99.0  110.0  143.0   11.0   88.0    NaN  121.0   77.0   \n",
              "27    ...    121.0  110.0  121.0  154.0   22.0   99.0   11.0  132.0   88.0   \n",
              "28    ...    132.0  121.0  132.0  165.0   33.0  110.0   22.0  143.0   99.0   \n",
              "29    ...    143.0  132.0  143.0    NaN   44.0  121.0   33.0  154.0  110.0   \n",
              "...   ...      ...    ...    ...    ...    ...    ...    ...    ...    ...   \n",
              "9970  ...     99.0   88.0   99.0  132.0    NaN   77.0    NaN  110.0   66.0   \n",
              "9971  ...    110.0   99.0  110.0  143.0   11.0   88.0    NaN  121.0   77.0   \n",
              "9972  ...    121.0  110.0  121.0  154.0   22.0   99.0   11.0  132.0   88.0   \n",
              "9973  ...    132.0  121.0  132.0  165.0   33.0  110.0   22.0  143.0   99.0   \n",
              "9974  ...    143.0  132.0  143.0    NaN   44.0  121.0   33.0  154.0  110.0   \n",
              "9975  ...    154.0  143.0  154.0    NaN   55.0  132.0   44.0  165.0  121.0   \n",
              "9976  ...    165.0  154.0  165.0   11.0   66.0  143.0   55.0    NaN  132.0   \n",
              "9977  ...      NaN  165.0    NaN   22.0   77.0  154.0   66.0    NaN  143.0   \n",
              "9978  ...      NaN    NaN    NaN   33.0   88.0  165.0   77.0   11.0  154.0   \n",
              "9979  ...     11.0    NaN   11.0   44.0   99.0    NaN   88.0   22.0  165.0   \n",
              "9980  ...     22.0   11.0   22.0   55.0  110.0    NaN   99.0   33.0    NaN   \n",
              "9981  ...     33.0   22.0   33.0   66.0  121.0   11.0  110.0   44.0    NaN   \n",
              "9982  ...     44.0   33.0   44.0   77.0  132.0   22.0  121.0   55.0   11.0   \n",
              "9983  ...     55.0   44.0   55.0   88.0  143.0   33.0  132.0   66.0   22.0   \n",
              "9984  ...     66.0   55.0   66.0   99.0  154.0   44.0  143.0   77.0   33.0   \n",
              "9985  ...     77.0   66.0   77.0  110.0  165.0   55.0  154.0   88.0   44.0   \n",
              "9986  ...     88.0   77.0   88.0  121.0    NaN   66.0  165.0   99.0   55.0   \n",
              "9987  ...     99.0   88.0   99.0  132.0    NaN   77.0    NaN  110.0   66.0   \n",
              "9988  ...    110.0   99.0  110.0  143.0   11.0   88.0    NaN  121.0   77.0   \n",
              "9989  ...    121.0  110.0  121.0  154.0   22.0   99.0   11.0  132.0   88.0   \n",
              "9990  ...    132.0  121.0  132.0  165.0   33.0  110.0   22.0  143.0   99.0   \n",
              "9991  ...    143.0  132.0  143.0    NaN   44.0  121.0   33.0  154.0  110.0   \n",
              "9992  ...    154.0  143.0  154.0    NaN   55.0  132.0   44.0  165.0  121.0   \n",
              "9993  ...    165.0  154.0  165.0   11.0   66.0  143.0   55.0    NaN  132.0   \n",
              "9994  ...      NaN  165.0    NaN   22.0   77.0  154.0   66.0    NaN  143.0   \n",
              "9995  ...      NaN    NaN    NaN   33.0   88.0  165.0   77.0   11.0  154.0   \n",
              "9996  ...     11.0    NaN   11.0   44.0   99.0    NaN   88.0   22.0  165.0   \n",
              "9997  ...     22.0   11.0   22.0   55.0  110.0    NaN   99.0   33.0    NaN   \n",
              "9998  ...     33.0   22.0   33.0   66.0  121.0   11.0  110.0   44.0    NaN   \n",
              "9999  ...     44.0   33.0   44.0   77.0  132.0   22.0  121.0   55.0   11.0   \n",
              "\n",
              "          Z  \n",
              "0     143.0  \n",
              "1     154.0  \n",
              "2     165.0  \n",
              "3       NaN  \n",
              "4       NaN  \n",
              "5      11.0  \n",
              "6      22.0  \n",
              "7      33.0  \n",
              "8      44.0  \n",
              "9      55.0  \n",
              "10     66.0  \n",
              "11     77.0  \n",
              "12     88.0  \n",
              "13     99.0  \n",
              "14    110.0  \n",
              "15    121.0  \n",
              "16    132.0  \n",
              "17    143.0  \n",
              "18    154.0  \n",
              "19    165.0  \n",
              "20      NaN  \n",
              "21      NaN  \n",
              "22     11.0  \n",
              "23     22.0  \n",
              "24     33.0  \n",
              "25     44.0  \n",
              "26     55.0  \n",
              "27     66.0  \n",
              "28     77.0  \n",
              "29     88.0  \n",
              "...     ...  \n",
              "9970   44.0  \n",
              "9971   55.0  \n",
              "9972   66.0  \n",
              "9973   77.0  \n",
              "9974   88.0  \n",
              "9975   99.0  \n",
              "9976  110.0  \n",
              "9977  121.0  \n",
              "9978  132.0  \n",
              "9979  143.0  \n",
              "9980  154.0  \n",
              "9981  165.0  \n",
              "9982    NaN  \n",
              "9983    NaN  \n",
              "9984   11.0  \n",
              "9985   22.0  \n",
              "9986   33.0  \n",
              "9987   44.0  \n",
              "9988   55.0  \n",
              "9989   66.0  \n",
              "9990   77.0  \n",
              "9991   88.0  \n",
              "9992   99.0  \n",
              "9993  110.0  \n",
              "9994  121.0  \n",
              "9995  132.0  \n",
              "9996  143.0  \n",
              "9997  154.0  \n",
              "9998  165.0  \n",
              "9999    NaN  \n",
              "\n",
              "[10000 rows x 27 columns]"
            ]
          },
          "execution_count": 124,
          "metadata": {},
          "output_type": "execute_result"
        }
      ],
      "source": [
        "much_data = np.fromfunction(lambda x,y: (x+y*y)%17*11, (10000, 26))\n",
        "large_df = pd.DataFrame(much_data, columns=list(\"ABCDEFGHIJKLMNOPQRSTUVWXYZ\"))\n",
        "large_df[large_df % 16 == 0] = np.nan\n",
        "large_df.insert(3, \"some_text\", \"Blabla\")\n",
        "large_df"
      ]
    },
    {
      "cell_type": "markdown",
      "metadata": {
        "id": "cSssKFxp1mx7"
      },
      "source": [
        "The `head()` method returns the top 5 rows:"
      ]
    },
    {
      "cell_type": "code",
      "execution_count": null,
      "metadata": {
        "id": "QUboiaMU1mx7",
        "outputId": "f425d13f-02a7-4d9d-e072-35cb3236be43"
      },
      "outputs": [
        {
          "data": {
            "text/html": [
              "<div>\n",
              "<style>\n",
              "    .dataframe thead tr:only-child th {\n",
              "        text-align: right;\n",
              "    }\n",
              "\n",
              "    .dataframe thead th {\n",
              "        text-align: left;\n",
              "    }\n",
              "\n",
              "    .dataframe tbody tr th {\n",
              "        vertical-align: top;\n",
              "    }\n",
              "</style>\n",
              "<table border=\"1\" class=\"dataframe\">\n",
              "  <thead>\n",
              "    <tr style=\"text-align: right;\">\n",
              "      <th></th>\n",
              "      <th>A</th>\n",
              "      <th>B</th>\n",
              "      <th>C</th>\n",
              "      <th>some_text</th>\n",
              "      <th>D</th>\n",
              "      <th>E</th>\n",
              "      <th>F</th>\n",
              "      <th>G</th>\n",
              "      <th>H</th>\n",
              "      <th>I</th>\n",
              "      <th>...</th>\n",
              "      <th>Q</th>\n",
              "      <th>R</th>\n",
              "      <th>S</th>\n",
              "      <th>T</th>\n",
              "      <th>U</th>\n",
              "      <th>V</th>\n",
              "      <th>W</th>\n",
              "      <th>X</th>\n",
              "      <th>Y</th>\n",
              "      <th>Z</th>\n",
              "    </tr>\n",
              "  </thead>\n",
              "  <tbody>\n",
              "    <tr>\n",
              "      <th>0</th>\n",
              "      <td>NaN</td>\n",
              "      <td>11.0</td>\n",
              "      <td>44.0</td>\n",
              "      <td>Blabla</td>\n",
              "      <td>99.0</td>\n",
              "      <td>NaN</td>\n",
              "      <td>88.0</td>\n",
              "      <td>22.0</td>\n",
              "      <td>165.0</td>\n",
              "      <td>143.0</td>\n",
              "      <td>...</td>\n",
              "      <td>11.0</td>\n",
              "      <td>NaN</td>\n",
              "      <td>11.0</td>\n",
              "      <td>44.0</td>\n",
              "      <td>99.0</td>\n",
              "      <td>NaN</td>\n",
              "      <td>88.0</td>\n",
              "      <td>22.0</td>\n",
              "      <td>165.0</td>\n",
              "      <td>143.0</td>\n",
              "    </tr>\n",
              "    <tr>\n",
              "      <th>1</th>\n",
              "      <td>11.0</td>\n",
              "      <td>22.0</td>\n",
              "      <td>55.0</td>\n",
              "      <td>Blabla</td>\n",
              "      <td>110.0</td>\n",
              "      <td>NaN</td>\n",
              "      <td>99.0</td>\n",
              "      <td>33.0</td>\n",
              "      <td>NaN</td>\n",
              "      <td>154.0</td>\n",
              "      <td>...</td>\n",
              "      <td>22.0</td>\n",
              "      <td>11.0</td>\n",
              "      <td>22.0</td>\n",
              "      <td>55.0</td>\n",
              "      <td>110.0</td>\n",
              "      <td>NaN</td>\n",
              "      <td>99.0</td>\n",
              "      <td>33.0</td>\n",
              "      <td>NaN</td>\n",
              "      <td>154.0</td>\n",
              "    </tr>\n",
              "    <tr>\n",
              "      <th>2</th>\n",
              "      <td>22.0</td>\n",
              "      <td>33.0</td>\n",
              "      <td>66.0</td>\n",
              "      <td>Blabla</td>\n",
              "      <td>121.0</td>\n",
              "      <td>11.0</td>\n",
              "      <td>110.0</td>\n",
              "      <td>44.0</td>\n",
              "      <td>NaN</td>\n",
              "      <td>165.0</td>\n",
              "      <td>...</td>\n",
              "      <td>33.0</td>\n",
              "      <td>22.0</td>\n",
              "      <td>33.0</td>\n",
              "      <td>66.0</td>\n",
              "      <td>121.0</td>\n",
              "      <td>11.0</td>\n",
              "      <td>110.0</td>\n",
              "      <td>44.0</td>\n",
              "      <td>NaN</td>\n",
              "      <td>165.0</td>\n",
              "    </tr>\n",
              "    <tr>\n",
              "      <th>3</th>\n",
              "      <td>33.0</td>\n",
              "      <td>44.0</td>\n",
              "      <td>77.0</td>\n",
              "      <td>Blabla</td>\n",
              "      <td>132.0</td>\n",
              "      <td>22.0</td>\n",
              "      <td>121.0</td>\n",
              "      <td>55.0</td>\n",
              "      <td>11.0</td>\n",
              "      <td>NaN</td>\n",
              "      <td>...</td>\n",
              "      <td>44.0</td>\n",
              "      <td>33.0</td>\n",
              "      <td>44.0</td>\n",
              "      <td>77.0</td>\n",
              "      <td>132.0</td>\n",
              "      <td>22.0</td>\n",
              "      <td>121.0</td>\n",
              "      <td>55.0</td>\n",
              "      <td>11.0</td>\n",
              "      <td>NaN</td>\n",
              "    </tr>\n",
              "    <tr>\n",
              "      <th>4</th>\n",
              "      <td>44.0</td>\n",
              "      <td>55.0</td>\n",
              "      <td>88.0</td>\n",
              "      <td>Blabla</td>\n",
              "      <td>143.0</td>\n",
              "      <td>33.0</td>\n",
              "      <td>132.0</td>\n",
              "      <td>66.0</td>\n",
              "      <td>22.0</td>\n",
              "      <td>NaN</td>\n",
              "      <td>...</td>\n",
              "      <td>55.0</td>\n",
              "      <td>44.0</td>\n",
              "      <td>55.0</td>\n",
              "      <td>88.0</td>\n",
              "      <td>143.0</td>\n",
              "      <td>33.0</td>\n",
              "      <td>132.0</td>\n",
              "      <td>66.0</td>\n",
              "      <td>22.0</td>\n",
              "      <td>NaN</td>\n",
              "    </tr>\n",
              "  </tbody>\n",
              "</table>\n",
              "<p>5 rows × 27 columns</p>\n",
              "</div>"
            ],
            "text/plain": [
              "      A     B     C some_text      D     E      F     G      H      I  ...    \\\n",
              "0   NaN  11.0  44.0    Blabla   99.0   NaN   88.0  22.0  165.0  143.0  ...     \n",
              "1  11.0  22.0  55.0    Blabla  110.0   NaN   99.0  33.0    NaN  154.0  ...     \n",
              "2  22.0  33.0  66.0    Blabla  121.0  11.0  110.0  44.0    NaN  165.0  ...     \n",
              "3  33.0  44.0  77.0    Blabla  132.0  22.0  121.0  55.0   11.0    NaN  ...     \n",
              "4  44.0  55.0  88.0    Blabla  143.0  33.0  132.0  66.0   22.0    NaN  ...     \n",
              "\n",
              "      Q     R     S     T      U     V      W     X      Y      Z  \n",
              "0  11.0   NaN  11.0  44.0   99.0   NaN   88.0  22.0  165.0  143.0  \n",
              "1  22.0  11.0  22.0  55.0  110.0   NaN   99.0  33.0    NaN  154.0  \n",
              "2  33.0  22.0  33.0  66.0  121.0  11.0  110.0  44.0    NaN  165.0  \n",
              "3  44.0  33.0  44.0  77.0  132.0  22.0  121.0  55.0   11.0    NaN  \n",
              "4  55.0  44.0  55.0  88.0  143.0  33.0  132.0  66.0   22.0    NaN  \n",
              "\n",
              "[5 rows x 27 columns]"
            ]
          },
          "execution_count": 125,
          "metadata": {},
          "output_type": "execute_result"
        }
      ],
      "source": [
        "large_df.head()"
      ]
    },
    {
      "cell_type": "markdown",
      "metadata": {
        "id": "37GatMwm1mx7"
      },
      "source": [
        "Of course, there's also a `tail()` function to view the bottom 5 rows. You can pass the number of rows you want:"
      ]
    },
    {
      "cell_type": "code",
      "execution_count": null,
      "metadata": {
        "id": "0nWYK7mw1mx7",
        "outputId": "5c2f46be-b170-483c-f824-7d480322de6b"
      },
      "outputs": [
        {
          "data": {
            "text/html": [
              "<div>\n",
              "<style>\n",
              "    .dataframe thead tr:only-child th {\n",
              "        text-align: right;\n",
              "    }\n",
              "\n",
              "    .dataframe thead th {\n",
              "        text-align: left;\n",
              "    }\n",
              "\n",
              "    .dataframe tbody tr th {\n",
              "        vertical-align: top;\n",
              "    }\n",
              "</style>\n",
              "<table border=\"1\" class=\"dataframe\">\n",
              "  <thead>\n",
              "    <tr style=\"text-align: right;\">\n",
              "      <th></th>\n",
              "      <th>A</th>\n",
              "      <th>B</th>\n",
              "      <th>C</th>\n",
              "      <th>some_text</th>\n",
              "      <th>D</th>\n",
              "      <th>E</th>\n",
              "      <th>F</th>\n",
              "      <th>G</th>\n",
              "      <th>H</th>\n",
              "      <th>I</th>\n",
              "      <th>...</th>\n",
              "      <th>Q</th>\n",
              "      <th>R</th>\n",
              "      <th>S</th>\n",
              "      <th>T</th>\n",
              "      <th>U</th>\n",
              "      <th>V</th>\n",
              "      <th>W</th>\n",
              "      <th>X</th>\n",
              "      <th>Y</th>\n",
              "      <th>Z</th>\n",
              "    </tr>\n",
              "  </thead>\n",
              "  <tbody>\n",
              "    <tr>\n",
              "      <th>9998</th>\n",
              "      <td>22.0</td>\n",
              "      <td>33.0</td>\n",
              "      <td>66.0</td>\n",
              "      <td>Blabla</td>\n",
              "      <td>121.0</td>\n",
              "      <td>11.0</td>\n",
              "      <td>110.0</td>\n",
              "      <td>44.0</td>\n",
              "      <td>NaN</td>\n",
              "      <td>165.0</td>\n",
              "      <td>...</td>\n",
              "      <td>33.0</td>\n",
              "      <td>22.0</td>\n",
              "      <td>33.0</td>\n",
              "      <td>66.0</td>\n",
              "      <td>121.0</td>\n",
              "      <td>11.0</td>\n",
              "      <td>110.0</td>\n",
              "      <td>44.0</td>\n",
              "      <td>NaN</td>\n",
              "      <td>165.0</td>\n",
              "    </tr>\n",
              "    <tr>\n",
              "      <th>9999</th>\n",
              "      <td>33.0</td>\n",
              "      <td>44.0</td>\n",
              "      <td>77.0</td>\n",
              "      <td>Blabla</td>\n",
              "      <td>132.0</td>\n",
              "      <td>22.0</td>\n",
              "      <td>121.0</td>\n",
              "      <td>55.0</td>\n",
              "      <td>11.0</td>\n",
              "      <td>NaN</td>\n",
              "      <td>...</td>\n",
              "      <td>44.0</td>\n",
              "      <td>33.0</td>\n",
              "      <td>44.0</td>\n",
              "      <td>77.0</td>\n",
              "      <td>132.0</td>\n",
              "      <td>22.0</td>\n",
              "      <td>121.0</td>\n",
              "      <td>55.0</td>\n",
              "      <td>11.0</td>\n",
              "      <td>NaN</td>\n",
              "    </tr>\n",
              "  </tbody>\n",
              "</table>\n",
              "<p>2 rows × 27 columns</p>\n",
              "</div>"
            ],
            "text/plain": [
              "         A     B     C some_text      D     E      F     G     H      I  \\\n",
              "9998  22.0  33.0  66.0    Blabla  121.0  11.0  110.0  44.0   NaN  165.0   \n",
              "9999  33.0  44.0  77.0    Blabla  132.0  22.0  121.0  55.0  11.0    NaN   \n",
              "\n",
              "      ...       Q     R     S     T      U     V      W     X     Y      Z  \n",
              "9998  ...    33.0  22.0  33.0  66.0  121.0  11.0  110.0  44.0   NaN  165.0  \n",
              "9999  ...    44.0  33.0  44.0  77.0  132.0  22.0  121.0  55.0  11.0    NaN  \n",
              "\n",
              "[2 rows x 27 columns]"
            ]
          },
          "execution_count": 126,
          "metadata": {},
          "output_type": "execute_result"
        }
      ],
      "source": [
        "large_df.tail(n=2)"
      ]
    },
    {
      "cell_type": "markdown",
      "metadata": {
        "id": "LwDOtDD91mx7"
      },
      "source": [
        "The `info()` method prints out a summary of each column's contents:"
      ]
    },
    {
      "cell_type": "code",
      "execution_count": null,
      "metadata": {
        "id": "IExLwFHU1mx7",
        "outputId": "ec090540-a9c7-40ea-8228-df9539881bf9"
      },
      "outputs": [
        {
          "name": "stdout",
          "output_type": "stream",
          "text": [
            "<class 'pandas.core.frame.DataFrame'>\n",
            "RangeIndex: 10000 entries, 0 to 9999\n",
            "Data columns (total 27 columns):\n",
            "A            8823 non-null float64\n",
            "B            8824 non-null float64\n",
            "C            8824 non-null float64\n",
            "some_text    10000 non-null object\n",
            "D            8824 non-null float64\n",
            "E            8822 non-null float64\n",
            "F            8824 non-null float64\n",
            "G            8824 non-null float64\n",
            "H            8822 non-null float64\n",
            "I            8823 non-null float64\n",
            "J            8823 non-null float64\n",
            "K            8822 non-null float64\n",
            "L            8824 non-null float64\n",
            "M            8824 non-null float64\n",
            "N            8822 non-null float64\n",
            "O            8824 non-null float64\n",
            "P            8824 non-null float64\n",
            "Q            8824 non-null float64\n",
            "R            8823 non-null float64\n",
            "S            8824 non-null float64\n",
            "T            8824 non-null float64\n",
            "U            8824 non-null float64\n",
            "V            8822 non-null float64\n",
            "W            8824 non-null float64\n",
            "X            8824 non-null float64\n",
            "Y            8822 non-null float64\n",
            "Z            8823 non-null float64\n",
            "dtypes: float64(26), object(1)\n",
            "memory usage: 2.1+ MB\n"
          ]
        }
      ],
      "source": [
        "large_df.info()"
      ]
    },
    {
      "cell_type": "markdown",
      "metadata": {
        "id": "kWunEsq41mx7"
      },
      "source": [
        "Finally, the `describe()` method gives a nice overview of the main aggregated values over each column:\n",
        "* `count`: number of non-null (not NaN) values\n",
        "* `mean`: mean of non-null values\n",
        "* `std`: [standard deviation](https://en.wikipedia.org/wiki/Standard_deviation) of non-null values\n",
        "* `min`: minimum of non-null values\n",
        "* `25%`, `50%`, `75%`: 25th, 50th and 75th [percentile](https://en.wikipedia.org/wiki/Percentile) of non-null values\n",
        "* `max`: maximum of non-null values"
      ]
    },
    {
      "cell_type": "code",
      "execution_count": null,
      "metadata": {
        "id": "TbzsrP021mx7",
        "outputId": "f5864316-5b88-446f-85d2-4095959adfc0"
      },
      "outputs": [
        {
          "data": {
            "text/html": [
              "<div>\n",
              "<style>\n",
              "    .dataframe thead tr:only-child th {\n",
              "        text-align: right;\n",
              "    }\n",
              "\n",
              "    .dataframe thead th {\n",
              "        text-align: left;\n",
              "    }\n",
              "\n",
              "    .dataframe tbody tr th {\n",
              "        vertical-align: top;\n",
              "    }\n",
              "</style>\n",
              "<table border=\"1\" class=\"dataframe\">\n",
              "  <thead>\n",
              "    <tr style=\"text-align: right;\">\n",
              "      <th></th>\n",
              "      <th>A</th>\n",
              "      <th>B</th>\n",
              "      <th>C</th>\n",
              "      <th>D</th>\n",
              "      <th>E</th>\n",
              "      <th>F</th>\n",
              "      <th>G</th>\n",
              "      <th>H</th>\n",
              "      <th>I</th>\n",
              "      <th>J</th>\n",
              "      <th>...</th>\n",
              "      <th>Q</th>\n",
              "      <th>R</th>\n",
              "      <th>S</th>\n",
              "      <th>T</th>\n",
              "      <th>U</th>\n",
              "      <th>V</th>\n",
              "      <th>W</th>\n",
              "      <th>X</th>\n",
              "      <th>Y</th>\n",
              "      <th>Z</th>\n",
              "    </tr>\n",
              "  </thead>\n",
              "  <tbody>\n",
              "    <tr>\n",
              "      <th>count</th>\n",
              "      <td>8823.000000</td>\n",
              "      <td>8824.000000</td>\n",
              "      <td>8824.000000</td>\n",
              "      <td>8824.000000</td>\n",
              "      <td>8822.000000</td>\n",
              "      <td>8824.000000</td>\n",
              "      <td>8824.000000</td>\n",
              "      <td>8822.000000</td>\n",
              "      <td>8823.000000</td>\n",
              "      <td>8823.000000</td>\n",
              "      <td>...</td>\n",
              "      <td>8824.000000</td>\n",
              "      <td>8823.000000</td>\n",
              "      <td>8824.000000</td>\n",
              "      <td>8824.000000</td>\n",
              "      <td>8824.000000</td>\n",
              "      <td>8822.000000</td>\n",
              "      <td>8824.000000</td>\n",
              "      <td>8824.000000</td>\n",
              "      <td>8822.000000</td>\n",
              "      <td>8823.000000</td>\n",
              "    </tr>\n",
              "    <tr>\n",
              "      <th>mean</th>\n",
              "      <td>87.977559</td>\n",
              "      <td>87.972575</td>\n",
              "      <td>87.987534</td>\n",
              "      <td>88.012466</td>\n",
              "      <td>87.983791</td>\n",
              "      <td>88.007480</td>\n",
              "      <td>87.977561</td>\n",
              "      <td>88.000000</td>\n",
              "      <td>88.022441</td>\n",
              "      <td>88.022441</td>\n",
              "      <td>...</td>\n",
              "      <td>87.972575</td>\n",
              "      <td>87.977559</td>\n",
              "      <td>87.972575</td>\n",
              "      <td>87.987534</td>\n",
              "      <td>88.012466</td>\n",
              "      <td>87.983791</td>\n",
              "      <td>88.007480</td>\n",
              "      <td>87.977561</td>\n",
              "      <td>88.000000</td>\n",
              "      <td>88.022441</td>\n",
              "    </tr>\n",
              "    <tr>\n",
              "      <th>std</th>\n",
              "      <td>47.535911</td>\n",
              "      <td>47.535523</td>\n",
              "      <td>47.521679</td>\n",
              "      <td>47.521679</td>\n",
              "      <td>47.535001</td>\n",
              "      <td>47.519371</td>\n",
              "      <td>47.529755</td>\n",
              "      <td>47.536879</td>\n",
              "      <td>47.535911</td>\n",
              "      <td>47.535911</td>\n",
              "      <td>...</td>\n",
              "      <td>47.535523</td>\n",
              "      <td>47.535911</td>\n",
              "      <td>47.535523</td>\n",
              "      <td>47.521679</td>\n",
              "      <td>47.521679</td>\n",
              "      <td>47.535001</td>\n",
              "      <td>47.519371</td>\n",
              "      <td>47.529755</td>\n",
              "      <td>47.536879</td>\n",
              "      <td>47.535911</td>\n",
              "    </tr>\n",
              "    <tr>\n",
              "      <th>min</th>\n",
              "      <td>11.000000</td>\n",
              "      <td>11.000000</td>\n",
              "      <td>11.000000</td>\n",
              "      <td>11.000000</td>\n",
              "      <td>11.000000</td>\n",
              "      <td>11.000000</td>\n",
              "      <td>11.000000</td>\n",
              "      <td>11.000000</td>\n",
              "      <td>11.000000</td>\n",
              "      <td>11.000000</td>\n",
              "      <td>...</td>\n",
              "      <td>11.000000</td>\n",
              "      <td>11.000000</td>\n",
              "      <td>11.000000</td>\n",
              "      <td>11.000000</td>\n",
              "      <td>11.000000</td>\n",
              "      <td>11.000000</td>\n",
              "      <td>11.000000</td>\n",
              "      <td>11.000000</td>\n",
              "      <td>11.000000</td>\n",
              "      <td>11.000000</td>\n",
              "    </tr>\n",
              "    <tr>\n",
              "      <th>25%</th>\n",
              "      <td>44.000000</td>\n",
              "      <td>44.000000</td>\n",
              "      <td>44.000000</td>\n",
              "      <td>44.000000</td>\n",
              "      <td>44.000000</td>\n",
              "      <td>44.000000</td>\n",
              "      <td>44.000000</td>\n",
              "      <td>44.000000</td>\n",
              "      <td>44.000000</td>\n",
              "      <td>44.000000</td>\n",
              "      <td>...</td>\n",
              "      <td>44.000000</td>\n",
              "      <td>44.000000</td>\n",
              "      <td>44.000000</td>\n",
              "      <td>44.000000</td>\n",
              "      <td>44.000000</td>\n",
              "      <td>44.000000</td>\n",
              "      <td>44.000000</td>\n",
              "      <td>44.000000</td>\n",
              "      <td>44.000000</td>\n",
              "      <td>44.000000</td>\n",
              "    </tr>\n",
              "    <tr>\n",
              "      <th>50%</th>\n",
              "      <td>88.000000</td>\n",
              "      <td>88.000000</td>\n",
              "      <td>88.000000</td>\n",
              "      <td>88.000000</td>\n",
              "      <td>88.000000</td>\n",
              "      <td>88.000000</td>\n",
              "      <td>88.000000</td>\n",
              "      <td>88.000000</td>\n",
              "      <td>88.000000</td>\n",
              "      <td>88.000000</td>\n",
              "      <td>...</td>\n",
              "      <td>88.000000</td>\n",
              "      <td>88.000000</td>\n",
              "      <td>88.000000</td>\n",
              "      <td>88.000000</td>\n",
              "      <td>88.000000</td>\n",
              "      <td>88.000000</td>\n",
              "      <td>88.000000</td>\n",
              "      <td>88.000000</td>\n",
              "      <td>88.000000</td>\n",
              "      <td>88.000000</td>\n",
              "    </tr>\n",
              "    <tr>\n",
              "      <th>75%</th>\n",
              "      <td>132.000000</td>\n",
              "      <td>132.000000</td>\n",
              "      <td>132.000000</td>\n",
              "      <td>132.000000</td>\n",
              "      <td>132.000000</td>\n",
              "      <td>132.000000</td>\n",
              "      <td>132.000000</td>\n",
              "      <td>132.000000</td>\n",
              "      <td>132.000000</td>\n",
              "      <td>132.000000</td>\n",
              "      <td>...</td>\n",
              "      <td>132.000000</td>\n",
              "      <td>132.000000</td>\n",
              "      <td>132.000000</td>\n",
              "      <td>132.000000</td>\n",
              "      <td>132.000000</td>\n",
              "      <td>132.000000</td>\n",
              "      <td>132.000000</td>\n",
              "      <td>132.000000</td>\n",
              "      <td>132.000000</td>\n",
              "      <td>132.000000</td>\n",
              "    </tr>\n",
              "    <tr>\n",
              "      <th>max</th>\n",
              "      <td>165.000000</td>\n",
              "      <td>165.000000</td>\n",
              "      <td>165.000000</td>\n",
              "      <td>165.000000</td>\n",
              "      <td>165.000000</td>\n",
              "      <td>165.000000</td>\n",
              "      <td>165.000000</td>\n",
              "      <td>165.000000</td>\n",
              "      <td>165.000000</td>\n",
              "      <td>165.000000</td>\n",
              "      <td>...</td>\n",
              "      <td>165.000000</td>\n",
              "      <td>165.000000</td>\n",
              "      <td>165.000000</td>\n",
              "      <td>165.000000</td>\n",
              "      <td>165.000000</td>\n",
              "      <td>165.000000</td>\n",
              "      <td>165.000000</td>\n",
              "      <td>165.000000</td>\n",
              "      <td>165.000000</td>\n",
              "      <td>165.000000</td>\n",
              "    </tr>\n",
              "  </tbody>\n",
              "</table>\n",
              "<p>8 rows × 26 columns</p>\n",
              "</div>"
            ],
            "text/plain": [
              "                 A            B            C            D            E  \\\n",
              "count  8823.000000  8824.000000  8824.000000  8824.000000  8822.000000   \n",
              "mean     87.977559    87.972575    87.987534    88.012466    87.983791   \n",
              "std      47.535911    47.535523    47.521679    47.521679    47.535001   \n",
              "min      11.000000    11.000000    11.000000    11.000000    11.000000   \n",
              "25%      44.000000    44.000000    44.000000    44.000000    44.000000   \n",
              "50%      88.000000    88.000000    88.000000    88.000000    88.000000   \n",
              "75%     132.000000   132.000000   132.000000   132.000000   132.000000   \n",
              "max     165.000000   165.000000   165.000000   165.000000   165.000000   \n",
              "\n",
              "                 F            G            H            I            J  \\\n",
              "count  8824.000000  8824.000000  8822.000000  8823.000000  8823.000000   \n",
              "mean     88.007480    87.977561    88.000000    88.022441    88.022441   \n",
              "std      47.519371    47.529755    47.536879    47.535911    47.535911   \n",
              "min      11.000000    11.000000    11.000000    11.000000    11.000000   \n",
              "25%      44.000000    44.000000    44.000000    44.000000    44.000000   \n",
              "50%      88.000000    88.000000    88.000000    88.000000    88.000000   \n",
              "75%     132.000000   132.000000   132.000000   132.000000   132.000000   \n",
              "max     165.000000   165.000000   165.000000   165.000000   165.000000   \n",
              "\n",
              "          ...                 Q            R            S            T  \\\n",
              "count     ...       8824.000000  8823.000000  8824.000000  8824.000000   \n",
              "mean      ...         87.972575    87.977559    87.972575    87.987534   \n",
              "std       ...         47.535523    47.535911    47.535523    47.521679   \n",
              "min       ...         11.000000    11.000000    11.000000    11.000000   \n",
              "25%       ...         44.000000    44.000000    44.000000    44.000000   \n",
              "50%       ...         88.000000    88.000000    88.000000    88.000000   \n",
              "75%       ...        132.000000   132.000000   132.000000   132.000000   \n",
              "max       ...        165.000000   165.000000   165.000000   165.000000   \n",
              "\n",
              "                 U            V            W            X            Y  \\\n",
              "count  8824.000000  8822.000000  8824.000000  8824.000000  8822.000000   \n",
              "mean     88.012466    87.983791    88.007480    87.977561    88.000000   \n",
              "std      47.521679    47.535001    47.519371    47.529755    47.536879   \n",
              "min      11.000000    11.000000    11.000000    11.000000    11.000000   \n",
              "25%      44.000000    44.000000    44.000000    44.000000    44.000000   \n",
              "50%      88.000000    88.000000    88.000000    88.000000    88.000000   \n",
              "75%     132.000000   132.000000   132.000000   132.000000   132.000000   \n",
              "max     165.000000   165.000000   165.000000   165.000000   165.000000   \n",
              "\n",
              "                 Z  \n",
              "count  8823.000000  \n",
              "mean     88.022441  \n",
              "std      47.535911  \n",
              "min      11.000000  \n",
              "25%      44.000000  \n",
              "50%      88.000000  \n",
              "75%     132.000000  \n",
              "max     165.000000  \n",
              "\n",
              "[8 rows x 26 columns]"
            ]
          },
          "execution_count": 128,
          "metadata": {},
          "output_type": "execute_result"
        }
      ],
      "source": [
        "large_df.describe()"
      ]
    },
    {
      "cell_type": "markdown",
      "metadata": {
        "id": "wsBhNymC1mx7"
      },
      "source": [
        "# Saving & loading\n",
        "Pandas can save `DataFrame`s to various backends, including file formats such as CSV, Excel, JSON, HTML and HDF5, or to a SQL database. Let's create a `DataFrame` to demonstrate this:"
      ]
    },
    {
      "cell_type": "code",
      "execution_count": null,
      "metadata": {
        "id": "5orlIpg21mx7",
        "outputId": "840fb16a-caa0-4621-9048-eda86e2e7665"
      },
      "outputs": [
        {
          "data": {
            "text/html": [
              "<div>\n",
              "<style>\n",
              "    .dataframe thead tr:only-child th {\n",
              "        text-align: right;\n",
              "    }\n",
              "\n",
              "    .dataframe thead th {\n",
              "        text-align: left;\n",
              "    }\n",
              "\n",
              "    .dataframe tbody tr th {\n",
              "        vertical-align: top;\n",
              "    }\n",
              "</style>\n",
              "<table border=\"1\" class=\"dataframe\">\n",
              "  <thead>\n",
              "    <tr style=\"text-align: right;\">\n",
              "      <th></th>\n",
              "      <th>hobby</th>\n",
              "      <th>weight</th>\n",
              "      <th>birthyear</th>\n",
              "      <th>children</th>\n",
              "    </tr>\n",
              "  </thead>\n",
              "  <tbody>\n",
              "    <tr>\n",
              "      <th>alice</th>\n",
              "      <td>Biking</td>\n",
              "      <td>68.5</td>\n",
              "      <td>1985</td>\n",
              "      <td>NaN</td>\n",
              "    </tr>\n",
              "    <tr>\n",
              "      <th>bob</th>\n",
              "      <td>Dancing</td>\n",
              "      <td>83.1</td>\n",
              "      <td>1984</td>\n",
              "      <td>3.0</td>\n",
              "    </tr>\n",
              "  </tbody>\n",
              "</table>\n",
              "</div>"
            ],
            "text/plain": [
              "         hobby  weight  birthyear  children\n",
              "alice   Biking    68.5       1985       NaN\n",
              "bob    Dancing    83.1       1984       3.0"
            ]
          },
          "execution_count": 129,
          "metadata": {},
          "output_type": "execute_result"
        }
      ],
      "source": [
        "my_df = pd.DataFrame(\n",
        "    [[\"Biking\", 68.5, 1985, np.nan], [\"Dancing\", 83.1, 1984, 3]],\n",
        "    columns=[\"hobby\", \"weight\", \"birthyear\", \"children\"],\n",
        "    index=[\"alice\", \"bob\"]\n",
        ")\n",
        "my_df"
      ]
    },
    {
      "cell_type": "markdown",
      "metadata": {
        "id": "QDI_akpl1mx7"
      },
      "source": [
        "## Saving\n",
        "Let's save it to CSV, HTML and JSON:"
      ]
    },
    {
      "cell_type": "code",
      "execution_count": null,
      "metadata": {
        "id": "SXkV-7u61mx7"
      },
      "outputs": [],
      "source": [
        "my_df.to_csv(\"my_df.csv\")\n",
        "my_df.to_html(\"my_df.html\")\n",
        "my_df.to_json(\"my_df.json\")"
      ]
    },
    {
      "cell_type": "markdown",
      "metadata": {
        "id": "2kWNeb0R1mx7"
      },
      "source": [
        "Done! Let's take a peek at what was saved:"
      ]
    },
    {
      "cell_type": "code",
      "execution_count": null,
      "metadata": {
        "id": "hBfCETzf1mx7",
        "outputId": "aa622473-f01e-48a7-c8e0-a05dd5bee190"
      },
      "outputs": [
        {
          "name": "stdout",
          "output_type": "stream",
          "text": [
            "# my_df.csv\n",
            ",hobby,weight,birthyear,children\n",
            "alice,Biking,68.5,1985,\n",
            "bob,Dancing,83.1,1984,3.0\n",
            "\n",
            "\n",
            "# my_df.html\n",
            "<table border=\"1\" class=\"dataframe\">\n",
            "  <thead>\n",
            "    <tr style=\"text-align: right;\">\n",
            "      <th></th>\n",
            "      <th>hobby</th>\n",
            "      <th>weight</th>\n",
            "      <th>birthyear</th>\n",
            "      <th>children</th>\n",
            "    </tr>\n",
            "  </thead>\n",
            "  <tbody>\n",
            "    <tr>\n",
            "      <th>alice</th>\n",
            "      <td>Biking</td>\n",
            "      <td>68.5</td>\n",
            "      <td>1985</td>\n",
            "      <td>NaN</td>\n",
            "    </tr>\n",
            "    <tr>\n",
            "      <th>bob</th>\n",
            "      <td>Dancing</td>\n",
            "      <td>83.1</td>\n",
            "      <td>1984</td>\n",
            "      <td>3.0</td>\n",
            "    </tr>\n",
            "  </tbody>\n",
            "</table>\n",
            "\n",
            "# my_df.json\n",
            "{\"hobby\":{\"alice\":\"Biking\",\"bob\":\"Dancing\"},\"weight\":{\"alice\":68.5,\"bob\":83.1},\"birthyear\":{\"alice\":1985,\"bob\":1984},\"children\":{\"alice\":null,\"bob\":3.0}}\n",
            "\n"
          ]
        }
      ],
      "source": [
        "for filename in (\"my_df.csv\", \"my_df.html\", \"my_df.json\"):\n",
        "    print(\"#\", filename)\n",
        "    with open(filename, \"rt\") as f:\n",
        "        print(f.read())\n",
        "        print()\n"
      ]
    },
    {
      "cell_type": "markdown",
      "metadata": {
        "id": "wAiHqoi71mx7"
      },
      "source": [
        "Note that the index is saved as the first column (with no name) in a CSV file, as `<th>` tags in HTML and as keys in JSON.\n",
        "\n",
        "Saving to other formats works very similarly, but some formats require extra libraries to be installed. For example, saving to Excel requires the openpyxl library:"
      ]
    },
    {
      "cell_type": "code",
      "execution_count": null,
      "metadata": {
        "id": "HkqOV-lB1mx7",
        "outputId": "31e2a9f5-5e81-4379-e058-e91f40fcc5d0"
      },
      "outputs": [
        {
          "name": "stdout",
          "output_type": "stream",
          "text": [
            "No module named 'openpyxl'\n"
          ]
        }
      ],
      "source": [
        "try:\n",
        "    my_df.to_excel(\"my_df.xlsx\", sheet_name='People')\n",
        "except ImportError as e:\n",
        "    print(e)"
      ]
    },
    {
      "cell_type": "markdown",
      "metadata": {
        "id": "xGV7rULl1mx7"
      },
      "source": [
        "## Loading\n",
        "Now let's load our CSV file back into a `DataFrame`:"
      ]
    },
    {
      "cell_type": "code",
      "execution_count": null,
      "metadata": {
        "id": "6u7WdNd11mx7",
        "outputId": "78b43f07-54b5-4cb9-a7e9-1f3fbe07118d"
      },
      "outputs": [
        {
          "data": {
            "text/html": [
              "<div>\n",
              "<style>\n",
              "    .dataframe thead tr:only-child th {\n",
              "        text-align: right;\n",
              "    }\n",
              "\n",
              "    .dataframe thead th {\n",
              "        text-align: left;\n",
              "    }\n",
              "\n",
              "    .dataframe tbody tr th {\n",
              "        vertical-align: top;\n",
              "    }\n",
              "</style>\n",
              "<table border=\"1\" class=\"dataframe\">\n",
              "  <thead>\n",
              "    <tr style=\"text-align: right;\">\n",
              "      <th></th>\n",
              "      <th>hobby</th>\n",
              "      <th>weight</th>\n",
              "      <th>birthyear</th>\n",
              "      <th>children</th>\n",
              "    </tr>\n",
              "  </thead>\n",
              "  <tbody>\n",
              "    <tr>\n",
              "      <th>alice</th>\n",
              "      <td>Biking</td>\n",
              "      <td>68.5</td>\n",
              "      <td>1985</td>\n",
              "      <td>NaN</td>\n",
              "    </tr>\n",
              "    <tr>\n",
              "      <th>bob</th>\n",
              "      <td>Dancing</td>\n",
              "      <td>83.1</td>\n",
              "      <td>1984</td>\n",
              "      <td>3.0</td>\n",
              "    </tr>\n",
              "  </tbody>\n",
              "</table>\n",
              "</div>"
            ],
            "text/plain": [
              "         hobby  weight  birthyear  children\n",
              "alice   Biking    68.5       1985       NaN\n",
              "bob    Dancing    83.1       1984       3.0"
            ]
          },
          "execution_count": 133,
          "metadata": {},
          "output_type": "execute_result"
        }
      ],
      "source": [
        "my_df_loaded = pd.read_csv(\"my_df.csv\", index_col=0)\n",
        "my_df_loaded"
      ]
    },
    {
      "cell_type": "markdown",
      "metadata": {
        "id": "MRqyXqoq1mx8"
      },
      "source": [
        "As you might guess, there are similar `read_json`, `read_html`, `read_excel` functions as well.  We can also read data straight from the Internet. For example, let's load the top 1,000 U.S. cities from GitHub:"
      ]
    },
    {
      "cell_type": "code",
      "execution_count": null,
      "metadata": {
        "id": "ijvKo2mW1mx8",
        "outputId": "5ec6c993-2232-4e5d-c30d-324f6c929253"
      },
      "outputs": [
        {
          "data": {
            "text/html": [
              "<div>\n",
              "<style scoped>\n",
              "    .dataframe tbody tr th:only-of-type {\n",
              "        vertical-align: middle;\n",
              "    }\n",
              "\n",
              "    .dataframe tbody tr th {\n",
              "        vertical-align: top;\n",
              "    }\n",
              "\n",
              "    .dataframe thead th {\n",
              "        text-align: right;\n",
              "    }\n",
              "</style>\n",
              "<table border=\"1\" class=\"dataframe\">\n",
              "  <thead>\n",
              "    <tr style=\"text-align: right;\">\n",
              "      <th></th>\n",
              "      <th>State</th>\n",
              "      <th>Population</th>\n",
              "      <th>lat</th>\n",
              "      <th>lon</th>\n",
              "    </tr>\n",
              "    <tr>\n",
              "      <th>City</th>\n",
              "      <th></th>\n",
              "      <th></th>\n",
              "      <th></th>\n",
              "      <th></th>\n",
              "    </tr>\n",
              "  </thead>\n",
              "  <tbody>\n",
              "    <tr>\n",
              "      <th>Marysville</th>\n",
              "      <td>Washington</td>\n",
              "      <td>63269</td>\n",
              "      <td>48.051764</td>\n",
              "      <td>-122.177082</td>\n",
              "    </tr>\n",
              "    <tr>\n",
              "      <th>Perris</th>\n",
              "      <td>California</td>\n",
              "      <td>72326</td>\n",
              "      <td>33.782519</td>\n",
              "      <td>-117.228648</td>\n",
              "    </tr>\n",
              "    <tr>\n",
              "      <th>Cleveland</th>\n",
              "      <td>Ohio</td>\n",
              "      <td>390113</td>\n",
              "      <td>41.499320</td>\n",
              "      <td>-81.694361</td>\n",
              "    </tr>\n",
              "    <tr>\n",
              "      <th>Worcester</th>\n",
              "      <td>Massachusetts</td>\n",
              "      <td>182544</td>\n",
              "      <td>42.262593</td>\n",
              "      <td>-71.802293</td>\n",
              "    </tr>\n",
              "    <tr>\n",
              "      <th>Columbia</th>\n",
              "      <td>South Carolina</td>\n",
              "      <td>133358</td>\n",
              "      <td>34.000710</td>\n",
              "      <td>-81.034814</td>\n",
              "    </tr>\n",
              "  </tbody>\n",
              "</table>\n",
              "</div>"
            ],
            "text/plain": [
              "                     State  Population        lat         lon\n",
              "City                                                         \n",
              "Marysville      Washington       63269  48.051764 -122.177082\n",
              "Perris          California       72326  33.782519 -117.228648\n",
              "Cleveland             Ohio      390113  41.499320  -81.694361\n",
              "Worcester    Massachusetts      182544  42.262593  -71.802293\n",
              "Columbia    South Carolina      133358  34.000710  -81.034814"
            ]
          },
          "execution_count": 134,
          "metadata": {},
          "output_type": "execute_result"
        }
      ],
      "source": [
        "us_cities = None\n",
        "try:\n",
        "    csv_url = \"https://raw.githubusercontent.com/plotly/datasets/master/us-cities-top-1k.csv\"\n",
        "    us_cities = pd.read_csv(csv_url, index_col=0)\n",
        "    us_cities = us_cities.head()\n",
        "except IOError as e:\n",
        "    print(e)\n",
        "us_cities"
      ]
    },
    {
      "cell_type": "markdown",
      "metadata": {
        "id": "fzkuC8lK1mx8"
      },
      "source": [
        "There are more options available, in particular regarding datetime format. Check out the [documentation](https://pandas.pydata.org/pandas-docs/stable/user_guide/io.html) for more details."
      ]
    },
    {
      "cell_type": "markdown",
      "metadata": {
        "id": "u-5pB1my1mx8"
      },
      "source": [
        "# Combining `DataFrame`s\n",
        "\n",
        "## SQL-like joins\n",
        "One powerful feature of pandas is its ability to perform SQL-like joins on `DataFrame`s. Various types of joins are supported: inner joins, left/right outer joins and full joins. To illustrate this, let's start by creating a couple of simple `DataFrame`s:"
      ]
    },
    {
      "cell_type": "code",
      "execution_count": null,
      "metadata": {
        "id": "ru10YLP71mx8",
        "outputId": "50abe09c-a494-49eb-adc3-22c3ff07ff47"
      },
      "outputs": [
        {
          "data": {
            "text/html": [
              "<div>\n",
              "<style>\n",
              "    .dataframe thead tr:only-child th {\n",
              "        text-align: right;\n",
              "    }\n",
              "\n",
              "    .dataframe thead th {\n",
              "        text-align: left;\n",
              "    }\n",
              "\n",
              "    .dataframe tbody tr th {\n",
              "        vertical-align: top;\n",
              "    }\n",
              "</style>\n",
              "<table border=\"1\" class=\"dataframe\">\n",
              "  <thead>\n",
              "    <tr style=\"text-align: right;\">\n",
              "      <th></th>\n",
              "      <th>state</th>\n",
              "      <th>city</th>\n",
              "      <th>lat</th>\n",
              "      <th>lng</th>\n",
              "    </tr>\n",
              "  </thead>\n",
              "  <tbody>\n",
              "    <tr>\n",
              "      <th>0</th>\n",
              "      <td>CA</td>\n",
              "      <td>San Francisco</td>\n",
              "      <td>37.781334</td>\n",
              "      <td>-122.416728</td>\n",
              "    </tr>\n",
              "    <tr>\n",
              "      <th>1</th>\n",
              "      <td>NY</td>\n",
              "      <td>New York</td>\n",
              "      <td>40.705649</td>\n",
              "      <td>-74.008344</td>\n",
              "    </tr>\n",
              "    <tr>\n",
              "      <th>2</th>\n",
              "      <td>FL</td>\n",
              "      <td>Miami</td>\n",
              "      <td>25.791100</td>\n",
              "      <td>-80.320733</td>\n",
              "    </tr>\n",
              "    <tr>\n",
              "      <th>3</th>\n",
              "      <td>OH</td>\n",
              "      <td>Cleveland</td>\n",
              "      <td>41.473508</td>\n",
              "      <td>-81.739791</td>\n",
              "    </tr>\n",
              "    <tr>\n",
              "      <th>4</th>\n",
              "      <td>UT</td>\n",
              "      <td>Salt Lake City</td>\n",
              "      <td>40.755851</td>\n",
              "      <td>-111.896657</td>\n",
              "    </tr>\n",
              "  </tbody>\n",
              "</table>\n",
              "</div>"
            ],
            "text/plain": [
              "  state            city        lat         lng\n",
              "0    CA   San Francisco  37.781334 -122.416728\n",
              "1    NY        New York  40.705649  -74.008344\n",
              "2    FL           Miami  25.791100  -80.320733\n",
              "3    OH       Cleveland  41.473508  -81.739791\n",
              "4    UT  Salt Lake City  40.755851 -111.896657"
            ]
          },
          "execution_count": 135,
          "metadata": {},
          "output_type": "execute_result"
        }
      ],
      "source": [
        "city_loc = pd.DataFrame(\n",
        "    [\n",
        "        [\"CA\", \"San Francisco\", 37.781334, -122.416728],\n",
        "        [\"NY\", \"New York\", 40.705649, -74.008344],\n",
        "        [\"FL\", \"Miami\", 25.791100, -80.320733],\n",
        "        [\"OH\", \"Cleveland\", 41.473508, -81.739791],\n",
        "        [\"UT\", \"Salt Lake City\", 40.755851, -111.896657]\n",
        "    ], columns=[\"state\", \"city\", \"lat\", \"lng\"])\n",
        "city_loc"
      ]
    },
    {
      "cell_type": "code",
      "execution_count": null,
      "metadata": {
        "id": "X1o8KLuq1mx8",
        "outputId": "a8436046-da96-4c26-b388-dcd428646040"
      },
      "outputs": [
        {
          "data": {
            "text/html": [
              "<div>\n",
              "<style>\n",
              "    .dataframe thead tr:only-child th {\n",
              "        text-align: right;\n",
              "    }\n",
              "\n",
              "    .dataframe thead th {\n",
              "        text-align: left;\n",
              "    }\n",
              "\n",
              "    .dataframe tbody tr th {\n",
              "        vertical-align: top;\n",
              "    }\n",
              "</style>\n",
              "<table border=\"1\" class=\"dataframe\">\n",
              "  <thead>\n",
              "    <tr style=\"text-align: right;\">\n",
              "      <th></th>\n",
              "      <th>population</th>\n",
              "      <th>city</th>\n",
              "      <th>state</th>\n",
              "    </tr>\n",
              "  </thead>\n",
              "  <tbody>\n",
              "    <tr>\n",
              "      <th>3</th>\n",
              "      <td>808976</td>\n",
              "      <td>San Francisco</td>\n",
              "      <td>California</td>\n",
              "    </tr>\n",
              "    <tr>\n",
              "      <th>4</th>\n",
              "      <td>8363710</td>\n",
              "      <td>New York</td>\n",
              "      <td>New-York</td>\n",
              "    </tr>\n",
              "    <tr>\n",
              "      <th>5</th>\n",
              "      <td>413201</td>\n",
              "      <td>Miami</td>\n",
              "      <td>Florida</td>\n",
              "    </tr>\n",
              "    <tr>\n",
              "      <th>6</th>\n",
              "      <td>2242193</td>\n",
              "      <td>Houston</td>\n",
              "      <td>Texas</td>\n",
              "    </tr>\n",
              "  </tbody>\n",
              "</table>\n",
              "</div>"
            ],
            "text/plain": [
              "   population           city       state\n",
              "3      808976  San Francisco  California\n",
              "4     8363710       New York    New-York\n",
              "5      413201          Miami     Florida\n",
              "6     2242193        Houston       Texas"
            ]
          },
          "execution_count": 136,
          "metadata": {},
          "output_type": "execute_result"
        }
      ],
      "source": [
        "city_pop = pd.DataFrame(\n",
        "    [\n",
        "        [808976, \"San Francisco\", \"California\"],\n",
        "        [8363710, \"New York\", \"New-York\"],\n",
        "        [413201, \"Miami\", \"Florida\"],\n",
        "        [2242193, \"Houston\", \"Texas\"]\n",
        "    ], index=[3,4,5,6], columns=[\"population\", \"city\", \"state\"])\n",
        "city_pop"
      ]
    },
    {
      "cell_type": "markdown",
      "metadata": {
        "id": "FZiG7-v21mx8"
      },
      "source": [
        "Now let's join these `DataFrame`s using the `merge()` function:"
      ]
    },
    {
      "cell_type": "code",
      "execution_count": null,
      "metadata": {
        "id": "xfnGCsYb1mx8",
        "outputId": "37a4b3fa-f547-4115-f992-6f0c671c15ef"
      },
      "outputs": [
        {
          "data": {
            "text/html": [
              "<div>\n",
              "<style>\n",
              "    .dataframe thead tr:only-child th {\n",
              "        text-align: right;\n",
              "    }\n",
              "\n",
              "    .dataframe thead th {\n",
              "        text-align: left;\n",
              "    }\n",
              "\n",
              "    .dataframe tbody tr th {\n",
              "        vertical-align: top;\n",
              "    }\n",
              "</style>\n",
              "<table border=\"1\" class=\"dataframe\">\n",
              "  <thead>\n",
              "    <tr style=\"text-align: right;\">\n",
              "      <th></th>\n",
              "      <th>state_x</th>\n",
              "      <th>city</th>\n",
              "      <th>lat</th>\n",
              "      <th>lng</th>\n",
              "      <th>population</th>\n",
              "      <th>state_y</th>\n",
              "    </tr>\n",
              "  </thead>\n",
              "  <tbody>\n",
              "    <tr>\n",
              "      <th>0</th>\n",
              "      <td>CA</td>\n",
              "      <td>San Francisco</td>\n",
              "      <td>37.781334</td>\n",
              "      <td>-122.416728</td>\n",
              "      <td>808976</td>\n",
              "      <td>California</td>\n",
              "    </tr>\n",
              "    <tr>\n",
              "      <th>1</th>\n",
              "      <td>NY</td>\n",
              "      <td>New York</td>\n",
              "      <td>40.705649</td>\n",
              "      <td>-74.008344</td>\n",
              "      <td>8363710</td>\n",
              "      <td>New-York</td>\n",
              "    </tr>\n",
              "    <tr>\n",
              "      <th>2</th>\n",
              "      <td>FL</td>\n",
              "      <td>Miami</td>\n",
              "      <td>25.791100</td>\n",
              "      <td>-80.320733</td>\n",
              "      <td>413201</td>\n",
              "      <td>Florida</td>\n",
              "    </tr>\n",
              "  </tbody>\n",
              "</table>\n",
              "</div>"
            ],
            "text/plain": [
              "  state_x           city        lat         lng  population     state_y\n",
              "0      CA  San Francisco  37.781334 -122.416728      808976  California\n",
              "1      NY       New York  40.705649  -74.008344     8363710    New-York\n",
              "2      FL          Miami  25.791100  -80.320733      413201     Florida"
            ]
          },
          "execution_count": 137,
          "metadata": {},
          "output_type": "execute_result"
        }
      ],
      "source": [
        "pd.merge(left=city_loc, right=city_pop, on=\"city\")"
      ]
    },
    {
      "cell_type": "markdown",
      "metadata": {
        "id": "1bfhWcnc1mx8"
      },
      "source": [
        "Note that both `DataFrame`s have a column named `state`, so in the result they got renamed to `state_x` and `state_y`.\n",
        "\n",
        "Also, note that Cleveland, Salt Lake City and Houston were dropped because they don't exist in *both* `DataFrame`s. This is the equivalent of a SQL `INNER JOIN`. If you want a `FULL OUTER JOIN`, where no city gets dropped and `NaN` values are added, you must specify `how=\"outer\"`:"
      ]
    },
    {
      "cell_type": "code",
      "execution_count": null,
      "metadata": {
        "id": "flec0BH01mx8",
        "outputId": "4b737903-9731-45ec-c166-90eb32e85e7b"
      },
      "outputs": [
        {
          "data": {
            "text/html": [
              "<div>\n",
              "<style>\n",
              "    .dataframe thead tr:only-child th {\n",
              "        text-align: right;\n",
              "    }\n",
              "\n",
              "    .dataframe thead th {\n",
              "        text-align: left;\n",
              "    }\n",
              "\n",
              "    .dataframe tbody tr th {\n",
              "        vertical-align: top;\n",
              "    }\n",
              "</style>\n",
              "<table border=\"1\" class=\"dataframe\">\n",
              "  <thead>\n",
              "    <tr style=\"text-align: right;\">\n",
              "      <th></th>\n",
              "      <th>state_x</th>\n",
              "      <th>city</th>\n",
              "      <th>lat</th>\n",
              "      <th>lng</th>\n",
              "      <th>population</th>\n",
              "      <th>state_y</th>\n",
              "    </tr>\n",
              "  </thead>\n",
              "  <tbody>\n",
              "    <tr>\n",
              "      <th>0</th>\n",
              "      <td>CA</td>\n",
              "      <td>San Francisco</td>\n",
              "      <td>37.781334</td>\n",
              "      <td>-122.416728</td>\n",
              "      <td>808976.0</td>\n",
              "      <td>California</td>\n",
              "    </tr>\n",
              "    <tr>\n",
              "      <th>1</th>\n",
              "      <td>NY</td>\n",
              "      <td>New York</td>\n",
              "      <td>40.705649</td>\n",
              "      <td>-74.008344</td>\n",
              "      <td>8363710.0</td>\n",
              "      <td>New-York</td>\n",
              "    </tr>\n",
              "    <tr>\n",
              "      <th>2</th>\n",
              "      <td>FL</td>\n",
              "      <td>Miami</td>\n",
              "      <td>25.791100</td>\n",
              "      <td>-80.320733</td>\n",
              "      <td>413201.0</td>\n",
              "      <td>Florida</td>\n",
              "    </tr>\n",
              "    <tr>\n",
              "      <th>3</th>\n",
              "      <td>OH</td>\n",
              "      <td>Cleveland</td>\n",
              "      <td>41.473508</td>\n",
              "      <td>-81.739791</td>\n",
              "      <td>NaN</td>\n",
              "      <td>NaN</td>\n",
              "    </tr>\n",
              "    <tr>\n",
              "      <th>4</th>\n",
              "      <td>UT</td>\n",
              "      <td>Salt Lake City</td>\n",
              "      <td>40.755851</td>\n",
              "      <td>-111.896657</td>\n",
              "      <td>NaN</td>\n",
              "      <td>NaN</td>\n",
              "    </tr>\n",
              "    <tr>\n",
              "      <th>5</th>\n",
              "      <td>NaN</td>\n",
              "      <td>Houston</td>\n",
              "      <td>NaN</td>\n",
              "      <td>NaN</td>\n",
              "      <td>2242193.0</td>\n",
              "      <td>Texas</td>\n",
              "    </tr>\n",
              "  </tbody>\n",
              "</table>\n",
              "</div>"
            ],
            "text/plain": [
              "  state_x            city        lat         lng  population     state_y\n",
              "0      CA   San Francisco  37.781334 -122.416728    808976.0  California\n",
              "1      NY        New York  40.705649  -74.008344   8363710.0    New-York\n",
              "2      FL           Miami  25.791100  -80.320733    413201.0     Florida\n",
              "3      OH       Cleveland  41.473508  -81.739791         NaN         NaN\n",
              "4      UT  Salt Lake City  40.755851 -111.896657         NaN         NaN\n",
              "5     NaN         Houston        NaN         NaN   2242193.0       Texas"
            ]
          },
          "execution_count": 138,
          "metadata": {},
          "output_type": "execute_result"
        }
      ],
      "source": [
        "all_cities = pd.merge(left=city_loc, right=city_pop, on=\"city\", how=\"outer\")\n",
        "all_cities"
      ]
    },
    {
      "cell_type": "markdown",
      "metadata": {
        "id": "_QqCP8sZ1mx8"
      },
      "source": [
        "Of course, `LEFT OUTER JOIN` is also available by setting `how=\"left\"`: only the cities present in the left `DataFrame` end up in the result. Similarly, with `how=\"right\"` only cities in the right `DataFrame` appear in the result. For example:"
      ]
    },
    {
      "cell_type": "code",
      "execution_count": null,
      "metadata": {
        "id": "060-tJ9v1mx8",
        "outputId": "f92e940d-375b-4a9c-9f75-b279ae09ef0e"
      },
      "outputs": [
        {
          "data": {
            "text/html": [
              "<div>\n",
              "<style>\n",
              "    .dataframe thead tr:only-child th {\n",
              "        text-align: right;\n",
              "    }\n",
              "\n",
              "    .dataframe thead th {\n",
              "        text-align: left;\n",
              "    }\n",
              "\n",
              "    .dataframe tbody tr th {\n",
              "        vertical-align: top;\n",
              "    }\n",
              "</style>\n",
              "<table border=\"1\" class=\"dataframe\">\n",
              "  <thead>\n",
              "    <tr style=\"text-align: right;\">\n",
              "      <th></th>\n",
              "      <th>state_x</th>\n",
              "      <th>city</th>\n",
              "      <th>lat</th>\n",
              "      <th>lng</th>\n",
              "      <th>population</th>\n",
              "      <th>state_y</th>\n",
              "    </tr>\n",
              "  </thead>\n",
              "  <tbody>\n",
              "    <tr>\n",
              "      <th>0</th>\n",
              "      <td>CA</td>\n",
              "      <td>San Francisco</td>\n",
              "      <td>37.781334</td>\n",
              "      <td>-122.416728</td>\n",
              "      <td>808976</td>\n",
              "      <td>California</td>\n",
              "    </tr>\n",
              "    <tr>\n",
              "      <th>1</th>\n",
              "      <td>NY</td>\n",
              "      <td>New York</td>\n",
              "      <td>40.705649</td>\n",
              "      <td>-74.008344</td>\n",
              "      <td>8363710</td>\n",
              "      <td>New-York</td>\n",
              "    </tr>\n",
              "    <tr>\n",
              "      <th>2</th>\n",
              "      <td>FL</td>\n",
              "      <td>Miami</td>\n",
              "      <td>25.791100</td>\n",
              "      <td>-80.320733</td>\n",
              "      <td>413201</td>\n",
              "      <td>Florida</td>\n",
              "    </tr>\n",
              "    <tr>\n",
              "      <th>3</th>\n",
              "      <td>NaN</td>\n",
              "      <td>Houston</td>\n",
              "      <td>NaN</td>\n",
              "      <td>NaN</td>\n",
              "      <td>2242193</td>\n",
              "      <td>Texas</td>\n",
              "    </tr>\n",
              "  </tbody>\n",
              "</table>\n",
              "</div>"
            ],
            "text/plain": [
              "  state_x           city        lat         lng  population     state_y\n",
              "0      CA  San Francisco  37.781334 -122.416728      808976  California\n",
              "1      NY       New York  40.705649  -74.008344     8363710    New-York\n",
              "2      FL          Miami  25.791100  -80.320733      413201     Florida\n",
              "3     NaN        Houston        NaN         NaN     2242193       Texas"
            ]
          },
          "execution_count": 139,
          "metadata": {},
          "output_type": "execute_result"
        }
      ],
      "source": [
        "pd.merge(left=city_loc, right=city_pop, on=\"city\", how=\"right\")"
      ]
    },
    {
      "cell_type": "markdown",
      "metadata": {
        "id": "sW_qpnH01mx8"
      },
      "source": [
        "If the key to join on is actually in one (or both) `DataFrame`'s index, you must use `left_index=True` and/or `right_index=True`. If the key column names differ, you must use `left_on` and `right_on`. For example:"
      ]
    },
    {
      "cell_type": "code",
      "execution_count": null,
      "metadata": {
        "id": "Xq4FvyCu1mx8",
        "outputId": "7c9f3604-c4ee-43b0-80d7-03f9ada0f884"
      },
      "outputs": [
        {
          "data": {
            "text/html": [
              "<div>\n",
              "<style>\n",
              "    .dataframe thead tr:only-child th {\n",
              "        text-align: right;\n",
              "    }\n",
              "\n",
              "    .dataframe thead th {\n",
              "        text-align: left;\n",
              "    }\n",
              "\n",
              "    .dataframe tbody tr th {\n",
              "        vertical-align: top;\n",
              "    }\n",
              "</style>\n",
              "<table border=\"1\" class=\"dataframe\">\n",
              "  <thead>\n",
              "    <tr style=\"text-align: right;\">\n",
              "      <th></th>\n",
              "      <th>state_x</th>\n",
              "      <th>city</th>\n",
              "      <th>lat</th>\n",
              "      <th>lng</th>\n",
              "      <th>population</th>\n",
              "      <th>name</th>\n",
              "      <th>state_y</th>\n",
              "    </tr>\n",
              "  </thead>\n",
              "  <tbody>\n",
              "    <tr>\n",
              "      <th>0</th>\n",
              "      <td>CA</td>\n",
              "      <td>San Francisco</td>\n",
              "      <td>37.781334</td>\n",
              "      <td>-122.416728</td>\n",
              "      <td>808976</td>\n",
              "      <td>San Francisco</td>\n",
              "      <td>California</td>\n",
              "    </tr>\n",
              "    <tr>\n",
              "      <th>1</th>\n",
              "      <td>NY</td>\n",
              "      <td>New York</td>\n",
              "      <td>40.705649</td>\n",
              "      <td>-74.008344</td>\n",
              "      <td>8363710</td>\n",
              "      <td>New York</td>\n",
              "      <td>New-York</td>\n",
              "    </tr>\n",
              "    <tr>\n",
              "      <th>2</th>\n",
              "      <td>FL</td>\n",
              "      <td>Miami</td>\n",
              "      <td>25.791100</td>\n",
              "      <td>-80.320733</td>\n",
              "      <td>413201</td>\n",
              "      <td>Miami</td>\n",
              "      <td>Florida</td>\n",
              "    </tr>\n",
              "  </tbody>\n",
              "</table>\n",
              "</div>"
            ],
            "text/plain": [
              "  state_x           city        lat         lng  population           name  \\\n",
              "0      CA  San Francisco  37.781334 -122.416728      808976  San Francisco   \n",
              "1      NY       New York  40.705649  -74.008344     8363710       New York   \n",
              "2      FL          Miami  25.791100  -80.320733      413201          Miami   \n",
              "\n",
              "      state_y  \n",
              "0  California  \n",
              "1    New-York  \n",
              "2     Florida  "
            ]
          },
          "execution_count": 140,
          "metadata": {},
          "output_type": "execute_result"
        }
      ],
      "source": [
        "city_pop2 = city_pop.copy()\n",
        "city_pop2.columns = [\"population\", \"name\", \"state\"]\n",
        "pd.merge(left=city_loc, right=city_pop2, left_on=\"city\", right_on=\"name\")"
      ]
    },
    {
      "cell_type": "markdown",
      "metadata": {
        "id": "Zw6d71Pw1mx8"
      },
      "source": [
        "## Concatenation\n",
        "Rather than joining `DataFrame`s, we may just want to concatenate them. That's what `concat()` is for:"
      ]
    },
    {
      "cell_type": "code",
      "execution_count": null,
      "metadata": {
        "id": "GVO2GWsv1mx8",
        "outputId": "991c819c-4add-41f6-dc91-b14e07096f0d"
      },
      "outputs": [
        {
          "data": {
            "text/html": [
              "<div>\n",
              "<style>\n",
              "    .dataframe thead tr:only-child th {\n",
              "        text-align: right;\n",
              "    }\n",
              "\n",
              "    .dataframe thead th {\n",
              "        text-align: left;\n",
              "    }\n",
              "\n",
              "    .dataframe tbody tr th {\n",
              "        vertical-align: top;\n",
              "    }\n",
              "</style>\n",
              "<table border=\"1\" class=\"dataframe\">\n",
              "  <thead>\n",
              "    <tr style=\"text-align: right;\">\n",
              "      <th></th>\n",
              "      <th>city</th>\n",
              "      <th>lat</th>\n",
              "      <th>lng</th>\n",
              "      <th>population</th>\n",
              "      <th>state</th>\n",
              "    </tr>\n",
              "  </thead>\n",
              "  <tbody>\n",
              "    <tr>\n",
              "      <th>0</th>\n",
              "      <td>San Francisco</td>\n",
              "      <td>37.781334</td>\n",
              "      <td>-122.416728</td>\n",
              "      <td>NaN</td>\n",
              "      <td>CA</td>\n",
              "    </tr>\n",
              "    <tr>\n",
              "      <th>1</th>\n",
              "      <td>New York</td>\n",
              "      <td>40.705649</td>\n",
              "      <td>-74.008344</td>\n",
              "      <td>NaN</td>\n",
              "      <td>NY</td>\n",
              "    </tr>\n",
              "    <tr>\n",
              "      <th>2</th>\n",
              "      <td>Miami</td>\n",
              "      <td>25.791100</td>\n",
              "      <td>-80.320733</td>\n",
              "      <td>NaN</td>\n",
              "      <td>FL</td>\n",
              "    </tr>\n",
              "    <tr>\n",
              "      <th>3</th>\n",
              "      <td>Cleveland</td>\n",
              "      <td>41.473508</td>\n",
              "      <td>-81.739791</td>\n",
              "      <td>NaN</td>\n",
              "      <td>OH</td>\n",
              "    </tr>\n",
              "    <tr>\n",
              "      <th>4</th>\n",
              "      <td>Salt Lake City</td>\n",
              "      <td>40.755851</td>\n",
              "      <td>-111.896657</td>\n",
              "      <td>NaN</td>\n",
              "      <td>UT</td>\n",
              "    </tr>\n",
              "    <tr>\n",
              "      <th>3</th>\n",
              "      <td>San Francisco</td>\n",
              "      <td>NaN</td>\n",
              "      <td>NaN</td>\n",
              "      <td>808976.0</td>\n",
              "      <td>California</td>\n",
              "    </tr>\n",
              "    <tr>\n",
              "      <th>4</th>\n",
              "      <td>New York</td>\n",
              "      <td>NaN</td>\n",
              "      <td>NaN</td>\n",
              "      <td>8363710.0</td>\n",
              "      <td>New-York</td>\n",
              "    </tr>\n",
              "    <tr>\n",
              "      <th>5</th>\n",
              "      <td>Miami</td>\n",
              "      <td>NaN</td>\n",
              "      <td>NaN</td>\n",
              "      <td>413201.0</td>\n",
              "      <td>Florida</td>\n",
              "    </tr>\n",
              "    <tr>\n",
              "      <th>6</th>\n",
              "      <td>Houston</td>\n",
              "      <td>NaN</td>\n",
              "      <td>NaN</td>\n",
              "      <td>2242193.0</td>\n",
              "      <td>Texas</td>\n",
              "    </tr>\n",
              "  </tbody>\n",
              "</table>\n",
              "</div>"
            ],
            "text/plain": [
              "             city        lat         lng  population       state\n",
              "0   San Francisco  37.781334 -122.416728         NaN          CA\n",
              "1        New York  40.705649  -74.008344         NaN          NY\n",
              "2           Miami  25.791100  -80.320733         NaN          FL\n",
              "3       Cleveland  41.473508  -81.739791         NaN          OH\n",
              "4  Salt Lake City  40.755851 -111.896657         NaN          UT\n",
              "3   San Francisco        NaN         NaN    808976.0  California\n",
              "4        New York        NaN         NaN   8363710.0    New-York\n",
              "5           Miami        NaN         NaN    413201.0     Florida\n",
              "6         Houston        NaN         NaN   2242193.0       Texas"
            ]
          },
          "execution_count": 141,
          "metadata": {},
          "output_type": "execute_result"
        }
      ],
      "source": [
        "result_concat = pd.concat([city_loc, city_pop])\n",
        "result_concat"
      ]
    },
    {
      "cell_type": "markdown",
      "metadata": {
        "id": "5vkp0T0I1mx8"
      },
      "source": [
        "Note that this operation aligned the data horizontally (by columns) but not vertically (by rows). In this example, we end up with multiple rows having the same index (e.g. 3). Pandas handles this rather gracefully:"
      ]
    },
    {
      "cell_type": "code",
      "execution_count": null,
      "metadata": {
        "id": "_OvVk__t1mx8",
        "outputId": "c2110f02-b34c-49f5-f913-bd9200efcad9"
      },
      "outputs": [
        {
          "data": {
            "text/html": [
              "<div>\n",
              "<style>\n",
              "    .dataframe thead tr:only-child th {\n",
              "        text-align: right;\n",
              "    }\n",
              "\n",
              "    .dataframe thead th {\n",
              "        text-align: left;\n",
              "    }\n",
              "\n",
              "    .dataframe tbody tr th {\n",
              "        vertical-align: top;\n",
              "    }\n",
              "</style>\n",
              "<table border=\"1\" class=\"dataframe\">\n",
              "  <thead>\n",
              "    <tr style=\"text-align: right;\">\n",
              "      <th></th>\n",
              "      <th>city</th>\n",
              "      <th>lat</th>\n",
              "      <th>lng</th>\n",
              "      <th>population</th>\n",
              "      <th>state</th>\n",
              "    </tr>\n",
              "  </thead>\n",
              "  <tbody>\n",
              "    <tr>\n",
              "      <th>3</th>\n",
              "      <td>Cleveland</td>\n",
              "      <td>41.473508</td>\n",
              "      <td>-81.739791</td>\n",
              "      <td>NaN</td>\n",
              "      <td>OH</td>\n",
              "    </tr>\n",
              "    <tr>\n",
              "      <th>3</th>\n",
              "      <td>San Francisco</td>\n",
              "      <td>NaN</td>\n",
              "      <td>NaN</td>\n",
              "      <td>808976.0</td>\n",
              "      <td>California</td>\n",
              "    </tr>\n",
              "  </tbody>\n",
              "</table>\n",
              "</div>"
            ],
            "text/plain": [
              "            city        lat        lng  population       state\n",
              "3      Cleveland  41.473508 -81.739791         NaN          OH\n",
              "3  San Francisco        NaN        NaN    808976.0  California"
            ]
          },
          "execution_count": 142,
          "metadata": {},
          "output_type": "execute_result"
        }
      ],
      "source": [
        "result_concat.loc[3]"
      ]
    },
    {
      "cell_type": "markdown",
      "metadata": {
        "id": "XqYaNM961mx9"
      },
      "source": [
        "Or you can tell pandas to just ignore the index:"
      ]
    },
    {
      "cell_type": "code",
      "execution_count": null,
      "metadata": {
        "id": "VYP-n-R81mx9",
        "outputId": "399c80b3-87ed-4557-c317-902bad0b5aa4"
      },
      "outputs": [
        {
          "data": {
            "text/html": [
              "<div>\n",
              "<style>\n",
              "    .dataframe thead tr:only-child th {\n",
              "        text-align: right;\n",
              "    }\n",
              "\n",
              "    .dataframe thead th {\n",
              "        text-align: left;\n",
              "    }\n",
              "\n",
              "    .dataframe tbody tr th {\n",
              "        vertical-align: top;\n",
              "    }\n",
              "</style>\n",
              "<table border=\"1\" class=\"dataframe\">\n",
              "  <thead>\n",
              "    <tr style=\"text-align: right;\">\n",
              "      <th></th>\n",
              "      <th>city</th>\n",
              "      <th>lat</th>\n",
              "      <th>lng</th>\n",
              "      <th>population</th>\n",
              "      <th>state</th>\n",
              "    </tr>\n",
              "  </thead>\n",
              "  <tbody>\n",
              "    <tr>\n",
              "      <th>0</th>\n",
              "      <td>San Francisco</td>\n",
              "      <td>37.781334</td>\n",
              "      <td>-122.416728</td>\n",
              "      <td>NaN</td>\n",
              "      <td>CA</td>\n",
              "    </tr>\n",
              "    <tr>\n",
              "      <th>1</th>\n",
              "      <td>New York</td>\n",
              "      <td>40.705649</td>\n",
              "      <td>-74.008344</td>\n",
              "      <td>NaN</td>\n",
              "      <td>NY</td>\n",
              "    </tr>\n",
              "    <tr>\n",
              "      <th>2</th>\n",
              "      <td>Miami</td>\n",
              "      <td>25.791100</td>\n",
              "      <td>-80.320733</td>\n",
              "      <td>NaN</td>\n",
              "      <td>FL</td>\n",
              "    </tr>\n",
              "    <tr>\n",
              "      <th>3</th>\n",
              "      <td>Cleveland</td>\n",
              "      <td>41.473508</td>\n",
              "      <td>-81.739791</td>\n",
              "      <td>NaN</td>\n",
              "      <td>OH</td>\n",
              "    </tr>\n",
              "    <tr>\n",
              "      <th>4</th>\n",
              "      <td>Salt Lake City</td>\n",
              "      <td>40.755851</td>\n",
              "      <td>-111.896657</td>\n",
              "      <td>NaN</td>\n",
              "      <td>UT</td>\n",
              "    </tr>\n",
              "    <tr>\n",
              "      <th>5</th>\n",
              "      <td>San Francisco</td>\n",
              "      <td>NaN</td>\n",
              "      <td>NaN</td>\n",
              "      <td>808976.0</td>\n",
              "      <td>California</td>\n",
              "    </tr>\n",
              "    <tr>\n",
              "      <th>6</th>\n",
              "      <td>New York</td>\n",
              "      <td>NaN</td>\n",
              "      <td>NaN</td>\n",
              "      <td>8363710.0</td>\n",
              "      <td>New-York</td>\n",
              "    </tr>\n",
              "    <tr>\n",
              "      <th>7</th>\n",
              "      <td>Miami</td>\n",
              "      <td>NaN</td>\n",
              "      <td>NaN</td>\n",
              "      <td>413201.0</td>\n",
              "      <td>Florida</td>\n",
              "    </tr>\n",
              "    <tr>\n",
              "      <th>8</th>\n",
              "      <td>Houston</td>\n",
              "      <td>NaN</td>\n",
              "      <td>NaN</td>\n",
              "      <td>2242193.0</td>\n",
              "      <td>Texas</td>\n",
              "    </tr>\n",
              "  </tbody>\n",
              "</table>\n",
              "</div>"
            ],
            "text/plain": [
              "             city        lat         lng  population       state\n",
              "0   San Francisco  37.781334 -122.416728         NaN          CA\n",
              "1        New York  40.705649  -74.008344         NaN          NY\n",
              "2           Miami  25.791100  -80.320733         NaN          FL\n",
              "3       Cleveland  41.473508  -81.739791         NaN          OH\n",
              "4  Salt Lake City  40.755851 -111.896657         NaN          UT\n",
              "5   San Francisco        NaN         NaN    808976.0  California\n",
              "6        New York        NaN         NaN   8363710.0    New-York\n",
              "7           Miami        NaN         NaN    413201.0     Florida\n",
              "8         Houston        NaN         NaN   2242193.0       Texas"
            ]
          },
          "execution_count": 143,
          "metadata": {},
          "output_type": "execute_result"
        }
      ],
      "source": [
        "pd.concat([city_loc, city_pop], ignore_index=True)"
      ]
    },
    {
      "cell_type": "markdown",
      "metadata": {
        "id": "owN0WZK51mx9"
      },
      "source": [
        "Notice that when a column does not exist in a `DataFrame`, it acts as if it was filled with `NaN` values. If we set `join=\"inner\"`, then only columns that exist in *both* `DataFrame`s are returned:"
      ]
    },
    {
      "cell_type": "code",
      "execution_count": null,
      "metadata": {
        "id": "kriF5raB1mx9",
        "outputId": "513eef7c-ba31-43a1-dab5-49037838cdcc"
      },
      "outputs": [
        {
          "data": {
            "text/html": [
              "<div>\n",
              "<style>\n",
              "    .dataframe thead tr:only-child th {\n",
              "        text-align: right;\n",
              "    }\n",
              "\n",
              "    .dataframe thead th {\n",
              "        text-align: left;\n",
              "    }\n",
              "\n",
              "    .dataframe tbody tr th {\n",
              "        vertical-align: top;\n",
              "    }\n",
              "</style>\n",
              "<table border=\"1\" class=\"dataframe\">\n",
              "  <thead>\n",
              "    <tr style=\"text-align: right;\">\n",
              "      <th></th>\n",
              "      <th>state</th>\n",
              "      <th>city</th>\n",
              "    </tr>\n",
              "  </thead>\n",
              "  <tbody>\n",
              "    <tr>\n",
              "      <th>0</th>\n",
              "      <td>CA</td>\n",
              "      <td>San Francisco</td>\n",
              "    </tr>\n",
              "    <tr>\n",
              "      <th>1</th>\n",
              "      <td>NY</td>\n",
              "      <td>New York</td>\n",
              "    </tr>\n",
              "    <tr>\n",
              "      <th>2</th>\n",
              "      <td>FL</td>\n",
              "      <td>Miami</td>\n",
              "    </tr>\n",
              "    <tr>\n",
              "      <th>3</th>\n",
              "      <td>OH</td>\n",
              "      <td>Cleveland</td>\n",
              "    </tr>\n",
              "    <tr>\n",
              "      <th>4</th>\n",
              "      <td>UT</td>\n",
              "      <td>Salt Lake City</td>\n",
              "    </tr>\n",
              "    <tr>\n",
              "      <th>3</th>\n",
              "      <td>California</td>\n",
              "      <td>San Francisco</td>\n",
              "    </tr>\n",
              "    <tr>\n",
              "      <th>4</th>\n",
              "      <td>New-York</td>\n",
              "      <td>New York</td>\n",
              "    </tr>\n",
              "    <tr>\n",
              "      <th>5</th>\n",
              "      <td>Florida</td>\n",
              "      <td>Miami</td>\n",
              "    </tr>\n",
              "    <tr>\n",
              "      <th>6</th>\n",
              "      <td>Texas</td>\n",
              "      <td>Houston</td>\n",
              "    </tr>\n",
              "  </tbody>\n",
              "</table>\n",
              "</div>"
            ],
            "text/plain": [
              "        state            city\n",
              "0          CA   San Francisco\n",
              "1          NY        New York\n",
              "2          FL           Miami\n",
              "3          OH       Cleveland\n",
              "4          UT  Salt Lake City\n",
              "3  California   San Francisco\n",
              "4    New-York        New York\n",
              "5     Florida           Miami\n",
              "6       Texas         Houston"
            ]
          },
          "execution_count": 144,
          "metadata": {},
          "output_type": "execute_result"
        }
      ],
      "source": [
        "pd.concat([city_loc, city_pop], join=\"inner\")"
      ]
    },
    {
      "cell_type": "markdown",
      "metadata": {
        "id": "2041HvBe1mx9"
      },
      "source": [
        "You can concatenate `DataFrame`s horizontally instead of vertically by setting `axis=1`:"
      ]
    },
    {
      "cell_type": "code",
      "execution_count": null,
      "metadata": {
        "id": "G1Jmbim81mx9",
        "outputId": "eda345da-eb30-4c62-c57a-0a7e3db866b7",
        "scrolled": true
      },
      "outputs": [
        {
          "data": {
            "text/html": [
              "<div>\n",
              "<style>\n",
              "    .dataframe thead tr:only-child th {\n",
              "        text-align: right;\n",
              "    }\n",
              "\n",
              "    .dataframe thead th {\n",
              "        text-align: left;\n",
              "    }\n",
              "\n",
              "    .dataframe tbody tr th {\n",
              "        vertical-align: top;\n",
              "    }\n",
              "</style>\n",
              "<table border=\"1\" class=\"dataframe\">\n",
              "  <thead>\n",
              "    <tr style=\"text-align: right;\">\n",
              "      <th></th>\n",
              "      <th>state</th>\n",
              "      <th>city</th>\n",
              "      <th>lat</th>\n",
              "      <th>lng</th>\n",
              "      <th>population</th>\n",
              "      <th>city</th>\n",
              "      <th>state</th>\n",
              "    </tr>\n",
              "  </thead>\n",
              "  <tbody>\n",
              "    <tr>\n",
              "      <th>0</th>\n",
              "      <td>CA</td>\n",
              "      <td>San Francisco</td>\n",
              "      <td>37.781334</td>\n",
              "      <td>-122.416728</td>\n",
              "      <td>NaN</td>\n",
              "      <td>NaN</td>\n",
              "      <td>NaN</td>\n",
              "    </tr>\n",
              "    <tr>\n",
              "      <th>1</th>\n",
              "      <td>NY</td>\n",
              "      <td>New York</td>\n",
              "      <td>40.705649</td>\n",
              "      <td>-74.008344</td>\n",
              "      <td>NaN</td>\n",
              "      <td>NaN</td>\n",
              "      <td>NaN</td>\n",
              "    </tr>\n",
              "    <tr>\n",
              "      <th>2</th>\n",
              "      <td>FL</td>\n",
              "      <td>Miami</td>\n",
              "      <td>25.791100</td>\n",
              "      <td>-80.320733</td>\n",
              "      <td>NaN</td>\n",
              "      <td>NaN</td>\n",
              "      <td>NaN</td>\n",
              "    </tr>\n",
              "    <tr>\n",
              "      <th>3</th>\n",
              "      <td>OH</td>\n",
              "      <td>Cleveland</td>\n",
              "      <td>41.473508</td>\n",
              "      <td>-81.739791</td>\n",
              "      <td>808976.0</td>\n",
              "      <td>San Francisco</td>\n",
              "      <td>California</td>\n",
              "    </tr>\n",
              "    <tr>\n",
              "      <th>4</th>\n",
              "      <td>UT</td>\n",
              "      <td>Salt Lake City</td>\n",
              "      <td>40.755851</td>\n",
              "      <td>-111.896657</td>\n",
              "      <td>8363710.0</td>\n",
              "      <td>New York</td>\n",
              "      <td>New-York</td>\n",
              "    </tr>\n",
              "    <tr>\n",
              "      <th>5</th>\n",
              "      <td>NaN</td>\n",
              "      <td>NaN</td>\n",
              "      <td>NaN</td>\n",
              "      <td>NaN</td>\n",
              "      <td>413201.0</td>\n",
              "      <td>Miami</td>\n",
              "      <td>Florida</td>\n",
              "    </tr>\n",
              "    <tr>\n",
              "      <th>6</th>\n",
              "      <td>NaN</td>\n",
              "      <td>NaN</td>\n",
              "      <td>NaN</td>\n",
              "      <td>NaN</td>\n",
              "      <td>2242193.0</td>\n",
              "      <td>Houston</td>\n",
              "      <td>Texas</td>\n",
              "    </tr>\n",
              "  </tbody>\n",
              "</table>\n",
              "</div>"
            ],
            "text/plain": [
              "  state            city        lat         lng  population           city  \\\n",
              "0    CA   San Francisco  37.781334 -122.416728         NaN            NaN   \n",
              "1    NY        New York  40.705649  -74.008344         NaN            NaN   \n",
              "2    FL           Miami  25.791100  -80.320733         NaN            NaN   \n",
              "3    OH       Cleveland  41.473508  -81.739791    808976.0  San Francisco   \n",
              "4    UT  Salt Lake City  40.755851 -111.896657   8363710.0       New York   \n",
              "5   NaN             NaN        NaN         NaN    413201.0          Miami   \n",
              "6   NaN             NaN        NaN         NaN   2242193.0        Houston   \n",
              "\n",
              "        state  \n",
              "0         NaN  \n",
              "1         NaN  \n",
              "2         NaN  \n",
              "3  California  \n",
              "4    New-York  \n",
              "5     Florida  \n",
              "6       Texas  "
            ]
          },
          "execution_count": 145,
          "metadata": {},
          "output_type": "execute_result"
        }
      ],
      "source": [
        "pd.concat([city_loc, city_pop], axis=1)"
      ]
    },
    {
      "cell_type": "markdown",
      "metadata": {
        "id": "2qwlq96l1mx9"
      },
      "source": [
        "In this case it really does not make much sense because the indices do not align well (e.g. Cleveland and San Francisco end up on the same row, because they shared the index label `3`). So let's reindex the `DataFrame`s by city name before concatenating:"
      ]
    },
    {
      "cell_type": "code",
      "execution_count": null,
      "metadata": {
        "id": "czEKQF791mx9",
        "outputId": "0a97e1da-5fb3-4ce9-bb0f-218bfa65f364",
        "scrolled": true
      },
      "outputs": [
        {
          "data": {
            "text/html": [
              "<div>\n",
              "<style>\n",
              "    .dataframe thead tr:only-child th {\n",
              "        text-align: right;\n",
              "    }\n",
              "\n",
              "    .dataframe thead th {\n",
              "        text-align: left;\n",
              "    }\n",
              "\n",
              "    .dataframe tbody tr th {\n",
              "        vertical-align: top;\n",
              "    }\n",
              "</style>\n",
              "<table border=\"1\" class=\"dataframe\">\n",
              "  <thead>\n",
              "    <tr style=\"text-align: right;\">\n",
              "      <th></th>\n",
              "      <th>state</th>\n",
              "      <th>lat</th>\n",
              "      <th>lng</th>\n",
              "      <th>population</th>\n",
              "      <th>state</th>\n",
              "    </tr>\n",
              "  </thead>\n",
              "  <tbody>\n",
              "    <tr>\n",
              "      <th>Cleveland</th>\n",
              "      <td>OH</td>\n",
              "      <td>41.473508</td>\n",
              "      <td>-81.739791</td>\n",
              "      <td>NaN</td>\n",
              "      <td>NaN</td>\n",
              "    </tr>\n",
              "    <tr>\n",
              "      <th>Houston</th>\n",
              "      <td>NaN</td>\n",
              "      <td>NaN</td>\n",
              "      <td>NaN</td>\n",
              "      <td>2242193.0</td>\n",
              "      <td>Texas</td>\n",
              "    </tr>\n",
              "    <tr>\n",
              "      <th>Miami</th>\n",
              "      <td>FL</td>\n",
              "      <td>25.791100</td>\n",
              "      <td>-80.320733</td>\n",
              "      <td>413201.0</td>\n",
              "      <td>Florida</td>\n",
              "    </tr>\n",
              "    <tr>\n",
              "      <th>New York</th>\n",
              "      <td>NY</td>\n",
              "      <td>40.705649</td>\n",
              "      <td>-74.008344</td>\n",
              "      <td>8363710.0</td>\n",
              "      <td>New-York</td>\n",
              "    </tr>\n",
              "    <tr>\n",
              "      <th>Salt Lake City</th>\n",
              "      <td>UT</td>\n",
              "      <td>40.755851</td>\n",
              "      <td>-111.896657</td>\n",
              "      <td>NaN</td>\n",
              "      <td>NaN</td>\n",
              "    </tr>\n",
              "    <tr>\n",
              "      <th>San Francisco</th>\n",
              "      <td>CA</td>\n",
              "      <td>37.781334</td>\n",
              "      <td>-122.416728</td>\n",
              "      <td>808976.0</td>\n",
              "      <td>California</td>\n",
              "    </tr>\n",
              "  </tbody>\n",
              "</table>\n",
              "</div>"
            ],
            "text/plain": [
              "               state        lat         lng  population       state\n",
              "Cleveland         OH  41.473508  -81.739791         NaN         NaN\n",
              "Houston          NaN        NaN         NaN   2242193.0       Texas\n",
              "Miami             FL  25.791100  -80.320733    413201.0     Florida\n",
              "New York          NY  40.705649  -74.008344   8363710.0    New-York\n",
              "Salt Lake City    UT  40.755851 -111.896657         NaN         NaN\n",
              "San Francisco     CA  37.781334 -122.416728    808976.0  California"
            ]
          },
          "execution_count": 146,
          "metadata": {},
          "output_type": "execute_result"
        }
      ],
      "source": [
        "pd.concat([city_loc.set_index(\"city\"), city_pop.set_index(\"city\")], axis=1)"
      ]
    },
    {
      "cell_type": "markdown",
      "metadata": {
        "id": "We5ZztJ_1mx9"
      },
      "source": [
        "This looks a lot like a `FULL OUTER JOIN`, except that the `state` columns were not renamed to `state_x` and `state_y`, and the `city` column is now the index."
      ]
    },
    {
      "cell_type": "markdown",
      "metadata": {
        "id": "qPkdyPOm1mx9"
      },
      "source": [
        "# Categories\n",
        "It is quite frequent to have values that represent categories, for example `1` for female and `2` for male, or `\"A\"` for Good, `\"B\"` for Average, `\"C\"` for Bad. These categorical values can be hard to read and cumbersome to handle, but fortunately pandas makes it easy. To illustrate this, let's take the `city_pop` `DataFrame` we created earlier, and add a column that represents a category:"
      ]
    },
    {
      "cell_type": "code",
      "execution_count": null,
      "metadata": {
        "id": "mqKtiK9c1mx9",
        "outputId": "68f6070a-997c-4d81-c89f-9c09210a12f5"
      },
      "outputs": [
        {
          "data": {
            "text/html": [
              "<div>\n",
              "<style>\n",
              "    .dataframe thead tr:only-child th {\n",
              "        text-align: right;\n",
              "    }\n",
              "\n",
              "    .dataframe thead th {\n",
              "        text-align: left;\n",
              "    }\n",
              "\n",
              "    .dataframe tbody tr th {\n",
              "        vertical-align: top;\n",
              "    }\n",
              "</style>\n",
              "<table border=\"1\" class=\"dataframe\">\n",
              "  <thead>\n",
              "    <tr style=\"text-align: right;\">\n",
              "      <th></th>\n",
              "      <th>population</th>\n",
              "      <th>city</th>\n",
              "      <th>state</th>\n",
              "      <th>eco_code</th>\n",
              "    </tr>\n",
              "  </thead>\n",
              "  <tbody>\n",
              "    <tr>\n",
              "      <th>3</th>\n",
              "      <td>808976</td>\n",
              "      <td>San Francisco</td>\n",
              "      <td>California</td>\n",
              "      <td>17</td>\n",
              "    </tr>\n",
              "    <tr>\n",
              "      <th>4</th>\n",
              "      <td>8363710</td>\n",
              "      <td>New York</td>\n",
              "      <td>New-York</td>\n",
              "      <td>17</td>\n",
              "    </tr>\n",
              "    <tr>\n",
              "      <th>5</th>\n",
              "      <td>413201</td>\n",
              "      <td>Miami</td>\n",
              "      <td>Florida</td>\n",
              "      <td>34</td>\n",
              "    </tr>\n",
              "    <tr>\n",
              "      <th>6</th>\n",
              "      <td>2242193</td>\n",
              "      <td>Houston</td>\n",
              "      <td>Texas</td>\n",
              "      <td>20</td>\n",
              "    </tr>\n",
              "  </tbody>\n",
              "</table>\n",
              "</div>"
            ],
            "text/plain": [
              "   population           city       state  eco_code\n",
              "3      808976  San Francisco  California        17\n",
              "4     8363710       New York    New-York        17\n",
              "5      413201          Miami     Florida        34\n",
              "6     2242193        Houston       Texas        20"
            ]
          },
          "execution_count": 148,
          "metadata": {},
          "output_type": "execute_result"
        }
      ],
      "source": [
        "city_eco = city_pop.copy()\n",
        "city_eco[\"eco_code\"] = [17, 17, 34, 20]\n",
        "city_eco"
      ]
    },
    {
      "cell_type": "markdown",
      "metadata": {
        "id": "jW4CS4QR1mx9"
      },
      "source": [
        "Right now the `eco_code` column is full of apparently meaningless codes. Let's fix that. First, we will create a new categorical column based on the `eco_code`s:"
      ]
    },
    {
      "cell_type": "code",
      "execution_count": null,
      "metadata": {
        "id": "DyP73cEk1mx9",
        "outputId": "b44baec5-0d00-4a16-984f-526ec0a4f6de"
      },
      "outputs": [
        {
          "data": {
            "text/plain": [
              "Int64Index([17, 20, 34], dtype='int64')"
            ]
          },
          "execution_count": 149,
          "metadata": {},
          "output_type": "execute_result"
        }
      ],
      "source": [
        "city_eco[\"economy\"] = city_eco[\"eco_code\"].astype('category')\n",
        "city_eco[\"economy\"].cat.categories"
      ]
    },
    {
      "cell_type": "markdown",
      "metadata": {
        "id": "tKG0gkJG1mx9"
      },
      "source": [
        "Now we can give each category a meaningful name:"
      ]
    },
    {
      "cell_type": "code",
      "execution_count": null,
      "metadata": {
        "id": "ymYN0GOU1mx9",
        "outputId": "c79e041b-3251-40ba-e84a-81add1aaa6c5"
      },
      "outputs": [
        {
          "data": {
            "text/html": [
              "<div>\n",
              "<style>\n",
              "    .dataframe thead tr:only-child th {\n",
              "        text-align: right;\n",
              "    }\n",
              "\n",
              "    .dataframe thead th {\n",
              "        text-align: left;\n",
              "    }\n",
              "\n",
              "    .dataframe tbody tr th {\n",
              "        vertical-align: top;\n",
              "    }\n",
              "</style>\n",
              "<table border=\"1\" class=\"dataframe\">\n",
              "  <thead>\n",
              "    <tr style=\"text-align: right;\">\n",
              "      <th></th>\n",
              "      <th>population</th>\n",
              "      <th>city</th>\n",
              "      <th>state</th>\n",
              "      <th>eco_code</th>\n",
              "      <th>economy</th>\n",
              "    </tr>\n",
              "  </thead>\n",
              "  <tbody>\n",
              "    <tr>\n",
              "      <th>3</th>\n",
              "      <td>808976</td>\n",
              "      <td>San Francisco</td>\n",
              "      <td>California</td>\n",
              "      <td>17</td>\n",
              "      <td>Finance</td>\n",
              "    </tr>\n",
              "    <tr>\n",
              "      <th>4</th>\n",
              "      <td>8363710</td>\n",
              "      <td>New York</td>\n",
              "      <td>New-York</td>\n",
              "      <td>17</td>\n",
              "      <td>Finance</td>\n",
              "    </tr>\n",
              "    <tr>\n",
              "      <th>5</th>\n",
              "      <td>413201</td>\n",
              "      <td>Miami</td>\n",
              "      <td>Florida</td>\n",
              "      <td>34</td>\n",
              "      <td>Tourism</td>\n",
              "    </tr>\n",
              "    <tr>\n",
              "      <th>6</th>\n",
              "      <td>2242193</td>\n",
              "      <td>Houston</td>\n",
              "      <td>Texas</td>\n",
              "      <td>20</td>\n",
              "      <td>Energy</td>\n",
              "    </tr>\n",
              "  </tbody>\n",
              "</table>\n",
              "</div>"
            ],
            "text/plain": [
              "   population           city       state  eco_code  economy\n",
              "3      808976  San Francisco  California        17  Finance\n",
              "4     8363710       New York    New-York        17  Finance\n",
              "5      413201          Miami     Florida        34  Tourism\n",
              "6     2242193        Houston       Texas        20   Energy"
            ]
          },
          "execution_count": 150,
          "metadata": {},
          "output_type": "execute_result"
        }
      ],
      "source": [
        "city_eco[\"economy\"].cat.categories = [\"Finance\", \"Energy\", \"Tourism\"]\n",
        "city_eco"
      ]
    },
    {
      "cell_type": "markdown",
      "metadata": {
        "id": "DPBQbj331mx9"
      },
      "source": [
        "Note that categorical values are sorted according to their categorical order, *not* their alphabetical order:"
      ]
    },
    {
      "cell_type": "code",
      "execution_count": null,
      "metadata": {
        "id": "XtU4epoD1mx9",
        "outputId": "3bf9ba5e-b07c-43da-cd0a-28139d993abf"
      },
      "outputs": [
        {
          "data": {
            "text/html": [
              "<div>\n",
              "<style>\n",
              "    .dataframe thead tr:only-child th {\n",
              "        text-align: right;\n",
              "    }\n",
              "\n",
              "    .dataframe thead th {\n",
              "        text-align: left;\n",
              "    }\n",
              "\n",
              "    .dataframe tbody tr th {\n",
              "        vertical-align: top;\n",
              "    }\n",
              "</style>\n",
              "<table border=\"1\" class=\"dataframe\">\n",
              "  <thead>\n",
              "    <tr style=\"text-align: right;\">\n",
              "      <th></th>\n",
              "      <th>population</th>\n",
              "      <th>city</th>\n",
              "      <th>state</th>\n",
              "      <th>eco_code</th>\n",
              "      <th>economy</th>\n",
              "    </tr>\n",
              "  </thead>\n",
              "  <tbody>\n",
              "    <tr>\n",
              "      <th>5</th>\n",
              "      <td>413201</td>\n",
              "      <td>Miami</td>\n",
              "      <td>Florida</td>\n",
              "      <td>34</td>\n",
              "      <td>Tourism</td>\n",
              "    </tr>\n",
              "    <tr>\n",
              "      <th>6</th>\n",
              "      <td>2242193</td>\n",
              "      <td>Houston</td>\n",
              "      <td>Texas</td>\n",
              "      <td>20</td>\n",
              "      <td>Energy</td>\n",
              "    </tr>\n",
              "    <tr>\n",
              "      <th>4</th>\n",
              "      <td>8363710</td>\n",
              "      <td>New York</td>\n",
              "      <td>New-York</td>\n",
              "      <td>17</td>\n",
              "      <td>Finance</td>\n",
              "    </tr>\n",
              "    <tr>\n",
              "      <th>3</th>\n",
              "      <td>808976</td>\n",
              "      <td>San Francisco</td>\n",
              "      <td>California</td>\n",
              "      <td>17</td>\n",
              "      <td>Finance</td>\n",
              "    </tr>\n",
              "  </tbody>\n",
              "</table>\n",
              "</div>"
            ],
            "text/plain": [
              "   population           city       state  eco_code  economy\n",
              "5      413201          Miami     Florida        34  Tourism\n",
              "6     2242193        Houston       Texas        20   Energy\n",
              "4     8363710       New York    New-York        17  Finance\n",
              "3      808976  San Francisco  California        17  Finance"
            ]
          },
          "execution_count": 151,
          "metadata": {},
          "output_type": "execute_result"
        }
      ],
      "source": [
        "city_eco.sort_values(by=\"economy\", ascending=False)"
      ]
    },
    {
      "cell_type": "markdown",
      "metadata": {
        "id": "h5ahr4tn1mx9"
      },
      "source": [
        "# What's next?\n",
        "As you probably noticed by now, pandas is quite a large library with *many* features. Although we went through the most important features, there is still a lot to discover. Probably the best way to learn more is to get your hands dirty with some real-life data. It is also a good idea to go through pandas' excellent [documentation](https://pandas.pydata.org/pandas-docs/stable/index.html), in particular the [Cookbook](https://pandas.pydata.org/pandas-docs/stable/user_guide/cookbook.html)."
      ]
    },
    {
      "cell_type": "code",
      "execution_count": null,
      "metadata": {
        "id": "_X1Ypxc51mx9"
      },
      "outputs": [],
      "source": []
    }
  ],
  "metadata": {
    "colab": {
      "provenance": []
    },
    "kernelspec": {
      "display_name": "Python 3",
      "language": "python",
      "name": "python3"
    },
    "language_info": {
      "codemirror_mode": {
        "name": "ipython",
        "version": 3
      },
      "file_extension": ".py",
      "mimetype": "text/x-python",
      "name": "python",
      "nbconvert_exporter": "python",
      "pygments_lexer": "ipython3",
      "version": "3.11.4"
    },
    "toc": {
      "toc_cell": false,
      "toc_number_sections": true,
      "toc_section_display": "none",
      "toc_threshold": 6,
      "toc_window_display": true
    }
  },
  "nbformat": 4,
  "nbformat_minor": 0
}
